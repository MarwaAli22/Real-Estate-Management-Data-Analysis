{
 "cells": [
  {
   "cell_type": "markdown",
   "id": "36254da3",
   "metadata": {},
   "source": [
    "# setup & load data"
   ]
  },
  {
   "cell_type": "code",
   "execution_count": 1,
   "id": "dd36ecfa",
   "metadata": {},
   "outputs": [],
   "source": [
    "import pandas as pd\n",
    "import plotly.express as px\n",
    "from datetime import datetime"
   ]
  },
  {
   "cell_type": "code",
   "execution_count": 2,
   "id": "77af82d6",
   "metadata": {},
   "outputs": [],
   "source": [
    "sale_df = pd.read_csv(r\"D:\\Desktop\\marwa\\marwa\\RealEstate_AnalysisProject\\03_Cleaned Dataset\\sales_clean.csv\")\n",
    "rent_df = pd.read_csv(r\"D:\\Desktop\\marwa\\marwa\\RealEstate_AnalysisProject\\03_Cleaned Dataset\\rent_clean.csv\")"
   ]
  },
  {
   "cell_type": "code",
   "execution_count": 3,
   "id": "ec19330b",
   "metadata": {},
   "outputs": [],
   "source": [
    "sale_df[\"transaction_date\"]= pd.to_datetime(sale_df[\"sale_date\"])\n",
    "sale_df[\"commission_payment_date\"]= pd.to_datetime(sale_df[\"commission_payment_date\"])\n",
    "sale_df.rename(columns={\"sale_amount\":\"transaction_amount\"}, inplace=True)"
   ]
  },
  {
   "cell_type": "code",
   "execution_count": 4,
   "id": "230fb7f4",
   "metadata": {},
   "outputs": [],
   "source": [
    "rent_df[\"transaction_date\"]= pd.to_datetime(rent_df[\"agreement_date\"])\n",
    "rent_df[\"commission_payment_date\"]= pd.to_datetime(rent_df[\"commission_payment_date\"])\n",
    "rent_df[\"transaction_amount\"] = (rent_df[\"rent_amount\"]*rent_df[\"rent_months\"])"
   ]
  },
  {
   "cell_type": "code",
   "execution_count": 5,
   "id": "c5ecda5c",
   "metadata": {},
   "outputs": [],
   "source": [
    "rent_df['transaction_type'] = 'rent'\n",
    "sale_df['transaction_type'] = 'sale'\n",
    "common_cols = ['property_id','agent_id','owner_id','client_id','transaction_date',\"transaction_amount\",'commission_payment_date','commission_amount','transaction_type']\n",
    "transactions_df = pd.concat([rent_df[common_cols], sale_df[common_cols]])"
   ]
  },
  {
   "cell_type": "code",
   "execution_count": 6,
   "id": "4434036f",
   "metadata": {},
   "outputs": [
    {
     "data": {
      "text/html": [
       "<div>\n",
       "<style scoped>\n",
       "    .dataframe tbody tr th:only-of-type {\n",
       "        vertical-align: middle;\n",
       "    }\n",
       "\n",
       "    .dataframe tbody tr th {\n",
       "        vertical-align: top;\n",
       "    }\n",
       "\n",
       "    .dataframe thead th {\n",
       "        text-align: right;\n",
       "    }\n",
       "</style>\n",
       "<table border=\"1\" class=\"dataframe\">\n",
       "  <thead>\n",
       "    <tr style=\"text-align: right;\">\n",
       "      <th></th>\n",
       "      <th>property_id</th>\n",
       "      <th>agent_id</th>\n",
       "      <th>owner_id</th>\n",
       "      <th>client_id</th>\n",
       "      <th>transaction_date</th>\n",
       "      <th>transaction_amount</th>\n",
       "      <th>commission_payment_date</th>\n",
       "      <th>commission_amount</th>\n",
       "      <th>transaction_type</th>\n",
       "    </tr>\n",
       "  </thead>\n",
       "  <tbody>\n",
       "    <tr>\n",
       "      <th>533</th>\n",
       "      <td>2430</td>\n",
       "      <td>196</td>\n",
       "      <td>1054</td>\n",
       "      <td>732</td>\n",
       "      <td>2022-05-28</td>\n",
       "      <td>175988.09</td>\n",
       "      <td>2022-08-24</td>\n",
       "      <td>5279.64</td>\n",
       "      <td>sale</td>\n",
       "    </tr>\n",
       "    <tr>\n",
       "      <th>453</th>\n",
       "      <td>880</td>\n",
       "      <td>128</td>\n",
       "      <td>524</td>\n",
       "      <td>1952</td>\n",
       "      <td>2022-10-04</td>\n",
       "      <td>80600.00</td>\n",
       "      <td>2024-05-20</td>\n",
       "      <td>8320.00</td>\n",
       "      <td>rent</td>\n",
       "    </tr>\n",
       "    <tr>\n",
       "      <th>1333</th>\n",
       "      <td>2069</td>\n",
       "      <td>147</td>\n",
       "      <td>834</td>\n",
       "      <td>1899</td>\n",
       "      <td>2024-09-30</td>\n",
       "      <td>113940.00</td>\n",
       "      <td>2024-10-15</td>\n",
       "      <td>11394.00</td>\n",
       "      <td>rent</td>\n",
       "    </tr>\n",
       "    <tr>\n",
       "      <th>2636</th>\n",
       "      <td>360</td>\n",
       "      <td>140</td>\n",
       "      <td>1703</td>\n",
       "      <td>804</td>\n",
       "      <td>2024-09-15</td>\n",
       "      <td>39300.00</td>\n",
       "      <td>2024-11-21</td>\n",
       "      <td>1965.00</td>\n",
       "      <td>rent</td>\n",
       "    </tr>\n",
       "    <tr>\n",
       "      <th>500</th>\n",
       "      <td>1717</td>\n",
       "      <td>218</td>\n",
       "      <td>1346</td>\n",
       "      <td>1476</td>\n",
       "      <td>2022-01-30</td>\n",
       "      <td>233882.37</td>\n",
       "      <td>2023-10-23</td>\n",
       "      <td>4677.65</td>\n",
       "      <td>sale</td>\n",
       "    </tr>\n",
       "  </tbody>\n",
       "</table>\n",
       "</div>"
      ],
      "text/plain": [
       "      property_id  agent_id  owner_id  client_id transaction_date  \\\n",
       "533          2430       196      1054        732       2022-05-28   \n",
       "453           880       128       524       1952       2022-10-04   \n",
       "1333         2069       147       834       1899       2024-09-30   \n",
       "2636          360       140      1703        804       2024-09-15   \n",
       "500          1717       218      1346       1476       2022-01-30   \n",
       "\n",
       "      transaction_amount commission_payment_date  commission_amount  \\\n",
       "533            175988.09              2022-08-24            5279.64   \n",
       "453             80600.00              2024-05-20            8320.00   \n",
       "1333           113940.00              2024-10-15           11394.00   \n",
       "2636            39300.00              2024-11-21            1965.00   \n",
       "500            233882.37              2023-10-23            4677.65   \n",
       "\n",
       "     transaction_type  \n",
       "533              sale  \n",
       "453              rent  \n",
       "1333             rent  \n",
       "2636             rent  \n",
       "500              sale  "
      ]
     },
     "execution_count": 6,
     "metadata": {},
     "output_type": "execute_result"
    }
   ],
   "source": [
    "transactions_df.sample(5)"
   ]
  },
  {
   "cell_type": "code",
   "execution_count": 7,
   "id": "e634a79f",
   "metadata": {},
   "outputs": [
    {
     "name": "stdout",
     "output_type": "stream",
     "text": [
      "<class 'pandas.core.frame.DataFrame'>\n",
      "Index: 4424 entries, 0 to 1644\n",
      "Data columns (total 9 columns):\n",
      " #   Column                   Non-Null Count  Dtype         \n",
      "---  ------                   --------------  -----         \n",
      " 0   property_id              4424 non-null   int64         \n",
      " 1   agent_id                 4424 non-null   int64         \n",
      " 2   owner_id                 4424 non-null   int64         \n",
      " 3   client_id                4424 non-null   int64         \n",
      " 4   transaction_date         4424 non-null   datetime64[ns]\n",
      " 5   transaction_amount       4424 non-null   float64       \n",
      " 6   commission_payment_date  4424 non-null   datetime64[ns]\n",
      " 7   commission_amount        4424 non-null   float64       \n",
      " 8   transaction_type         4424 non-null   object        \n",
      "dtypes: datetime64[ns](2), float64(2), int64(4), object(1)\n",
      "memory usage: 345.6+ KB\n"
     ]
    }
   ],
   "source": [
    "transactions_df.info()"
   ]
  },
  {
   "cell_type": "code",
   "execution_count": 8,
   "id": "63bbe7f2",
   "metadata": {},
   "outputs": [],
   "source": [
    "today_date = (transactions_df['commission_payment_date'].max()) + pd.Timedelta(days=1)  # تاريخ اليوم الافتراضي"
   ]
  },
  {
   "cell_type": "markdown",
   "id": "618dd08a",
   "metadata": {},
   "source": [
    "# Owners Segmentation Using RFM Analysis"
   ]
  },
  {
   "cell_type": "markdown",
   "id": "326fc275",
   "metadata": {},
   "source": [
    "RFM score for each owner based on their historical transaction data\n",
    "to measure value and engagement of owners\n"
   ]
  },
  {
   "cell_type": "markdown",
   "id": "a0a61e4a",
   "metadata": {},
   "source": [
    "## Feature engineering: R,F,M"
   ]
  },
  {
   "cell_type": "markdown",
   "id": "5692f82b",
   "metadata": {},
   "source": [
    "1. Recency --> today - nearest date (Sales + Rent)\n",
    "2. Frequenc -->  count of transaction (Sales + Rent)\n",
    "3. Monetary  --> total commission (Sales + Rent)"
   ]
  },
  {
   "cell_type": "code",
   "execution_count": 9,
   "id": "de5af824",
   "metadata": {},
   "outputs": [],
   "source": [
    "owner_agg_df = transactions_df.groupby(\"owner_id\").agg(\n",
    "                                                        last_date =(\"transaction_date\",\"max\"),\n",
    "                                                        Frequency =(\"owner_id\",\"count\"),\n",
    "                                                        Monetary =(\"commission_amount\",\"sum\")\n",
    ").reset_index()"
   ]
  },
  {
   "cell_type": "code",
   "execution_count": 10,
   "id": "277c86d6",
   "metadata": {},
   "outputs": [],
   "source": [
    "owner_agg_df['Recency'] = (today_date - owner_agg_df['last_date']).dt.days"
   ]
  },
  {
   "cell_type": "code",
   "execution_count": 11,
   "id": "2b5ffc9f",
   "metadata": {},
   "outputs": [
    {
     "name": "stdout",
     "output_type": "stream",
     "text": [
      "<class 'pandas.core.frame.DataFrame'>\n",
      "RangeIndex: 1447 entries, 0 to 1446\n",
      "Data columns (total 5 columns):\n",
      " #   Column     Non-Null Count  Dtype         \n",
      "---  ------     --------------  -----         \n",
      " 0   owner_id   1447 non-null   int64         \n",
      " 1   last_date  1447 non-null   datetime64[ns]\n",
      " 2   Frequency  1447 non-null   int64         \n",
      " 3   Monetary   1447 non-null   float64       \n",
      " 4   Recency    1447 non-null   int64         \n",
      "dtypes: datetime64[ns](1), float64(1), int64(3)\n",
      "memory usage: 56.7 KB\n"
     ]
    }
   ],
   "source": [
    "owner_agg_df.info()"
   ]
  },
  {
   "cell_type": "code",
   "execution_count": 12,
   "id": "8c3d9f81",
   "metadata": {},
   "outputs": [
    {
     "data": {
      "text/html": [
       "<div>\n",
       "<style scoped>\n",
       "    .dataframe tbody tr th:only-of-type {\n",
       "        vertical-align: middle;\n",
       "    }\n",
       "\n",
       "    .dataframe tbody tr th {\n",
       "        vertical-align: top;\n",
       "    }\n",
       "\n",
       "    .dataframe thead th {\n",
       "        text-align: right;\n",
       "    }\n",
       "</style>\n",
       "<table border=\"1\" class=\"dataframe\">\n",
       "  <thead>\n",
       "    <tr style=\"text-align: right;\">\n",
       "      <th></th>\n",
       "      <th>owner_id</th>\n",
       "      <th>last_date</th>\n",
       "      <th>Frequency</th>\n",
       "      <th>Monetary</th>\n",
       "      <th>Recency</th>\n",
       "    </tr>\n",
       "  </thead>\n",
       "  <tbody>\n",
       "    <tr>\n",
       "      <th>0</th>\n",
       "      <td>1</td>\n",
       "      <td>2024-09-10</td>\n",
       "      <td>5</td>\n",
       "      <td>13613.32</td>\n",
       "      <td>113</td>\n",
       "    </tr>\n",
       "    <tr>\n",
       "      <th>1</th>\n",
       "      <td>2</td>\n",
       "      <td>2024-12-31</td>\n",
       "      <td>7</td>\n",
       "      <td>68636.26</td>\n",
       "      <td>1</td>\n",
       "    </tr>\n",
       "    <tr>\n",
       "      <th>2</th>\n",
       "      <td>3</td>\n",
       "      <td>2024-12-31</td>\n",
       "      <td>5</td>\n",
       "      <td>43235.50</td>\n",
       "      <td>1</td>\n",
       "    </tr>\n",
       "    <tr>\n",
       "      <th>3</th>\n",
       "      <td>4</td>\n",
       "      <td>2024-12-31</td>\n",
       "      <td>5</td>\n",
       "      <td>35796.12</td>\n",
       "      <td>1</td>\n",
       "    </tr>\n",
       "    <tr>\n",
       "      <th>4</th>\n",
       "      <td>5</td>\n",
       "      <td>2024-02-19</td>\n",
       "      <td>1</td>\n",
       "      <td>14119.14</td>\n",
       "      <td>317</td>\n",
       "    </tr>\n",
       "  </tbody>\n",
       "</table>\n",
       "</div>"
      ],
      "text/plain": [
       "   owner_id  last_date  Frequency  Monetary  Recency\n",
       "0         1 2024-09-10          5  13613.32      113\n",
       "1         2 2024-12-31          7  68636.26        1\n",
       "2         3 2024-12-31          5  43235.50        1\n",
       "3         4 2024-12-31          5  35796.12        1\n",
       "4         5 2024-02-19          1  14119.14      317"
      ]
     },
     "execution_count": 12,
     "metadata": {},
     "output_type": "execute_result"
    }
   ],
   "source": [
    "owner_agg_df.head()"
   ]
  },
  {
   "cell_type": "code",
   "execution_count": 13,
   "id": "10412ce4",
   "metadata": {},
   "outputs": [
    {
     "data": {
      "text/html": [
       "<div>\n",
       "<style scoped>\n",
       "    .dataframe tbody tr th:only-of-type {\n",
       "        vertical-align: middle;\n",
       "    }\n",
       "\n",
       "    .dataframe tbody tr th {\n",
       "        vertical-align: top;\n",
       "    }\n",
       "\n",
       "    .dataframe thead th {\n",
       "        text-align: right;\n",
       "    }\n",
       "</style>\n",
       "<table border=\"1\" class=\"dataframe\">\n",
       "  <thead>\n",
       "    <tr style=\"text-align: right;\">\n",
       "      <th></th>\n",
       "      <th>owner_id</th>\n",
       "      <th>last_date</th>\n",
       "      <th>Frequency</th>\n",
       "      <th>Monetary</th>\n",
       "      <th>Recency</th>\n",
       "    </tr>\n",
       "  </thead>\n",
       "  <tbody>\n",
       "    <tr>\n",
       "      <th>count</th>\n",
       "      <td>1447.000000</td>\n",
       "      <td>1447</td>\n",
       "      <td>1447.000000</td>\n",
       "      <td>1447.000000</td>\n",
       "      <td>1447.000000</td>\n",
       "    </tr>\n",
       "    <tr>\n",
       "      <th>mean</th>\n",
       "      <td>877.626123</td>\n",
       "      <td>2024-07-03 15:03:36.447823104</td>\n",
       "      <td>3.057360</td>\n",
       "      <td>31663.980171</td>\n",
       "      <td>181.372495</td>\n",
       "    </tr>\n",
       "    <tr>\n",
       "      <th>min</th>\n",
       "      <td>1.000000</td>\n",
       "      <td>2020-06-07 00:00:00</td>\n",
       "      <td>1.000000</td>\n",
       "      <td>438.000000</td>\n",
       "      <td>1.000000</td>\n",
       "    </tr>\n",
       "    <tr>\n",
       "      <th>25%</th>\n",
       "      <td>438.500000</td>\n",
       "      <td>2024-04-16 00:00:00</td>\n",
       "      <td>1.000000</td>\n",
       "      <td>11125.605000</td>\n",
       "      <td>1.000000</td>\n",
       "    </tr>\n",
       "    <tr>\n",
       "      <th>50%</th>\n",
       "      <td>885.000000</td>\n",
       "      <td>2024-12-10 00:00:00</td>\n",
       "      <td>3.000000</td>\n",
       "      <td>22752.000000</td>\n",
       "      <td>22.000000</td>\n",
       "    </tr>\n",
       "    <tr>\n",
       "      <th>75%</th>\n",
       "      <td>1313.500000</td>\n",
       "      <td>2024-12-31 00:00:00</td>\n",
       "      <td>4.000000</td>\n",
       "      <td>43899.265000</td>\n",
       "      <td>260.000000</td>\n",
       "    </tr>\n",
       "    <tr>\n",
       "      <th>max</th>\n",
       "      <td>1755.000000</td>\n",
       "      <td>2024-12-31 00:00:00</td>\n",
       "      <td>12.000000</td>\n",
       "      <td>242332.380000</td>\n",
       "      <td>1669.000000</td>\n",
       "    </tr>\n",
       "    <tr>\n",
       "      <th>std</th>\n",
       "      <td>507.570847</td>\n",
       "      <td>NaN</td>\n",
       "      <td>2.019312</td>\n",
       "      <td>28153.678105</td>\n",
       "      <td>291.206020</td>\n",
       "    </tr>\n",
       "  </tbody>\n",
       "</table>\n",
       "</div>"
      ],
      "text/plain": [
       "          owner_id                      last_date    Frequency       Monetary  \\\n",
       "count  1447.000000                           1447  1447.000000    1447.000000   \n",
       "mean    877.626123  2024-07-03 15:03:36.447823104     3.057360   31663.980171   \n",
       "min       1.000000            2020-06-07 00:00:00     1.000000     438.000000   \n",
       "25%     438.500000            2024-04-16 00:00:00     1.000000   11125.605000   \n",
       "50%     885.000000            2024-12-10 00:00:00     3.000000   22752.000000   \n",
       "75%    1313.500000            2024-12-31 00:00:00     4.000000   43899.265000   \n",
       "max    1755.000000            2024-12-31 00:00:00    12.000000  242332.380000   \n",
       "std     507.570847                            NaN     2.019312   28153.678105   \n",
       "\n",
       "           Recency  \n",
       "count  1447.000000  \n",
       "mean    181.372495  \n",
       "min       1.000000  \n",
       "25%       1.000000  \n",
       "50%      22.000000  \n",
       "75%     260.000000  \n",
       "max    1669.000000  \n",
       "std     291.206020  "
      ]
     },
     "execution_count": 13,
     "metadata": {},
     "output_type": "execute_result"
    }
   ],
   "source": [
    "owner_agg_df.describe()"
   ]
  },
  {
   "cell_type": "code",
   "execution_count": 14,
   "id": "a10c1f29",
   "metadata": {},
   "outputs": [],
   "source": [
    "# Recency: most owners are very recent; fewer bins prevent clustering in a single bin -->  3 bins\n",
    "# Frequency: 4 bins to provide a balanced distribution of owners based on transaction count, separating low and high activity\n",
    "# Monetary: 4 bins to clearly classify profitability, covering a wide range of low and high values\n"
   ]
  },
  {
   "cell_type": "markdown",
   "id": "095b3b7f",
   "metadata": {},
   "source": [
    "## RFM Scoring "
   ]
  },
  {
   "cell_type": "markdown",
   "id": "47f4d1e6",
   "metadata": {},
   "source": [
    "Discretization (numerical -->categories\"range\")"
   ]
  },
  {
   "cell_type": "code",
   "execution_count": 30,
   "id": "e493c692",
   "metadata": {},
   "outputs": [],
   "source": [
    "# Recency score (high=old = 1 , low=new = 3)\n",
    "bins_Recency   = [0, 30, 112, owner_agg_df['Recency'].max()]\n",
    "labels_Recency = [3, 2, 1]\n",
    "\n",
    "owner_agg_df['R_Score'] = pd.cut(\n",
    "    owner_agg_df['Recency'],\n",
    "    bins=bins_Recency,\n",
    "    labels=labels_Recency,\n",
    "    include_lowest=True\n",
    ")\n",
    "\n",
    "# Frequency score (low = 1, high= 4)\n",
    "owner_agg_df['F_Score'] = pd.qcut(owner_agg_df['Frequency'].rank(method='first'), 4, labels=range(1,5))\n",
    "\n",
    "# Monetary score (low = 1, high= 4)\n",
    "owner_agg_df['M_Score'] = pd.qcut(owner_agg_df['Monetary'], 4, labels=range(1,5))"
   ]
  },
  {
   "cell_type": "markdown",
   "id": "f89b6d14",
   "metadata": {},
   "source": [
    "Combine R, F, M scores to form a single RFM score \"string\""
   ]
  },
  {
   "cell_type": "code",
   "execution_count": 16,
   "id": "7d735039",
   "metadata": {},
   "outputs": [],
   "source": [
    "owner_agg_df['RFM_Score'] =( owner_agg_df['R_Score'].astype(str) + \n",
    "                             owner_agg_df['F_Score'].astype(str) + \n",
    "                             owner_agg_df['M_Score'].astype(str)\n",
    ")"
   ]
  },
  {
   "cell_type": "code",
   "execution_count": 17,
   "id": "481ab34f",
   "metadata": {},
   "outputs": [
    {
     "data": {
      "text/html": [
       "<div>\n",
       "<style scoped>\n",
       "    .dataframe tbody tr th:only-of-type {\n",
       "        vertical-align: middle;\n",
       "    }\n",
       "\n",
       "    .dataframe tbody tr th {\n",
       "        vertical-align: top;\n",
       "    }\n",
       "\n",
       "    .dataframe thead th {\n",
       "        text-align: right;\n",
       "    }\n",
       "</style>\n",
       "<table border=\"1\" class=\"dataframe\">\n",
       "  <thead>\n",
       "    <tr style=\"text-align: right;\">\n",
       "      <th></th>\n",
       "      <th>owner_id</th>\n",
       "      <th>last_date</th>\n",
       "      <th>Frequency</th>\n",
       "      <th>Monetary</th>\n",
       "      <th>Recency</th>\n",
       "      <th>R_Score</th>\n",
       "      <th>F_Score</th>\n",
       "      <th>M_Score</th>\n",
       "      <th>RFM_Score</th>\n",
       "    </tr>\n",
       "  </thead>\n",
       "  <tbody>\n",
       "    <tr>\n",
       "      <th>0</th>\n",
       "      <td>1</td>\n",
       "      <td>2024-09-10</td>\n",
       "      <td>5</td>\n",
       "      <td>13613.32</td>\n",
       "      <td>113</td>\n",
       "      <td>1</td>\n",
       "      <td>4</td>\n",
       "      <td>2</td>\n",
       "      <td>142</td>\n",
       "    </tr>\n",
       "    <tr>\n",
       "      <th>1</th>\n",
       "      <td>2</td>\n",
       "      <td>2024-12-31</td>\n",
       "      <td>7</td>\n",
       "      <td>68636.26</td>\n",
       "      <td>1</td>\n",
       "      <td>3</td>\n",
       "      <td>4</td>\n",
       "      <td>4</td>\n",
       "      <td>344</td>\n",
       "    </tr>\n",
       "    <tr>\n",
       "      <th>2</th>\n",
       "      <td>3</td>\n",
       "      <td>2024-12-31</td>\n",
       "      <td>5</td>\n",
       "      <td>43235.50</td>\n",
       "      <td>1</td>\n",
       "      <td>3</td>\n",
       "      <td>4</td>\n",
       "      <td>3</td>\n",
       "      <td>343</td>\n",
       "    </tr>\n",
       "    <tr>\n",
       "      <th>3</th>\n",
       "      <td>4</td>\n",
       "      <td>2024-12-31</td>\n",
       "      <td>5</td>\n",
       "      <td>35796.12</td>\n",
       "      <td>1</td>\n",
       "      <td>3</td>\n",
       "      <td>4</td>\n",
       "      <td>3</td>\n",
       "      <td>343</td>\n",
       "    </tr>\n",
       "    <tr>\n",
       "      <th>4</th>\n",
       "      <td>5</td>\n",
       "      <td>2024-02-19</td>\n",
       "      <td>1</td>\n",
       "      <td>14119.14</td>\n",
       "      <td>317</td>\n",
       "      <td>1</td>\n",
       "      <td>1</td>\n",
       "      <td>2</td>\n",
       "      <td>112</td>\n",
       "    </tr>\n",
       "  </tbody>\n",
       "</table>\n",
       "</div>"
      ],
      "text/plain": [
       "   owner_id  last_date  Frequency  Monetary  Recency R_Score F_Score M_Score  \\\n",
       "0         1 2024-09-10          5  13613.32      113       1       4       2   \n",
       "1         2 2024-12-31          7  68636.26        1       3       4       4   \n",
       "2         3 2024-12-31          5  43235.50        1       3       4       3   \n",
       "3         4 2024-12-31          5  35796.12        1       3       4       3   \n",
       "4         5 2024-02-19          1  14119.14      317       1       1       2   \n",
       "\n",
       "  RFM_Score  \n",
       "0       142  \n",
       "1       344  \n",
       "2       343  \n",
       "3       343  \n",
       "4       112  "
      ]
     },
     "execution_count": 17,
     "metadata": {},
     "output_type": "execute_result"
    }
   ],
   "source": [
    "owner_agg_df.head()"
   ]
  },
  {
   "cell_type": "markdown",
   "id": "cfaae46c",
   "metadata": {},
   "source": [
    "RFM segmentaion:\n",
    "- Champions: high in all three or at least very recent + (freq or monetary high) (RFM)\n",
    "- Loyal Owners: frequent and high monetary but not the most recent (F&M) (R1/2)\n",
    "- High Value – Low Activity: high monetary only (M) (F1/2,R3-1)\n",
    "- Emerging Owne: recent and good spend but medium frequency (R) (F1-4, M2-4)\n",
    "- At Risk: very old regardless of frequency or monetary (FM) (R=1)\n",
    "- Dormant Owner: everyone else (mid-range)"
   ]
  },
  {
   "cell_type": "code",
   "execution_count": 18,
   "id": "538dce7d",
   "metadata": {},
   "outputs": [],
   "source": [
    "def rfm_owner_segment(row):\n",
    "    R, F, M = row['R_Score'], row['F_Score'], row['M_Score']\n",
    "\n",
    "    if R == 3 and F >= 3 and M >= 3:\n",
    "        return 'Champion'\n",
    "\n",
    "    elif R >= 2 and F >= 3 and M >= 3:\n",
    "        return 'Loyal Owner'\n",
    "\n",
    "    elif R >= 2 and ((F >= 2 and 2 <= M <= 3) or (M >= 2 and 2 <= F <= 3)):\n",
    "        return 'Emerging Owne'\n",
    "    \n",
    "    elif F < 3 and M >= 3:\n",
    "        return 'High Value-Low Activity'\n",
    "    \n",
    "    elif R == 1 and F >= 2 and M >= 2:\n",
    "        return 'At Risk'\n",
    "\n",
    "    else:\n",
    "        return 'Dormant Owner'\n",
    "\n",
    "owner_agg_df['Segment'] = owner_agg_df.apply(rfm_owner_segment, axis=1)"
   ]
  },
  {
   "cell_type": "code",
   "execution_count": 19,
   "id": "f84575da",
   "metadata": {},
   "outputs": [
    {
     "data": {
      "text/html": [
       "<div>\n",
       "<style scoped>\n",
       "    .dataframe tbody tr th:only-of-type {\n",
       "        vertical-align: middle;\n",
       "    }\n",
       "\n",
       "    .dataframe tbody tr th {\n",
       "        vertical-align: top;\n",
       "    }\n",
       "\n",
       "    .dataframe thead th {\n",
       "        text-align: right;\n",
       "    }\n",
       "</style>\n",
       "<table border=\"1\" class=\"dataframe\">\n",
       "  <thead>\n",
       "    <tr style=\"text-align: right;\">\n",
       "      <th></th>\n",
       "      <th>owner_id</th>\n",
       "      <th>last_date</th>\n",
       "      <th>Frequency</th>\n",
       "      <th>Monetary</th>\n",
       "      <th>Recency</th>\n",
       "      <th>R_Score</th>\n",
       "      <th>F_Score</th>\n",
       "      <th>M_Score</th>\n",
       "      <th>RFM_Score</th>\n",
       "      <th>Segment</th>\n",
       "    </tr>\n",
       "  </thead>\n",
       "  <tbody>\n",
       "    <tr>\n",
       "      <th>0</th>\n",
       "      <td>1</td>\n",
       "      <td>2024-09-10</td>\n",
       "      <td>5</td>\n",
       "      <td>13613.32</td>\n",
       "      <td>113</td>\n",
       "      <td>1</td>\n",
       "      <td>4</td>\n",
       "      <td>2</td>\n",
       "      <td>142</td>\n",
       "      <td>At Risk</td>\n",
       "    </tr>\n",
       "    <tr>\n",
       "      <th>1</th>\n",
       "      <td>2</td>\n",
       "      <td>2024-12-31</td>\n",
       "      <td>7</td>\n",
       "      <td>68636.26</td>\n",
       "      <td>1</td>\n",
       "      <td>3</td>\n",
       "      <td>4</td>\n",
       "      <td>4</td>\n",
       "      <td>344</td>\n",
       "      <td>Champion</td>\n",
       "    </tr>\n",
       "    <tr>\n",
       "      <th>2</th>\n",
       "      <td>3</td>\n",
       "      <td>2024-12-31</td>\n",
       "      <td>5</td>\n",
       "      <td>43235.50</td>\n",
       "      <td>1</td>\n",
       "      <td>3</td>\n",
       "      <td>4</td>\n",
       "      <td>3</td>\n",
       "      <td>343</td>\n",
       "      <td>Champion</td>\n",
       "    </tr>\n",
       "    <tr>\n",
       "      <th>3</th>\n",
       "      <td>4</td>\n",
       "      <td>2024-12-31</td>\n",
       "      <td>5</td>\n",
       "      <td>35796.12</td>\n",
       "      <td>1</td>\n",
       "      <td>3</td>\n",
       "      <td>4</td>\n",
       "      <td>3</td>\n",
       "      <td>343</td>\n",
       "      <td>Champion</td>\n",
       "    </tr>\n",
       "    <tr>\n",
       "      <th>4</th>\n",
       "      <td>5</td>\n",
       "      <td>2024-02-19</td>\n",
       "      <td>1</td>\n",
       "      <td>14119.14</td>\n",
       "      <td>317</td>\n",
       "      <td>1</td>\n",
       "      <td>1</td>\n",
       "      <td>2</td>\n",
       "      <td>112</td>\n",
       "      <td>Dormant Owner</td>\n",
       "    </tr>\n",
       "  </tbody>\n",
       "</table>\n",
       "</div>"
      ],
      "text/plain": [
       "   owner_id  last_date  Frequency  Monetary  Recency R_Score F_Score M_Score  \\\n",
       "0         1 2024-09-10          5  13613.32      113       1       4       2   \n",
       "1         2 2024-12-31          7  68636.26        1       3       4       4   \n",
       "2         3 2024-12-31          5  43235.50        1       3       4       3   \n",
       "3         4 2024-12-31          5  35796.12        1       3       4       3   \n",
       "4         5 2024-02-19          1  14119.14      317       1       1       2   \n",
       "\n",
       "  RFM_Score        Segment  \n",
       "0       142        At Risk  \n",
       "1       344       Champion  \n",
       "2       343       Champion  \n",
       "3       343       Champion  \n",
       "4       112  Dormant Owner  "
      ]
     },
     "execution_count": 19,
     "metadata": {},
     "output_type": "execute_result"
    }
   ],
   "source": [
    "owner_agg_df.head()"
   ]
  },
  {
   "cell_type": "markdown",
   "id": "2fc98f5c",
   "metadata": {},
   "source": [
    "## visualization"
   ]
  },
  {
   "cell_type": "code",
   "execution_count": 20,
   "id": "f2fa98ad",
   "metadata": {},
   "outputs": [
    {
     "data": {
      "application/vnd.plotly.v1+json": {
       "config": {
        "plotlyServerURL": "https://plot.ly"
       },
       "data": [
        {
         "customdata": [
          [
           1
          ],
          [
           6
          ],
          [
           23
          ],
          [
           45
          ],
          [
           57
          ],
          [
           60
          ],
          [
           73
          ],
          [
           112
          ],
          [
           119
          ],
          [
           134
          ],
          [
           161
          ],
          [
           164
          ],
          [
           175
          ],
          [
           186
          ],
          [
           192
          ],
          [
           207
          ],
          [
           234
          ],
          [
           255
          ],
          [
           269
          ],
          [
           281
          ],
          [
           304
          ],
          [
           313
          ],
          [
           322
          ],
          [
           343
          ],
          [
           346
          ],
          [
           347
          ],
          [
           354
          ],
          [
           362
          ],
          [
           371
          ],
          [
           378
          ],
          [
           385
          ],
          [
           417
          ],
          [
           427
          ],
          [
           487
          ],
          [
           512
          ],
          [
           515
          ],
          [
           531
          ],
          [
           533
          ],
          [
           537
          ],
          [
           541
          ],
          [
           544
          ],
          [
           547
          ],
          [
           548
          ],
          [
           568
          ],
          [
           571
          ],
          [
           578
          ],
          [
           582
          ],
          [
           590
          ],
          [
           596
          ],
          [
           597
          ],
          [
           618
          ],
          [
           633
          ],
          [
           644
          ],
          [
           645
          ],
          [
           656
          ],
          [
           664
          ],
          [
           677
          ],
          [
           682
          ],
          [
           684
          ],
          [
           694
          ],
          [
           719
          ],
          [
           734
          ],
          [
           756
          ],
          [
           777
          ],
          [
           785
          ],
          [
           808
          ],
          [
           821
          ],
          [
           822
          ],
          [
           841
          ],
          [
           868
          ],
          [
           871
          ],
          [
           895
          ],
          [
           899
          ],
          [
           901
          ],
          [
           907
          ],
          [
           908
          ],
          [
           923
          ],
          [
           929
          ],
          [
           937
          ],
          [
           940
          ],
          [
           950
          ],
          [
           974
          ],
          [
           1048
          ],
          [
           1055
          ],
          [
           1075
          ],
          [
           1094
          ],
          [
           1097
          ],
          [
           1111
          ],
          [
           1116
          ],
          [
           1127
          ],
          [
           1134
          ],
          [
           1137
          ],
          [
           1159
          ],
          [
           1173
          ],
          [
           1182
          ],
          [
           1184
          ],
          [
           1196
          ],
          [
           1218
          ],
          [
           1226
          ],
          [
           1268
          ],
          [
           1283
          ],
          [
           1298
          ],
          [
           1316
          ],
          [
           1318
          ],
          [
           1329
          ],
          [
           1345
          ],
          [
           1348
          ],
          [
           1356
          ],
          [
           1364
          ],
          [
           1382
          ],
          [
           1400
          ],
          [
           1410
          ],
          [
           1420
          ],
          [
           1427
          ],
          [
           1430
          ],
          [
           1432
          ],
          [
           1448
          ],
          [
           1523
          ],
          [
           1524
          ],
          [
           1542
          ],
          [
           1553
          ],
          [
           1570
          ],
          [
           1578
          ],
          [
           1583
          ],
          [
           1610
          ],
          [
           1615
          ],
          [
           1653
          ],
          [
           1664
          ],
          [
           1682
          ],
          [
           1687
          ],
          [
           1688
          ],
          [
           1689
          ],
          [
           1691
          ],
          [
           1698
          ],
          [
           1702
          ],
          [
           1705
          ],
          [
           1713
          ],
          [
           1714
          ],
          [
           1721
          ],
          [
           1725
          ]
         ],
         "hovertemplate": "Segment=At Risk<br>Recency=%{x}<br>Monetary=%{y}<br>Frequency=%{marker.size}<br>owner_id=%{customdata[0]}<extra></extra>",
         "legendgroup": "At Risk",
         "marker": {
          "color": "#636efa",
          "size": [
           5,
           2,
           2,
           6,
           2,
           2,
           2,
           2,
           4,
           2,
           4,
           2,
           2,
           2,
           2,
           4,
           2,
           3,
           2,
           2,
           2,
           3,
           2,
           4,
           3,
           2,
           2,
           3,
           4,
           4,
           3,
           3,
           2,
           2,
           2,
           2,
           2,
           2,
           2,
           4,
           2,
           3,
           2,
           2,
           2,
           2,
           2,
           3,
           2,
           4,
           3,
           3,
           2,
           3,
           2,
           2,
           2,
           5,
           4,
           3,
           2,
           5,
           2,
           3,
           2,
           3,
           2,
           3,
           3,
           3,
           2,
           3,
           2,
           3,
           3,
           2,
           3,
           4,
           4,
           4,
           4,
           3,
           3,
           3,
           2,
           2,
           2,
           2,
           3,
           2,
           3,
           4,
           2,
           4,
           2,
           3,
           3,
           3,
           3,
           3,
           2,
           2,
           3,
           2,
           2,
           3,
           2,
           2,
           3,
           3,
           4,
           3,
           3,
           3,
           2,
           3,
           2,
           4,
           2,
           3,
           2,
           2,
           5,
           3,
           2,
           2,
           3,
           4,
           1,
           1,
           3,
           2,
           3,
           1,
           1,
           3,
           1,
           1,
           2,
           3
          ],
          "sizemode": "area",
          "sizeref": 0.03,
          "symbol": "circle"
         },
         "mode": "markers",
         "name": "At Risk",
         "showlegend": true,
         "type": "scattergl",
         "x": [
          113,
          140,
          165,
          201,
          179,
          378,
          244,
          266,
          202,
          171,
          157,
          1056,
          297,
          180,
          229,
          209,
          526,
          129,
          446,
          193,
          320,
          172,
          552,
          147,
          235,
          512,
          149,
          241,
          128,
          114,
          169,
          127,
          497,
          411,
          255,
          623,
          791,
          264,
          148,
          194,
          350,
          307,
          215,
          179,
          362,
          311,
          252,
          237,
          296,
          137,
          138,
          346,
          248,
          388,
          745,
          334,
          608,
          293,
          133,
          196,
          458,
          451,
          146,
          437,
          393,
          135,
          268,
          219,
          238,
          227,
          495,
          839,
          218,
          312,
          137,
          133,
          167,
          292,
          132,
          129,
          331,
          163,
          166,
          187,
          743,
          438,
          140,
          480,
          207,
          492,
          136,
          121,
          193,
          246,
          265,
          281,
          167,
          182,
          133,
          192,
          401,
          292,
          194,
          353,
          804,
          150,
          240,
          416,
          331,
          213,
          216,
          223,
          256,
          124,
          694,
          530,
          855,
          264,
          114,
          260,
          143,
          286,
          144,
          497,
          183,
          319,
          431,
          538,
          891,
          388,
          116,
          133,
          232,
          306,
          344,
          144,
          228,
          812,
          622,
          172
         ],
         "xaxis": "x",
         "y": [
          13613.32,
          13991.01,
          12315.779999999999,
          48642.39,
          19996.28,
          14357.560000000001,
          12923.05,
          20997.72,
          26941.370000000003,
          12878.279999999999,
          29851.7,
          19048.37,
          12712.7,
          19200.43,
          18731.78,
          35064.83,
          20316.7,
          23753.72,
          20353.06,
          18489.27,
          13342.44,
          57887.22,
          16405.42,
          93459.88,
          24128.38,
          19614.010000000002,
          19430,
          67354.65000000001,
          12864,
          69190.26,
          54275.59,
          63446.48,
          15973.75,
          16259.18,
          15509.82,
          13110.6,
          11962.57,
          19289.98,
          17205.18,
          68104.99,
          11189,
          12212.88,
          22676.760000000002,
          11874.369999999999,
          22752,
          20970,
          12915.97,
          22014.300000000003,
          22263.14,
          29693.09,
          17129.41,
          29790.78,
          18230.59,
          13751.53,
          13577,
          14251.87,
          14526.310000000001,
          23210.09,
          32449.84,
          72599.26000000001,
          17625,
          79064.88,
          17385.72,
          43216.18,
          13922.28,
          24200.03,
          15052.88,
          19474.68,
          50228.28,
          71127.8,
          14002.93,
          32755.61,
          18534.45,
          93916.23,
          36351.3,
          16695.53,
          43215.92,
          86794.63,
          20844.04,
          21310.190000000002,
          101814.3035,
          23749.73,
          76842.01,
          18807.95,
          21519.53,
          14096.81,
          18343.44,
          18238.14,
          39766.240000000005,
          21623.62,
          34013.619999999995,
          32139.35,
          11885.21,
          47826.75000000001,
          17283.33,
          63290.16,
          35368.29,
          14335.259999999998,
          56003.1,
          30354.35,
          11155.42,
          21085.8,
          64419.64,
          11501.060000000001,
          19290.85,
          36420.22,
          17036,
          15984.15,
          46765.58,
          45370.24,
          64094.9,
          23375.82,
          67501.85,
          38022.41,
          19831.05,
          32577.86,
          19122.15,
          80087.93,
          12676.98,
          32099.04,
          11685.18,
          19578.22,
          54172.83,
          22240.96,
          16339.66,
          14633.65,
          80935.3,
          50389.78,
          14410.44,
          12834.61,
          31533.219999999998,
          17627.629999999997,
          47007.35,
          17879.34,
          15959.1,
          19855.04,
          21246.06,
          13540.65,
          11789.21,
          117410.07999999999
         ],
         "yaxis": "y"
        },
        {
         "customdata": [
          [
           2
          ],
          [
           3
          ],
          [
           4
          ],
          [
           7
          ],
          [
           9
          ],
          [
           17
          ],
          [
           24
          ],
          [
           25
          ],
          [
           26
          ],
          [
           29
          ],
          [
           39
          ],
          [
           46
          ],
          [
           48
          ],
          [
           49
          ],
          [
           64
          ],
          [
           72
          ],
          [
           76
          ],
          [
           80
          ],
          [
           85
          ],
          [
           90
          ],
          [
           92
          ],
          [
           94
          ],
          [
           99
          ],
          [
           100
          ],
          [
           111
          ],
          [
           114
          ],
          [
           115
          ],
          [
           120
          ],
          [
           127
          ],
          [
           131
          ],
          [
           133
          ],
          [
           135
          ],
          [
           136
          ],
          [
           137
          ],
          [
           139
          ],
          [
           148
          ],
          [
           150
          ],
          [
           157
          ],
          [
           167
          ],
          [
           169
          ],
          [
           177
          ],
          [
           181
          ],
          [
           185
          ],
          [
           188
          ],
          [
           189
          ],
          [
           193
          ],
          [
           199
          ],
          [
           208
          ],
          [
           209
          ],
          [
           211
          ],
          [
           212
          ],
          [
           217
          ],
          [
           226
          ],
          [
           227
          ],
          [
           229
          ],
          [
           233
          ],
          [
           236
          ],
          [
           237
          ],
          [
           239
          ],
          [
           242
          ],
          [
           243
          ],
          [
           244
          ],
          [
           249
          ],
          [
           259
          ],
          [
           268
          ],
          [
           273
          ],
          [
           276
          ],
          [
           288
          ],
          [
           289
          ],
          [
           298
          ],
          [
           305
          ],
          [
           306
          ],
          [
           309
          ],
          [
           311
          ],
          [
           314
          ],
          [
           319
          ],
          [
           323
          ],
          [
           327
          ],
          [
           329
          ],
          [
           331
          ],
          [
           332
          ],
          [
           333
          ],
          [
           345
          ],
          [
           348
          ],
          [
           351
          ],
          [
           352
          ],
          [
           355
          ],
          [
           358
          ],
          [
           359
          ],
          [
           361
          ],
          [
           364
          ],
          [
           370
          ],
          [
           376
          ],
          [
           377
          ],
          [
           379
          ],
          [
           381
          ],
          [
           382
          ],
          [
           383
          ],
          [
           393
          ],
          [
           396
          ],
          [
           406
          ],
          [
           412
          ],
          [
           415
          ],
          [
           419
          ],
          [
           429
          ],
          [
           435
          ],
          [
           437
          ],
          [
           438
          ],
          [
           440
          ],
          [
           442
          ],
          [
           444
          ],
          [
           445
          ],
          [
           446
          ],
          [
           447
          ],
          [
           450
          ],
          [
           455
          ],
          [
           459
          ],
          [
           462
          ],
          [
           463
          ],
          [
           464
          ],
          [
           465
          ],
          [
           466
          ],
          [
           469
          ],
          [
           470
          ],
          [
           480
          ],
          [
           481
          ],
          [
           482
          ],
          [
           486
          ],
          [
           492
          ],
          [
           497
          ],
          [
           501
          ],
          [
           503
          ],
          [
           504
          ],
          [
           505
          ],
          [
           506
          ],
          [
           509
          ],
          [
           517
          ],
          [
           520
          ],
          [
           523
          ],
          [
           530
          ],
          [
           542
          ],
          [
           553
          ],
          [
           567
          ],
          [
           572
          ],
          [
           576
          ],
          [
           589
          ],
          [
           591
          ],
          [
           594
          ],
          [
           599
          ],
          [
           601
          ],
          [
           602
          ],
          [
           608
          ],
          [
           610
          ],
          [
           611
          ],
          [
           614
          ],
          [
           635
          ],
          [
           637
          ],
          [
           639
          ],
          [
           643
          ],
          [
           646
          ],
          [
           661
          ],
          [
           665
          ],
          [
           666
          ],
          [
           699
          ],
          [
           700
          ],
          [
           701
          ],
          [
           704
          ],
          [
           705
          ],
          [
           708
          ],
          [
           713
          ],
          [
           718
          ],
          [
           723
          ],
          [
           724
          ],
          [
           726
          ],
          [
           727
          ],
          [
           730
          ],
          [
           733
          ],
          [
           735
          ],
          [
           738
          ],
          [
           740
          ],
          [
           745
          ],
          [
           749
          ],
          [
           751
          ],
          [
           752
          ],
          [
           755
          ],
          [
           766
          ],
          [
           768
          ],
          [
           771
          ],
          [
           773
          ],
          [
           774
          ],
          [
           780
          ],
          [
           786
          ],
          [
           787
          ],
          [
           789
          ],
          [
           794
          ],
          [
           797
          ],
          [
           798
          ],
          [
           802
          ],
          [
           807
          ],
          [
           809
          ],
          [
           812
          ],
          [
           814
          ],
          [
           816
          ],
          [
           818
          ],
          [
           820
          ],
          [
           823
          ],
          [
           829
          ],
          [
           835
          ],
          [
           837
          ],
          [
           839
          ],
          [
           846
          ],
          [
           855
          ],
          [
           858
          ],
          [
           866
          ],
          [
           869
          ],
          [
           878
          ],
          [
           881
          ],
          [
           889
          ],
          [
           891
          ],
          [
           897
          ],
          [
           902
          ],
          [
           904
          ],
          [
           910
          ],
          [
           913
          ],
          [
           920
          ],
          [
           922
          ],
          [
           932
          ],
          [
           935
          ],
          [
           936
          ],
          [
           941
          ],
          [
           945
          ],
          [
           947
          ],
          [
           951
          ],
          [
           954
          ],
          [
           957
          ],
          [
           959
          ],
          [
           960
          ],
          [
           962
          ],
          [
           965
          ],
          [
           969
          ],
          [
           973
          ],
          [
           975
          ],
          [
           976
          ],
          [
           980
          ],
          [
           982
          ],
          [
           985
          ],
          [
           987
          ],
          [
           989
          ],
          [
           993
          ],
          [
           1006
          ],
          [
           1018
          ],
          [
           1019
          ],
          [
           1020
          ],
          [
           1021
          ],
          [
           1025
          ],
          [
           1026
          ],
          [
           1030
          ],
          [
           1034
          ],
          [
           1035
          ],
          [
           1036
          ],
          [
           1037
          ],
          [
           1038
          ],
          [
           1052
          ],
          [
           1062
          ],
          [
           1064
          ],
          [
           1073
          ],
          [
           1077
          ],
          [
           1079
          ],
          [
           1080
          ],
          [
           1083
          ],
          [
           1085
          ],
          [
           1086
          ],
          [
           1092
          ],
          [
           1093
          ],
          [
           1095
          ],
          [
           1096
          ],
          [
           1105
          ],
          [
           1106
          ],
          [
           1108
          ],
          [
           1109
          ],
          [
           1117
          ],
          [
           1133
          ],
          [
           1146
          ],
          [
           1148
          ],
          [
           1150
          ],
          [
           1162
          ],
          [
           1164
          ],
          [
           1165
          ],
          [
           1175
          ],
          [
           1180
          ],
          [
           1181
          ],
          [
           1185
          ],
          [
           1192
          ],
          [
           1195
          ],
          [
           1199
          ],
          [
           1203
          ],
          [
           1207
          ],
          [
           1208
          ],
          [
           1212
          ],
          [
           1220
          ],
          [
           1230
          ],
          [
           1232
          ],
          [
           1233
          ],
          [
           1234
          ],
          [
           1236
          ],
          [
           1240
          ],
          [
           1241
          ],
          [
           1242
          ],
          [
           1244
          ],
          [
           1248
          ],
          [
           1261
          ],
          [
           1267
          ],
          [
           1271
          ],
          [
           1274
          ],
          [
           1275
          ],
          [
           1277
          ],
          [
           1281
          ],
          [
           1284
          ],
          [
           1285
          ],
          [
           1293
          ],
          [
           1302
          ],
          [
           1303
          ],
          [
           1305
          ],
          [
           1310
          ],
          [
           1312
          ],
          [
           1317
          ],
          [
           1319
          ],
          [
           1323
          ],
          [
           1324
          ],
          [
           1327
          ],
          [
           1332
          ],
          [
           1334
          ],
          [
           1336
          ],
          [
           1337
          ],
          [
           1350
          ],
          [
           1352
          ],
          [
           1353
          ],
          [
           1363
          ],
          [
           1365
          ],
          [
           1366
          ],
          [
           1367
          ],
          [
           1369
          ],
          [
           1373
          ],
          [
           1378
          ],
          [
           1381
          ],
          [
           1392
          ],
          [
           1396
          ],
          [
           1403
          ],
          [
           1404
          ],
          [
           1406
          ],
          [
           1408
          ],
          [
           1409
          ],
          [
           1411
          ],
          [
           1413
          ],
          [
           1414
          ],
          [
           1417
          ],
          [
           1421
          ],
          [
           1422
          ],
          [
           1431
          ],
          [
           1435
          ],
          [
           1440
          ],
          [
           1444
          ],
          [
           1447
          ],
          [
           1450
          ],
          [
           1452
          ],
          [
           1453
          ],
          [
           1456
          ],
          [
           1457
          ],
          [
           1466
          ],
          [
           1472
          ],
          [
           1473
          ],
          [
           1478
          ],
          [
           1481
          ],
          [
           1489
          ],
          [
           1490
          ],
          [
           1499
          ],
          [
           1500
          ],
          [
           1502
          ],
          [
           1503
          ],
          [
           1511
          ],
          [
           1515
          ],
          [
           1516
          ],
          [
           1527
          ],
          [
           1538
          ],
          [
           1539
          ],
          [
           1544
          ],
          [
           1545
          ],
          [
           1546
          ],
          [
           1550
          ],
          [
           1558
          ],
          [
           1562
          ],
          [
           1567
          ],
          [
           1568
          ],
          [
           1573
          ],
          [
           1575
          ],
          [
           1582
          ],
          [
           1585
          ],
          [
           1587
          ],
          [
           1588
          ],
          [
           1593
          ],
          [
           1602
          ],
          [
           1608
          ],
          [
           1609
          ],
          [
           1622
          ],
          [
           1624
          ],
          [
           1627
          ],
          [
           1628
          ],
          [
           1631
          ],
          [
           1633
          ],
          [
           1637
          ],
          [
           1642
          ],
          [
           1644
          ],
          [
           1649
          ],
          [
           1656
          ],
          [
           1658
          ],
          [
           1666
          ],
          [
           1668
          ],
          [
           1670
          ],
          [
           1677
          ],
          [
           1681
          ],
          [
           1684
          ],
          [
           1690
          ],
          [
           1696
          ],
          [
           1700
          ],
          [
           1704
          ],
          [
           1712
          ],
          [
           1715
          ],
          [
           1718
          ],
          [
           1722
          ],
          [
           1724
          ],
          [
           1732
          ],
          [
           1740
          ],
          [
           1741
          ],
          [
           1748
          ],
          [
           1749
          ],
          [
           1752
          ],
          [
           1754
          ]
         ],
         "hovertemplate": "Segment=Champion<br>Recency=%{x}<br>Monetary=%{y}<br>Frequency=%{marker.size}<br>owner_id=%{customdata[0]}<extra></extra>",
         "legendgroup": "Champion",
         "marker": {
          "color": "#EF553B",
          "size": [
           7,
           5,
           5,
           6,
           5,
           9,
           7,
           4,
           5,
           7,
           7,
           10,
           4,
           6,
           4,
           4,
           5,
           5,
           7,
           5,
           12,
           5,
           4,
           5,
           6,
           4,
           4,
           5,
           5,
           5,
           5,
           4,
           6,
           5,
           9,
           4,
           7,
           5,
           5,
           8,
           4,
           6,
           6,
           4,
           11,
           4,
           4,
           4,
           5,
           5,
           7,
           4,
           5,
           5,
           4,
           6,
           5,
           7,
           3,
           4,
           6,
           4,
           4,
           5,
           9,
           7,
           10,
           5,
           5,
           3,
           3,
           4,
           5,
           6,
           4,
           5,
           7,
           5,
           4,
           5,
           6,
           3,
           3,
           6,
           5,
           5,
           7,
           7,
           6,
           3,
           5,
           5,
           8,
           6,
           6,
           4,
           9,
           6,
           5,
           8,
           4,
           4,
           3,
           5,
           4,
           7,
           9,
           8,
           4,
           4,
           5,
           5,
           8,
           5,
           7,
           6,
           4,
           5,
           3,
           8,
           3,
           4,
           3,
           6,
           4,
           5,
           7,
           5,
           9,
           5,
           6,
           8,
           3,
           6,
           12,
           4,
           7,
           5,
           6,
           5,
           8,
           4,
           5,
           7,
           3,
           7,
           3,
           4,
           5,
           6,
           3,
           4,
           4,
           9,
           3,
           6,
           4,
           8,
           4,
           5,
           3,
           3,
           4,
           4,
           3,
           6,
           3,
           4,
           4,
           4,
           4,
           8,
           5,
           4,
           3,
           4,
           6,
           6,
           3,
           4,
           5,
           4,
           6,
           9,
           6,
           4,
           7,
           4,
           4,
           7,
           9,
           5,
           7,
           3,
           5,
           3,
           9,
           3,
           4,
           4,
           4,
           7,
           7,
           5,
           4,
           3,
           5,
           6,
           4,
           4,
           4,
           4,
           3,
           8,
           10,
           3,
           3,
           8,
           5,
           5,
           4,
           4,
           5,
           6,
           3,
           3,
           8,
           5,
           7,
           3,
           8,
           7,
           5,
           3,
           3,
           4,
           5,
           3,
           5,
           5,
           6,
           4,
           4,
           7,
           8,
           4,
           7,
           9,
           4,
           4,
           3,
           4,
           6,
           9,
           6,
           6,
           5,
           6,
           3,
           6,
           8,
           3,
           5,
           4,
           4,
           7,
           6,
           6,
           4,
           11,
           3,
           6,
           5,
           3,
           6,
           3,
           3,
           12,
           5,
           7,
           5,
           4,
           5,
           7,
           7,
           3,
           4,
           4,
           4,
           6,
           9,
           4,
           4,
           7,
           3,
           5,
           4,
           4,
           7,
           4,
           6,
           7,
           6,
           6,
           6,
           3,
           3,
           4,
           4,
           5,
           10,
           5,
           3,
           5,
           6,
           5,
           4,
           3,
           6,
           3,
           8,
           3,
           7,
           5,
           4,
           3,
           4,
           7,
           4,
           5,
           4,
           7,
           3,
           3,
           3,
           7,
           5,
           5,
           6,
           3,
           3,
           5,
           6,
           4,
           7,
           5,
           5,
           3,
           5,
           6,
           6,
           4,
           6,
           4,
           10,
           5,
           4,
           12,
           8,
           4,
           6,
           6,
           4,
           7,
           7,
           6,
           4,
           3,
           7,
           5,
           3,
           4,
           4,
           5,
           5,
           3,
           7,
           5,
           3,
           5,
           6,
           6,
           4,
           5,
           4,
           6,
           12,
           6,
           5,
           4,
           4,
           3,
           6,
           4,
           7,
           5,
           4,
           3,
           8,
           3,
           4,
           7,
           7,
           4,
           4,
           6,
           4,
           8,
           5,
           4,
           5,
           4,
           4,
           9,
           4,
           4,
           7,
           3,
           4,
           8,
           8,
           5,
           3,
           6,
           5,
           11,
           7,
           5,
           4,
           7,
           5,
           4,
           6,
           6,
           9,
           5,
           6
          ],
          "sizemode": "area",
          "sizeref": 0.03,
          "symbol": "circle"
         },
         "mode": "markers",
         "name": "Champion",
         "showlegend": true,
         "type": "scattergl",
         "x": [
          1,
          1,
          1,
          1,
          1,
          1,
          1,
          1,
          1,
          1,
          1,
          1,
          1,
          1,
          1,
          1,
          1,
          1,
          1,
          1,
          1,
          20,
          1,
          1,
          1,
          1,
          1,
          1,
          15,
          5,
          1,
          1,
          1,
          1,
          1,
          1,
          1,
          1,
          1,
          1,
          14,
          1,
          1,
          1,
          1,
          1,
          19,
          1,
          1,
          1,
          1,
          1,
          1,
          1,
          1,
          1,
          1,
          1,
          1,
          1,
          1,
          1,
          1,
          1,
          1,
          1,
          1,
          1,
          1,
          24,
          1,
          1,
          1,
          1,
          1,
          1,
          1,
          1,
          1,
          1,
          1,
          1,
          3,
          1,
          1,
          1,
          1,
          1,
          1,
          14,
          1,
          1,
          1,
          1,
          1,
          1,
          1,
          1,
          4,
          1,
          1,
          1,
          1,
          1,
          1,
          1,
          1,
          1,
          1,
          1,
          1,
          1,
          1,
          1,
          1,
          1,
          1,
          21,
          15,
          1,
          1,
          1,
          9,
          1,
          1,
          1,
          1,
          1,
          1,
          1,
          1,
          1,
          1,
          1,
          1,
          2,
          1,
          1,
          1,
          1,
          1,
          1,
          1,
          1,
          1,
          1,
          1,
          1,
          1,
          1,
          14,
          1,
          1,
          1,
          13,
          1,
          1,
          1,
          1,
          1,
          1,
          1,
          1,
          3,
          1,
          1,
          1,
          1,
          1,
          1,
          1,
          1,
          7,
          1,
          1,
          1,
          1,
          1,
          1,
          1,
          1,
          1,
          1,
          1,
          1,
          1,
          1,
          1,
          1,
          1,
          1,
          1,
          1,
          27,
          1,
          1,
          1,
          1,
          1,
          1,
          1,
          1,
          1,
          1,
          1,
          1,
          1,
          1,
          1,
          1,
          1,
          1,
          1,
          1,
          1,
          1,
          1,
          1,
          1,
          1,
          1,
          1,
          1,
          1,
          1,
          1,
          1,
          1,
          1,
          1,
          1,
          1,
          1,
          1,
          1,
          1,
          1,
          9,
          1,
          1,
          1,
          11,
          24,
          1,
          1,
          1,
          1,
          1,
          1,
          1,
          1,
          1,
          1,
          1,
          1,
          1,
          1,
          1,
          1,
          1,
          1,
          22,
          1,
          1,
          1,
          1,
          23,
          1,
          1,
          1,
          1,
          1,
          1,
          1,
          1,
          1,
          1,
          1,
          1,
          1,
          1,
          1,
          1,
          1,
          1,
          1,
          1,
          1,
          1,
          1,
          1,
          1,
          1,
          1,
          1,
          1,
          1,
          1,
          1,
          8,
          1,
          1,
          1,
          1,
          1,
          20,
          20,
          1,
          1,
          1,
          1,
          1,
          1,
          1,
          1,
          1,
          1,
          4,
          1,
          1,
          1,
          1,
          1,
          1,
          1,
          1,
          1,
          4,
          1,
          1,
          1,
          1,
          1,
          1,
          27,
          1,
          1,
          1,
          1,
          25,
          1,
          1,
          1,
          1,
          1,
          1,
          1,
          1,
          1,
          1,
          1,
          1,
          1,
          1,
          1,
          1,
          1,
          1,
          1,
          1,
          1,
          1,
          1,
          1,
          1,
          1,
          1,
          1,
          1,
          1,
          1,
          1,
          1,
          1,
          1,
          1,
          1,
          1,
          19,
          1,
          1,
          1,
          5,
          1,
          1,
          1,
          1,
          1,
          1,
          1,
          15,
          1,
          1,
          1,
          1,
          1,
          3,
          1,
          1,
          13,
          1,
          1,
          1,
          1,
          1,
          1,
          1,
          1,
          1,
          1,
          1,
          1,
          1,
          1,
          1,
          27,
          1,
          1,
          16,
          1,
          1,
          1,
          1,
          1,
          1,
          1,
          1,
          1,
          1,
          1,
          1,
          1,
          1,
          1,
          1,
          1,
          1
         ],
         "xaxis": "x",
         "y": [
          68636.26000000001,
          43235.5,
          35796.119999999995,
          28257.36,
          59861.45,
          49999.53,
          31056,
          116454.51,
          32844.509999999995,
          54384.229999999996,
          66778.5,
          106294,
          69489.22,
          120376.23999999999,
          40598,
          62495.92,
          23460.5,
          105175.45999999999,
          57916.5,
          41517.97,
          92171,
          22753.59,
          42047.130000000005,
          118124.77,
          62009.270000000004,
          61155.79,
          91956.49,
          23681.93,
          129240.27,
          26030.09,
          36880.99,
          34476.31,
          63005.9,
          67676.62,
          102400.55,
          31790.62,
          35462.85,
          86895.32999999999,
          41029.33,
          34601.96,
          98177.09999999999,
          126751.87,
          53370.15,
          144287.46,
          75841.64,
          40698.21,
          43136.96,
          46670.05,
          22907.15,
          106443.09,
          73144.09,
          28033.3,
          31030.6,
          43640.93,
          23140.12,
          79933.58,
          70555,
          56948.04,
          55725.45,
          76338,
          66928.35,
          36651.5,
          110889.35,
          76158.99,
          46622.41,
          65271.43,
          73009.37,
          146629.81,
          31597.71,
          78742.13,
          24519,
          44980.74,
          26365.37,
          47669,
          24476.48,
          33432.47,
          47181.42,
          104772.87,
          31840.5,
          33072.89,
          84192.54,
          72354.95,
          53025.54,
          34332.81,
          57906,
          42281.71,
          108479.84,
          42681.51,
          43835.24,
          62018,
          38954,
          27221.120000000003,
          67888.39,
          51600.81,
          90094.72,
          35507.14,
          79086.24,
          30045.120000000003,
          68235.87,
          35663.05,
          25583.670000000002,
          63102.06,
          25662,
          64232.83,
          31564.23,
          65713,
          138924.09,
          54574,
          57243.47,
          31919,
          64181.94,
          26834,
          48572.84,
          22876,
          28388,
          55688.5,
          34550.82,
          31350.149999999998,
          58443,
          58926.76,
          48694.9,
          56417,
          27923.8,
          114018.16,
          29358.059999999998,
          31477.78,
          63343.26,
          127512.78,
          103535.53,
          39266.5,
          36230.770000000004,
          106396.25,
          77735.04000000001,
          85204.79000000001,
          199360.76,
          63354.479999999996,
          36199.97,
          80059.14,
          59675.57,
          89993.62,
          77447.06,
          75721.4,
          49920,
          47131,
          54937,
          100346.79999999999,
          36565,
          32996.44,
          30853.5,
          53672,
          26865.57,
          36524.39,
          78690.63,
          40995.43,
          101161.83,
          46726,
          35377.23,
          78520,
          47924.44,
          27310.66,
          56819,
          26178,
          31379.76,
          79610.4,
          50022.17,
          33700.9,
          32550,
          82908.70999999999,
          32278.76,
          51712.770000000004,
          36691.729999999996,
          59562.5,
          29600.5,
          49890.729999999996,
          25754.39,
          40837.95,
          87444.25,
          51440.2,
          30261.53,
          30342.34,
          48621.72,
          31373.92,
          53707.73,
          138814.03,
          36473.95,
          36246.24,
          124430.76,
          47180.4,
          61126.04,
          38751.840000000004,
          55932,
          43314.1,
          41930.91,
          75202.06,
          56835.5,
          60176,
          114852.70999999999,
          39391,
          44482.22,
          62377.59,
          61748.14,
          58056.28,
          87569,
          97368,
          76111.93,
          25574,
          51714.28,
          110454.54999999999,
          44788.43,
          78390.12,
          64492.65,
          33564.729999999996,
          26109,
          31594,
          49979.65,
          24131.47,
          90527.23000000001,
          32113.04,
          97236.32,
          47328.76,
          30690.85,
          86032.19,
          33933.15,
          117456.69,
          34822,
          38828,
          42684.5,
          96480.51999999999,
          107319.01000000001,
          57364.94,
          93205.82,
          23273,
          41755.5,
          37508.65,
          26866.5,
          48806.020000000004,
          67785.5,
          23139.38,
          38297.5,
          73369.95,
          44413,
          24608.6,
          53984.119999999995,
          55309.97,
          118809,
          67323.78,
          52721.91,
          108087.15,
          60020.5,
          51113.979999999996,
          44038,
          46347.91,
          27474.5,
          92687.1,
          92396.5,
          27351.690000000002,
          60378.729999999996,
          33529.5,
          72969,
          41897.5,
          145336.32,
          81400,
          81697.67,
          83509.8,
          29869.04,
          87403.77,
          25791,
          38971.79,
          36200.54,
          128192.42,
          79359.91,
          44519.8,
          41269.48,
          41780,
          27573.08,
          25223,
          40233.65,
          81118.67,
          27175.87,
          56501.33,
          33414.29,
          58814.6,
          61829.979999999996,
          60241.560000000005,
          99828.05,
          26107.5,
          86078,
          28142.98,
          35921.93,
          48184.95,
          117421.76999999999,
          27599.989999999998,
          31506.05,
          30279.08,
          33912.32,
          73018.61,
          33067.97,
          27848.11,
          117129.45,
          41721.74,
          32650.85,
          38644.16,
          53290.72,
          44013.270000000004,
          46867.5,
          29745.690000000002,
          26447.260000000002,
          25128.61,
          39448.5,
          124349.45,
          84594.78,
          24075.7,
          34038.44,
          79633.03,
          32108.43,
          57845.07,
          47166.9,
          55901.32,
          58490.25,
          40755.5,
          34950.770000000004,
          25734,
          75803.38,
          37698.25,
          62739.44,
          43216.96,
          38211.61,
          64037.91,
          56655.09,
          25808.77,
          28146.19,
          44308,
          73810.5,
          62057,
          51614.72,
          88498,
          105474.05,
          26618.67,
          155478.97,
          27773.609999999997,
          47174.43,
          69739.59,
          29791,
          55410.41,
          55866.46,
          25377.25,
          30797.39,
          60134.5,
          75069.13,
          58368.8,
          29657.91,
          29391.68,
          101292.06999999999,
          71942.95999999999,
          242332.38,
          26940.37,
          39410.229999999996,
          70188.31,
          43720.47,
          42880.94,
          83189.35,
          45560.880000000005,
          47628.12,
          64887.6,
          115737.45999999999,
          118441.67000000001,
          23925,
          29113,
          52017.63,
          55280,
          25007,
          24544.05,
          24196.5,
          30278.15,
          33446.43,
          29631,
          53670.82,
          44380.24,
          82068.37,
          119227.58,
          29727.59,
          30033.09,
          74203.08,
          76795.2,
          42943,
          50104.01,
          50115.490000000005,
          36842.19,
          42721.2,
          48528.88,
          57978.79,
          35638,
          43679,
          35409.74,
          26954.28,
          59310.85,
          88573.84,
          27970,
          54623,
          79294.17,
          29879.86,
          67280.75,
          26336,
          24608.5,
          104568.59,
          41570.09,
          22812.22,
          39500.56,
          44365.619999999995,
          32198,
          28227.93,
          29223.82,
          27661.53,
          83215.94,
          35484.81,
          30168.89,
          48110.56,
          25757.5,
          44287.66,
          45628.25,
          34853.85,
          68625.05,
          71708,
          66039.59,
          69901.89,
          45962.5,
          75309.49,
          32447.5,
          48374,
          67623.95,
          28546.02,
          27044.83,
          38798.5,
          60098.56,
          104979,
          29161.37,
          52416
         ],
         "yaxis": "y"
        },
        {
         "customdata": [
          [
           5
          ],
          [
           11
          ],
          [
           13
          ],
          [
           14
          ],
          [
           19
          ],
          [
           20
          ],
          [
           30
          ],
          [
           31
          ],
          [
           32
          ],
          [
           35
          ],
          [
           36
          ],
          [
           44
          ],
          [
           50
          ],
          [
           52
          ],
          [
           53
          ],
          [
           55
          ],
          [
           58
          ],
          [
           61
          ],
          [
           62
          ],
          [
           63
          ],
          [
           70
          ],
          [
           77
          ],
          [
           81
          ],
          [
           86
          ],
          [
           89
          ],
          [
           96
          ],
          [
           101
          ],
          [
           102
          ],
          [
           103
          ],
          [
           104
          ],
          [
           108
          ],
          [
           109
          ],
          [
           123
          ],
          [
           125
          ],
          [
           126
          ],
          [
           128
          ],
          [
           129
          ],
          [
           130
          ],
          [
           143
          ],
          [
           144
          ],
          [
           146
          ],
          [
           149
          ],
          [
           155
          ],
          [
           165
          ],
          [
           171
          ],
          [
           172
          ],
          [
           179
          ],
          [
           180
          ],
          [
           183
          ],
          [
           190
          ],
          [
           191
          ],
          [
           194
          ],
          [
           198
          ],
          [
           205
          ],
          [
           219
          ],
          [
           220
          ],
          [
           232
          ],
          [
           235
          ],
          [
           240
          ],
          [
           246
          ],
          [
           248
          ],
          [
           253
          ],
          [
           256
          ],
          [
           257
          ],
          [
           261
          ],
          [
           271
          ],
          [
           274
          ],
          [
           277
          ],
          [
           278
          ],
          [
           279
          ],
          [
           280
          ],
          [
           283
          ],
          [
           287
          ],
          [
           290
          ],
          [
           291
          ],
          [
           299
          ],
          [
           300
          ],
          [
           302
          ],
          [
           303
          ],
          [
           307
          ],
          [
           308
          ],
          [
           318
          ],
          [
           325
          ],
          [
           330
          ],
          [
           334
          ],
          [
           341
          ],
          [
           342
          ],
          [
           344
          ],
          [
           353
          ],
          [
           357
          ],
          [
           363
          ],
          [
           366
          ],
          [
           367
          ],
          [
           368
          ],
          [
           372
          ],
          [
           380
          ],
          [
           387
          ],
          [
           398
          ],
          [
           399
          ],
          [
           400
          ],
          [
           401
          ],
          [
           404
          ],
          [
           408
          ],
          [
           409
          ],
          [
           420
          ],
          [
           422
          ],
          [
           425
          ],
          [
           430
          ],
          [
           431
          ],
          [
           433
          ],
          [
           452
          ],
          [
           453
          ],
          [
           454
          ],
          [
           456
          ],
          [
           461
          ],
          [
           468
          ],
          [
           473
          ],
          [
           477
          ],
          [
           479
          ],
          [
           490
          ],
          [
           493
          ],
          [
           495
          ],
          [
           499
          ],
          [
           508
          ],
          [
           510
          ],
          [
           511
          ],
          [
           513
          ],
          [
           516
          ],
          [
           519
          ],
          [
           526
          ],
          [
           527
          ],
          [
           528
          ],
          [
           535
          ],
          [
           536
          ],
          [
           550
          ],
          [
           552
          ],
          [
           555
          ],
          [
           557
          ],
          [
           558
          ],
          [
           563
          ],
          [
           564
          ],
          [
           573
          ],
          [
           579
          ],
          [
           580
          ],
          [
           581
          ],
          [
           586
          ],
          [
           588
          ],
          [
           603
          ],
          [
           604
          ],
          [
           605
          ],
          [
           617
          ],
          [
           619
          ],
          [
           620
          ],
          [
           621
          ],
          [
           622
          ],
          [
           625
          ],
          [
           630
          ],
          [
           632
          ],
          [
           636
          ],
          [
           649
          ],
          [
           650
          ],
          [
           651
          ],
          [
           654
          ],
          [
           658
          ],
          [
           660
          ],
          [
           667
          ],
          [
           670
          ],
          [
           674
          ],
          [
           679
          ],
          [
           692
          ],
          [
           696
          ],
          [
           703
          ],
          [
           706
          ],
          [
           709
          ],
          [
           711
          ],
          [
           720
          ],
          [
           729
          ],
          [
           731
          ],
          [
           744
          ],
          [
           747
          ],
          [
           758
          ],
          [
           761
          ],
          [
           765
          ],
          [
           770
          ],
          [
           781
          ],
          [
           782
          ],
          [
           791
          ],
          [
           792
          ],
          [
           800
          ],
          [
           801
          ],
          [
           803
          ],
          [
           804
          ],
          [
           810
          ],
          [
           813
          ],
          [
           815
          ],
          [
           817
          ],
          [
           819
          ],
          [
           824
          ],
          [
           834
          ],
          [
           838
          ],
          [
           842
          ],
          [
           844
          ],
          [
           848
          ],
          [
           850
          ],
          [
           852
          ],
          [
           853
          ],
          [
           854
          ],
          [
           864
          ],
          [
           870
          ],
          [
           872
          ],
          [
           873
          ],
          [
           883
          ],
          [
           885
          ],
          [
           888
          ],
          [
           890
          ],
          [
           893
          ],
          [
           894
          ],
          [
           900
          ],
          [
           905
          ],
          [
           909
          ],
          [
           916
          ],
          [
           918
          ],
          [
           925
          ],
          [
           928
          ],
          [
           931
          ],
          [
           944
          ],
          [
           946
          ],
          [
           963
          ],
          [
           964
          ],
          [
           966
          ],
          [
           968
          ],
          [
           970
          ],
          [
           977
          ],
          [
           978
          ],
          [
           979
          ],
          [
           991
          ],
          [
           992
          ],
          [
           994
          ],
          [
           997
          ],
          [
           998
          ],
          [
           1001
          ],
          [
           1002
          ],
          [
           1004
          ],
          [
           1007
          ],
          [
           1008
          ],
          [
           1011
          ],
          [
           1013
          ],
          [
           1014
          ],
          [
           1015
          ],
          [
           1016
          ],
          [
           1017
          ],
          [
           1022
          ],
          [
           1032
          ],
          [
           1039
          ],
          [
           1041
          ],
          [
           1042
          ],
          [
           1044
          ],
          [
           1046
          ],
          [
           1050
          ],
          [
           1051
          ],
          [
           1053
          ],
          [
           1054
          ],
          [
           1058
          ],
          [
           1060
          ],
          [
           1061
          ],
          [
           1065
          ],
          [
           1068
          ],
          [
           1069
          ],
          [
           1070
          ],
          [
           1072
          ],
          [
           1076
          ],
          [
           1084
          ],
          [
           1088
          ],
          [
           1089
          ],
          [
           1090
          ],
          [
           1098
          ],
          [
           1101
          ],
          [
           1104
          ],
          [
           1110
          ],
          [
           1115
          ],
          [
           1118
          ],
          [
           1124
          ],
          [
           1126
          ],
          [
           1131
          ],
          [
           1135
          ],
          [
           1139
          ],
          [
           1143
          ],
          [
           1144
          ],
          [
           1145
          ],
          [
           1147
          ],
          [
           1152
          ],
          [
           1154
          ],
          [
           1156
          ],
          [
           1158
          ],
          [
           1160
          ],
          [
           1161
          ],
          [
           1174
          ],
          [
           1176
          ],
          [
           1177
          ],
          [
           1178
          ],
          [
           1179
          ],
          [
           1186
          ],
          [
           1188
          ],
          [
           1189
          ],
          [
           1190
          ],
          [
           1191
          ],
          [
           1193
          ],
          [
           1194
          ],
          [
           1197
          ],
          [
           1198
          ],
          [
           1202
          ],
          [
           1205
          ],
          [
           1210
          ],
          [
           1211
          ],
          [
           1215
          ],
          [
           1217
          ],
          [
           1219
          ],
          [
           1223
          ],
          [
           1224
          ],
          [
           1235
          ],
          [
           1237
          ],
          [
           1239
          ],
          [
           1251
          ],
          [
           1253
          ],
          [
           1255
          ],
          [
           1256
          ],
          [
           1265
          ],
          [
           1266
          ],
          [
           1270
          ],
          [
           1279
          ],
          [
           1282
          ],
          [
           1287
          ],
          [
           1290
          ],
          [
           1291
          ],
          [
           1292
          ],
          [
           1295
          ],
          [
           1301
          ],
          [
           1307
          ],
          [
           1309
          ],
          [
           1311
          ],
          [
           1313
          ],
          [
           1314
          ],
          [
           1321
          ],
          [
           1322
          ],
          [
           1330
          ],
          [
           1339
          ],
          [
           1342
          ],
          [
           1343
          ],
          [
           1344
          ],
          [
           1346
          ],
          [
           1347
          ],
          [
           1349
          ],
          [
           1354
          ],
          [
           1355
          ],
          [
           1358
          ],
          [
           1360
          ],
          [
           1361
          ],
          [
           1368
          ],
          [
           1371
          ],
          [
           1376
          ],
          [
           1379
          ],
          [
           1380
          ],
          [
           1383
          ],
          [
           1384
          ],
          [
           1385
          ],
          [
           1387
          ],
          [
           1388
          ],
          [
           1389
          ],
          [
           1390
          ],
          [
           1394
          ],
          [
           1395
          ],
          [
           1397
          ],
          [
           1398
          ],
          [
           1407
          ],
          [
           1419
          ],
          [
           1424
          ],
          [
           1426
          ],
          [
           1434
          ],
          [
           1436
          ],
          [
           1438
          ],
          [
           1446
          ],
          [
           1449
          ],
          [
           1458
          ],
          [
           1459
          ],
          [
           1463
          ],
          [
           1468
          ],
          [
           1483
          ],
          [
           1485
          ],
          [
           1487
          ],
          [
           1491
          ],
          [
           1492
          ],
          [
           1497
          ],
          [
           1501
          ],
          [
           1504
          ],
          [
           1508
          ],
          [
           1512
          ],
          [
           1513
          ],
          [
           1517
          ],
          [
           1520
          ],
          [
           1522
          ],
          [
           1529
          ],
          [
           1532
          ],
          [
           1543
          ],
          [
           1549
          ],
          [
           1551
          ],
          [
           1552
          ],
          [
           1556
          ],
          [
           1560
          ],
          [
           1561
          ],
          [
           1572
          ],
          [
           1589
          ],
          [
           1590
          ],
          [
           1594
          ],
          [
           1595
          ],
          [
           1599
          ],
          [
           1603
          ],
          [
           1605
          ],
          [
           1611
          ],
          [
           1614
          ],
          [
           1617
          ],
          [
           1620
          ],
          [
           1630
          ],
          [
           1634
          ],
          [
           1636
          ],
          [
           1639
          ],
          [
           1641
          ],
          [
           1650
          ],
          [
           1651
          ],
          [
           1654
          ],
          [
           1655
          ],
          [
           1663
          ],
          [
           1672
          ],
          [
           1673
          ],
          [
           1676
          ],
          [
           1679
          ],
          [
           1694
          ],
          [
           1697
          ],
          [
           1703
          ],
          [
           1706
          ],
          [
           1707
          ],
          [
           1710
          ],
          [
           1720
          ],
          [
           1723
          ],
          [
           1730
          ],
          [
           1737
          ],
          [
           1743
          ],
          [
           1755
          ]
         ],
         "hovertemplate": "Segment=Dormant Owner<br>Recency=%{x}<br>Monetary=%{y}<br>Frequency=%{marker.size}<br>owner_id=%{customdata[0]}<extra></extra>",
         "legendgroup": "Dormant Owner",
         "marker": {
          "color": "#00cc96",
          "size": [
           1,
           1,
           1,
           3,
           1,
           3,
           1,
           3,
           1,
           4,
           1,
           1,
           1,
           1,
           1,
           2,
           1,
           1,
           1,
           2,
           1,
           1,
           2,
           1,
           1,
           2,
           1,
           1,
           1,
           4,
           1,
           1,
           1,
           1,
           2,
           2,
           1,
           2,
           1,
           1,
           1,
           1,
           1,
           3,
           1,
           1,
           2,
           1,
           1,
           1,
           1,
           2,
           1,
           3,
           4,
           1,
           1,
           4,
           2,
           1,
           3,
           1,
           1,
           1,
           2,
           3,
           1,
           1,
           1,
           2,
           2,
           1,
           1,
           1,
           1,
           1,
           2,
           1,
           3,
           1,
           3,
           1,
           1,
           1,
           1,
           1,
           1,
           1,
           1,
           2,
           1,
           2,
           1,
           1,
           1,
           3,
           1,
           1,
           1,
           1,
           1,
           3,
           1,
           1,
           1,
           2,
           1,
           1,
           1,
           1,
           1,
           1,
           2,
           3,
           3,
           1,
           1,
           3,
           2,
           2,
           1,
           1,
           1,
           2,
           1,
           1,
           3,
           1,
           2,
           2,
           1,
           1,
           1,
           1,
           1,
           3,
           2,
           1,
           2,
           1,
           3,
           1,
           3,
           1,
           3,
           1,
           1,
           1,
           1,
           1,
           1,
           2,
           1,
           1,
           2,
           1,
           1,
           2,
           1,
           1,
           1,
           2,
           1,
           2,
           1,
           3,
           1,
           2,
           1,
           1,
           2,
           1,
           2,
           1,
           1,
           1,
           1,
           1,
           2,
           2,
           1,
           3,
           1,
           1,
           1,
           1,
           1,
           1,
           4,
           1,
           1,
           1,
           1,
           1,
           1,
           1,
           1,
           2,
           1,
           2,
           1,
           2,
           1,
           1,
           1,
           2,
           1,
           4,
           2,
           2,
           1,
           1,
           1,
           1,
           2,
           1,
           1,
           1,
           2,
           1,
           1,
           1,
           4,
           1,
           2,
           1,
           1,
           1,
           1,
           2,
           3,
           1,
           2,
           2,
           1,
           1,
           1,
           1,
           1,
           1,
           1,
           1,
           1,
           1,
           1,
           2,
           1,
           1,
           1,
           1,
           1,
           1,
           1,
           1,
           1,
           1,
           1,
           1,
           1,
           1,
           2,
           1,
           3,
           1,
           1,
           1,
           1,
           2,
           1,
           4,
           2,
           1,
           1,
           1,
           1,
           1,
           2,
           1,
           1,
           2,
           1,
           1,
           1,
           3,
           2,
           1,
           1,
           2,
           1,
           2,
           1,
           1,
           1,
           1,
           2,
           1,
           1,
           1,
           1,
           1,
           1,
           2,
           2,
           1,
           1,
           1,
           2,
           1,
           3,
           1,
           1,
           1,
           1,
           1,
           3,
           4,
           3,
           1,
           1,
           2,
           3,
           1,
           1,
           2,
           2,
           2,
           1,
           1,
           1,
           3,
           1,
           1,
           1,
           2,
           2,
           1,
           1,
           2,
           2,
           3,
           1,
           1,
           2,
           1,
           1,
           1,
           1,
           4,
           2,
           1,
           1,
           1,
           1,
           2,
           1,
           1,
           4,
           1,
           1,
           1,
           1,
           1,
           1,
           1,
           2,
           1,
           1,
           1,
           1,
           2,
           1,
           2,
           1,
           1,
           2,
           4,
           1,
           1,
           3,
           1,
           1,
           1,
           1,
           1,
           1,
           4,
           1,
           1,
           1,
           1,
           1,
           2,
           1,
           1,
           3,
           1,
           1,
           1,
           1,
           4,
           1,
           1,
           1,
           1,
           3,
           1,
           1,
           1,
           1,
           1,
           1,
           2,
           1,
           1,
           1,
           1,
           1,
           1,
           2,
           1,
           2,
           1,
           1,
           1,
           1,
           1,
           1,
           1,
           4,
           2,
           1,
           1,
           1,
           2,
           1,
           3,
           1,
           4,
           2,
           1,
           1,
           1,
           1,
           3,
           1,
           1,
           1
          ],
          "sizemode": "area",
          "sizeref": 0.03,
          "symbol": "circle"
         },
         "mode": "markers",
         "name": "Dormant Owner",
         "showlegend": true,
         "type": "scattergl",
         "x": [
          317,
          399,
          176,
          1,
          9,
          12,
          891,
          1,
          270,
          1,
          1180,
          327,
          846,
          666,
          910,
          388,
          548,
          266,
          42,
          112,
          311,
          1669,
          51,
          649,
          21,
          1,
          2,
          602,
          842,
          1,
          952,
          50,
          405,
          142,
          234,
          137,
          440,
          166,
          460,
          568,
          416,
          233,
          71,
          1,
          1514,
          86,
          214,
          598,
          320,
          1323,
          356,
          41,
          192,
          61,
          1,
          22,
          432,
          1,
          40,
          860,
          1,
          147,
          334,
          50,
          1,
          1,
          706,
          1367,
          190,
          138,
          93,
          530,
          52,
          990,
          260,
          780,
          9,
          461,
          1,
          1169,
          1,
          341,
          545,
          249,
          8,
          369,
          55,
          666,
          344,
          1,
          700,
          330,
          250,
          254,
          1419,
          1,
          181,
          1222,
          524,
          518,
          20,
          1,
          239,
          586,
          1092,
          337,
          514,
          133,
          764,
          821,
          613,
          17,
          1,
          7,
          104,
          16,
          458,
          1,
          426,
          529,
          80,
          127,
          127,
          448,
          966,
          907,
          1,
          19,
          1,
          373,
          557,
          225,
          474,
          962,
          538,
          162,
          1,
          1094,
          31,
          1084,
          1,
          876,
          1,
          222,
          1,
          135,
          213,
          1273,
          125,
          705,
          12,
          1,
          131,
          114,
          1,
          357,
          618,
          1,
          510,
          158,
          140,
          1,
          94,
          10,
          60,
          54,
          229,
          1,
          141,
          593,
          780,
          503,
          3,
          604,
          384,
          308,
          346,
          435,
          255,
          1,
          2,
          1,
          42,
          815,
          645,
          52,
          566,
          32,
          1,
          622,
          629,
          707,
          401,
          744,
          184,
          3,
          245,
          5,
          93,
          347,
          237,
          142,
          368,
          97,
          604,
          1,
          59,
          89,
          1,
          1063,
          1073,
          909,
          783,
          429,
          358,
          271,
          569,
          318,
          56,
          383,
          58,
          246,
          1,
          130,
          308,
          64,
          347,
          634,
          402,
          1110,
          1,
          543,
          31,
          1,
          784,
          278,
          296,
          436,
          314,
          1204,
          209,
          474,
          1073,
          948,
          510,
          12,
          463,
          151,
          431,
          325,
          64,
          1104,
          17,
          402,
          790,
          205,
          148,
          1161,
          227,
          131,
          188,
          949,
          1,
          579,
          615,
          483,
          30,
          21,
          840,
          1,
          51,
          1474,
          411,
          639,
          1393,
          1404,
          27,
          727,
          1484,
          3,
          1452,
          128,
          87,
          1,
          208,
          973,
          351,
          6,
          52,
          262,
          187,
          380,
          376,
          899,
          1,
          969,
          577,
          459,
          1169,
          949,
          333,
          1,
          82,
          336,
          276,
          1095,
          162,
          224,
          1,
          628,
          83,
          271,
          114,
          945,
          1,
          1,
          16,
          717,
          950,
          173,
          1,
          134,
          226,
          748,
          453,
          380,
          940,
          212,
          515,
          38,
          912,
          40,
          5,
          1,
          332,
          401,
          399,
          183,
          187,
          1,
          504,
          97,
          1,
          654,
          988,
          362,
          386,
          1,
          4,
          1067,
          342,
          6,
          83,
          306,
          71,
          625,
          1,
          694,
          235,
          325,
          101,
          314,
          136,
          289,
          13,
          244,
          1115,
          1587,
          23,
          154,
          185,
          82,
          72,
          873,
          334,
          1,
          7,
          1140,
          1,
          120,
          124,
          317,
          107,
          127,
          432,
          1,
          760,
          961,
          369,
          114,
          39,
          496,
          603,
          1330,
          1,
          1026,
          196,
          933,
          74,
          1,
          631,
          684,
          129,
          509,
          57,
          384,
          66,
          268,
          318,
          511,
          22,
          1,
          456,
          350,
          473,
          658,
          285,
          382,
          431,
          519,
          232,
          332,
          649,
          441,
          1246,
          532,
          94,
          356,
          1,
          246,
          18,
          132,
          1165,
          36,
          584,
          1,
          310,
          1,
          42,
          431,
          60,
          63,
          222,
          5,
          984,
          293,
          19
         ],
         "xaxis": "x",
         "y": [
          14119.14,
          4720,
          19737,
          10193,
          11271.91,
          8039.049999999999,
          1377,
          9026,
          6439.89,
          7860.5,
          18599.81,
          5950.16,
          21172.01,
          10615.9,
          8690,
          8717,
          7071.12,
          11673.15,
          8181,
          10209.11,
          13306.77,
          20463.15,
          9133.279999999999,
          7401.25,
          7557,
          2240,
          4471.01,
          4734,
          5563.76,
          8861.09,
          11169.78,
          9524.38,
          9633.78,
          2730.78,
          10377.02,
          9938,
          5515.07,
          10335.779999999999,
          9468.47,
          6753.28,
          3999,
          16803.8,
          12320.1,
          9969.5,
          6391.62,
          15217.32,
          8196.789999999999,
          8123.19,
          9638.83,
          3485,
          10934.57,
          6655,
          5586.22,
          8759.119999999999,
          10480.5,
          3196.85,
          1027.5,
          6932,
          7218.41,
          9216.16,
          9857,
          7490.98,
          9165.59,
          10206.57,
          5277.5,
          7586,
          8876.34,
          2740.73,
          16406.67,
          4062,
          4861.5,
          3861,
          18938.48,
          2860,
          5833.07,
          8800.72,
          8650.25,
          21480.83,
          10482.5,
          14888.72,
          3744,
          11627.94,
          15808.5,
          9356.3,
          13451.33,
          7477.65,
          20249.72,
          7056,
          6306.78,
          4350,
          6916,
          5348.5,
          4370,
          6414.38,
          5753.14,
          10088.5,
          3443.04,
          1872,
          4026.14,
          20487.14,
          8180.72,
          10424.5,
          9659,
          2062.5,
          2760,
          9410.060000000001,
          2662.87,
          7335.66,
          15611.15,
          9152,
          16890.37,
          14040,
          9843,
          6254.51,
          7819.56,
          16082.37,
          8284.51,
          10224.779999999999,
          4380.41,
          10845.380000000001,
          4041,
          4304,
          4641,
          10535.16,
          5590,
          5725.96,
          5597,
          4058.2,
          7832,
          8982,
          11067,
          21945,
          8758.39,
          11959.5,
          9504,
          9008.41,
          4163.5,
          4626,
          9539,
          21157.29,
          9862.869999999999,
          1984,
          9239.5,
          5535.22,
          7619,
          4337.39,
          18845.54,
          7350,
          10924,
          6365.46,
          5292.71,
          9002,
          4850.74,
          17171.77,
          9006,
          2606.91,
          3485,
          8764,
          5418,
          19255.4,
          5532.22,
          6497,
          15976.32,
          3805.47,
          3357.31,
          9784.92,
          4540.11,
          5426,
          3480.58,
          5564.16,
          10160.61,
          8016,
          10762.65,
          15987.89,
          980,
          5187,
          4459.22,
          6562.5,
          10954.9,
          4872,
          2002,
          9832,
          4947.23,
          15157.16,
          9792.72,
          14902.41,
          14782.23,
          3830.4,
          9293,
          1056,
          2634.36,
          8380.42,
          12144,
          8754.56,
          9062.27,
          3340,
          912,
          10487.14,
          11394,
          10839.83,
          12671.3,
          8171.24,
          19832.83,
          13056.52,
          12451.7,
          2898.5,
          15782.55,
          7473.83,
          4211,
          6584.62,
          8210.36,
          13556.77,
          1440,
          8148.13,
          5956.18,
          2613,
          5859,
          4235,
          5338.610000000001,
          2435.11,
          3914.56,
          12705,
          10927,
          2008,
          10645.5,
          14499.3,
          3866.75,
          2706.34,
          13392.93,
          6437.44,
          6681.45,
          1280,
          5606.17,
          2990,
          2993.51,
          7118.85,
          9300.68,
          22215.2889,
          3050.68,
          4886.21,
          7451.44,
          6237.44,
          20442.92,
          4930,
          3720.65,
          7101,
          8626.6,
          16422,
          20281.62,
          5449.57,
          8969.29,
          1662.5,
          5155.5,
          13130.11,
          18664.46,
          2611.53,
          3415.14,
          438,
          5781.08,
          7662.48,
          9687.48,
          5279.64,
          5701,
          1250,
          2773.8,
          5933.98,
          13350.36,
          6721,
          10569.81,
          8070,
          3925,
          7200.89,
          6289.54,
          6405.19,
          6345.85,
          10833.87,
          3915.5,
          2362.5,
          22126.07,
          8208.51,
          20223.4,
          12986.19,
          5251.21,
          9474,
          8463.45,
          12420.33,
          8036,
          10854.5,
          5335.63,
          7149.8099999999995,
          2484.27,
          4348.44,
          3102.28,
          7555.12,
          2910,
          14339.88,
          3878.27,
          16337.41,
          4345.45,
          10706,
          7834.57,
          8923,
          6243.77,
          5880,
          5740,
          1179,
          2915.5,
          6205.37,
          6279.5,
          8042.87,
          14249.96,
          16812,
          5546.7,
          3856.8,
          8323.66,
          9520.5,
          6645.12,
          11520.26,
          11600.99,
          6624.27,
          7482.49,
          5340.11,
          636,
          9161.64,
          9732.06,
          10848,
          17796.99,
          16625.66,
          9777.89,
          11095.79,
          3018,
          1540,
          21120.31,
          10815,
          10073.6,
          8032.17,
          17580.69,
          10932.22,
          2985.5,
          9004,
          9857.71,
          10692,
          5098,
          6831.89,
          3840,
          5796,
          14504.26,
          9262.76,
          10410.2,
          4677.65,
          20494.52,
          14058.5,
          7680.2,
          10763.59,
          3930.33,
          10065.75,
          9542.45,
          6441.95,
          7577.14,
          9780.77,
          3450,
          12170.44,
          8159.47,
          3093.71,
          10927.79,
          2516,
          21062.03,
          2832.69,
          3683.64,
          6151.29,
          5299.64,
          7256,
          19214.31,
          19719.95,
          5252,
          9089.69,
          1578,
          7660.75,
          5152.5,
          15011.15,
          520,
          1940,
          6076.62,
          2526.5,
          11232,
          10606.66,
          3655.26,
          11907,
          4162.53,
          3440.03,
          4760,
          4853.77,
          2783.7,
          3598.57,
          10456.04,
          3744.9,
          17544.43,
          5385.97,
          7176.78,
          7946.39,
          1574.02,
          2445,
          9112,
          15039.38,
          8514.27,
          5900.18,
          4396,
          20455.83,
          6068.25,
          1960,
          13369.83,
          6510.5,
          4929,
          4377.15,
          18494.91,
          7004,
          15667.07,
          5184.56,
          3714,
          7446.26,
          4135.8,
          3672,
          3496.5,
          2557.23,
          7874.62,
          5681.54,
          17288.72,
          4641.98,
          8765.84,
          10840.61,
          5695.7,
          7154.15,
          4245.95,
          9226.710000000001,
          10764.93,
          7739,
          10867.52,
          9654.970000000001,
          9898.83,
          4126.48,
          5324.74,
          5039.53,
          10240,
          8288.71,
          7992.21,
          4607.92,
          8230.77
         ],
         "yaxis": "y"
        },
        {
         "customdata": [
          [
           8
          ],
          [
           10
          ],
          [
           15
          ],
          [
           16
          ],
          [
           21
          ],
          [
           22
          ],
          [
           27
          ],
          [
           34
          ],
          [
           42
          ],
          [
           47
          ],
          [
           51
          ],
          [
           54
          ],
          [
           59
          ],
          [
           66
          ],
          [
           67
          ],
          [
           68
          ],
          [
           69
          ],
          [
           71
          ],
          [
           74
          ],
          [
           75
          ],
          [
           78
          ],
          [
           83
          ],
          [
           84
          ],
          [
           91
          ],
          [
           105
          ],
          [
           110
          ],
          [
           122
          ],
          [
           140
          ],
          [
           147
          ],
          [
           151
          ],
          [
           153
          ],
          [
           156
          ],
          [
           159
          ],
          [
           170
          ],
          [
           182
          ],
          [
           187
          ],
          [
           195
          ],
          [
           197
          ],
          [
           200
          ],
          [
           201
          ],
          [
           210
          ],
          [
           213
          ],
          [
           215
          ],
          [
           218
          ],
          [
           238
          ],
          [
           247
          ],
          [
           250
          ],
          [
           251
          ],
          [
           254
          ],
          [
           258
          ],
          [
           264
          ],
          [
           265
          ],
          [
           285
          ],
          [
           292
          ],
          [
           295
          ],
          [
           312
          ],
          [
           317
          ],
          [
           328
          ],
          [
           335
          ],
          [
           350
          ],
          [
           356
          ],
          [
           360
          ],
          [
           373
          ],
          [
           374
          ],
          [
           392
          ],
          [
           395
          ],
          [
           397
          ],
          [
           402
          ],
          [
           407
          ],
          [
           416
          ],
          [
           423
          ],
          [
           426
          ],
          [
           434
          ],
          [
           436
          ],
          [
           441
          ],
          [
           443
          ],
          [
           451
          ],
          [
           474
          ],
          [
           476
          ],
          [
           483
          ],
          [
           484
          ],
          [
           488
          ],
          [
           494
          ],
          [
           496
          ],
          [
           524
          ],
          [
           539
          ],
          [
           540
          ],
          [
           543
          ],
          [
           545
          ],
          [
           546
          ],
          [
           560
          ],
          [
           565
          ],
          [
           583
          ],
          [
           585
          ],
          [
           595
          ],
          [
           598
          ],
          [
           600
          ],
          [
           606
          ],
          [
           613
          ],
          [
           629
          ],
          [
           631
          ],
          [
           634
          ],
          [
           647
          ],
          [
           648
          ],
          [
           653
          ],
          [
           655
          ],
          [
           657
          ],
          [
           659
          ],
          [
           668
          ],
          [
           680
          ],
          [
           683
          ],
          [
           687
          ],
          [
           691
          ],
          [
           695
          ],
          [
           702
          ],
          [
           710
          ],
          [
           712
          ],
          [
           714
          ],
          [
           715
          ],
          [
           717
          ],
          [
           722
          ],
          [
           728
          ],
          [
           736
          ],
          [
           739
          ],
          [
           741
          ],
          [
           762
          ],
          [
           769
          ],
          [
           778
          ],
          [
           779
          ],
          [
           784
          ],
          [
           790
          ],
          [
           795
          ],
          [
           806
          ],
          [
           825
          ],
          [
           827
          ],
          [
           830
          ],
          [
           832
          ],
          [
           845
          ],
          [
           856
          ],
          [
           860
          ],
          [
           862
          ],
          [
           867
          ],
          [
           876
          ],
          [
           887
          ],
          [
           896
          ],
          [
           906
          ],
          [
           911
          ],
          [
           912
          ],
          [
           933
          ],
          [
           938
          ],
          [
           948
          ],
          [
           952
          ],
          [
           958
          ],
          [
           967
          ],
          [
           981
          ],
          [
           988
          ],
          [
           990
          ],
          [
           996
          ],
          [
           1000
          ],
          [
           1009
          ],
          [
           1010
          ],
          [
           1023
          ],
          [
           1028
          ],
          [
           1047
          ],
          [
           1056
          ],
          [
           1057
          ],
          [
           1059
          ],
          [
           1066
          ],
          [
           1067
          ],
          [
           1071
          ],
          [
           1074
          ],
          [
           1078
          ],
          [
           1091
          ],
          [
           1103
          ],
          [
           1112
          ],
          [
           1119
          ],
          [
           1120
          ],
          [
           1128
          ],
          [
           1129
          ],
          [
           1132
          ],
          [
           1142
          ],
          [
           1149
          ],
          [
           1151
          ],
          [
           1166
          ],
          [
           1167
          ],
          [
           1169
          ],
          [
           1172
          ],
          [
           1187
          ],
          [
           1201
          ],
          [
           1204
          ],
          [
           1214
          ],
          [
           1225
          ],
          [
           1247
          ],
          [
           1258
          ],
          [
           1259
          ],
          [
           1263
          ],
          [
           1273
          ],
          [
           1276
          ],
          [
           1288
          ],
          [
           1315
          ],
          [
           1335
          ],
          [
           1357
          ],
          [
           1374
          ],
          [
           1386
          ],
          [
           1399
          ],
          [
           1405
          ],
          [
           1412
          ],
          [
           1415
          ],
          [
           1425
          ],
          [
           1437
          ],
          [
           1439
          ],
          [
           1443
          ],
          [
           1460
          ],
          [
           1461
          ],
          [
           1462
          ],
          [
           1471
          ],
          [
           1477
          ],
          [
           1479
          ],
          [
           1480
          ],
          [
           1484
          ],
          [
           1494
          ],
          [
           1495
          ],
          [
           1496
          ],
          [
           1509
          ],
          [
           1521
          ],
          [
           1525
          ],
          [
           1526
          ],
          [
           1530
          ],
          [
           1531
          ],
          [
           1534
          ],
          [
           1547
          ],
          [
           1554
          ],
          [
           1555
          ],
          [
           1557
          ],
          [
           1569
          ],
          [
           1571
          ],
          [
           1576
          ],
          [
           1584
          ],
          [
           1604
          ],
          [
           1606
          ],
          [
           1607
          ],
          [
           1618
          ],
          [
           1621
          ],
          [
           1626
          ],
          [
           1632
          ],
          [
           1635
          ],
          [
           1645
          ],
          [
           1652
          ],
          [
           1660
          ],
          [
           1665
          ],
          [
           1667
          ],
          [
           1669
          ],
          [
           1671
          ],
          [
           1678
          ],
          [
           1680
          ],
          [
           1685
          ],
          [
           1686
          ],
          [
           1692
          ],
          [
           1709
          ],
          [
           1711
          ],
          [
           1716
          ],
          [
           1717
          ],
          [
           1719
          ],
          [
           1727
          ],
          [
           1729
          ],
          [
           1735
          ],
          [
           1736
          ],
          [
           1739
          ],
          [
           1742
          ],
          [
           1745
          ],
          [
           1746
          ]
         ],
         "hovertemplate": "Segment=Emerging Owne<br>Recency=%{x}<br>Monetary=%{y}<br>Frequency=%{marker.size}<br>owner_id=%{customdata[0]}<extra></extra>",
         "legendgroup": "Emerging Owne",
         "marker": {
          "color": "#ab63fa",
          "size": [
           5,
           3,
           2,
           2,
           3,
           5,
           2,
           3,
           2,
           3,
           2,
           3,
           2,
           3,
           2,
           3,
           4,
           4,
           4,
           3,
           3,
           3,
           2,
           4,
           3,
           3,
           4,
           2,
           3,
           3,
           2,
           2,
           4,
           3,
           7,
           5,
           2,
           3,
           3,
           5,
           3,
           2,
           3,
           3,
           3,
           3,
           4,
           2,
           2,
           2,
           4,
           3,
           4,
           2,
           4,
           3,
           3,
           2,
           3,
           5,
           2,
           2,
           5,
           2,
           4,
           2,
           4,
           5,
           2,
           2,
           3,
           2,
           2,
           4,
           2,
           3,
           3,
           2,
           2,
           3,
           5,
           2,
           4,
           2,
           5,
           3,
           5,
           2,
           2,
           3,
           4,
           2,
           2,
           2,
           3,
           2,
           3,
           2,
           3,
           3,
           3,
           3,
           4,
           4,
           3,
           4,
           3,
           2,
           2,
           2,
           3,
           6,
           2,
           2,
           3,
           2,
           2,
           2,
           4,
           4,
           2,
           2,
           3,
           4,
           3,
           3,
           2,
           2,
           4,
           5,
           2,
           2,
           3,
           4,
           3,
           3,
           2,
           2,
           2,
           2,
           4,
           2,
           3,
           3,
           2,
           2,
           2,
           5,
           2,
           3,
           3,
           2,
           2,
           2,
           2,
           3,
           3,
           3,
           2,
           3,
           2,
           6,
           4,
           2,
           2,
           3,
           2,
           2,
           2,
           2,
           2,
           3,
           4,
           2,
           3,
           3,
           3,
           2,
           4,
           4,
           4,
           2,
           2,
           3,
           4,
           5,
           2,
           3,
           2,
           2,
           4,
           3,
           2,
           2,
           5,
           2,
           4,
           3,
           2,
           3,
           3,
           2,
           4,
           4,
           2,
           2,
           4,
           6,
           4,
           3,
           3,
           4,
           6,
           3,
           8,
           2,
           4,
           3,
           2,
           2,
           3,
           4,
           3,
           2,
           3,
           2,
           3,
           2,
           2,
           5,
           2,
           4,
           2,
           2,
           4,
           4,
           2,
           3,
           2,
           4,
           3,
           4,
           3,
           4,
           3,
           2,
           3,
           3,
           3,
           2,
           2,
           3,
           2,
           3,
           4,
           3,
           4,
           3,
           2,
           2,
           2,
           2,
           2,
           2,
           2,
           3,
           2,
           4,
           3,
           2,
           3
          ],
          "sizemode": "area",
          "sizeref": 0.03,
          "symbol": "circle"
         },
         "mode": "markers",
         "name": "Emerging Owne",
         "showlegend": true,
         "type": "scattergl",
         "x": [
          1,
          1,
          50,
          62,
          1,
          1,
          40,
          1,
          77,
          1,
          45,
          1,
          73,
          1,
          3,
          2,
          1,
          1,
          1,
          103,
          1,
          1,
          56,
          11,
          1,
          1,
          1,
          1,
          1,
          1,
          74,
          29,
          1,
          1,
          1,
          1,
          1,
          1,
          1,
          1,
          17,
          1,
          1,
          1,
          55,
          1,
          13,
          87,
          1,
          7,
          1,
          2,
          1,
          61,
          1,
          1,
          1,
          28,
          1,
          1,
          1,
          19,
          1,
          12,
          92,
          52,
          1,
          1,
          1,
          1,
          1,
          60,
          1,
          1,
          2,
          1,
          50,
          6,
          29,
          1,
          1,
          7,
          1,
          1,
          1,
          63,
          1,
          1,
          92,
          1,
          1,
          61,
          1,
          1,
          1,
          3,
          1,
          9,
          1,
          72,
          1,
          1,
          6,
          1,
          1,
          1,
          1,
          99,
          74,
          32,
          1,
          1,
          70,
          104,
          1,
          14,
          107,
          1,
          1,
          1,
          1,
          112,
          1,
          1,
          5,
          1,
          31,
          62,
          1,
          1,
          11,
          32,
          1,
          1,
          1,
          1,
          78,
          69,
          1,
          87,
          1,
          1,
          1,
          1,
          1,
          1,
          1,
          1,
          1,
          1,
          1,
          93,
          109,
          1,
          64,
          1,
          1,
          1,
          93,
          1,
          1,
          1,
          1,
          1,
          1,
          1,
          1,
          9,
          48,
          23,
          1,
          1,
          1,
          1,
          1,
          1,
          1,
          1,
          1,
          1,
          1,
          109,
          6,
          1,
          1,
          108,
          1,
          1,
          51,
          1,
          1,
          1,
          1,
          100,
          1,
          42,
          17,
          2,
          45,
          8,
          1,
          51,
          1,
          1,
          11,
          70,
          13,
          1,
          1,
          37,
          1,
          1,
          1,
          67,
          1,
          1,
          1,
          1,
          1,
          17,
          1,
          1,
          1,
          84,
          1,
          1,
          54,
          55,
          17,
          1,
          93,
          1,
          1,
          92,
          1,
          1,
          98,
          1,
          45,
          106,
          1,
          1,
          1,
          1,
          1,
          2,
          1,
          1,
          1,
          9,
          87,
          1,
          28,
          1,
          1,
          47,
          86,
          1,
          62,
          74,
          1,
          79,
          33,
          1,
          108,
          1,
          1,
          1,
          1,
          99,
          1
         ],
         "xaxis": "x",
         "y": [
          18611,
          36645.5,
          35590.58,
          68833.7,
          67658,
          18855,
          47572.84,
          20036.55,
          45968.76,
          28831.5,
          86587.46,
          16011.6,
          51571.42,
          37938,
          28666.690000000002,
          85349.31,
          21956.5,
          16243.5,
          14567.85,
          21495.03,
          35501.65,
          50283.92,
          13870.5,
          11266.54,
          23468.32,
          79438.36,
          22215.95,
          18435,
          39782.490000000005,
          47462.13,
          17288,
          15473.32,
          11270,
          29216.8,
          17147.35,
          13163.7,
          53656,
          44264,
          14645,
          22327,
          73907.33,
          16275,
          41680.06,
          39525.33,
          15487.04,
          20856.68,
          22343.67,
          43686.729999999996,
          12398,
          69854.51,
          22609,
          20118.29,
          12933.51,
          13319.48,
          14521.43,
          17284,
          22063.6,
          46455.12,
          16914.79,
          21225.32,
          12969,
          38083.33,
          20637.22,
          25245.43,
          19724.65,
          59877.240000000005,
          17875.86,
          21361,
          52878,
          72562,
          15197,
          13764,
          23481,
          20140.63,
          55609.869999999995,
          21047.66,
          20511.5,
          25520.14,
          18793.12,
          11840.19,
          17585.82,
          13363.04,
          17962.78,
          13235,
          21430.12,
          21949.14,
          13920,
          33145,
          21324.989999999998,
          15310.42,
          11859.5,
          79846,
          18093.5,
          12128,
          13593.05,
          17380.11,
          13786,
          33601.2,
          11609,
          21064.224000000002,
          11227,
          15654.35,
          19954.64,
          21730.14,
          14729.34,
          16207.060000000001,
          16957,
          26759.22,
          30274.46,
          13969.01,
          16008,
          17281.46,
          19033.57,
          21693,
          13328,
          75363.74,
          26287.08,
          12050,
          12284,
          15199.82,
          19656,
          41963.09,
          13993,
          17299.5,
          13391.31,
          14508,
          28142.16,
          22230.84,
          20868.85,
          21247.63,
          34349.54,
          28583.379999999997,
          11807.58,
          19081.489999999998,
          19129,
          14541.98,
          26794.840000000004,
          15879.74,
          24958,
          20909.53,
          16751.29,
          15799.5,
          17096,
          13633.5,
          13005,
          13939,
          13253,
          19384,
          13093,
          21547,
          13247.27,
          36665.19,
          51793.82,
          37896.5,
          15922.279999999999,
          14027.03,
          14825.5,
          11872.76,
          41249.47,
          12131,
          24634,
          18496,
          14137.87,
          12053,
          27363.5,
          13809.52,
          18933,
          38120.119999999995,
          20233.95,
          23781.059999999998,
          18223,
          16839.68,
          15914.880000000001,
          16548,
          12304,
          12447,
          13815.5,
          20760,
          14032.189999999999,
          12282,
          15318.46,
          19028.36,
          24789.36,
          12364,
          12264.68,
          21700.54,
          11368.5,
          15964.5,
          21505,
          26496,
          14794.43,
          17387.489999999998,
          46554,
          26919.46,
          17185.5,
          19795.38,
          18782.89,
          20528.99,
          45863.119999999995,
          15982.53,
          13124.5,
          70021.3,
          22003.14,
          21686.81,
          11824.19,
          34985.740000000005,
          22423.58,
          17239,
          15894.69,
          22057.690000000002,
          14145,
          22495.45,
          18964.8,
          11697.25,
          13698,
          24434.5,
          15822.42,
          21225,
          13370,
          30571.4,
          14098,
          19542.879999999997,
          11243,
          20714.809999999998,
          19061,
          28852,
          15983.59,
          74738.73000000001,
          75301.48999999999,
          18055.010000000002,
          23403.52,
          16499.65,
          15452,
          15404,
          13168.71,
          22145.5,
          36743.54,
          16362,
          21678.989999999998,
          13049.670000000002,
          12892,
          21664.95,
          16786.69,
          16589,
          12271,
          65392.590000000004,
          14211.44,
          17579,
          20262,
          14195.78,
          23927.77,
          19671.12,
          38564.38,
          16537.5,
          18294.5,
          16536.21,
          16128.44,
          12812.5,
          13334.25,
          78290.39,
          12208,
          28978.8715,
          11413.89,
          49624,
          31367.72,
          11751.369999999999,
          17122,
          20663,
          17249.11,
          50316.33,
          11848
         ],
         "yaxis": "y"
        },
        {
         "customdata": [
          [
           12
          ],
          [
           33
          ],
          [
           41
          ],
          [
           87
          ],
          [
           88
          ],
          [
           97
          ],
          [
           113
          ],
          [
           116
          ],
          [
           118
          ],
          [
           138
          ],
          [
           142
          ],
          [
           154
          ],
          [
           160
          ],
          [
           173
          ],
          [
           176
          ],
          [
           202
          ],
          [
           203
          ],
          [
           204
          ],
          [
           214
          ],
          [
           260
          ],
          [
           266
          ],
          [
           284
          ],
          [
           286
          ],
          [
           321
          ],
          [
           326
          ],
          [
           338
          ],
          [
           339
          ],
          [
           386
          ],
          [
           389
          ],
          [
           403
          ],
          [
           410
          ],
          [
           413
          ],
          [
           439
          ],
          [
           448
          ],
          [
           471
          ],
          [
           478
          ],
          [
           491
          ],
          [
           518
          ],
          [
           529
          ],
          [
           538
          ],
          [
           562
          ],
          [
           569
          ],
          [
           570
          ],
          [
           584
          ],
          [
           592
          ],
          [
           607
          ],
          [
           612
          ],
          [
           627
          ],
          [
           672
          ],
          [
           675
          ],
          [
           693
          ],
          [
           716
          ],
          [
           732
          ],
          [
           742
          ],
          [
           743
          ],
          [
           746
          ],
          [
           750
          ],
          [
           754
          ],
          [
           760
          ],
          [
           763
          ],
          [
           811
          ],
          [
           833
          ],
          [
           836
          ],
          [
           843
          ],
          [
           851
          ],
          [
           857
          ],
          [
           879
          ],
          [
           882
          ],
          [
           892
          ],
          [
           924
          ],
          [
           949
          ],
          [
           956
          ],
          [
           961
          ],
          [
           971
          ],
          [
           1029
          ],
          [
           1049
          ],
          [
           1081
          ],
          [
           1082
          ],
          [
           1100
          ],
          [
           1122
          ],
          [
           1123
          ],
          [
           1125
          ],
          [
           1136
          ],
          [
           1140
          ],
          [
           1157
          ],
          [
           1216
          ],
          [
           1229
          ],
          [
           1246
          ],
          [
           1249
          ],
          [
           1257
          ],
          [
           1260
          ],
          [
           1264
          ],
          [
           1280
          ],
          [
           1296
          ],
          [
           1297
          ],
          [
           1299
          ],
          [
           1300
          ],
          [
           1341
          ],
          [
           1351
          ],
          [
           1433
          ],
          [
           1467
          ],
          [
           1475
          ],
          [
           1476
          ],
          [
           1488
          ],
          [
           1533
          ],
          [
           1540
          ],
          [
           1548
          ],
          [
           1564
          ],
          [
           1586
          ],
          [
           1598
          ],
          [
           1612
          ],
          [
           1613
          ],
          [
           1625
          ],
          [
           1646
          ],
          [
           1648
          ],
          [
           1699
          ],
          [
           1731
          ],
          [
           1747
          ],
          [
           1751
          ]
         ],
         "hovertemplate": "Segment=High Value-Low Activity<br>Recency=%{x}<br>Monetary=%{y}<br>Frequency=%{marker.size}<br>owner_id=%{customdata[0]}<extra></extra>",
         "legendgroup": "High Value-Low Activity",
         "marker": {
          "color": "#FFA15A",
          "size": [
           2,
           1,
           2,
           1,
           3,
           3,
           1,
           2,
           2,
           2,
           2,
           1,
           1,
           2,
           2,
           2,
           2,
           1,
           3,
           1,
           1,
           1,
           1,
           2,
           2,
           1,
           1,
           2,
           2,
           1,
           1,
           1,
           1,
           2,
           2,
           1,
           1,
           1,
           1,
           2,
           2,
           2,
           2,
           2,
           1,
           1,
           1,
           2,
           2,
           1,
           2,
           1,
           1,
           1,
           2,
           1,
           2,
           1,
           2,
           1,
           1,
           2,
           1,
           2,
           1,
           1,
           2,
           1,
           2,
           1,
           1,
           1,
           2,
           1,
           2,
           2,
           2,
           2,
           1,
           2,
           1,
           2,
           1,
           1,
           1,
           2,
           2,
           1,
           2,
           2,
           1,
           2,
           2,
           2,
           1,
           1,
           2,
           1,
           1,
           1,
           1,
           1,
           1,
           1,
           1,
           2,
           1,
           1,
           2,
           2,
           1,
           1,
           2,
           2,
           1,
           2,
           2,
           2,
           2
          ],
          "sizemode": "area",
          "sizeref": 0.03,
          "symbol": "circle"
         },
         "mode": "markers",
         "name": "High Value-Low Activity",
         "showlegend": true,
         "type": "scattergl",
         "x": [
          237,
          233,
          397,
          1253,
          125,
          267,
          260,
          123,
          114,
          336,
          263,
          257,
          37,
          120,
          623,
          461,
          474,
          74,
          113,
          1190,
          330,
          245,
          54,
          131,
          139,
          115,
          62,
          382,
          323,
          935,
          837,
          326,
          778,
          232,
          347,
          325,
          63,
          51,
          337,
          845,
          300,
          481,
          306,
          142,
          299,
          444,
          454,
          461,
          288,
          492,
          1082,
          100,
          585,
          1171,
          1124,
          293,
          152,
          317,
          694,
          177,
          275,
          123,
          881,
          187,
          791,
          637,
          465,
          122,
          165,
          519,
          198,
          148,
          832,
          460,
          400,
          652,
          366,
          772,
          440,
          116,
          397,
          270,
          977,
          535,
          714,
          682,
          469,
          42,
          355,
          235,
          1245,
          919,
          137,
          253,
          47,
          423,
          157,
          655,
          703,
          29,
          785,
          171,
          298,
          141,
          1093,
          307,
          358,
          219,
          466,
          574,
          228,
          351,
          226,
          239,
          987,
          152,
          334,
          431,
          351
         ],
         "xaxis": "x",
         "y": [
          49216.18,
          27996.18,
          30154.87,
          35574.39,
          42033.47,
          42308.05,
          31841.36,
          64683.99,
          51228.3,
          40706.4,
          56332.85,
          24537.52,
          33609.01,
          36355.229999999996,
          51485.44,
          23497.489999999998,
          41553.5,
          59729.43,
          50589.65,
          34130.43,
          28728.68,
          25606.13,
          24926.06,
          44293.7,
          37082.68,
          38860.76,
          40044.19,
          39907.490000000005,
          29037.89,
          41181.04,
          44842.27,
          27227.79,
          52502.72,
          55885.939999999995,
          39039,
          28426.97,
          26775.79,
          31002.92,
          38099.43,
          41185.979999999996,
          28917.31,
          88148.61,
          34353.89,
          43772.16,
          37666.68,
          33114.87,
          33530,
          30577.21,
          38966.54,
          44493.32,
          48187.229999999996,
          32204.58,
          30811.84,
          39691.01,
          31840.02,
          82057.88,
          45231.45,
          25769.08,
          26181.85,
          41416.41,
          77976.34,
          34580.01,
          24616,
          68878.28,
          26925.82,
          38376,
          29725.02,
          48351.58,
          30138.42,
          27724.75,
          23008.32,
          70101.85,
          30436.71,
          33280.63,
          24392.37,
          25288.17,
          88688.05,
          67564.22,
          90473.48,
          23811.87,
          24625.74,
          32604.65,
          24869.05,
          69283.56,
          24183.06,
          32046.38,
          48360.62,
          35509.05,
          23543.260000000002,
          47907.96,
          24389.48,
          26460.84,
          27870.51,
          37550.71,
          64671.4,
          76758.33,
          41701.54,
          31949.31,
          39904.06,
          29227.37,
          35061,
          37066.66,
          24531.43,
          31968,
          22909.73,
          87595.34,
          33451.26,
          43963.29,
          46648.740000000005,
          51086.63,
          44537.52,
          31772.92,
          23509.42,
          42739.020000000004,
          39859.01,
          33853.89,
          88456.64,
          44125.93,
          72343.65
         ],
         "yaxis": "y"
        },
        {
         "customdata": [
          [
           98
          ],
          [
           206
          ],
          [
           324
          ],
          [
           336
          ],
          [
           411
          ],
          [
           549
          ],
          [
           615
          ],
          [
           638
          ],
          [
           686
          ],
          [
           690
          ],
          [
           863
          ],
          [
           874
          ],
          [
           917
          ],
          [
           919
          ],
          [
           926
          ],
          [
           972
          ],
          [
           983
          ],
          [
           1003
          ],
          [
           1114
          ],
          [
           1243
          ],
          [
           1269
          ],
          [
           1338
          ],
          [
           1418
          ],
          [
           1423
          ],
          [
           1442
          ],
          [
           1469
          ],
          [
           1482
          ],
          [
           1541
          ],
          [
           1565
          ],
          [
           1643
          ],
          [
           1662
          ],
          [
           1695
          ],
          [
           1733
          ]
         ],
         "hovertemplate": "Segment=Loyal Owner<br>Recency=%{x}<br>Monetary=%{y}<br>Frequency=%{marker.size}<br>owner_id=%{customdata[0]}<extra></extra>",
         "legendgroup": "Loyal Owner",
         "marker": {
          "color": "#19d3f3",
          "size": [
           4,
           5,
           4,
           4,
           3,
           3,
           3,
           3,
           3,
           4,
           3,
           4,
           3,
           3,
           3,
           5,
           3,
           5,
           5,
           3,
           3,
           3,
           3,
           4,
           5,
           5,
           4,
           3,
           3,
           3,
           4,
           3,
           3
          ],
          "sizemode": "area",
          "sizeref": 0.03,
          "symbol": "circle"
         },
         "mode": "markers",
         "name": "Loyal Owner",
         "showlegend": true,
         "type": "scattergl",
         "x": [
          109,
          79,
          90,
          112,
          105,
          68,
          68,
          45,
          100,
          47,
          76,
          47,
          95,
          32,
          63,
          31,
          38,
          45,
          39,
          34,
          97,
          92,
          47,
          72,
          43,
          33,
          34,
          60,
          61,
          97,
          90,
          75,
          82
         ],
         "xaxis": "x",
         "y": [
          38123.58,
          29778.43,
          24853.53,
          37012.45,
          83280.37,
          35249.41,
          117571.24,
          53345.240000000005,
          53414.34,
          28649.44,
          35263.81,
          46968,
          28233.61,
          27573.5,
          37917.96,
          84737.55,
          49523.26,
          82407.56,
          76663.58,
          43218.81,
          79884.14000000001,
          46473.11,
          53566.34,
          33509.14,
          28192.34,
          47382.73,
          31528.82,
          132519.15,
          106371.56,
          72812.87,
          58734.76,
          66062.13,
          48814.08
         ],
         "yaxis": "y"
        }
       ],
       "layout": {
        "legend": {
         "itemsizing": "constant",
         "title": {
          "text": "Segment"
         },
         "tracegroupgap": 0
        },
        "template": {
         "data": {
          "bar": [
           {
            "error_x": {
             "color": "#2a3f5f"
            },
            "error_y": {
             "color": "#2a3f5f"
            },
            "marker": {
             "line": {
              "color": "#E5ECF6",
              "width": 0.5
             },
             "pattern": {
              "fillmode": "overlay",
              "size": 10,
              "solidity": 0.2
             }
            },
            "type": "bar"
           }
          ],
          "barpolar": [
           {
            "marker": {
             "line": {
              "color": "#E5ECF6",
              "width": 0.5
             },
             "pattern": {
              "fillmode": "overlay",
              "size": 10,
              "solidity": 0.2
             }
            },
            "type": "barpolar"
           }
          ],
          "carpet": [
           {
            "aaxis": {
             "endlinecolor": "#2a3f5f",
             "gridcolor": "white",
             "linecolor": "white",
             "minorgridcolor": "white",
             "startlinecolor": "#2a3f5f"
            },
            "baxis": {
             "endlinecolor": "#2a3f5f",
             "gridcolor": "white",
             "linecolor": "white",
             "minorgridcolor": "white",
             "startlinecolor": "#2a3f5f"
            },
            "type": "carpet"
           }
          ],
          "choropleth": [
           {
            "colorbar": {
             "outlinewidth": 0,
             "ticks": ""
            },
            "type": "choropleth"
           }
          ],
          "contour": [
           {
            "colorbar": {
             "outlinewidth": 0,
             "ticks": ""
            },
            "colorscale": [
             [
              0,
              "#0d0887"
             ],
             [
              0.1111111111111111,
              "#46039f"
             ],
             [
              0.2222222222222222,
              "#7201a8"
             ],
             [
              0.3333333333333333,
              "#9c179e"
             ],
             [
              0.4444444444444444,
              "#bd3786"
             ],
             [
              0.5555555555555556,
              "#d8576b"
             ],
             [
              0.6666666666666666,
              "#ed7953"
             ],
             [
              0.7777777777777778,
              "#fb9f3a"
             ],
             [
              0.8888888888888888,
              "#fdca26"
             ],
             [
              1,
              "#f0f921"
             ]
            ],
            "type": "contour"
           }
          ],
          "contourcarpet": [
           {
            "colorbar": {
             "outlinewidth": 0,
             "ticks": ""
            },
            "type": "contourcarpet"
           }
          ],
          "heatmap": [
           {
            "colorbar": {
             "outlinewidth": 0,
             "ticks": ""
            },
            "colorscale": [
             [
              0,
              "#0d0887"
             ],
             [
              0.1111111111111111,
              "#46039f"
             ],
             [
              0.2222222222222222,
              "#7201a8"
             ],
             [
              0.3333333333333333,
              "#9c179e"
             ],
             [
              0.4444444444444444,
              "#bd3786"
             ],
             [
              0.5555555555555556,
              "#d8576b"
             ],
             [
              0.6666666666666666,
              "#ed7953"
             ],
             [
              0.7777777777777778,
              "#fb9f3a"
             ],
             [
              0.8888888888888888,
              "#fdca26"
             ],
             [
              1,
              "#f0f921"
             ]
            ],
            "type": "heatmap"
           }
          ],
          "heatmapgl": [
           {
            "colorbar": {
             "outlinewidth": 0,
             "ticks": ""
            },
            "colorscale": [
             [
              0,
              "#0d0887"
             ],
             [
              0.1111111111111111,
              "#46039f"
             ],
             [
              0.2222222222222222,
              "#7201a8"
             ],
             [
              0.3333333333333333,
              "#9c179e"
             ],
             [
              0.4444444444444444,
              "#bd3786"
             ],
             [
              0.5555555555555556,
              "#d8576b"
             ],
             [
              0.6666666666666666,
              "#ed7953"
             ],
             [
              0.7777777777777778,
              "#fb9f3a"
             ],
             [
              0.8888888888888888,
              "#fdca26"
             ],
             [
              1,
              "#f0f921"
             ]
            ],
            "type": "heatmapgl"
           }
          ],
          "histogram": [
           {
            "marker": {
             "pattern": {
              "fillmode": "overlay",
              "size": 10,
              "solidity": 0.2
             }
            },
            "type": "histogram"
           }
          ],
          "histogram2d": [
           {
            "colorbar": {
             "outlinewidth": 0,
             "ticks": ""
            },
            "colorscale": [
             [
              0,
              "#0d0887"
             ],
             [
              0.1111111111111111,
              "#46039f"
             ],
             [
              0.2222222222222222,
              "#7201a8"
             ],
             [
              0.3333333333333333,
              "#9c179e"
             ],
             [
              0.4444444444444444,
              "#bd3786"
             ],
             [
              0.5555555555555556,
              "#d8576b"
             ],
             [
              0.6666666666666666,
              "#ed7953"
             ],
             [
              0.7777777777777778,
              "#fb9f3a"
             ],
             [
              0.8888888888888888,
              "#fdca26"
             ],
             [
              1,
              "#f0f921"
             ]
            ],
            "type": "histogram2d"
           }
          ],
          "histogram2dcontour": [
           {
            "colorbar": {
             "outlinewidth": 0,
             "ticks": ""
            },
            "colorscale": [
             [
              0,
              "#0d0887"
             ],
             [
              0.1111111111111111,
              "#46039f"
             ],
             [
              0.2222222222222222,
              "#7201a8"
             ],
             [
              0.3333333333333333,
              "#9c179e"
             ],
             [
              0.4444444444444444,
              "#bd3786"
             ],
             [
              0.5555555555555556,
              "#d8576b"
             ],
             [
              0.6666666666666666,
              "#ed7953"
             ],
             [
              0.7777777777777778,
              "#fb9f3a"
             ],
             [
              0.8888888888888888,
              "#fdca26"
             ],
             [
              1,
              "#f0f921"
             ]
            ],
            "type": "histogram2dcontour"
           }
          ],
          "mesh3d": [
           {
            "colorbar": {
             "outlinewidth": 0,
             "ticks": ""
            },
            "type": "mesh3d"
           }
          ],
          "parcoords": [
           {
            "line": {
             "colorbar": {
              "outlinewidth": 0,
              "ticks": ""
             }
            },
            "type": "parcoords"
           }
          ],
          "pie": [
           {
            "automargin": true,
            "type": "pie"
           }
          ],
          "scatter": [
           {
            "fillpattern": {
             "fillmode": "overlay",
             "size": 10,
             "solidity": 0.2
            },
            "type": "scatter"
           }
          ],
          "scatter3d": [
           {
            "line": {
             "colorbar": {
              "outlinewidth": 0,
              "ticks": ""
             }
            },
            "marker": {
             "colorbar": {
              "outlinewidth": 0,
              "ticks": ""
             }
            },
            "type": "scatter3d"
           }
          ],
          "scattercarpet": [
           {
            "marker": {
             "colorbar": {
              "outlinewidth": 0,
              "ticks": ""
             }
            },
            "type": "scattercarpet"
           }
          ],
          "scattergeo": [
           {
            "marker": {
             "colorbar": {
              "outlinewidth": 0,
              "ticks": ""
             }
            },
            "type": "scattergeo"
           }
          ],
          "scattergl": [
           {
            "marker": {
             "colorbar": {
              "outlinewidth": 0,
              "ticks": ""
             }
            },
            "type": "scattergl"
           }
          ],
          "scattermapbox": [
           {
            "marker": {
             "colorbar": {
              "outlinewidth": 0,
              "ticks": ""
             }
            },
            "type": "scattermapbox"
           }
          ],
          "scatterpolar": [
           {
            "marker": {
             "colorbar": {
              "outlinewidth": 0,
              "ticks": ""
             }
            },
            "type": "scatterpolar"
           }
          ],
          "scatterpolargl": [
           {
            "marker": {
             "colorbar": {
              "outlinewidth": 0,
              "ticks": ""
             }
            },
            "type": "scatterpolargl"
           }
          ],
          "scatterternary": [
           {
            "marker": {
             "colorbar": {
              "outlinewidth": 0,
              "ticks": ""
             }
            },
            "type": "scatterternary"
           }
          ],
          "surface": [
           {
            "colorbar": {
             "outlinewidth": 0,
             "ticks": ""
            },
            "colorscale": [
             [
              0,
              "#0d0887"
             ],
             [
              0.1111111111111111,
              "#46039f"
             ],
             [
              0.2222222222222222,
              "#7201a8"
             ],
             [
              0.3333333333333333,
              "#9c179e"
             ],
             [
              0.4444444444444444,
              "#bd3786"
             ],
             [
              0.5555555555555556,
              "#d8576b"
             ],
             [
              0.6666666666666666,
              "#ed7953"
             ],
             [
              0.7777777777777778,
              "#fb9f3a"
             ],
             [
              0.8888888888888888,
              "#fdca26"
             ],
             [
              1,
              "#f0f921"
             ]
            ],
            "type": "surface"
           }
          ],
          "table": [
           {
            "cells": {
             "fill": {
              "color": "#EBF0F8"
             },
             "line": {
              "color": "white"
             }
            },
            "header": {
             "fill": {
              "color": "#C8D4E3"
             },
             "line": {
              "color": "white"
             }
            },
            "type": "table"
           }
          ]
         },
         "layout": {
          "annotationdefaults": {
           "arrowcolor": "#2a3f5f",
           "arrowhead": 0,
           "arrowwidth": 1
          },
          "autotypenumbers": "strict",
          "coloraxis": {
           "colorbar": {
            "outlinewidth": 0,
            "ticks": ""
           }
          },
          "colorscale": {
           "diverging": [
            [
             0,
             "#8e0152"
            ],
            [
             0.1,
             "#c51b7d"
            ],
            [
             0.2,
             "#de77ae"
            ],
            [
             0.3,
             "#f1b6da"
            ],
            [
             0.4,
             "#fde0ef"
            ],
            [
             0.5,
             "#f7f7f7"
            ],
            [
             0.6,
             "#e6f5d0"
            ],
            [
             0.7,
             "#b8e186"
            ],
            [
             0.8,
             "#7fbc41"
            ],
            [
             0.9,
             "#4d9221"
            ],
            [
             1,
             "#276419"
            ]
           ],
           "sequential": [
            [
             0,
             "#0d0887"
            ],
            [
             0.1111111111111111,
             "#46039f"
            ],
            [
             0.2222222222222222,
             "#7201a8"
            ],
            [
             0.3333333333333333,
             "#9c179e"
            ],
            [
             0.4444444444444444,
             "#bd3786"
            ],
            [
             0.5555555555555556,
             "#d8576b"
            ],
            [
             0.6666666666666666,
             "#ed7953"
            ],
            [
             0.7777777777777778,
             "#fb9f3a"
            ],
            [
             0.8888888888888888,
             "#fdca26"
            ],
            [
             1,
             "#f0f921"
            ]
           ],
           "sequentialminus": [
            [
             0,
             "#0d0887"
            ],
            [
             0.1111111111111111,
             "#46039f"
            ],
            [
             0.2222222222222222,
             "#7201a8"
            ],
            [
             0.3333333333333333,
             "#9c179e"
            ],
            [
             0.4444444444444444,
             "#bd3786"
            ],
            [
             0.5555555555555556,
             "#d8576b"
            ],
            [
             0.6666666666666666,
             "#ed7953"
            ],
            [
             0.7777777777777778,
             "#fb9f3a"
            ],
            [
             0.8888888888888888,
             "#fdca26"
            ],
            [
             1,
             "#f0f921"
            ]
           ]
          },
          "colorway": [
           "#636efa",
           "#EF553B",
           "#00cc96",
           "#ab63fa",
           "#FFA15A",
           "#19d3f3",
           "#FF6692",
           "#B6E880",
           "#FF97FF",
           "#FECB52"
          ],
          "font": {
           "color": "#2a3f5f"
          },
          "geo": {
           "bgcolor": "white",
           "lakecolor": "white",
           "landcolor": "#E5ECF6",
           "showlakes": true,
           "showland": true,
           "subunitcolor": "white"
          },
          "hoverlabel": {
           "align": "left"
          },
          "hovermode": "closest",
          "mapbox": {
           "style": "light"
          },
          "paper_bgcolor": "white",
          "plot_bgcolor": "#E5ECF6",
          "polar": {
           "angularaxis": {
            "gridcolor": "white",
            "linecolor": "white",
            "ticks": ""
           },
           "bgcolor": "#E5ECF6",
           "radialaxis": {
            "gridcolor": "white",
            "linecolor": "white",
            "ticks": ""
           }
          },
          "scene": {
           "xaxis": {
            "backgroundcolor": "#E5ECF6",
            "gridcolor": "white",
            "gridwidth": 2,
            "linecolor": "white",
            "showbackground": true,
            "ticks": "",
            "zerolinecolor": "white"
           },
           "yaxis": {
            "backgroundcolor": "#E5ECF6",
            "gridcolor": "white",
            "gridwidth": 2,
            "linecolor": "white",
            "showbackground": true,
            "ticks": "",
            "zerolinecolor": "white"
           },
           "zaxis": {
            "backgroundcolor": "#E5ECF6",
            "gridcolor": "white",
            "gridwidth": 2,
            "linecolor": "white",
            "showbackground": true,
            "ticks": "",
            "zerolinecolor": "white"
           }
          },
          "shapedefaults": {
           "line": {
            "color": "#2a3f5f"
           }
          },
          "ternary": {
           "aaxis": {
            "gridcolor": "white",
            "linecolor": "white",
            "ticks": ""
           },
           "baxis": {
            "gridcolor": "white",
            "linecolor": "white",
            "ticks": ""
           },
           "bgcolor": "#E5ECF6",
           "caxis": {
            "gridcolor": "white",
            "linecolor": "white",
            "ticks": ""
           }
          },
          "title": {
           "x": 0.05
          },
          "xaxis": {
           "automargin": true,
           "gridcolor": "white",
           "linecolor": "white",
           "ticks": "",
           "title": {
            "standoff": 15
           },
           "zerolinecolor": "white",
           "zerolinewidth": 2
          },
          "yaxis": {
           "automargin": true,
           "gridcolor": "white",
           "linecolor": "white",
           "ticks": "",
           "title": {
            "standoff": 15
           },
           "zerolinecolor": "white",
           "zerolinewidth": 2
          }
         }
        },
        "title": {
         "text": "RFM Segmentation Scatter Plot"
        },
        "xaxis": {
         "anchor": "y",
         "domain": [
          0,
          1
         ],
         "title": {
          "text": "Recency"
         },
         "type": "log"
        },
        "yaxis": {
         "anchor": "x",
         "domain": [
          0,
          1
         ],
         "title": {
          "text": "Monetary"
         },
         "type": "log"
        }
       }
      }
     },
     "metadata": {},
     "output_type": "display_data"
    }
   ],
   "source": [
    "fig_bubble = px.scatter(owner_agg_df,\n",
    "                        x='Recency', \n",
    "                        y='Monetary', \n",
    "                        size='Frequency',  \n",
    "                        color='Segment', \n",
    "                        hover_data=['owner_id'], \n",
    "                        title='RFM Segmentation Scatter Plot')\n",
    "fig_bubble.update_layout(xaxis_type=\"log\")\n",
    "fig_bubble.update_layout(yaxis_type=\"log\")\n",
    "fig_bubble.show()"
   ]
  },
  {
   "cell_type": "code",
   "execution_count": null,
   "id": "9302d577",
   "metadata": {},
   "outputs": [
    {
     "data": {
      "text/plain": [
       "'\\n\\nLarger dots represent owners with higher transaction frequency.\\n\\nChampions show high monetary value, frequent transactions, and recent activity, clustering in the top-right of the plot.\\n\\nLoyal Owners have high frequency and spending but are less recent, clustering in the top-middle.\\n\\nAt Risk owners display high monetary value and frequency but long inactivity, clustering in the top-left.\\n\\nHigh Value-Low Activity owners indicate high spending with few transactions.\\n\\nDormant Owners show long inactivity or low spending, clustering in the lower area of the plot.\\n\\nEmerging Owners demonstrate recent activity with moderate to high frequency or spending.\\n\\n'"
      ]
     },
     "execution_count": 21,
     "metadata": {},
     "output_type": "execute_result"
    }
   ],
   "source": [
    "\"\"\"\n",
    "\n",
    "Larger dots represent owners with higher transaction frequency.\n",
    "\n",
    "Champions show high monetary value, frequent transactions, and recent activity, clustering in the top-right of the plot.\n",
    "\n",
    "Loyal Owners have high frequency and spending but are less recent, clustering in the top-middle.\n",
    "\n",
    "At Risk owners display high monetary value and frequency but long inactivity, clustering in the top-left.\n",
    "\n",
    "High Value-Low Activity owners indicate high spending with few transactions.\n",
    "\n",
    "Dormant Owners show long inactivity or low spending, clustering in the lower area of the plot.\n",
    "\n",
    "Emerging Owners demonstrate recent activity with moderate to high frequency or spending.\n",
    "\n",
    "\"\"\""
   ]
  },
  {
   "cell_type": "code",
   "execution_count": 22,
   "id": "d9b94676",
   "metadata": {},
   "outputs": [
    {
     "data": {
      "application/vnd.plotly.v1+json": {
       "config": {
        "plotlyServerURL": "https://plot.ly"
       },
       "data": [
        {
         "alignmentgroup": "True",
         "bingroup": "x",
         "hovertemplate": "Segment=%{x}<br>count=%{y}<extra></extra>",
         "legendgroup": "At Risk",
         "marker": {
          "color": "#636efa",
          "pattern": {
           "shape": ""
          }
         },
         "name": "At Risk",
         "offsetgroup": "At Risk",
         "orientation": "v",
         "showlegend": true,
         "texttemplate": "%{value}",
         "type": "histogram",
         "x": [
          "At Risk",
          "At Risk",
          "At Risk",
          "At Risk",
          "At Risk",
          "At Risk",
          "At Risk",
          "At Risk",
          "At Risk",
          "At Risk",
          "At Risk",
          "At Risk",
          "At Risk",
          "At Risk",
          "At Risk",
          "At Risk",
          "At Risk",
          "At Risk",
          "At Risk",
          "At Risk",
          "At Risk",
          "At Risk",
          "At Risk",
          "At Risk",
          "At Risk",
          "At Risk",
          "At Risk",
          "At Risk",
          "At Risk",
          "At Risk",
          "At Risk",
          "At Risk",
          "At Risk",
          "At Risk",
          "At Risk",
          "At Risk",
          "At Risk",
          "At Risk",
          "At Risk",
          "At Risk",
          "At Risk",
          "At Risk",
          "At Risk",
          "At Risk",
          "At Risk",
          "At Risk",
          "At Risk",
          "At Risk",
          "At Risk",
          "At Risk",
          "At Risk",
          "At Risk",
          "At Risk",
          "At Risk",
          "At Risk",
          "At Risk",
          "At Risk",
          "At Risk",
          "At Risk",
          "At Risk",
          "At Risk",
          "At Risk",
          "At Risk",
          "At Risk",
          "At Risk",
          "At Risk",
          "At Risk",
          "At Risk",
          "At Risk",
          "At Risk",
          "At Risk",
          "At Risk",
          "At Risk",
          "At Risk",
          "At Risk",
          "At Risk",
          "At Risk",
          "At Risk",
          "At Risk",
          "At Risk",
          "At Risk",
          "At Risk",
          "At Risk",
          "At Risk",
          "At Risk",
          "At Risk",
          "At Risk",
          "At Risk",
          "At Risk",
          "At Risk",
          "At Risk",
          "At Risk",
          "At Risk",
          "At Risk",
          "At Risk",
          "At Risk",
          "At Risk",
          "At Risk",
          "At Risk",
          "At Risk",
          "At Risk",
          "At Risk",
          "At Risk",
          "At Risk",
          "At Risk",
          "At Risk",
          "At Risk",
          "At Risk",
          "At Risk",
          "At Risk",
          "At Risk",
          "At Risk",
          "At Risk",
          "At Risk",
          "At Risk",
          "At Risk",
          "At Risk",
          "At Risk",
          "At Risk",
          "At Risk",
          "At Risk",
          "At Risk",
          "At Risk",
          "At Risk",
          "At Risk",
          "At Risk",
          "At Risk",
          "At Risk",
          "At Risk",
          "At Risk",
          "At Risk",
          "At Risk",
          "At Risk",
          "At Risk",
          "At Risk",
          "At Risk",
          "At Risk",
          "At Risk",
          "At Risk",
          "At Risk"
         ],
         "xaxis": "x",
         "yaxis": "y"
        },
        {
         "alignmentgroup": "True",
         "bingroup": "x",
         "hovertemplate": "Segment=%{x}<br>count=%{y}<extra></extra>",
         "legendgroup": "Champion",
         "marker": {
          "color": "#EF553B",
          "pattern": {
           "shape": ""
          }
         },
         "name": "Champion",
         "offsetgroup": "Champion",
         "orientation": "v",
         "showlegend": true,
         "texttemplate": "%{value}",
         "type": "histogram",
         "x": [
          "Champion",
          "Champion",
          "Champion",
          "Champion",
          "Champion",
          "Champion",
          "Champion",
          "Champion",
          "Champion",
          "Champion",
          "Champion",
          "Champion",
          "Champion",
          "Champion",
          "Champion",
          "Champion",
          "Champion",
          "Champion",
          "Champion",
          "Champion",
          "Champion",
          "Champion",
          "Champion",
          "Champion",
          "Champion",
          "Champion",
          "Champion",
          "Champion",
          "Champion",
          "Champion",
          "Champion",
          "Champion",
          "Champion",
          "Champion",
          "Champion",
          "Champion",
          "Champion",
          "Champion",
          "Champion",
          "Champion",
          "Champion",
          "Champion",
          "Champion",
          "Champion",
          "Champion",
          "Champion",
          "Champion",
          "Champion",
          "Champion",
          "Champion",
          "Champion",
          "Champion",
          "Champion",
          "Champion",
          "Champion",
          "Champion",
          "Champion",
          "Champion",
          "Champion",
          "Champion",
          "Champion",
          "Champion",
          "Champion",
          "Champion",
          "Champion",
          "Champion",
          "Champion",
          "Champion",
          "Champion",
          "Champion",
          "Champion",
          "Champion",
          "Champion",
          "Champion",
          "Champion",
          "Champion",
          "Champion",
          "Champion",
          "Champion",
          "Champion",
          "Champion",
          "Champion",
          "Champion",
          "Champion",
          "Champion",
          "Champion",
          "Champion",
          "Champion",
          "Champion",
          "Champion",
          "Champion",
          "Champion",
          "Champion",
          "Champion",
          "Champion",
          "Champion",
          "Champion",
          "Champion",
          "Champion",
          "Champion",
          "Champion",
          "Champion",
          "Champion",
          "Champion",
          "Champion",
          "Champion",
          "Champion",
          "Champion",
          "Champion",
          "Champion",
          "Champion",
          "Champion",
          "Champion",
          "Champion",
          "Champion",
          "Champion",
          "Champion",
          "Champion",
          "Champion",
          "Champion",
          "Champion",
          "Champion",
          "Champion",
          "Champion",
          "Champion",
          "Champion",
          "Champion",
          "Champion",
          "Champion",
          "Champion",
          "Champion",
          "Champion",
          "Champion",
          "Champion",
          "Champion",
          "Champion",
          "Champion",
          "Champion",
          "Champion",
          "Champion",
          "Champion",
          "Champion",
          "Champion",
          "Champion",
          "Champion",
          "Champion",
          "Champion",
          "Champion",
          "Champion",
          "Champion",
          "Champion",
          "Champion",
          "Champion",
          "Champion",
          "Champion",
          "Champion",
          "Champion",
          "Champion",
          "Champion",
          "Champion",
          "Champion",
          "Champion",
          "Champion",
          "Champion",
          "Champion",
          "Champion",
          "Champion",
          "Champion",
          "Champion",
          "Champion",
          "Champion",
          "Champion",
          "Champion",
          "Champion",
          "Champion",
          "Champion",
          "Champion",
          "Champion",
          "Champion",
          "Champion",
          "Champion",
          "Champion",
          "Champion",
          "Champion",
          "Champion",
          "Champion",
          "Champion",
          "Champion",
          "Champion",
          "Champion",
          "Champion",
          "Champion",
          "Champion",
          "Champion",
          "Champion",
          "Champion",
          "Champion",
          "Champion",
          "Champion",
          "Champion",
          "Champion",
          "Champion",
          "Champion",
          "Champion",
          "Champion",
          "Champion",
          "Champion",
          "Champion",
          "Champion",
          "Champion",
          "Champion",
          "Champion",
          "Champion",
          "Champion",
          "Champion",
          "Champion",
          "Champion",
          "Champion",
          "Champion",
          "Champion",
          "Champion",
          "Champion",
          "Champion",
          "Champion",
          "Champion",
          "Champion",
          "Champion",
          "Champion",
          "Champion",
          "Champion",
          "Champion",
          "Champion",
          "Champion",
          "Champion",
          "Champion",
          "Champion",
          "Champion",
          "Champion",
          "Champion",
          "Champion",
          "Champion",
          "Champion",
          "Champion",
          "Champion",
          "Champion",
          "Champion",
          "Champion",
          "Champion",
          "Champion",
          "Champion",
          "Champion",
          "Champion",
          "Champion",
          "Champion",
          "Champion",
          "Champion",
          "Champion",
          "Champion",
          "Champion",
          "Champion",
          "Champion",
          "Champion",
          "Champion",
          "Champion",
          "Champion",
          "Champion",
          "Champion",
          "Champion",
          "Champion",
          "Champion",
          "Champion",
          "Champion",
          "Champion",
          "Champion",
          "Champion",
          "Champion",
          "Champion",
          "Champion",
          "Champion",
          "Champion",
          "Champion",
          "Champion",
          "Champion",
          "Champion",
          "Champion",
          "Champion",
          "Champion",
          "Champion",
          "Champion",
          "Champion",
          "Champion",
          "Champion",
          "Champion",
          "Champion",
          "Champion",
          "Champion",
          "Champion",
          "Champion",
          "Champion",
          "Champion",
          "Champion",
          "Champion",
          "Champion",
          "Champion",
          "Champion",
          "Champion",
          "Champion",
          "Champion",
          "Champion",
          "Champion",
          "Champion",
          "Champion",
          "Champion",
          "Champion",
          "Champion",
          "Champion",
          "Champion",
          "Champion",
          "Champion",
          "Champion",
          "Champion",
          "Champion",
          "Champion",
          "Champion",
          "Champion",
          "Champion",
          "Champion",
          "Champion",
          "Champion",
          "Champion",
          "Champion",
          "Champion",
          "Champion",
          "Champion",
          "Champion",
          "Champion",
          "Champion",
          "Champion",
          "Champion",
          "Champion",
          "Champion",
          "Champion",
          "Champion",
          "Champion",
          "Champion",
          "Champion",
          "Champion",
          "Champion",
          "Champion",
          "Champion",
          "Champion",
          "Champion",
          "Champion",
          "Champion",
          "Champion",
          "Champion",
          "Champion",
          "Champion",
          "Champion",
          "Champion",
          "Champion",
          "Champion",
          "Champion",
          "Champion",
          "Champion",
          "Champion",
          "Champion",
          "Champion",
          "Champion",
          "Champion",
          "Champion",
          "Champion",
          "Champion",
          "Champion",
          "Champion",
          "Champion",
          "Champion",
          "Champion",
          "Champion",
          "Champion",
          "Champion",
          "Champion",
          "Champion",
          "Champion",
          "Champion",
          "Champion",
          "Champion",
          "Champion",
          "Champion",
          "Champion",
          "Champion",
          "Champion",
          "Champion",
          "Champion",
          "Champion",
          "Champion",
          "Champion",
          "Champion",
          "Champion",
          "Champion",
          "Champion",
          "Champion",
          "Champion",
          "Champion",
          "Champion",
          "Champion",
          "Champion",
          "Champion",
          "Champion",
          "Champion",
          "Champion",
          "Champion",
          "Champion",
          "Champion",
          "Champion",
          "Champion",
          "Champion",
          "Champion",
          "Champion",
          "Champion",
          "Champion",
          "Champion",
          "Champion",
          "Champion",
          "Champion",
          "Champion",
          "Champion",
          "Champion",
          "Champion",
          "Champion",
          "Champion",
          "Champion",
          "Champion",
          "Champion",
          "Champion",
          "Champion",
          "Champion"
         ],
         "xaxis": "x",
         "yaxis": "y"
        },
        {
         "alignmentgroup": "True",
         "bingroup": "x",
         "hovertemplate": "Segment=%{x}<br>count=%{y}<extra></extra>",
         "legendgroup": "Dormant Owner",
         "marker": {
          "color": "#00cc96",
          "pattern": {
           "shape": ""
          }
         },
         "name": "Dormant Owner",
         "offsetgroup": "Dormant Owner",
         "orientation": "v",
         "showlegend": true,
         "texttemplate": "%{value}",
         "type": "histogram",
         "x": [
          "Dormant Owner",
          "Dormant Owner",
          "Dormant Owner",
          "Dormant Owner",
          "Dormant Owner",
          "Dormant Owner",
          "Dormant Owner",
          "Dormant Owner",
          "Dormant Owner",
          "Dormant Owner",
          "Dormant Owner",
          "Dormant Owner",
          "Dormant Owner",
          "Dormant Owner",
          "Dormant Owner",
          "Dormant Owner",
          "Dormant Owner",
          "Dormant Owner",
          "Dormant Owner",
          "Dormant Owner",
          "Dormant Owner",
          "Dormant Owner",
          "Dormant Owner",
          "Dormant Owner",
          "Dormant Owner",
          "Dormant Owner",
          "Dormant Owner",
          "Dormant Owner",
          "Dormant Owner",
          "Dormant Owner",
          "Dormant Owner",
          "Dormant Owner",
          "Dormant Owner",
          "Dormant Owner",
          "Dormant Owner",
          "Dormant Owner",
          "Dormant Owner",
          "Dormant Owner",
          "Dormant Owner",
          "Dormant Owner",
          "Dormant Owner",
          "Dormant Owner",
          "Dormant Owner",
          "Dormant Owner",
          "Dormant Owner",
          "Dormant Owner",
          "Dormant Owner",
          "Dormant Owner",
          "Dormant Owner",
          "Dormant Owner",
          "Dormant Owner",
          "Dormant Owner",
          "Dormant Owner",
          "Dormant Owner",
          "Dormant Owner",
          "Dormant Owner",
          "Dormant Owner",
          "Dormant Owner",
          "Dormant Owner",
          "Dormant Owner",
          "Dormant Owner",
          "Dormant Owner",
          "Dormant Owner",
          "Dormant Owner",
          "Dormant Owner",
          "Dormant Owner",
          "Dormant Owner",
          "Dormant Owner",
          "Dormant Owner",
          "Dormant Owner",
          "Dormant Owner",
          "Dormant Owner",
          "Dormant Owner",
          "Dormant Owner",
          "Dormant Owner",
          "Dormant Owner",
          "Dormant Owner",
          "Dormant Owner",
          "Dormant Owner",
          "Dormant Owner",
          "Dormant Owner",
          "Dormant Owner",
          "Dormant Owner",
          "Dormant Owner",
          "Dormant Owner",
          "Dormant Owner",
          "Dormant Owner",
          "Dormant Owner",
          "Dormant Owner",
          "Dormant Owner",
          "Dormant Owner",
          "Dormant Owner",
          "Dormant Owner",
          "Dormant Owner",
          "Dormant Owner",
          "Dormant Owner",
          "Dormant Owner",
          "Dormant Owner",
          "Dormant Owner",
          "Dormant Owner",
          "Dormant Owner",
          "Dormant Owner",
          "Dormant Owner",
          "Dormant Owner",
          "Dormant Owner",
          "Dormant Owner",
          "Dormant Owner",
          "Dormant Owner",
          "Dormant Owner",
          "Dormant Owner",
          "Dormant Owner",
          "Dormant Owner",
          "Dormant Owner",
          "Dormant Owner",
          "Dormant Owner",
          "Dormant Owner",
          "Dormant Owner",
          "Dormant Owner",
          "Dormant Owner",
          "Dormant Owner",
          "Dormant Owner",
          "Dormant Owner",
          "Dormant Owner",
          "Dormant Owner",
          "Dormant Owner",
          "Dormant Owner",
          "Dormant Owner",
          "Dormant Owner",
          "Dormant Owner",
          "Dormant Owner",
          "Dormant Owner",
          "Dormant Owner",
          "Dormant Owner",
          "Dormant Owner",
          "Dormant Owner",
          "Dormant Owner",
          "Dormant Owner",
          "Dormant Owner",
          "Dormant Owner",
          "Dormant Owner",
          "Dormant Owner",
          "Dormant Owner",
          "Dormant Owner",
          "Dormant Owner",
          "Dormant Owner",
          "Dormant Owner",
          "Dormant Owner",
          "Dormant Owner",
          "Dormant Owner",
          "Dormant Owner",
          "Dormant Owner",
          "Dormant Owner",
          "Dormant Owner",
          "Dormant Owner",
          "Dormant Owner",
          "Dormant Owner",
          "Dormant Owner",
          "Dormant Owner",
          "Dormant Owner",
          "Dormant Owner",
          "Dormant Owner",
          "Dormant Owner",
          "Dormant Owner",
          "Dormant Owner",
          "Dormant Owner",
          "Dormant Owner",
          "Dormant Owner",
          "Dormant Owner",
          "Dormant Owner",
          "Dormant Owner",
          "Dormant Owner",
          "Dormant Owner",
          "Dormant Owner",
          "Dormant Owner",
          "Dormant Owner",
          "Dormant Owner",
          "Dormant Owner",
          "Dormant Owner",
          "Dormant Owner",
          "Dormant Owner",
          "Dormant Owner",
          "Dormant Owner",
          "Dormant Owner",
          "Dormant Owner",
          "Dormant Owner",
          "Dormant Owner",
          "Dormant Owner",
          "Dormant Owner",
          "Dormant Owner",
          "Dormant Owner",
          "Dormant Owner",
          "Dormant Owner",
          "Dormant Owner",
          "Dormant Owner",
          "Dormant Owner",
          "Dormant Owner",
          "Dormant Owner",
          "Dormant Owner",
          "Dormant Owner",
          "Dormant Owner",
          "Dormant Owner",
          "Dormant Owner",
          "Dormant Owner",
          "Dormant Owner",
          "Dormant Owner",
          "Dormant Owner",
          "Dormant Owner",
          "Dormant Owner",
          "Dormant Owner",
          "Dormant Owner",
          "Dormant Owner",
          "Dormant Owner",
          "Dormant Owner",
          "Dormant Owner",
          "Dormant Owner",
          "Dormant Owner",
          "Dormant Owner",
          "Dormant Owner",
          "Dormant Owner",
          "Dormant Owner",
          "Dormant Owner",
          "Dormant Owner",
          "Dormant Owner",
          "Dormant Owner",
          "Dormant Owner",
          "Dormant Owner",
          "Dormant Owner",
          "Dormant Owner",
          "Dormant Owner",
          "Dormant Owner",
          "Dormant Owner",
          "Dormant Owner",
          "Dormant Owner",
          "Dormant Owner",
          "Dormant Owner",
          "Dormant Owner",
          "Dormant Owner",
          "Dormant Owner",
          "Dormant Owner",
          "Dormant Owner",
          "Dormant Owner",
          "Dormant Owner",
          "Dormant Owner",
          "Dormant Owner",
          "Dormant Owner",
          "Dormant Owner",
          "Dormant Owner",
          "Dormant Owner",
          "Dormant Owner",
          "Dormant Owner",
          "Dormant Owner",
          "Dormant Owner",
          "Dormant Owner",
          "Dormant Owner",
          "Dormant Owner",
          "Dormant Owner",
          "Dormant Owner",
          "Dormant Owner",
          "Dormant Owner",
          "Dormant Owner",
          "Dormant Owner",
          "Dormant Owner",
          "Dormant Owner",
          "Dormant Owner",
          "Dormant Owner",
          "Dormant Owner",
          "Dormant Owner",
          "Dormant Owner",
          "Dormant Owner",
          "Dormant Owner",
          "Dormant Owner",
          "Dormant Owner",
          "Dormant Owner",
          "Dormant Owner",
          "Dormant Owner",
          "Dormant Owner",
          "Dormant Owner",
          "Dormant Owner",
          "Dormant Owner",
          "Dormant Owner",
          "Dormant Owner",
          "Dormant Owner",
          "Dormant Owner",
          "Dormant Owner",
          "Dormant Owner",
          "Dormant Owner",
          "Dormant Owner",
          "Dormant Owner",
          "Dormant Owner",
          "Dormant Owner",
          "Dormant Owner",
          "Dormant Owner",
          "Dormant Owner",
          "Dormant Owner",
          "Dormant Owner",
          "Dormant Owner",
          "Dormant Owner",
          "Dormant Owner",
          "Dormant Owner",
          "Dormant Owner",
          "Dormant Owner",
          "Dormant Owner",
          "Dormant Owner",
          "Dormant Owner",
          "Dormant Owner",
          "Dormant Owner",
          "Dormant Owner",
          "Dormant Owner",
          "Dormant Owner",
          "Dormant Owner",
          "Dormant Owner",
          "Dormant Owner",
          "Dormant Owner",
          "Dormant Owner",
          "Dormant Owner",
          "Dormant Owner",
          "Dormant Owner",
          "Dormant Owner",
          "Dormant Owner",
          "Dormant Owner",
          "Dormant Owner",
          "Dormant Owner",
          "Dormant Owner",
          "Dormant Owner",
          "Dormant Owner",
          "Dormant Owner",
          "Dormant Owner",
          "Dormant Owner",
          "Dormant Owner",
          "Dormant Owner",
          "Dormant Owner",
          "Dormant Owner",
          "Dormant Owner",
          "Dormant Owner",
          "Dormant Owner",
          "Dormant Owner",
          "Dormant Owner",
          "Dormant Owner",
          "Dormant Owner",
          "Dormant Owner",
          "Dormant Owner",
          "Dormant Owner",
          "Dormant Owner",
          "Dormant Owner",
          "Dormant Owner",
          "Dormant Owner",
          "Dormant Owner",
          "Dormant Owner",
          "Dormant Owner",
          "Dormant Owner",
          "Dormant Owner",
          "Dormant Owner",
          "Dormant Owner",
          "Dormant Owner",
          "Dormant Owner",
          "Dormant Owner",
          "Dormant Owner",
          "Dormant Owner",
          "Dormant Owner",
          "Dormant Owner",
          "Dormant Owner",
          "Dormant Owner",
          "Dormant Owner",
          "Dormant Owner",
          "Dormant Owner",
          "Dormant Owner",
          "Dormant Owner",
          "Dormant Owner",
          "Dormant Owner",
          "Dormant Owner",
          "Dormant Owner",
          "Dormant Owner",
          "Dormant Owner",
          "Dormant Owner",
          "Dormant Owner",
          "Dormant Owner",
          "Dormant Owner",
          "Dormant Owner",
          "Dormant Owner",
          "Dormant Owner",
          "Dormant Owner",
          "Dormant Owner",
          "Dormant Owner",
          "Dormant Owner",
          "Dormant Owner",
          "Dormant Owner",
          "Dormant Owner",
          "Dormant Owner",
          "Dormant Owner",
          "Dormant Owner",
          "Dormant Owner",
          "Dormant Owner",
          "Dormant Owner",
          "Dormant Owner",
          "Dormant Owner",
          "Dormant Owner",
          "Dormant Owner",
          "Dormant Owner",
          "Dormant Owner",
          "Dormant Owner",
          "Dormant Owner",
          "Dormant Owner",
          "Dormant Owner",
          "Dormant Owner",
          "Dormant Owner",
          "Dormant Owner",
          "Dormant Owner",
          "Dormant Owner",
          "Dormant Owner",
          "Dormant Owner",
          "Dormant Owner",
          "Dormant Owner",
          "Dormant Owner",
          "Dormant Owner",
          "Dormant Owner",
          "Dormant Owner",
          "Dormant Owner",
          "Dormant Owner",
          "Dormant Owner",
          "Dormant Owner",
          "Dormant Owner",
          "Dormant Owner",
          "Dormant Owner",
          "Dormant Owner",
          "Dormant Owner",
          "Dormant Owner",
          "Dormant Owner",
          "Dormant Owner",
          "Dormant Owner",
          "Dormant Owner",
          "Dormant Owner",
          "Dormant Owner",
          "Dormant Owner",
          "Dormant Owner",
          "Dormant Owner",
          "Dormant Owner",
          "Dormant Owner",
          "Dormant Owner",
          "Dormant Owner",
          "Dormant Owner",
          "Dormant Owner",
          "Dormant Owner",
          "Dormant Owner",
          "Dormant Owner",
          "Dormant Owner",
          "Dormant Owner",
          "Dormant Owner"
         ],
         "xaxis": "x",
         "yaxis": "y"
        },
        {
         "alignmentgroup": "True",
         "bingroup": "x",
         "hovertemplate": "Segment=%{x}<br>count=%{y}<extra></extra>",
         "legendgroup": "Emerging Owne",
         "marker": {
          "color": "#ab63fa",
          "pattern": {
           "shape": ""
          }
         },
         "name": "Emerging Owne",
         "offsetgroup": "Emerging Owne",
         "orientation": "v",
         "showlegend": true,
         "texttemplate": "%{value}",
         "type": "histogram",
         "x": [
          "Emerging Owne",
          "Emerging Owne",
          "Emerging Owne",
          "Emerging Owne",
          "Emerging Owne",
          "Emerging Owne",
          "Emerging Owne",
          "Emerging Owne",
          "Emerging Owne",
          "Emerging Owne",
          "Emerging Owne",
          "Emerging Owne",
          "Emerging Owne",
          "Emerging Owne",
          "Emerging Owne",
          "Emerging Owne",
          "Emerging Owne",
          "Emerging Owne",
          "Emerging Owne",
          "Emerging Owne",
          "Emerging Owne",
          "Emerging Owne",
          "Emerging Owne",
          "Emerging Owne",
          "Emerging Owne",
          "Emerging Owne",
          "Emerging Owne",
          "Emerging Owne",
          "Emerging Owne",
          "Emerging Owne",
          "Emerging Owne",
          "Emerging Owne",
          "Emerging Owne",
          "Emerging Owne",
          "Emerging Owne",
          "Emerging Owne",
          "Emerging Owne",
          "Emerging Owne",
          "Emerging Owne",
          "Emerging Owne",
          "Emerging Owne",
          "Emerging Owne",
          "Emerging Owne",
          "Emerging Owne",
          "Emerging Owne",
          "Emerging Owne",
          "Emerging Owne",
          "Emerging Owne",
          "Emerging Owne",
          "Emerging Owne",
          "Emerging Owne",
          "Emerging Owne",
          "Emerging Owne",
          "Emerging Owne",
          "Emerging Owne",
          "Emerging Owne",
          "Emerging Owne",
          "Emerging Owne",
          "Emerging Owne",
          "Emerging Owne",
          "Emerging Owne",
          "Emerging Owne",
          "Emerging Owne",
          "Emerging Owne",
          "Emerging Owne",
          "Emerging Owne",
          "Emerging Owne",
          "Emerging Owne",
          "Emerging Owne",
          "Emerging Owne",
          "Emerging Owne",
          "Emerging Owne",
          "Emerging Owne",
          "Emerging Owne",
          "Emerging Owne",
          "Emerging Owne",
          "Emerging Owne",
          "Emerging Owne",
          "Emerging Owne",
          "Emerging Owne",
          "Emerging Owne",
          "Emerging Owne",
          "Emerging Owne",
          "Emerging Owne",
          "Emerging Owne",
          "Emerging Owne",
          "Emerging Owne",
          "Emerging Owne",
          "Emerging Owne",
          "Emerging Owne",
          "Emerging Owne",
          "Emerging Owne",
          "Emerging Owne",
          "Emerging Owne",
          "Emerging Owne",
          "Emerging Owne",
          "Emerging Owne",
          "Emerging Owne",
          "Emerging Owne",
          "Emerging Owne",
          "Emerging Owne",
          "Emerging Owne",
          "Emerging Owne",
          "Emerging Owne",
          "Emerging Owne",
          "Emerging Owne",
          "Emerging Owne",
          "Emerging Owne",
          "Emerging Owne",
          "Emerging Owne",
          "Emerging Owne",
          "Emerging Owne",
          "Emerging Owne",
          "Emerging Owne",
          "Emerging Owne",
          "Emerging Owne",
          "Emerging Owne",
          "Emerging Owne",
          "Emerging Owne",
          "Emerging Owne",
          "Emerging Owne",
          "Emerging Owne",
          "Emerging Owne",
          "Emerging Owne",
          "Emerging Owne",
          "Emerging Owne",
          "Emerging Owne",
          "Emerging Owne",
          "Emerging Owne",
          "Emerging Owne",
          "Emerging Owne",
          "Emerging Owne",
          "Emerging Owne",
          "Emerging Owne",
          "Emerging Owne",
          "Emerging Owne",
          "Emerging Owne",
          "Emerging Owne",
          "Emerging Owne",
          "Emerging Owne",
          "Emerging Owne",
          "Emerging Owne",
          "Emerging Owne",
          "Emerging Owne",
          "Emerging Owne",
          "Emerging Owne",
          "Emerging Owne",
          "Emerging Owne",
          "Emerging Owne",
          "Emerging Owne",
          "Emerging Owne",
          "Emerging Owne",
          "Emerging Owne",
          "Emerging Owne",
          "Emerging Owne",
          "Emerging Owne",
          "Emerging Owne",
          "Emerging Owne",
          "Emerging Owne",
          "Emerging Owne",
          "Emerging Owne",
          "Emerging Owne",
          "Emerging Owne",
          "Emerging Owne",
          "Emerging Owne",
          "Emerging Owne",
          "Emerging Owne",
          "Emerging Owne",
          "Emerging Owne",
          "Emerging Owne",
          "Emerging Owne",
          "Emerging Owne",
          "Emerging Owne",
          "Emerging Owne",
          "Emerging Owne",
          "Emerging Owne",
          "Emerging Owne",
          "Emerging Owne",
          "Emerging Owne",
          "Emerging Owne",
          "Emerging Owne",
          "Emerging Owne",
          "Emerging Owne",
          "Emerging Owne",
          "Emerging Owne",
          "Emerging Owne",
          "Emerging Owne",
          "Emerging Owne",
          "Emerging Owne",
          "Emerging Owne",
          "Emerging Owne",
          "Emerging Owne",
          "Emerging Owne",
          "Emerging Owne",
          "Emerging Owne",
          "Emerging Owne",
          "Emerging Owne",
          "Emerging Owne",
          "Emerging Owne",
          "Emerging Owne",
          "Emerging Owne",
          "Emerging Owne",
          "Emerging Owne",
          "Emerging Owne",
          "Emerging Owne",
          "Emerging Owne",
          "Emerging Owne",
          "Emerging Owne",
          "Emerging Owne",
          "Emerging Owne",
          "Emerging Owne",
          "Emerging Owne",
          "Emerging Owne",
          "Emerging Owne",
          "Emerging Owne",
          "Emerging Owne",
          "Emerging Owne",
          "Emerging Owne",
          "Emerging Owne",
          "Emerging Owne",
          "Emerging Owne",
          "Emerging Owne",
          "Emerging Owne",
          "Emerging Owne",
          "Emerging Owne",
          "Emerging Owne",
          "Emerging Owne",
          "Emerging Owne",
          "Emerging Owne",
          "Emerging Owne",
          "Emerging Owne",
          "Emerging Owne",
          "Emerging Owne",
          "Emerging Owne",
          "Emerging Owne",
          "Emerging Owne",
          "Emerging Owne",
          "Emerging Owne",
          "Emerging Owne",
          "Emerging Owne",
          "Emerging Owne",
          "Emerging Owne",
          "Emerging Owne",
          "Emerging Owne",
          "Emerging Owne",
          "Emerging Owne",
          "Emerging Owne",
          "Emerging Owne",
          "Emerging Owne",
          "Emerging Owne",
          "Emerging Owne",
          "Emerging Owne",
          "Emerging Owne",
          "Emerging Owne",
          "Emerging Owne",
          "Emerging Owne",
          "Emerging Owne",
          "Emerging Owne",
          "Emerging Owne",
          "Emerging Owne",
          "Emerging Owne",
          "Emerging Owne",
          "Emerging Owne",
          "Emerging Owne",
          "Emerging Owne",
          "Emerging Owne",
          "Emerging Owne",
          "Emerging Owne",
          "Emerging Owne",
          "Emerging Owne",
          "Emerging Owne"
         ],
         "xaxis": "x",
         "yaxis": "y"
        },
        {
         "alignmentgroup": "True",
         "bingroup": "x",
         "hovertemplate": "Segment=%{x}<br>count=%{y}<extra></extra>",
         "legendgroup": "High Value-Low Activity",
         "marker": {
          "color": "#FFA15A",
          "pattern": {
           "shape": ""
          }
         },
         "name": "High Value-Low Activity",
         "offsetgroup": "High Value-Low Activity",
         "orientation": "v",
         "showlegend": true,
         "texttemplate": "%{value}",
         "type": "histogram",
         "x": [
          "High Value-Low Activity",
          "High Value-Low Activity",
          "High Value-Low Activity",
          "High Value-Low Activity",
          "High Value-Low Activity",
          "High Value-Low Activity",
          "High Value-Low Activity",
          "High Value-Low Activity",
          "High Value-Low Activity",
          "High Value-Low Activity",
          "High Value-Low Activity",
          "High Value-Low Activity",
          "High Value-Low Activity",
          "High Value-Low Activity",
          "High Value-Low Activity",
          "High Value-Low Activity",
          "High Value-Low Activity",
          "High Value-Low Activity",
          "High Value-Low Activity",
          "High Value-Low Activity",
          "High Value-Low Activity",
          "High Value-Low Activity",
          "High Value-Low Activity",
          "High Value-Low Activity",
          "High Value-Low Activity",
          "High Value-Low Activity",
          "High Value-Low Activity",
          "High Value-Low Activity",
          "High Value-Low Activity",
          "High Value-Low Activity",
          "High Value-Low Activity",
          "High Value-Low Activity",
          "High Value-Low Activity",
          "High Value-Low Activity",
          "High Value-Low Activity",
          "High Value-Low Activity",
          "High Value-Low Activity",
          "High Value-Low Activity",
          "High Value-Low Activity",
          "High Value-Low Activity",
          "High Value-Low Activity",
          "High Value-Low Activity",
          "High Value-Low Activity",
          "High Value-Low Activity",
          "High Value-Low Activity",
          "High Value-Low Activity",
          "High Value-Low Activity",
          "High Value-Low Activity",
          "High Value-Low Activity",
          "High Value-Low Activity",
          "High Value-Low Activity",
          "High Value-Low Activity",
          "High Value-Low Activity",
          "High Value-Low Activity",
          "High Value-Low Activity",
          "High Value-Low Activity",
          "High Value-Low Activity",
          "High Value-Low Activity",
          "High Value-Low Activity",
          "High Value-Low Activity",
          "High Value-Low Activity",
          "High Value-Low Activity",
          "High Value-Low Activity",
          "High Value-Low Activity",
          "High Value-Low Activity",
          "High Value-Low Activity",
          "High Value-Low Activity",
          "High Value-Low Activity",
          "High Value-Low Activity",
          "High Value-Low Activity",
          "High Value-Low Activity",
          "High Value-Low Activity",
          "High Value-Low Activity",
          "High Value-Low Activity",
          "High Value-Low Activity",
          "High Value-Low Activity",
          "High Value-Low Activity",
          "High Value-Low Activity",
          "High Value-Low Activity",
          "High Value-Low Activity",
          "High Value-Low Activity",
          "High Value-Low Activity",
          "High Value-Low Activity",
          "High Value-Low Activity",
          "High Value-Low Activity",
          "High Value-Low Activity",
          "High Value-Low Activity",
          "High Value-Low Activity",
          "High Value-Low Activity",
          "High Value-Low Activity",
          "High Value-Low Activity",
          "High Value-Low Activity",
          "High Value-Low Activity",
          "High Value-Low Activity",
          "High Value-Low Activity",
          "High Value-Low Activity",
          "High Value-Low Activity",
          "High Value-Low Activity",
          "High Value-Low Activity",
          "High Value-Low Activity",
          "High Value-Low Activity",
          "High Value-Low Activity",
          "High Value-Low Activity",
          "High Value-Low Activity",
          "High Value-Low Activity",
          "High Value-Low Activity",
          "High Value-Low Activity",
          "High Value-Low Activity",
          "High Value-Low Activity",
          "High Value-Low Activity",
          "High Value-Low Activity",
          "High Value-Low Activity",
          "High Value-Low Activity",
          "High Value-Low Activity",
          "High Value-Low Activity",
          "High Value-Low Activity",
          "High Value-Low Activity",
          "High Value-Low Activity",
          "High Value-Low Activity"
         ],
         "xaxis": "x",
         "yaxis": "y"
        },
        {
         "alignmentgroup": "True",
         "bingroup": "x",
         "hovertemplate": "Segment=%{x}<br>count=%{y}<extra></extra>",
         "legendgroup": "Loyal Owner",
         "marker": {
          "color": "#19d3f3",
          "pattern": {
           "shape": ""
          }
         },
         "name": "Loyal Owner",
         "offsetgroup": "Loyal Owner",
         "orientation": "v",
         "showlegend": true,
         "texttemplate": "%{value}",
         "type": "histogram",
         "x": [
          "Loyal Owner",
          "Loyal Owner",
          "Loyal Owner",
          "Loyal Owner",
          "Loyal Owner",
          "Loyal Owner",
          "Loyal Owner",
          "Loyal Owner",
          "Loyal Owner",
          "Loyal Owner",
          "Loyal Owner",
          "Loyal Owner",
          "Loyal Owner",
          "Loyal Owner",
          "Loyal Owner",
          "Loyal Owner",
          "Loyal Owner",
          "Loyal Owner",
          "Loyal Owner",
          "Loyal Owner",
          "Loyal Owner",
          "Loyal Owner",
          "Loyal Owner",
          "Loyal Owner",
          "Loyal Owner",
          "Loyal Owner",
          "Loyal Owner",
          "Loyal Owner",
          "Loyal Owner",
          "Loyal Owner",
          "Loyal Owner",
          "Loyal Owner",
          "Loyal Owner"
         ],
         "xaxis": "x",
         "yaxis": "y"
        }
       ],
       "layout": {
        "barmode": "relative",
        "legend": {
         "title": {
          "text": "Segment"
         },
         "tracegroupgap": 0
        },
        "template": {
         "data": {
          "bar": [
           {
            "error_x": {
             "color": "#2a3f5f"
            },
            "error_y": {
             "color": "#2a3f5f"
            },
            "marker": {
             "line": {
              "color": "#E5ECF6",
              "width": 0.5
             },
             "pattern": {
              "fillmode": "overlay",
              "size": 10,
              "solidity": 0.2
             }
            },
            "type": "bar"
           }
          ],
          "barpolar": [
           {
            "marker": {
             "line": {
              "color": "#E5ECF6",
              "width": 0.5
             },
             "pattern": {
              "fillmode": "overlay",
              "size": 10,
              "solidity": 0.2
             }
            },
            "type": "barpolar"
           }
          ],
          "carpet": [
           {
            "aaxis": {
             "endlinecolor": "#2a3f5f",
             "gridcolor": "white",
             "linecolor": "white",
             "minorgridcolor": "white",
             "startlinecolor": "#2a3f5f"
            },
            "baxis": {
             "endlinecolor": "#2a3f5f",
             "gridcolor": "white",
             "linecolor": "white",
             "minorgridcolor": "white",
             "startlinecolor": "#2a3f5f"
            },
            "type": "carpet"
           }
          ],
          "choropleth": [
           {
            "colorbar": {
             "outlinewidth": 0,
             "ticks": ""
            },
            "type": "choropleth"
           }
          ],
          "contour": [
           {
            "colorbar": {
             "outlinewidth": 0,
             "ticks": ""
            },
            "colorscale": [
             [
              0,
              "#0d0887"
             ],
             [
              0.1111111111111111,
              "#46039f"
             ],
             [
              0.2222222222222222,
              "#7201a8"
             ],
             [
              0.3333333333333333,
              "#9c179e"
             ],
             [
              0.4444444444444444,
              "#bd3786"
             ],
             [
              0.5555555555555556,
              "#d8576b"
             ],
             [
              0.6666666666666666,
              "#ed7953"
             ],
             [
              0.7777777777777778,
              "#fb9f3a"
             ],
             [
              0.8888888888888888,
              "#fdca26"
             ],
             [
              1,
              "#f0f921"
             ]
            ],
            "type": "contour"
           }
          ],
          "contourcarpet": [
           {
            "colorbar": {
             "outlinewidth": 0,
             "ticks": ""
            },
            "type": "contourcarpet"
           }
          ],
          "heatmap": [
           {
            "colorbar": {
             "outlinewidth": 0,
             "ticks": ""
            },
            "colorscale": [
             [
              0,
              "#0d0887"
             ],
             [
              0.1111111111111111,
              "#46039f"
             ],
             [
              0.2222222222222222,
              "#7201a8"
             ],
             [
              0.3333333333333333,
              "#9c179e"
             ],
             [
              0.4444444444444444,
              "#bd3786"
             ],
             [
              0.5555555555555556,
              "#d8576b"
             ],
             [
              0.6666666666666666,
              "#ed7953"
             ],
             [
              0.7777777777777778,
              "#fb9f3a"
             ],
             [
              0.8888888888888888,
              "#fdca26"
             ],
             [
              1,
              "#f0f921"
             ]
            ],
            "type": "heatmap"
           }
          ],
          "heatmapgl": [
           {
            "colorbar": {
             "outlinewidth": 0,
             "ticks": ""
            },
            "colorscale": [
             [
              0,
              "#0d0887"
             ],
             [
              0.1111111111111111,
              "#46039f"
             ],
             [
              0.2222222222222222,
              "#7201a8"
             ],
             [
              0.3333333333333333,
              "#9c179e"
             ],
             [
              0.4444444444444444,
              "#bd3786"
             ],
             [
              0.5555555555555556,
              "#d8576b"
             ],
             [
              0.6666666666666666,
              "#ed7953"
             ],
             [
              0.7777777777777778,
              "#fb9f3a"
             ],
             [
              0.8888888888888888,
              "#fdca26"
             ],
             [
              1,
              "#f0f921"
             ]
            ],
            "type": "heatmapgl"
           }
          ],
          "histogram": [
           {
            "marker": {
             "pattern": {
              "fillmode": "overlay",
              "size": 10,
              "solidity": 0.2
             }
            },
            "type": "histogram"
           }
          ],
          "histogram2d": [
           {
            "colorbar": {
             "outlinewidth": 0,
             "ticks": ""
            },
            "colorscale": [
             [
              0,
              "#0d0887"
             ],
             [
              0.1111111111111111,
              "#46039f"
             ],
             [
              0.2222222222222222,
              "#7201a8"
             ],
             [
              0.3333333333333333,
              "#9c179e"
             ],
             [
              0.4444444444444444,
              "#bd3786"
             ],
             [
              0.5555555555555556,
              "#d8576b"
             ],
             [
              0.6666666666666666,
              "#ed7953"
             ],
             [
              0.7777777777777778,
              "#fb9f3a"
             ],
             [
              0.8888888888888888,
              "#fdca26"
             ],
             [
              1,
              "#f0f921"
             ]
            ],
            "type": "histogram2d"
           }
          ],
          "histogram2dcontour": [
           {
            "colorbar": {
             "outlinewidth": 0,
             "ticks": ""
            },
            "colorscale": [
             [
              0,
              "#0d0887"
             ],
             [
              0.1111111111111111,
              "#46039f"
             ],
             [
              0.2222222222222222,
              "#7201a8"
             ],
             [
              0.3333333333333333,
              "#9c179e"
             ],
             [
              0.4444444444444444,
              "#bd3786"
             ],
             [
              0.5555555555555556,
              "#d8576b"
             ],
             [
              0.6666666666666666,
              "#ed7953"
             ],
             [
              0.7777777777777778,
              "#fb9f3a"
             ],
             [
              0.8888888888888888,
              "#fdca26"
             ],
             [
              1,
              "#f0f921"
             ]
            ],
            "type": "histogram2dcontour"
           }
          ],
          "mesh3d": [
           {
            "colorbar": {
             "outlinewidth": 0,
             "ticks": ""
            },
            "type": "mesh3d"
           }
          ],
          "parcoords": [
           {
            "line": {
             "colorbar": {
              "outlinewidth": 0,
              "ticks": ""
             }
            },
            "type": "parcoords"
           }
          ],
          "pie": [
           {
            "automargin": true,
            "type": "pie"
           }
          ],
          "scatter": [
           {
            "fillpattern": {
             "fillmode": "overlay",
             "size": 10,
             "solidity": 0.2
            },
            "type": "scatter"
           }
          ],
          "scatter3d": [
           {
            "line": {
             "colorbar": {
              "outlinewidth": 0,
              "ticks": ""
             }
            },
            "marker": {
             "colorbar": {
              "outlinewidth": 0,
              "ticks": ""
             }
            },
            "type": "scatter3d"
           }
          ],
          "scattercarpet": [
           {
            "marker": {
             "colorbar": {
              "outlinewidth": 0,
              "ticks": ""
             }
            },
            "type": "scattercarpet"
           }
          ],
          "scattergeo": [
           {
            "marker": {
             "colorbar": {
              "outlinewidth": 0,
              "ticks": ""
             }
            },
            "type": "scattergeo"
           }
          ],
          "scattergl": [
           {
            "marker": {
             "colorbar": {
              "outlinewidth": 0,
              "ticks": ""
             }
            },
            "type": "scattergl"
           }
          ],
          "scattermapbox": [
           {
            "marker": {
             "colorbar": {
              "outlinewidth": 0,
              "ticks": ""
             }
            },
            "type": "scattermapbox"
           }
          ],
          "scatterpolar": [
           {
            "marker": {
             "colorbar": {
              "outlinewidth": 0,
              "ticks": ""
             }
            },
            "type": "scatterpolar"
           }
          ],
          "scatterpolargl": [
           {
            "marker": {
             "colorbar": {
              "outlinewidth": 0,
              "ticks": ""
             }
            },
            "type": "scatterpolargl"
           }
          ],
          "scatterternary": [
           {
            "marker": {
             "colorbar": {
              "outlinewidth": 0,
              "ticks": ""
             }
            },
            "type": "scatterternary"
           }
          ],
          "surface": [
           {
            "colorbar": {
             "outlinewidth": 0,
             "ticks": ""
            },
            "colorscale": [
             [
              0,
              "#0d0887"
             ],
             [
              0.1111111111111111,
              "#46039f"
             ],
             [
              0.2222222222222222,
              "#7201a8"
             ],
             [
              0.3333333333333333,
              "#9c179e"
             ],
             [
              0.4444444444444444,
              "#bd3786"
             ],
             [
              0.5555555555555556,
              "#d8576b"
             ],
             [
              0.6666666666666666,
              "#ed7953"
             ],
             [
              0.7777777777777778,
              "#fb9f3a"
             ],
             [
              0.8888888888888888,
              "#fdca26"
             ],
             [
              1,
              "#f0f921"
             ]
            ],
            "type": "surface"
           }
          ],
          "table": [
           {
            "cells": {
             "fill": {
              "color": "#EBF0F8"
             },
             "line": {
              "color": "white"
             }
            },
            "header": {
             "fill": {
              "color": "#C8D4E3"
             },
             "line": {
              "color": "white"
             }
            },
            "type": "table"
           }
          ]
         },
         "layout": {
          "annotationdefaults": {
           "arrowcolor": "#2a3f5f",
           "arrowhead": 0,
           "arrowwidth": 1
          },
          "autotypenumbers": "strict",
          "coloraxis": {
           "colorbar": {
            "outlinewidth": 0,
            "ticks": ""
           }
          },
          "colorscale": {
           "diverging": [
            [
             0,
             "#8e0152"
            ],
            [
             0.1,
             "#c51b7d"
            ],
            [
             0.2,
             "#de77ae"
            ],
            [
             0.3,
             "#f1b6da"
            ],
            [
             0.4,
             "#fde0ef"
            ],
            [
             0.5,
             "#f7f7f7"
            ],
            [
             0.6,
             "#e6f5d0"
            ],
            [
             0.7,
             "#b8e186"
            ],
            [
             0.8,
             "#7fbc41"
            ],
            [
             0.9,
             "#4d9221"
            ],
            [
             1,
             "#276419"
            ]
           ],
           "sequential": [
            [
             0,
             "#0d0887"
            ],
            [
             0.1111111111111111,
             "#46039f"
            ],
            [
             0.2222222222222222,
             "#7201a8"
            ],
            [
             0.3333333333333333,
             "#9c179e"
            ],
            [
             0.4444444444444444,
             "#bd3786"
            ],
            [
             0.5555555555555556,
             "#d8576b"
            ],
            [
             0.6666666666666666,
             "#ed7953"
            ],
            [
             0.7777777777777778,
             "#fb9f3a"
            ],
            [
             0.8888888888888888,
             "#fdca26"
            ],
            [
             1,
             "#f0f921"
            ]
           ],
           "sequentialminus": [
            [
             0,
             "#0d0887"
            ],
            [
             0.1111111111111111,
             "#46039f"
            ],
            [
             0.2222222222222222,
             "#7201a8"
            ],
            [
             0.3333333333333333,
             "#9c179e"
            ],
            [
             0.4444444444444444,
             "#bd3786"
            ],
            [
             0.5555555555555556,
             "#d8576b"
            ],
            [
             0.6666666666666666,
             "#ed7953"
            ],
            [
             0.7777777777777778,
             "#fb9f3a"
            ],
            [
             0.8888888888888888,
             "#fdca26"
            ],
            [
             1,
             "#f0f921"
            ]
           ]
          },
          "colorway": [
           "#636efa",
           "#EF553B",
           "#00cc96",
           "#ab63fa",
           "#FFA15A",
           "#19d3f3",
           "#FF6692",
           "#B6E880",
           "#FF97FF",
           "#FECB52"
          ],
          "font": {
           "color": "#2a3f5f"
          },
          "geo": {
           "bgcolor": "white",
           "lakecolor": "white",
           "landcolor": "#E5ECF6",
           "showlakes": true,
           "showland": true,
           "subunitcolor": "white"
          },
          "hoverlabel": {
           "align": "left"
          },
          "hovermode": "closest",
          "mapbox": {
           "style": "light"
          },
          "paper_bgcolor": "white",
          "plot_bgcolor": "#E5ECF6",
          "polar": {
           "angularaxis": {
            "gridcolor": "white",
            "linecolor": "white",
            "ticks": ""
           },
           "bgcolor": "#E5ECF6",
           "radialaxis": {
            "gridcolor": "white",
            "linecolor": "white",
            "ticks": ""
           }
          },
          "scene": {
           "xaxis": {
            "backgroundcolor": "#E5ECF6",
            "gridcolor": "white",
            "gridwidth": 2,
            "linecolor": "white",
            "showbackground": true,
            "ticks": "",
            "zerolinecolor": "white"
           },
           "yaxis": {
            "backgroundcolor": "#E5ECF6",
            "gridcolor": "white",
            "gridwidth": 2,
            "linecolor": "white",
            "showbackground": true,
            "ticks": "",
            "zerolinecolor": "white"
           },
           "zaxis": {
            "backgroundcolor": "#E5ECF6",
            "gridcolor": "white",
            "gridwidth": 2,
            "linecolor": "white",
            "showbackground": true,
            "ticks": "",
            "zerolinecolor": "white"
           }
          },
          "shapedefaults": {
           "line": {
            "color": "#2a3f5f"
           }
          },
          "ternary": {
           "aaxis": {
            "gridcolor": "white",
            "linecolor": "white",
            "ticks": ""
           },
           "baxis": {
            "gridcolor": "white",
            "linecolor": "white",
            "ticks": ""
           },
           "bgcolor": "#E5ECF6",
           "caxis": {
            "gridcolor": "white",
            "linecolor": "white",
            "ticks": ""
           }
          },
          "title": {
           "x": 0.05
          },
          "xaxis": {
           "automargin": true,
           "gridcolor": "white",
           "linecolor": "white",
           "ticks": "",
           "title": {
            "standoff": 15
           },
           "zerolinecolor": "white",
           "zerolinewidth": 2
          },
          "yaxis": {
           "automargin": true,
           "gridcolor": "white",
           "linecolor": "white",
           "ticks": "",
           "title": {
            "standoff": 15
           },
           "zerolinecolor": "white",
           "zerolinewidth": 2
          }
         }
        },
        "title": {
         "text": "Number of Owners per Segment"
        },
        "xaxis": {
         "anchor": "y",
         "categoryarray": [
          "At Risk",
          "Champion",
          "Dormant Owner",
          "Emerging Owne",
          "High Value-Low Activity",
          "Loyal Owner"
         ],
         "categoryorder": "array",
         "domain": [
          0,
          1
         ],
         "title": {
          "text": "Segment"
         }
        },
        "yaxis": {
         "anchor": "x",
         "domain": [
          0,
          1
         ],
         "title": {
          "text": "count"
         }
        }
       }
      }
     },
     "metadata": {},
     "output_type": "display_data"
    }
   ],
   "source": [
    "fig_counts = px.histogram(owner_agg_df, \n",
    "                          x='Segment', \n",
    "                          title='Number of Owners per Segment', \n",
    "                          color='Segment', \n",
    "                          text_auto=True)\n",
    "fig_counts.show()"
   ]
  },
  {
   "cell_type": "code",
   "execution_count": null,
   "id": "b18fbee2",
   "metadata": {},
   "outputs": [
    {
     "data": {
      "text/plain": [
       "'\\nThe majority of owners fall into the Dormant and At Risk segments, indicating a high risk of churn.\\n\\nChampions and Loyal Owners represent a smaller but high-value share of the owner base.\\n\\nGrowth opportunities lie in converting Emerging Owners into Loyal Owners through targeted engagement.\\n'"
      ]
     },
     "execution_count": 23,
     "metadata": {},
     "output_type": "execute_result"
    }
   ],
   "source": [
    "\"\"\"\n",
    "The largest segment is Dormant Owners, followed closely by Champions                                                --> Activate Dormant owners through market insights and management packages, while retaining Champions with premium long-term contracts.\n",
    "Emerging owners form a moderate portion, showing potential for growth if nurtured properly.                         --> Support them with property pricing guidance and marketing strategies to move them toward Champions.\n",
    "Meanwhile, At Risk and High Value Active owners appear in smaller numbers                                           --> Requiring targeted retention efforts. \n",
    "Loyal owners have the lowest share, which highlights a challenge in maintaining long-term commitment among clients. --> Encourage advocacy by offering referral rewards and maintenance discounts\n",
    "\"\"\""
   ]
  },
  {
   "cell_type": "code",
   "execution_count": 31,
   "id": "6927517d",
   "metadata": {},
   "outputs": [],
   "source": [
    "owner_agg_df[['owner_id', 'R_Score', 'F_Score', 'M_Score', 'Segment']].to_csv(\n",
    "    \"owner_segments.csv\", index=False)"
   ]
  },
  {
   "cell_type": "markdown",
   "id": "f6f4db0f",
   "metadata": {},
   "source": [
    "# Clients Segmentation Using RFM Analysis"
   ]
  },
  {
   "cell_type": "markdown",
   "id": "44de9443",
   "metadata": {},
   "source": [
    "RFM score for each client based on their historical transaction data.\n",
    "\n"
   ]
  },
  {
   "cell_type": "markdown",
   "id": "37958455",
   "metadata": {},
   "source": [
    "## Feature engineering: R,F,M"
   ]
  },
  {
   "cell_type": "markdown",
   "id": "bcad5ba5",
   "metadata": {},
   "source": [
    "1. Recency: How recently a client made a purchase / rent\n",
    "2. Frequency: How often they made purchases / rent\n",
    "3. Monetary: How much money they spent"
   ]
  },
  {
   "cell_type": "code",
   "execution_count": 32,
   "id": "ff474160",
   "metadata": {},
   "outputs": [],
   "source": [
    "client_agg_df = transactions_df.groupby(\"client_id\").agg(\n",
    "                                                        last_date =(\"transaction_date\",\"max\"),\n",
    "                                                        Frequency =(\"client_id\",\"count\"),\n",
    "                                                        Monetary =(\"transaction_amount\",\"sum\")\n",
    ").reset_index()"
   ]
  },
  {
   "cell_type": "code",
   "execution_count": 33,
   "id": "78bfae1b",
   "metadata": {},
   "outputs": [],
   "source": [
    "client_agg_df['Recency'] = (today_date - client_agg_df['last_date']).dt.days"
   ]
  },
  {
   "cell_type": "code",
   "execution_count": 34,
   "id": "d74bb1b6",
   "metadata": {},
   "outputs": [
    {
     "name": "stdout",
     "output_type": "stream",
     "text": [
      "<class 'pandas.core.frame.DataFrame'>\n",
      "RangeIndex: 1827 entries, 0 to 1826\n",
      "Data columns (total 5 columns):\n",
      " #   Column     Non-Null Count  Dtype         \n",
      "---  ------     --------------  -----         \n",
      " 0   client_id  1827 non-null   int64         \n",
      " 1   last_date  1827 non-null   datetime64[ns]\n",
      " 2   Frequency  1827 non-null   int64         \n",
      " 3   Monetary   1827 non-null   float64       \n",
      " 4   Recency    1827 non-null   int64         \n",
      "dtypes: datetime64[ns](1), float64(1), int64(3)\n",
      "memory usage: 71.5 KB\n"
     ]
    }
   ],
   "source": [
    "client_agg_df.info()"
   ]
  },
  {
   "cell_type": "code",
   "execution_count": 35,
   "id": "61ebac4c",
   "metadata": {},
   "outputs": [
    {
     "data": {
      "text/html": [
       "<div>\n",
       "<style scoped>\n",
       "    .dataframe tbody tr th:only-of-type {\n",
       "        vertical-align: middle;\n",
       "    }\n",
       "\n",
       "    .dataframe tbody tr th {\n",
       "        vertical-align: top;\n",
       "    }\n",
       "\n",
       "    .dataframe thead th {\n",
       "        text-align: right;\n",
       "    }\n",
       "</style>\n",
       "<table border=\"1\" class=\"dataframe\">\n",
       "  <thead>\n",
       "    <tr style=\"text-align: right;\">\n",
       "      <th></th>\n",
       "      <th>client_id</th>\n",
       "      <th>last_date</th>\n",
       "      <th>Frequency</th>\n",
       "      <th>Monetary</th>\n",
       "      <th>Recency</th>\n",
       "    </tr>\n",
       "  </thead>\n",
       "  <tbody>\n",
       "    <tr>\n",
       "      <th>0</th>\n",
       "      <td>1</td>\n",
       "      <td>2024-12-29</td>\n",
       "      <td>1</td>\n",
       "      <td>47200.00</td>\n",
       "      <td>3</td>\n",
       "    </tr>\n",
       "    <tr>\n",
       "      <th>1</th>\n",
       "      <td>2</td>\n",
       "      <td>2024-05-23</td>\n",
       "      <td>1</td>\n",
       "      <td>256291.77</td>\n",
       "      <td>223</td>\n",
       "    </tr>\n",
       "    <tr>\n",
       "      <th>2</th>\n",
       "      <td>3</td>\n",
       "      <td>2024-12-31</td>\n",
       "      <td>1</td>\n",
       "      <td>130260.00</td>\n",
       "      <td>1</td>\n",
       "    </tr>\n",
       "    <tr>\n",
       "      <th>3</th>\n",
       "      <td>4</td>\n",
       "      <td>2024-02-02</td>\n",
       "      <td>1</td>\n",
       "      <td>458279.66</td>\n",
       "      <td>334</td>\n",
       "    </tr>\n",
       "    <tr>\n",
       "      <th>4</th>\n",
       "      <td>5</td>\n",
       "      <td>2024-05-09</td>\n",
       "      <td>1</td>\n",
       "      <td>142100.00</td>\n",
       "      <td>237</td>\n",
       "    </tr>\n",
       "  </tbody>\n",
       "</table>\n",
       "</div>"
      ],
      "text/plain": [
       "   client_id  last_date  Frequency   Monetary  Recency\n",
       "0          1 2024-12-29          1   47200.00        3\n",
       "1          2 2024-05-23          1  256291.77      223\n",
       "2          3 2024-12-31          1  130260.00        1\n",
       "3          4 2024-02-02          1  458279.66      334\n",
       "4          5 2024-05-09          1  142100.00      237"
      ]
     },
     "execution_count": 35,
     "metadata": {},
     "output_type": "execute_result"
    }
   ],
   "source": [
    "client_agg_df.head()"
   ]
  },
  {
   "cell_type": "code",
   "execution_count": 36,
   "id": "79422332",
   "metadata": {},
   "outputs": [
    {
     "data": {
      "text/html": [
       "<div>\n",
       "<style scoped>\n",
       "    .dataframe tbody tr th:only-of-type {\n",
       "        vertical-align: middle;\n",
       "    }\n",
       "\n",
       "    .dataframe tbody tr th {\n",
       "        vertical-align: top;\n",
       "    }\n",
       "\n",
       "    .dataframe thead th {\n",
       "        text-align: right;\n",
       "    }\n",
       "</style>\n",
       "<table border=\"1\" class=\"dataframe\">\n",
       "  <thead>\n",
       "    <tr style=\"text-align: right;\">\n",
       "      <th></th>\n",
       "      <th>client_id</th>\n",
       "      <th>last_date</th>\n",
       "      <th>Frequency</th>\n",
       "      <th>Monetary</th>\n",
       "      <th>Recency</th>\n",
       "    </tr>\n",
       "  </thead>\n",
       "  <tbody>\n",
       "    <tr>\n",
       "      <th>count</th>\n",
       "      <td>1827.000000</td>\n",
       "      <td>1827</td>\n",
       "      <td>1827.000000</td>\n",
       "      <td>1.827000e+03</td>\n",
       "      <td>1827.000000</td>\n",
       "    </tr>\n",
       "    <tr>\n",
       "      <th>mean</th>\n",
       "      <td>1028.672687</td>\n",
       "      <td>2024-08-09 20:01:58.226600960</td>\n",
       "      <td>2.421456</td>\n",
       "      <td>5.656091e+05</td>\n",
       "      <td>144.165298</td>\n",
       "    </tr>\n",
       "    <tr>\n",
       "      <th>min</th>\n",
       "      <td>1.000000</td>\n",
       "      <td>2020-05-01 00:00:00</td>\n",
       "      <td>1.000000</td>\n",
       "      <td>7.080000e+03</td>\n",
       "      <td>1.000000</td>\n",
       "    </tr>\n",
       "    <tr>\n",
       "      <th>25%</th>\n",
       "      <td>521.500000</td>\n",
       "      <td>2024-07-24 00:00:00</td>\n",
       "      <td>1.000000</td>\n",
       "      <td>1.668300e+05</td>\n",
       "      <td>1.000000</td>\n",
       "    </tr>\n",
       "    <tr>\n",
       "      <th>50%</th>\n",
       "      <td>1025.000000</td>\n",
       "      <td>2024-12-25 00:00:00</td>\n",
       "      <td>2.000000</td>\n",
       "      <td>3.535561e+05</td>\n",
       "      <td>7.000000</td>\n",
       "    </tr>\n",
       "    <tr>\n",
       "      <th>75%</th>\n",
       "      <td>1538.500000</td>\n",
       "      <td>2024-12-31 00:00:00</td>\n",
       "      <td>3.000000</td>\n",
       "      <td>7.666638e+05</td>\n",
       "      <td>161.000000</td>\n",
       "    </tr>\n",
       "    <tr>\n",
       "      <th>max</th>\n",
       "      <td>2060.000000</td>\n",
       "      <td>2024-12-31 00:00:00</td>\n",
       "      <td>10.000000</td>\n",
       "      <td>4.814742e+06</td>\n",
       "      <td>1706.000000</td>\n",
       "    </tr>\n",
       "    <tr>\n",
       "      <th>std</th>\n",
       "      <td>590.926779</td>\n",
       "      <td>NaN</td>\n",
       "      <td>1.324526</td>\n",
       "      <td>5.715645e+05</td>\n",
       "      <td>267.794900</td>\n",
       "    </tr>\n",
       "  </tbody>\n",
       "</table>\n",
       "</div>"
      ],
      "text/plain": [
       "         client_id                      last_date    Frequency      Monetary  \\\n",
       "count  1827.000000                           1827  1827.000000  1.827000e+03   \n",
       "mean   1028.672687  2024-08-09 20:01:58.226600960     2.421456  5.656091e+05   \n",
       "min       1.000000            2020-05-01 00:00:00     1.000000  7.080000e+03   \n",
       "25%     521.500000            2024-07-24 00:00:00     1.000000  1.668300e+05   \n",
       "50%    1025.000000            2024-12-25 00:00:00     2.000000  3.535561e+05   \n",
       "75%    1538.500000            2024-12-31 00:00:00     3.000000  7.666638e+05   \n",
       "max    2060.000000            2024-12-31 00:00:00    10.000000  4.814742e+06   \n",
       "std     590.926779                            NaN     1.324526  5.715645e+05   \n",
       "\n",
       "           Recency  \n",
       "count  1827.000000  \n",
       "mean    144.165298  \n",
       "min       1.000000  \n",
       "25%       1.000000  \n",
       "50%       7.000000  \n",
       "75%     161.000000  \n",
       "max    1706.000000  \n",
       "std     267.794900  "
      ]
     },
     "execution_count": 36,
     "metadata": {},
     "output_type": "execute_result"
    }
   ],
   "source": [
    "client_agg_df.describe()"
   ]
  },
  {
   "cell_type": "markdown",
   "id": "07a7ebe0",
   "metadata": {},
   "source": [
    "## RFM Scoring "
   ]
  },
  {
   "cell_type": "markdown",
   "id": "adee3de9",
   "metadata": {},
   "source": [
    "Discretization (numerical -->categories\"range\")"
   ]
  },
  {
   "cell_type": "code",
   "execution_count": 37,
   "id": "733f4294",
   "metadata": {},
   "outputs": [],
   "source": [
    "# Recency score (high=old = 1 , low=new = 3)\n",
    "bins_Recency   = [0, 30, 224, client_agg_df['Recency'].max()]\n",
    "labels_Recency = [3, 2, 1]\n",
    "\n",
    "client_agg_df['R_Score'] = pd.cut(\n",
    "    client_agg_df['Recency'],\n",
    "    bins=bins_Recency,\n",
    "    labels=labels_Recency,\n",
    "    include_lowest=True\n",
    ")\n",
    "\n",
    "# Frequency score (low = 1, high= 4)\n",
    "client_agg_df['F_Score'] = pd.qcut(client_agg_df['Frequency'].rank(method='first'), 4, labels=range(1,5))\n",
    "\n",
    "# Monetary score (low = 1, high= 4)\n",
    "client_agg_df['M_Score'] = pd.qcut(client_agg_df['Monetary'], 4, labels=range(1,5))"
   ]
  },
  {
   "cell_type": "markdown",
   "id": "6498e960",
   "metadata": {},
   "source": [
    "Combine R, F, M scores to form a single RFM score \"string\""
   ]
  },
  {
   "cell_type": "code",
   "execution_count": 38,
   "id": "70a170d7",
   "metadata": {},
   "outputs": [],
   "source": [
    "client_agg_df['RFM_Score'] =( client_agg_df['R_Score'].astype(str) + \n",
    "                             client_agg_df['F_Score'].astype(str) + \n",
    "                             client_agg_df['M_Score'].astype(str)\n",
    ")"
   ]
  },
  {
   "cell_type": "code",
   "execution_count": 39,
   "id": "3ade0e15",
   "metadata": {},
   "outputs": [
    {
     "data": {
      "text/html": [
       "<div>\n",
       "<style scoped>\n",
       "    .dataframe tbody tr th:only-of-type {\n",
       "        vertical-align: middle;\n",
       "    }\n",
       "\n",
       "    .dataframe tbody tr th {\n",
       "        vertical-align: top;\n",
       "    }\n",
       "\n",
       "    .dataframe thead th {\n",
       "        text-align: right;\n",
       "    }\n",
       "</style>\n",
       "<table border=\"1\" class=\"dataframe\">\n",
       "  <thead>\n",
       "    <tr style=\"text-align: right;\">\n",
       "      <th></th>\n",
       "      <th>client_id</th>\n",
       "      <th>last_date</th>\n",
       "      <th>Frequency</th>\n",
       "      <th>Monetary</th>\n",
       "      <th>Recency</th>\n",
       "      <th>R_Score</th>\n",
       "      <th>F_Score</th>\n",
       "      <th>M_Score</th>\n",
       "      <th>RFM_Score</th>\n",
       "    </tr>\n",
       "  </thead>\n",
       "  <tbody>\n",
       "    <tr>\n",
       "      <th>0</th>\n",
       "      <td>1</td>\n",
       "      <td>2024-12-29</td>\n",
       "      <td>1</td>\n",
       "      <td>47200.00</td>\n",
       "      <td>3</td>\n",
       "      <td>3</td>\n",
       "      <td>1</td>\n",
       "      <td>1</td>\n",
       "      <td>311</td>\n",
       "    </tr>\n",
       "    <tr>\n",
       "      <th>1</th>\n",
       "      <td>2</td>\n",
       "      <td>2024-05-23</td>\n",
       "      <td>1</td>\n",
       "      <td>256291.77</td>\n",
       "      <td>223</td>\n",
       "      <td>2</td>\n",
       "      <td>1</td>\n",
       "      <td>2</td>\n",
       "      <td>212</td>\n",
       "    </tr>\n",
       "    <tr>\n",
       "      <th>2</th>\n",
       "      <td>3</td>\n",
       "      <td>2024-12-31</td>\n",
       "      <td>1</td>\n",
       "      <td>130260.00</td>\n",
       "      <td>1</td>\n",
       "      <td>3</td>\n",
       "      <td>1</td>\n",
       "      <td>1</td>\n",
       "      <td>311</td>\n",
       "    </tr>\n",
       "    <tr>\n",
       "      <th>3</th>\n",
       "      <td>4</td>\n",
       "      <td>2024-02-02</td>\n",
       "      <td>1</td>\n",
       "      <td>458279.66</td>\n",
       "      <td>334</td>\n",
       "      <td>1</td>\n",
       "      <td>1</td>\n",
       "      <td>3</td>\n",
       "      <td>113</td>\n",
       "    </tr>\n",
       "    <tr>\n",
       "      <th>4</th>\n",
       "      <td>5</td>\n",
       "      <td>2024-05-09</td>\n",
       "      <td>1</td>\n",
       "      <td>142100.00</td>\n",
       "      <td>237</td>\n",
       "      <td>1</td>\n",
       "      <td>1</td>\n",
       "      <td>1</td>\n",
       "      <td>111</td>\n",
       "    </tr>\n",
       "  </tbody>\n",
       "</table>\n",
       "</div>"
      ],
      "text/plain": [
       "   client_id  last_date  Frequency   Monetary  Recency R_Score F_Score  \\\n",
       "0          1 2024-12-29          1   47200.00        3       3       1   \n",
       "1          2 2024-05-23          1  256291.77      223       2       1   \n",
       "2          3 2024-12-31          1  130260.00        1       3       1   \n",
       "3          4 2024-02-02          1  458279.66      334       1       1   \n",
       "4          5 2024-05-09          1  142100.00      237       1       1   \n",
       "\n",
       "  M_Score RFM_Score  \n",
       "0       1       311  \n",
       "1       2       212  \n",
       "2       1       311  \n",
       "3       3       113  \n",
       "4       1       111  "
      ]
     },
     "execution_count": 39,
     "metadata": {},
     "output_type": "execute_result"
    }
   ],
   "source": [
    "client_agg_df.head()"
   ]
  },
  {
   "cell_type": "markdown",
   "id": "581dafa6",
   "metadata": {},
   "source": [
    "RFM segmentaion:\n",
    "- VIP Clients: high in all three or at least very recent + (freq or monetary high) (RFM)\n",
    "- Regular High-Value: frequent and high monetary but not the most recent (F&M) (R1/2)\n",
    "- Big Spenders: high monetary only (M) (F1/2,R3-1)\n",
    "- Potential Loyalists: recent and good spend but medium frequency (R) (F1-4, M2-4)\n",
    "- At Risk: very old regardless of frequency or monetary (FM) (R=1)\n",
    "- Mid-Tier: everyone else (mid-range)"
   ]
  },
  {
   "cell_type": "code",
   "execution_count": 40,
   "id": "b7c9445b",
   "metadata": {},
   "outputs": [],
   "source": [
    "def rfm_client_segment(row):\n",
    "    R, F, M = row['R_Score'], row['F_Score'], row['M_Score']\n",
    "\n",
    "    if R == 3 and F >= 3 and M >= 3:\n",
    "        return 'VIP Clients'\n",
    "\n",
    "    elif R >= 2 and F >= 3 and M >= 3:\n",
    "        return 'Regular High-Value'\n",
    "\n",
    "    elif R >= 2 and ((F >= 2 and 2 <= M <= 3) or (M >= 2 and 2 <= F <= 3)):\n",
    "        return 'Potential Loyalist'\n",
    "    \n",
    "    elif F < 3 and M >= 3:\n",
    "        return 'Big Spender'\n",
    "\n",
    "    elif R == 1 and F >= 2 and M >= 2:\n",
    "        return 'At Risk'\n",
    "\n",
    "    else:\n",
    "        return 'Mid-Tier'\n",
    "\n",
    "client_agg_df['Segment'] = client_agg_df.apply(rfm_client_segment, axis=1)"
   ]
  },
  {
   "cell_type": "code",
   "execution_count": 41,
   "id": "3c846aa1",
   "metadata": {},
   "outputs": [
    {
     "data": {
      "text/html": [
       "<div>\n",
       "<style scoped>\n",
       "    .dataframe tbody tr th:only-of-type {\n",
       "        vertical-align: middle;\n",
       "    }\n",
       "\n",
       "    .dataframe tbody tr th {\n",
       "        vertical-align: top;\n",
       "    }\n",
       "\n",
       "    .dataframe thead th {\n",
       "        text-align: right;\n",
       "    }\n",
       "</style>\n",
       "<table border=\"1\" class=\"dataframe\">\n",
       "  <thead>\n",
       "    <tr style=\"text-align: right;\">\n",
       "      <th></th>\n",
       "      <th>client_id</th>\n",
       "      <th>last_date</th>\n",
       "      <th>Frequency</th>\n",
       "      <th>Monetary</th>\n",
       "      <th>Recency</th>\n",
       "      <th>R_Score</th>\n",
       "      <th>F_Score</th>\n",
       "      <th>M_Score</th>\n",
       "      <th>RFM_Score</th>\n",
       "      <th>Segment</th>\n",
       "    </tr>\n",
       "  </thead>\n",
       "  <tbody>\n",
       "    <tr>\n",
       "      <th>0</th>\n",
       "      <td>1</td>\n",
       "      <td>2024-12-29</td>\n",
       "      <td>1</td>\n",
       "      <td>47200.00</td>\n",
       "      <td>3</td>\n",
       "      <td>3</td>\n",
       "      <td>1</td>\n",
       "      <td>1</td>\n",
       "      <td>311</td>\n",
       "      <td>Mid-Tier</td>\n",
       "    </tr>\n",
       "    <tr>\n",
       "      <th>1</th>\n",
       "      <td>2</td>\n",
       "      <td>2024-05-23</td>\n",
       "      <td>1</td>\n",
       "      <td>256291.77</td>\n",
       "      <td>223</td>\n",
       "      <td>2</td>\n",
       "      <td>1</td>\n",
       "      <td>2</td>\n",
       "      <td>212</td>\n",
       "      <td>Mid-Tier</td>\n",
       "    </tr>\n",
       "    <tr>\n",
       "      <th>2</th>\n",
       "      <td>3</td>\n",
       "      <td>2024-12-31</td>\n",
       "      <td>1</td>\n",
       "      <td>130260.00</td>\n",
       "      <td>1</td>\n",
       "      <td>3</td>\n",
       "      <td>1</td>\n",
       "      <td>1</td>\n",
       "      <td>311</td>\n",
       "      <td>Mid-Tier</td>\n",
       "    </tr>\n",
       "    <tr>\n",
       "      <th>3</th>\n",
       "      <td>4</td>\n",
       "      <td>2024-02-02</td>\n",
       "      <td>1</td>\n",
       "      <td>458279.66</td>\n",
       "      <td>334</td>\n",
       "      <td>1</td>\n",
       "      <td>1</td>\n",
       "      <td>3</td>\n",
       "      <td>113</td>\n",
       "      <td>Big Spender</td>\n",
       "    </tr>\n",
       "    <tr>\n",
       "      <th>4</th>\n",
       "      <td>5</td>\n",
       "      <td>2024-05-09</td>\n",
       "      <td>1</td>\n",
       "      <td>142100.00</td>\n",
       "      <td>237</td>\n",
       "      <td>1</td>\n",
       "      <td>1</td>\n",
       "      <td>1</td>\n",
       "      <td>111</td>\n",
       "      <td>Mid-Tier</td>\n",
       "    </tr>\n",
       "  </tbody>\n",
       "</table>\n",
       "</div>"
      ],
      "text/plain": [
       "   client_id  last_date  Frequency   Monetary  Recency R_Score F_Score  \\\n",
       "0          1 2024-12-29          1   47200.00        3       3       1   \n",
       "1          2 2024-05-23          1  256291.77      223       2       1   \n",
       "2          3 2024-12-31          1  130260.00        1       3       1   \n",
       "3          4 2024-02-02          1  458279.66      334       1       1   \n",
       "4          5 2024-05-09          1  142100.00      237       1       1   \n",
       "\n",
       "  M_Score RFM_Score      Segment  \n",
       "0       1       311     Mid-Tier  \n",
       "1       2       212     Mid-Tier  \n",
       "2       1       311     Mid-Tier  \n",
       "3       3       113  Big Spender  \n",
       "4       1       111     Mid-Tier  "
      ]
     },
     "execution_count": 41,
     "metadata": {},
     "output_type": "execute_result"
    }
   ],
   "source": [
    "client_agg_df.head()"
   ]
  },
  {
   "cell_type": "markdown",
   "id": "2fa8884a",
   "metadata": {},
   "source": [
    "## visualization"
   ]
  },
  {
   "cell_type": "code",
   "execution_count": 42,
   "id": "88e68046",
   "metadata": {},
   "outputs": [
    {
     "data": {
      "application/vnd.plotly.v1+json": {
       "config": {
        "plotlyServerURL": "https://plot.ly"
       },
       "data": [
        {
         "customdata": [
          [
           1
          ],
          [
           2
          ],
          [
           3
          ],
          [
           5
          ],
          [
           6
          ],
          [
           8
          ],
          [
           11
          ],
          [
           12
          ],
          [
           15
          ],
          [
           16
          ],
          [
           17
          ],
          [
           19
          ],
          [
           30
          ],
          [
           38
          ],
          [
           39
          ],
          [
           41
          ],
          [
           45
          ],
          [
           47
          ],
          [
           50
          ],
          [
           54
          ],
          [
           64
          ],
          [
           65
          ],
          [
           66
          ],
          [
           67
          ],
          [
           76
          ],
          [
           78
          ],
          [
           80
          ],
          [
           81
          ],
          [
           85
          ],
          [
           87
          ],
          [
           91
          ],
          [
           115
          ],
          [
           121
          ],
          [
           125
          ],
          [
           127
          ],
          [
           131
          ],
          [
           133
          ],
          [
           136
          ],
          [
           143
          ],
          [
           152
          ],
          [
           153
          ],
          [
           154
          ],
          [
           156
          ],
          [
           159
          ],
          [
           169
          ],
          [
           170
          ],
          [
           175
          ],
          [
           181
          ],
          [
           184
          ],
          [
           185
          ],
          [
           189
          ],
          [
           192
          ],
          [
           195
          ],
          [
           197
          ],
          [
           199
          ],
          [
           200
          ],
          [
           209
          ],
          [
           212
          ],
          [
           213
          ],
          [
           214
          ],
          [
           215
          ],
          [
           221
          ],
          [
           223
          ],
          [
           225
          ],
          [
           226
          ],
          [
           227
          ],
          [
           228
          ],
          [
           229
          ],
          [
           232
          ],
          [
           238
          ],
          [
           241
          ],
          [
           246
          ],
          [
           247
          ],
          [
           256
          ],
          [
           263
          ],
          [
           265
          ],
          [
           269
          ],
          [
           270
          ],
          [
           272
          ],
          [
           276
          ],
          [
           277
          ],
          [
           278
          ],
          [
           279
          ],
          [
           286
          ],
          [
           288
          ],
          [
           289
          ],
          [
           290
          ],
          [
           295
          ],
          [
           299
          ],
          [
           313
          ],
          [
           315
          ],
          [
           318
          ],
          [
           319
          ],
          [
           320
          ],
          [
           324
          ],
          [
           329
          ],
          [
           334
          ],
          [
           335
          ],
          [
           337
          ],
          [
           346
          ],
          [
           347
          ],
          [
           348
          ],
          [
           350
          ],
          [
           352
          ],
          [
           362
          ],
          [
           363
          ],
          [
           367
          ],
          [
           368
          ],
          [
           372
          ],
          [
           376
          ],
          [
           377
          ],
          [
           382
          ],
          [
           386
          ],
          [
           387
          ],
          [
           388
          ],
          [
           396
          ],
          [
           397
          ],
          [
           398
          ],
          [
           402
          ],
          [
           409
          ],
          [
           410
          ],
          [
           415
          ],
          [
           422
          ],
          [
           426
          ],
          [
           427
          ],
          [
           428
          ],
          [
           429
          ],
          [
           434
          ],
          [
           435
          ],
          [
           439
          ],
          [
           442
          ],
          [
           445
          ],
          [
           450
          ],
          [
           459
          ],
          [
           468
          ],
          [
           470
          ],
          [
           474
          ],
          [
           475
          ],
          [
           477
          ],
          [
           478
          ],
          [
           479
          ],
          [
           482
          ],
          [
           483
          ],
          [
           487
          ],
          [
           488
          ],
          [
           490
          ],
          [
           497
          ],
          [
           498
          ],
          [
           502
          ],
          [
           504
          ],
          [
           506
          ],
          [
           512
          ],
          [
           519
          ],
          [
           522
          ],
          [
           523
          ],
          [
           527
          ],
          [
           528
          ],
          [
           534
          ],
          [
           536
          ],
          [
           537
          ],
          [
           539
          ],
          [
           542
          ],
          [
           543
          ],
          [
           544
          ],
          [
           547
          ],
          [
           549
          ],
          [
           553
          ],
          [
           554
          ],
          [
           559
          ],
          [
           562
          ],
          [
           565
          ],
          [
           567
          ],
          [
           568
          ],
          [
           571
          ],
          [
           581
          ],
          [
           585
          ],
          [
           592
          ],
          [
           596
          ],
          [
           597
          ],
          [
           601
          ],
          [
           604
          ],
          [
           612
          ],
          [
           613
          ],
          [
           628
          ],
          [
           631
          ],
          [
           632
          ],
          [
           635
          ],
          [
           641
          ],
          [
           647
          ],
          [
           665
          ],
          [
           670
          ],
          [
           671
          ],
          [
           672
          ],
          [
           673
          ],
          [
           675
          ],
          [
           676
          ],
          [
           682
          ],
          [
           694
          ],
          [
           697
          ],
          [
           698
          ],
          [
           703
          ],
          [
           707
          ],
          [
           709
          ],
          [
           719
          ],
          [
           724
          ],
          [
           726
          ],
          [
           734
          ],
          [
           739
          ],
          [
           743
          ],
          [
           744
          ],
          [
           745
          ],
          [
           746
          ],
          [
           749
          ],
          [
           752
          ],
          [
           759
          ],
          [
           761
          ],
          [
           762
          ],
          [
           767
          ],
          [
           768
          ],
          [
           769
          ],
          [
           773
          ],
          [
           777
          ],
          [
           778
          ],
          [
           780
          ],
          [
           784
          ],
          [
           789
          ],
          [
           797
          ],
          [
           799
          ],
          [
           800
          ],
          [
           803
          ],
          [
           804
          ],
          [
           811
          ],
          [
           812
          ],
          [
           818
          ],
          [
           824
          ],
          [
           827
          ],
          [
           828
          ],
          [
           831
          ],
          [
           836
          ],
          [
           840
          ],
          [
           844
          ],
          [
           846
          ],
          [
           848
          ],
          [
           854
          ],
          [
           856
          ],
          [
           858
          ],
          [
           866
          ],
          [
           874
          ],
          [
           877
          ],
          [
           880
          ],
          [
           885
          ],
          [
           886
          ],
          [
           888
          ],
          [
           893
          ],
          [
           903
          ],
          [
           906
          ],
          [
           917
          ],
          [
           929
          ],
          [
           930
          ],
          [
           931
          ],
          [
           935
          ],
          [
           936
          ],
          [
           937
          ],
          [
           938
          ],
          [
           939
          ],
          [
           942
          ],
          [
           944
          ],
          [
           950
          ],
          [
           953
          ],
          [
           954
          ],
          [
           960
          ],
          [
           961
          ],
          [
           962
          ],
          [
           963
          ],
          [
           968
          ],
          [
           971
          ],
          [
           977
          ],
          [
           980
          ],
          [
           988
          ],
          [
           990
          ],
          [
           991
          ],
          [
           992
          ],
          [
           997
          ],
          [
           999
          ],
          [
           1001
          ],
          [
           1005
          ],
          [
           1008
          ],
          [
           1009
          ],
          [
           1011
          ],
          [
           1014
          ],
          [
           1022
          ],
          [
           1023
          ],
          [
           1024
          ],
          [
           1026
          ],
          [
           1027
          ],
          [
           1032
          ],
          [
           1033
          ],
          [
           1037
          ],
          [
           1038
          ],
          [
           1046
          ],
          [
           1049
          ],
          [
           1054
          ],
          [
           1055
          ],
          [
           1059
          ],
          [
           1065
          ],
          [
           1068
          ],
          [
           1069
          ],
          [
           1070
          ],
          [
           1071
          ],
          [
           1073
          ],
          [
           1077
          ],
          [
           1092
          ],
          [
           1097
          ],
          [
           1106
          ],
          [
           1107
          ],
          [
           1111
          ],
          [
           1115
          ],
          [
           1117
          ],
          [
           1118
          ],
          [
           1119
          ],
          [
           1121
          ],
          [
           1124
          ],
          [
           1127
          ],
          [
           1129
          ],
          [
           1143
          ],
          [
           1165
          ],
          [
           1175
          ],
          [
           1188
          ],
          [
           1189
          ],
          [
           1192
          ],
          [
           1194
          ],
          [
           1204
          ],
          [
           1206
          ],
          [
           1208
          ],
          [
           1212
          ],
          [
           1215
          ],
          [
           1218
          ],
          [
           1219
          ],
          [
           1226
          ],
          [
           1230
          ],
          [
           1236
          ],
          [
           1241
          ],
          [
           1242
          ],
          [
           1243
          ],
          [
           1244
          ],
          [
           1247
          ],
          [
           1248
          ],
          [
           1251
          ],
          [
           1259
          ],
          [
           1274
          ],
          [
           1279
          ],
          [
           1288
          ],
          [
           1289
          ],
          [
           1293
          ],
          [
           1294
          ],
          [
           1296
          ],
          [
           1298
          ],
          [
           1299
          ],
          [
           1300
          ],
          [
           1305
          ],
          [
           1308
          ],
          [
           1309
          ],
          [
           1312
          ],
          [
           1313
          ],
          [
           1320
          ],
          [
           1322
          ],
          [
           1327
          ],
          [
           1328
          ],
          [
           1338
          ],
          [
           1340
          ],
          [
           1342
          ],
          [
           1345
          ],
          [
           1352
          ],
          [
           1356
          ],
          [
           1362
          ],
          [
           1363
          ],
          [
           1366
          ],
          [
           1368
          ],
          [
           1369
          ],
          [
           1370
          ],
          [
           1374
          ],
          [
           1375
          ],
          [
           1377
          ],
          [
           1380
          ],
          [
           1381
          ],
          [
           1383
          ],
          [
           1388
          ],
          [
           1392
          ],
          [
           1394
          ],
          [
           1395
          ],
          [
           1398
          ],
          [
           1408
          ],
          [
           1414
          ],
          [
           1417
          ],
          [
           1422
          ],
          [
           1423
          ],
          [
           1428
          ],
          [
           1434
          ],
          [
           1435
          ],
          [
           1440
          ],
          [
           1441
          ],
          [
           1443
          ],
          [
           1450
          ],
          [
           1451
          ],
          [
           1453
          ],
          [
           1459
          ],
          [
           1467
          ],
          [
           1472
          ],
          [
           1474
          ],
          [
           1478
          ],
          [
           1488
          ],
          [
           1493
          ],
          [
           1495
          ],
          [
           1501
          ],
          [
           1507
          ],
          [
           1510
          ],
          [
           1517
          ],
          [
           1522
          ],
          [
           1524
          ],
          [
           1527
          ],
          [
           1528
          ],
          [
           1530
          ],
          [
           1532
          ],
          [
           1539
          ],
          [
           1540
          ],
          [
           1541
          ],
          [
           1543
          ],
          [
           1544
          ],
          [
           1549
          ],
          [
           1552
          ],
          [
           1557
          ],
          [
           1559
          ],
          [
           1562
          ],
          [
           1569
          ],
          [
           1575
          ],
          [
           1576
          ],
          [
           1579
          ],
          [
           1580
          ],
          [
           1588
          ],
          [
           1590
          ],
          [
           1597
          ],
          [
           1607
          ],
          [
           1609
          ],
          [
           1612
          ],
          [
           1622
          ],
          [
           1625
          ],
          [
           1628
          ],
          [
           1634
          ],
          [
           1639
          ],
          [
           1641
          ],
          [
           1644
          ],
          [
           1648
          ],
          [
           1649
          ],
          [
           1650
          ],
          [
           1652
          ],
          [
           1655
          ],
          [
           1658
          ],
          [
           1660
          ],
          [
           1661
          ],
          [
           1664
          ],
          [
           1665
          ],
          [
           1666
          ],
          [
           1669
          ],
          [
           1672
          ],
          [
           1676
          ],
          [
           1677
          ],
          [
           1684
          ],
          [
           1689
          ],
          [
           1690
          ],
          [
           1695
          ],
          [
           1699
          ],
          [
           1701
          ],
          [
           1705
          ],
          [
           1711
          ],
          [
           1722
          ],
          [
           1723
          ],
          [
           1727
          ],
          [
           1729
          ],
          [
           1738
          ],
          [
           1749
          ],
          [
           1751
          ],
          [
           1753
          ],
          [
           1759
          ],
          [
           1760
          ],
          [
           1762
          ],
          [
           1765
          ],
          [
           1767
          ],
          [
           1772
          ],
          [
           1777
          ],
          [
           1781
          ],
          [
           1783
          ],
          [
           1786
          ],
          [
           1787
          ],
          [
           1791
          ],
          [
           1795
          ],
          [
           1798
          ],
          [
           1799
          ],
          [
           1808
          ],
          [
           1809
          ],
          [
           1819
          ],
          [
           1822
          ],
          [
           1832
          ],
          [
           1836
          ],
          [
           1838
          ],
          [
           1840
          ],
          [
           1848
          ],
          [
           1850
          ],
          [
           1853
          ],
          [
           1857
          ],
          [
           1858
          ],
          [
           1861
          ],
          [
           1864
          ],
          [
           1867
          ],
          [
           1870
          ],
          [
           1877
          ],
          [
           1879
          ],
          [
           1880
          ],
          [
           1883
          ],
          [
           1887
          ],
          [
           1888
          ],
          [
           1898
          ],
          [
           1899
          ],
          [
           1908
          ],
          [
           1915
          ],
          [
           1916
          ],
          [
           1924
          ],
          [
           1927
          ],
          [
           1942
          ],
          [
           1943
          ],
          [
           1945
          ],
          [
           1946
          ],
          [
           1947
          ],
          [
           1948
          ],
          [
           1949
          ],
          [
           1960
          ],
          [
           1961
          ],
          [
           1963
          ],
          [
           1967
          ],
          [
           1969
          ],
          [
           1975
          ],
          [
           1978
          ],
          [
           1994
          ],
          [
           1998
          ],
          [
           2002
          ],
          [
           2003
          ],
          [
           2004
          ],
          [
           2009
          ],
          [
           2010
          ],
          [
           2014
          ],
          [
           2015
          ],
          [
           2016
          ],
          [
           2026
          ],
          [
           2027
          ],
          [
           2032
          ],
          [
           2039
          ],
          [
           2041
          ],
          [
           2056
          ],
          [
           2060
          ]
         ],
         "hovertemplate": "Segment=Mid-Tier<br>Recency=%{x}<br>Monetary=%{y}<br>Frequency=%{marker.size}<br>client_id=%{customdata[0]}<extra></extra>",
         "legendgroup": "Mid-Tier",
         "marker": {
          "color": "#636efa",
          "size": [
           1,
           1,
           1,
           1,
           2,
           2,
           1,
           1,
           3,
           1,
           1,
           1,
           1,
           1,
           1,
           1,
           1,
           2,
           1,
           1,
           2,
           1,
           2,
           1,
           2,
           2,
           1,
           2,
           1,
           2,
           1,
           1,
           2,
           2,
           1,
           1,
           1,
           1,
           1,
           1,
           1,
           1,
           1,
           1,
           1,
           2,
           1,
           1,
           1,
           1,
           2,
           1,
           1,
           1,
           1,
           1,
           1,
           1,
           3,
           1,
           1,
           1,
           1,
           1,
           1,
           2,
           1,
           1,
           2,
           1,
           1,
           1,
           1,
           1,
           1,
           1,
           1,
           1,
           1,
           1,
           1,
           1,
           1,
           1,
           1,
           1,
           2,
           2,
           1,
           1,
           2,
           1,
           1,
           1,
           1,
           2,
           1,
           1,
           1,
           1,
           1,
           2,
           3,
           1,
           1,
           1,
           1,
           1,
           1,
           2,
           1,
           1,
           2,
           1,
           1,
           1,
           1,
           1,
           1,
           1,
           3,
           1,
           2,
           1,
           3,
           1,
           4,
           1,
           1,
           1,
           3,
           1,
           2,
           2,
           1,
           2,
           1,
           2,
           1,
           1,
           1,
           1,
           2,
           1,
           2,
           1,
           3,
           1,
           1,
           1,
           3,
           1,
           1,
           1,
           1,
           1,
           1,
           2,
           1,
           1,
           1,
           1,
           2,
           1,
           1,
           1,
           1,
           1,
           1,
           1,
           1,
           2,
           1,
           1,
           1,
           1,
           1,
           1,
           2,
           1,
           1,
           1,
           1,
           1,
           1,
           1,
           1,
           1,
           2,
           1,
           1,
           1,
           1,
           2,
           3,
           2,
           1,
           2,
           1,
           3,
           1,
           2,
           1,
           1,
           1,
           1,
           1,
           1,
           1,
           1,
           1,
           1,
           1,
           1,
           1,
           3,
           1,
           1,
           2,
           1,
           1,
           1,
           2,
           1,
           2,
           1,
           1,
           1,
           1,
           2,
           2,
           1,
           1,
           1,
           1,
           2,
           1,
           1,
           1,
           2,
           1,
           1,
           1,
           2,
           1,
           1,
           1,
           1,
           1,
           1,
           1,
           1,
           1,
           1,
           1,
           1,
           2,
           3,
           1,
           2,
           2,
           1,
           1,
           1,
           1,
           1,
           1,
           1,
           1,
           1,
           2,
           1,
           1,
           1,
           1,
           2,
           1,
           2,
           1,
           1,
           1,
           1,
           1,
           1,
           1,
           2,
           1,
           1,
           1,
           2,
           1,
           1,
           1,
           1,
           2,
           1,
           1,
           2,
           1,
           2,
           1,
           2,
           1,
           1,
           2,
           1,
           1,
           1,
           1,
           1,
           1,
           1,
           2,
           2,
           1,
           1,
           2,
           2,
           1,
           1,
           1,
           1,
           1,
           1,
           2,
           1,
           1,
           1,
           1,
           2,
           4,
           1,
           2,
           1,
           3,
           2,
           1,
           1,
           2,
           1,
           1,
           2,
           1,
           2,
           1,
           1,
           2,
           2,
           1,
           1,
           1,
           1,
           1,
           1,
           1,
           1,
           1,
           1,
           1,
           3,
           1,
           1,
           2,
           2,
           1,
           2,
           1,
           2,
           1,
           1,
           1,
           2,
           1,
           1,
           1,
           1,
           1,
           1,
           2,
           1,
           3,
           1,
           1,
           2,
           2,
           1,
           2,
           2,
           1,
           1,
           1,
           1,
           1,
           1,
           2,
           1,
           1,
           1,
           1,
           1,
           1,
           1,
           1,
           1,
           1,
           1,
           2,
           2,
           2,
           2,
           2,
           2,
           3,
           1,
           1,
           1,
           1,
           2,
           1,
           1,
           1,
           1,
           1,
           1,
           1,
           1,
           1,
           1,
           1,
           1,
           2,
           2,
           1,
           1,
           1,
           1,
           1,
           1,
           1,
           2,
           1,
           1,
           1,
           1,
           1,
           1,
           1,
           1,
           2,
           2,
           1,
           1,
           2,
           1,
           1,
           1,
           1,
           1,
           1,
           1,
           1,
           2,
           2,
           2,
           1,
           1,
           1,
           1,
           1,
           2,
           1,
           1,
           1,
           1,
           1,
           1,
           2,
           1,
           1,
           2,
           3,
           1,
           3,
           1,
           2,
           1,
           1,
           1,
           1,
           2,
           1,
           1,
           1,
           1,
           2,
           1,
           3,
           1,
           2,
           1,
           1,
           1,
           1,
           1,
           1,
           2,
           2,
           1,
           2,
           1,
           1,
           2,
           2,
           2,
           2,
           3,
           1,
           1,
           1,
           2,
           1,
           2,
           1,
           2,
           1,
           1,
           2,
           1,
           2,
           1,
           1,
           1,
           2,
           1,
           2,
           2,
           2,
           1,
           1,
           2,
           1,
           1,
           1,
           2,
           1,
           3,
           2,
           2,
           1,
           2,
           2,
           1,
           1,
           1,
           2,
           2,
           1,
           4
          ],
          "sizemode": "area",
          "sizeref": 0.025,
          "symbol": "circle"
         },
         "mode": "markers",
         "name": "Mid-Tier",
         "showlegend": true,
         "type": "scattergl",
         "x": [
          3,
          223,
          1,
          237,
          201,
          2,
          5,
          1,
          332,
          610,
          713,
          439,
          334,
          510,
          19,
          21,
          118,
          102,
          7,
          71,
          222,
          132,
          1,
          16,
          1,
          669,
          1,
          1,
          401,
          1,
          13,
          1,
          1,
          104,
          885,
          1027,
          1,
          462,
          1,
          1,
          551,
          1,
          1,
          304,
          260,
          1,
          120,
          1,
          1,
          13,
          271,
          401,
          1,
          458,
          216,
          1,
          1161,
          1,
          1,
          172,
          1,
          95,
          1,
          1,
          1,
          10,
          901,
          123,
          1,
          133,
          93,
          186,
          39,
          270,
          1,
          1,
          15,
          590,
          928,
          388,
          501,
          1,
          1,
          1483,
          1,
          42,
          40,
          1,
          353,
          1189,
          1,
          187,
          206,
          815,
          432,
          126,
          381,
          945,
          2,
          1646,
          186,
          1,
          1,
          70,
          137,
          1,
          83,
          737,
          52,
          1,
          577,
          2,
          1,
          142,
          1,
          255,
          182,
          431,
          1,
          165,
          25,
          1485,
          1,
          132,
          218,
          311,
          1,
          56,
          243,
          1,
          74,
          1,
          1,
          1,
          106,
          1,
          295,
          1,
          81,
          16,
          460,
          201,
          1,
          116,
          51,
          293,
          11,
          440,
          965,
          292,
          24,
          1,
          340,
          118,
          160,
          141,
          165,
          1,
          206,
          70,
          212,
          910,
          24,
          1,
          1,
          6,
          332,
          86,
          160,
          1,
          1,
          163,
          211,
          1,
          331,
          824,
          214,
          1,
          1,
          245,
          4,
          582,
          486,
          1349,
          83,
          1,
          1,
          1,
          1,
          1,
          862,
          1,
          1,
          1,
          1,
          1,
          61,
          293,
          120,
          51,
          966,
          237,
          76,
          574,
          1,
          1,
          258,
          638,
          939,
          622,
          1,
          337,
          1040,
          165,
          1,
          1,
          611,
          94,
          124,
          542,
          677,
          263,
          1,
          999,
          1,
          1,
          1,
          658,
          1,
          1,
          108,
          350,
          1,
          933,
          1,
          1,
          1,
          132,
          124,
          90,
          447,
          119,
          1,
          1,
          1,
          1,
          1,
          245,
          833,
          7,
          1,
          421,
          745,
          57,
          1,
          1,
          1,
          1,
          1,
          442,
          1,
          1056,
          470,
          45,
          1387,
          1,
          962,
          798,
          1,
          1,
          1,
          874,
          532,
          197,
          77,
          1,
          407,
          59,
          115,
          1,
          945,
          374,
          65,
          376,
          548,
          1,
          198,
          1,
          1,
          75,
          137,
          810,
          9,
          1090,
          1,
          1,
          1,
          1,
          3,
          1,
          90,
          1,
          1,
          1,
          1,
          128,
          393,
          1,
          1171,
          364,
          226,
          1,
          1,
          125,
          820,
          7,
          1,
          406,
          492,
          1,
          1,
          1068,
          393,
          257,
          417,
          1,
          1,
          314,
          1,
          1,
          1,
          520,
          1,
          860,
          1,
          1,
          704,
          113,
          216,
          70,
          708,
          1,
          950,
          209,
          7,
          185,
          1,
          1,
          66,
          723,
          868,
          1,
          618,
          203,
          133,
          4,
          15,
          1,
          1,
          1,
          1,
          1,
          1,
          42,
          91,
          167,
          1110,
          1,
          1,
          1,
          667,
          204,
          113,
          633,
          1,
          1323,
          30,
          774,
          1,
          1104,
          1,
          46,
          1,
          1,
          1,
          222,
          126,
          51,
          1100,
          431,
          77,
          968,
          800,
          1,
          1,
          1690,
          237,
          825,
          109,
          43,
          646,
          1,
          466,
          928,
          106,
          1,
          1,
          1,
          288,
          1,
          925,
          72,
          1,
          312,
          159,
          344,
          47,
          1,
          280,
          6,
          441,
          81,
          1206,
          892,
          1,
          156,
          952,
          264,
          337,
          1369,
          1,
          1,
          229,
          1,
          1,
          1,
          563,
          1,
          271,
          1,
          766,
          192,
          1,
          1,
          12,
          217,
          484,
          1,
          1,
          1,
          237,
          961,
          1,
          1,
          1,
          1,
          1,
          1427,
          1,
          1,
          34,
          80,
          80,
          1,
          115,
          1,
          719,
          451,
          1181,
          1,
          1,
          71,
          1026,
          777,
          274,
          1,
          631,
          1,
          360,
          113,
          39,
          198,
          1,
          1,
          2,
          40,
          1,
          384,
          20,
          1,
          1,
          390,
          510,
          42,
          250,
          1,
          1,
          610,
          1,
          328,
          1,
          66,
          700,
          609,
          1,
          1,
          303,
          1,
          35,
          1241,
          1109,
          1,
          1,
          1,
          51,
          1,
          1242,
          63,
          456,
          1,
          241,
          47,
          64,
          1,
          28,
          1,
          1,
          39,
          1,
          260,
          15,
          45,
          1,
          169,
          94,
          1,
          45,
          93,
          784,
          1,
          163,
          76,
          25,
          9,
          100,
          1,
          1,
          202,
          631,
          95,
          299,
          1,
          78,
          1,
          1,
          51,
          1,
          1
         ],
         "xaxis": "x",
         "y": [
          47200,
          256291.77,
          130260,
          142100,
          161200,
          57430,
          55080,
          61480,
          155580,
          250560,
          49300,
          268537.47,
          40500,
          124021.75,
          161280,
          284966.89,
          289399.49,
          120620,
          164050,
          113190,
          111800,
          25250,
          118360,
          112867.97,
          166640,
          98840,
          122460,
          114380,
          267738.92,
          111560,
          205094.49,
          324220,
          45940,
          60080,
          152525.69,
          129850,
          110160,
          78000,
          79970,
          33930,
          237380,
          239250,
          137160,
          91560,
          133251.76,
          145320,
          183080,
          217200,
          75500,
          49560,
          159600,
          35280,
          142340,
          103740,
          44880,
          101660,
          7300,
          62100,
          103660,
          67800,
          52920,
          127360,
          88550,
          146440,
          141000,
          145440,
          30140,
          22800,
          32870,
          212504.22,
          143880,
          315719.79,
          237999.92,
          214662.96,
          172720,
          20370,
          43690,
          129103.94,
          294350,
          256692.22,
          170194.41,
          50200,
          60800,
          38280,
          35700,
          27300,
          45300,
          71120,
          41300,
          97680,
          110130,
          153414.23,
          89200,
          303143.28,
          158182.95,
          145050,
          171336.9,
          192839.82,
          217120,
          21560,
          36750,
          82280,
          160100,
          161350,
          246166.19,
          150600,
          198193.04,
          35360,
          113400,
          142080,
          193913.26,
          25080,
          52200,
          238000,
          86830,
          40320,
          17030,
          137549.39,
          156800,
          115680,
          137690,
          219353.52,
          76280,
          76500,
          84960,
          13020,
          164970,
          210179.64,
          43800,
          53720,
          117500,
          139500,
          146240,
          35880,
          223690.32,
          92070,
          100500,
          144760,
          77880,
          35640,
          73610,
          109890,
          55200,
          86840,
          125800,
          153597.17,
          101240,
          110301.33,
          33600,
          167751.47,
          139360,
          136390,
          79590,
          187702.01,
          34390,
          33600,
          114450,
          68040,
          35700,
          51480,
          297982.83,
          125500,
          129620,
          50000,
          249200,
          257880,
          36720,
          85550,
          233710.92,
          36240,
          27920,
          103200,
          120260,
          41250,
          79410.55,
          94250,
          54720,
          200260,
          34100,
          17100,
          247173.78,
          12600,
          33600,
          74100,
          333267.97,
          82320,
          247100,
          16300,
          56880,
          44170,
          229766.95,
          55080,
          302400,
          150500,
          124710,
          101690,
          183139.6,
          157180,
          300222.95,
          127340,
          10800,
          54140,
          130340,
          57600,
          35040,
          33800,
          265694.68,
          290076.39,
          17120,
          103360,
          90510,
          140212.82,
          24700,
          25670,
          26910,
          155400,
          125580,
          160560,
          72060,
          174161.56,
          45540,
          141760,
          139600,
          157243.37,
          145380,
          67200,
          127920,
          301148.24,
          197370,
          149820,
          149020,
          218857.67,
          13260,
          179532.47,
          25480,
          162450,
          25200,
          192780.78,
          105920,
          102730,
          19200,
          65240,
          31740,
          74810,
          7080,
          39360,
          42150,
          227696.52,
          108939.62,
          15780,
          60480,
          19690,
          174460,
          39000,
          135460,
          124600,
          163180,
          128180,
          54080,
          148110,
          124970,
          45760,
          70050,
          259985.02,
          346610.36,
          21870,
          143376.56,
          15300,
          21560,
          53040,
          144429.68,
          100300,
          189384.82,
          128700,
          57310,
          154065.56,
          167960,
          151620,
          175407.45,
          74100,
          47880,
          35040,
          52850,
          37440,
          353556.06,
          74840,
          151167.26,
          65600,
          21420,
          132195.8,
          247614.87,
          20850,
          52640,
          28640,
          77440,
          162880,
          144720,
          66180,
          71760,
          149060,
          44880,
          106920,
          85330,
          76560,
          83750,
          31080,
          121790,
          50560,
          277514.24,
          52580,
          124260,
          30940,
          148560,
          37300,
          248820,
          16520,
          165334.67,
          49300,
          284347.77,
          57120,
          163680,
          153690.21,
          155480,
          179520,
          39660,
          13230,
          106020,
          344050,
          176900,
          104340,
          152350,
          111160,
          104340,
          181692.01,
          157690,
          46260,
          158920,
          53550,
          111190,
          39340,
          26400,
          166600,
          232019.71,
          91840,
          264549.59,
          176654.71,
          163330,
          53620,
          66750,
          133000,
          256892.49,
          36200,
          102438.69,
          34080,
          23540,
          318884.08,
          126233.2,
          23310,
          19810,
          138550,
          136000,
          127500,
          65830,
          121570,
          191417.94,
          70400,
          28390,
          138180,
          50370,
          53500,
          92340,
          162020,
          91400,
          119785.41,
          102960,
          69700,
          179559.02,
          89740,
          81470,
          87040,
          86630,
          29440,
          133300,
          78700,
          112400,
          184507.46,
          37350,
          98250,
          186420,
          14910,
          22000,
          30000,
          41170,
          154320,
          147510,
          250897.03,
          241314.17,
          262634.6,
          131894.84,
          261049.85,
          12480,
          34880,
          19200,
          45320,
          115708.45,
          11200,
          72660,
          53360,
          65100,
          38800,
          80580,
          144800,
          122380,
          237135.55,
          93750,
          319182.07,
          16000,
          89760,
          167185.71,
          94180,
          158949.49,
          338432.56,
          135720,
          266400,
          29100,
          118650,
          52800,
          42920,
          39800,
          121406.44,
          117230,
          113570,
          151336.88,
          69630,
          39160,
          123480,
          337845.4,
          220320,
          52260,
          63260,
          133980,
          279310.86,
          69840,
          41580,
          27060,
          70470,
          294077.13,
          110700,
          71780,
          126580,
          34160,
          119070,
          64590,
          34080,
          29360,
          67680,
          290080,
          181500,
          42880,
          29120,
          220637.89,
          121140,
          101650,
          117130,
          274642.82,
          121230,
          142671.82,
          41700,
          284039.24,
          69270,
          166250,
          337254.15,
          187245.09,
          97150,
          236035.59,
          14760,
          139501,
          68680,
          38390,
          134960,
          83440,
          18800,
          163720,
          276370,
          112520,
          15400,
          85250,
          113580,
          56000,
          100770,
          35840,
          243971.54,
          108360,
          81810,
          115950,
          44100,
          138330,
          92000,
          150200,
          24500,
          71400,
          144941.02,
          69160,
          114400,
          100620,
          53760,
          66180,
          64800,
          96840,
          133200,
          15480,
          130200,
          103580,
          122340,
          47890,
          58080,
          154313.04,
          64260,
          47700,
          166380,
          34100,
          146070,
          115940,
          103270,
          115200,
          41580,
          116780,
          153720,
          147911.02000000002,
          49000,
          113250,
          32100,
          125500,
          78010,
          96240,
          42030,
          84910,
          158959.76,
          149675.6,
          101260,
          146266.82,
          34220,
          158100,
          138732.28999999998,
          19950,
          122480,
          61170,
          148540,
          26160,
          113000,
          35660,
          15060,
          122570,
          28520,
          79020,
          130460,
          10320,
          147620
         ],
         "yaxis": "y"
        },
        {
         "customdata": [
          [
           4
          ],
          [
           20
          ],
          [
           27
          ],
          [
           32
          ],
          [
           63
          ],
          [
           70
          ],
          [
           92
          ],
          [
           107
          ],
          [
           146
          ],
          [
           157
          ],
          [
           158
          ],
          [
           161
          ],
          [
           183
          ],
          [
           193
          ],
          [
           216
          ],
          [
           231
          ],
          [
           264
          ],
          [
           268
          ],
          [
           274
          ],
          [
           275
          ],
          [
           287
          ],
          [
           300
          ],
          [
           307
          ],
          [
           317
          ],
          [
           343
          ],
          [
           344
          ],
          [
           356
          ],
          [
           375
          ],
          [
           381
          ],
          [
           392
          ],
          [
           413
          ],
          [
           443
          ],
          [
           493
          ],
          [
           501
          ],
          [
           563
          ],
          [
           566
          ],
          [
           608
          ],
          [
           615
          ],
          [
           616
          ],
          [
           621
          ],
          [
           623
          ],
          [
           625
          ],
          [
           626
          ],
          [
           642
          ],
          [
           643
          ],
          [
           654
          ],
          [
           658
          ],
          [
           667
          ],
          [
           678
          ],
          [
           679
          ],
          [
           686
          ],
          [
           700
          ],
          [
           702
          ],
          [
           713
          ],
          [
           760
          ],
          [
           766
          ],
          [
           779
          ],
          [
           810
          ],
          [
           822
          ],
          [
           826
          ],
          [
           845
          ],
          [
           847
          ],
          [
           849
          ],
          [
           868
          ],
          [
           889
          ],
          [
           901
          ],
          [
           914
          ],
          [
           920
          ],
          [
           922
          ],
          [
           926
          ],
          [
           934
          ],
          [
           967
          ],
          [
           969
          ],
          [
           972
          ],
          [
           976
          ],
          [
           1007
          ],
          [
           1036
          ],
          [
           1043
          ],
          [
           1053
          ],
          [
           1081
          ],
          [
           1093
          ],
          [
           1132
          ],
          [
           1145
          ],
          [
           1153
          ],
          [
           1158
          ],
          [
           1162
          ],
          [
           1167
          ],
          [
           1186
          ],
          [
           1196
          ],
          [
           1233
          ],
          [
           1238
          ],
          [
           1261
          ],
          [
           1266
          ],
          [
           1281
          ],
          [
           1321
          ],
          [
           1332
          ],
          [
           1336
          ],
          [
           1371
          ],
          [
           1379
          ],
          [
           1399
          ],
          [
           1403
          ],
          [
           1411
          ],
          [
           1442
          ],
          [
           1449
          ],
          [
           1471
          ],
          [
           1518
          ],
          [
           1526
          ],
          [
           1534
          ],
          [
           1561
          ],
          [
           1572
          ],
          [
           1606
          ],
          [
           1633
          ],
          [
           1643
          ],
          [
           1673
          ],
          [
           1682
          ],
          [
           1691
          ],
          [
           1713
          ],
          [
           1716
          ],
          [
           1782
          ],
          [
           1811
          ],
          [
           1841
          ],
          [
           1854
          ],
          [
           1909
          ],
          [
           1921
          ],
          [
           2059
          ]
         ],
         "hovertemplate": "Segment=Big Spender<br>Recency=%{x}<br>Monetary=%{y}<br>Frequency=%{marker.size}<br>client_id=%{customdata[0]}<extra></extra>",
         "legendgroup": "Big Spender",
         "marker": {
          "color": "#EF553B",
          "size": [
           1,
           1,
           2,
           1,
           1,
           1,
           1,
           1,
           1,
           1,
           1,
           1,
           1,
           1,
           1,
           1,
           1,
           1,
           1,
           1,
           2,
           1,
           1,
           1,
           1,
           1,
           2,
           1,
           1,
           1,
           1,
           1,
           1,
           2,
           2,
           2,
           1,
           1,
           1,
           2,
           2,
           1,
           2,
           1,
           2,
           2,
           1,
           2,
           1,
           1,
           1,
           1,
           1,
           1,
           1,
           2,
           1,
           1,
           1,
           1,
           1,
           2,
           2,
           2,
           2,
           2,
           2,
           1,
           2,
           1,
           2,
           1,
           1,
           2,
           1,
           1,
           1,
           2,
           1,
           1,
           1,
           2,
           1,
           1,
           1,
           1,
           2,
           2,
           1,
           2,
           1,
           1,
           1,
           1,
           1,
           2,
           2,
           1,
           2,
           1,
           1,
           1,
           2,
           1,
           1,
           1,
           1,
           1,
           1,
           1,
           1,
           1,
           1,
           1,
           1,
           1,
           1,
           1,
           1,
           1,
           1,
           1,
           1,
           1,
           1
          ],
          "sizemode": "area",
          "sizeref": 0.025,
          "symbol": "circle"
         },
         "mode": "markers",
         "name": "Big Spender",
         "showlegend": true,
         "type": "scattergl",
         "x": [
          334,
          35,
          226,
          714,
          169,
          900,
          707,
          299,
          741,
          124,
          794,
          76,
          983,
          122,
          1315,
          6,
          431,
          22,
          14,
          613,
          878,
          1642,
          157,
          82,
          285,
          791,
          246,
          182,
          952,
          1093,
          150,
          855,
          656,
          874,
          606,
          366,
          399,
          1497,
          317,
          1056,
          275,
          460,
          234,
          512,
          405,
          707,
          119,
          309,
          867,
          596,
          125,
          330,
          1,
          2,
          120,
          241,
          414,
          805,
          541,
          1706,
          83,
          357,
          317,
          257,
          406,
          349,
          330,
          227,
          429,
          96,
          623,
          146,
          142,
          346,
          17,
          337,
          38,
          431,
          1,
          1180,
          114,
          284,
          830,
          684,
          265,
          1020,
          240,
          286,
          55,
          383,
          155,
          688,
          232,
          301,
          323,
          385,
          542,
          334,
          912,
          245,
          1542,
          847,
          505,
          68,
          239,
          919,
          9,
          34,
          16,
          108,
          198,
          717,
          159,
          28,
          291,
          533,
          142,
          627,
          420,
          595,
          1050,
          1000,
          605,
          940,
          440
         ],
         "xaxis": "x",
         "y": [
          458279.66,
          687229.51,
          1249868.64,
          1209153.13,
          700351.23,
          640952.38,
          638566.08,
          753333.62,
          1179141.92,
          938004.29,
          651305.03,
          939906.17,
          370189.5,
          967031.59,
          438976.47,
          619257.04,
          564989.03,
          406000,
          1017565.11,
          499866.29,
          468261.62,
          1127649.5,
          1009547.23,
          687911.99,
          522235.79,
          897527.36,
          853016.3,
          459422.6,
          558489.04,
          458194.68,
          1156605.11,
          568838.28,
          805886.06,
          469375.95,
          1309030.25,
          797053.58,
          574029.96,
          1358598.89,
          1288454.21,
          669000.87,
          413217.27999999997,
          665612.55,
          1035928.36,
          376286.02,
          760608.9099999999,
          406379.93,
          1143835.17,
          540813.6699999999,
          1231592.77,
          886392.38,
          444175.5,
          432149.34,
          489960,
          1887597.4,
          368208.54,
          788890.58,
          1007253.87,
          1302865.43,
          765380.42,
          390379.21,
          450856.43,
          1710635.83,
          586139.39,
          856010.9,
          882183.73,
          462601.85,
          1092902.22,
          1201065.23,
          1010715.8899999999,
          1105635.85,
          1209781.01,
          435315.98,
          417200,
          494681.57,
          527050.73,
          761988.61,
          1208435.25,
          1065280.75,
          708180,
          371996.11,
          405772.75,
          1296867.44,
          362006.25,
          431886.29,
          593250.2,
          395600,
          513030.82,
          484425.58,
          487520.82,
          956448.03,
          812548.61,
          667262.67,
          1082748.34,
          469000,
          477900,
          450021.44,
          820339.83,
          1652819.02,
          450671.85,
          853537.72,
          490272.54,
          412814.25,
          1163904.52,
          381196.04,
          717563.81,
          553394.73,
          822988.09,
          370877.21,
          536079.15,
          920095.8,
          1313248.25,
          384008.78,
          981605.4,
          1357925.28,
          653527.43,
          618660.77,
          1864933.05,
          1217792.4,
          398100.47,
          873716.7,
          530656.02,
          355500,
          1639663.09,
          355939.76,
          1809469.56
         ],
         "yaxis": "y"
        },
        {
         "customdata": [
          [
           7
          ],
          [
           13
          ],
          [
           14
          ],
          [
           21
          ],
          [
           29
          ],
          [
           31
          ],
          [
           42
          ],
          [
           48
          ],
          [
           51
          ],
          [
           52
          ],
          [
           53
          ],
          [
           74
          ],
          [
           79
          ],
          [
           83
          ],
          [
           88
          ],
          [
           94
          ],
          [
           99
          ],
          [
           101
          ],
          [
           106
          ],
          [
           113
          ],
          [
           114
          ],
          [
           116
          ],
          [
           119
          ],
          [
           120
          ],
          [
           123
          ],
          [
           124
          ],
          [
           126
          ],
          [
           137
          ],
          [
           138
          ],
          [
           139
          ],
          [
           141
          ],
          [
           145
          ],
          [
           147
          ],
          [
           160
          ],
          [
           171
          ],
          [
           172
          ],
          [
           180
          ],
          [
           186
          ],
          [
           187
          ],
          [
           191
          ],
          [
           194
          ],
          [
           196
          ],
          [
           201
          ],
          [
           204
          ],
          [
           205
          ],
          [
           206
          ],
          [
           210
          ],
          [
           211
          ],
          [
           218
          ],
          [
           219
          ],
          [
           220
          ],
          [
           222
          ],
          [
           224
          ],
          [
           239
          ],
          [
           240
          ],
          [
           242
          ],
          [
           245
          ],
          [
           248
          ],
          [
           250
          ],
          [
           251
          ],
          [
           253
          ],
          [
           259
          ],
          [
           262
          ],
          [
           271
          ],
          [
           282
          ],
          [
           284
          ],
          [
           296
          ],
          [
           305
          ],
          [
           308
          ],
          [
           310
          ],
          [
           311
          ],
          [
           314
          ],
          [
           322
          ],
          [
           326
          ],
          [
           327
          ],
          [
           331
          ],
          [
           339
          ],
          [
           342
          ],
          [
           345
          ],
          [
           349
          ],
          [
           355
          ],
          [
           361
          ],
          [
           365
          ],
          [
           383
          ],
          [
           385
          ],
          [
           391
          ],
          [
           393
          ],
          [
           394
          ],
          [
           405
          ],
          [
           406
          ],
          [
           407
          ],
          [
           412
          ],
          [
           420
          ],
          [
           444
          ],
          [
           449
          ],
          [
           465
          ],
          [
           466
          ],
          [
           467
          ],
          [
           469
          ],
          [
           476
          ],
          [
           480
          ],
          [
           495
          ],
          [
           507
          ],
          [
           508
          ],
          [
           515
          ],
          [
           520
          ],
          [
           526
          ],
          [
           529
          ],
          [
           531
          ],
          [
           538
          ],
          [
           545
          ],
          [
           555
          ],
          [
           558
          ],
          [
           561
          ],
          [
           569
          ],
          [
           572
          ],
          [
           573
          ],
          [
           574
          ],
          [
           578
          ],
          [
           579
          ],
          [
           582
          ],
          [
           589
          ],
          [
           593
          ],
          [
           598
          ],
          [
           602
          ],
          [
           606
          ],
          [
           611
          ],
          [
           629
          ],
          [
           630
          ],
          [
           633
          ],
          [
           634
          ],
          [
           636
          ],
          [
           638
          ],
          [
           644
          ],
          [
           645
          ],
          [
           646
          ],
          [
           651
          ],
          [
           655
          ],
          [
           657
          ],
          [
           660
          ],
          [
           669
          ],
          [
           674
          ],
          [
           677
          ],
          [
           680
          ],
          [
           683
          ],
          [
           687
          ],
          [
           690
          ],
          [
           692
          ],
          [
           701
          ],
          [
           704
          ],
          [
           706
          ],
          [
           708
          ],
          [
           710
          ],
          [
           712
          ],
          [
           715
          ],
          [
           716
          ],
          [
           733
          ],
          [
           735
          ],
          [
           751
          ],
          [
           753
          ],
          [
           763
          ],
          [
           764
          ],
          [
           782
          ],
          [
           783
          ],
          [
           787
          ],
          [
           790
          ],
          [
           791
          ],
          [
           793
          ],
          [
           796
          ],
          [
           798
          ],
          [
           801
          ],
          [
           802
          ],
          [
           808
          ],
          [
           809
          ],
          [
           813
          ],
          [
           814
          ],
          [
           815
          ],
          [
           821
          ],
          [
           823
          ],
          [
           829
          ],
          [
           830
          ],
          [
           832
          ],
          [
           834
          ],
          [
           835
          ],
          [
           837
          ],
          [
           838
          ],
          [
           843
          ],
          [
           861
          ],
          [
           862
          ],
          [
           872
          ],
          [
           882
          ],
          [
           890
          ],
          [
           891
          ],
          [
           895
          ],
          [
           897
          ],
          [
           900
          ],
          [
           907
          ],
          [
           927
          ],
          [
           932
          ],
          [
           951
          ],
          [
           956
          ],
          [
           966
          ],
          [
           970
          ],
          [
           973
          ],
          [
           975
          ],
          [
           983
          ],
          [
           985
          ],
          [
           993
          ],
          [
           994
          ],
          [
           998
          ],
          [
           1000
          ],
          [
           1006
          ],
          [
           1012
          ],
          [
           1015
          ],
          [
           1019
          ],
          [
           1029
          ],
          [
           1030
          ],
          [
           1035
          ],
          [
           1039
          ],
          [
           1044
          ],
          [
           1058
          ],
          [
           1061
          ],
          [
           1063
          ],
          [
           1064
          ],
          [
           1067
          ],
          [
           1072
          ],
          [
           1075
          ],
          [
           1082
          ],
          [
           1083
          ],
          [
           1085
          ],
          [
           1086
          ],
          [
           1089
          ],
          [
           1091
          ],
          [
           1094
          ],
          [
           1095
          ],
          [
           1105
          ],
          [
           1120
          ],
          [
           1128
          ],
          [
           1133
          ],
          [
           1135
          ],
          [
           1139
          ],
          [
           1140
          ],
          [
           1142
          ],
          [
           1144
          ],
          [
           1146
          ],
          [
           1151
          ],
          [
           1154
          ],
          [
           1157
          ],
          [
           1159
          ],
          [
           1161
          ],
          [
           1163
          ],
          [
           1168
          ],
          [
           1170
          ],
          [
           1171
          ],
          [
           1174
          ],
          [
           1178
          ],
          [
           1180
          ],
          [
           1182
          ],
          [
           1183
          ],
          [
           1184
          ],
          [
           1187
          ],
          [
           1201
          ],
          [
           1202
          ],
          [
           1223
          ],
          [
           1224
          ],
          [
           1227
          ],
          [
           1231
          ],
          [
           1246
          ],
          [
           1249
          ],
          [
           1250
          ],
          [
           1253
          ],
          [
           1268
          ],
          [
           1270
          ],
          [
           1271
          ],
          [
           1272
          ],
          [
           1276
          ],
          [
           1287
          ],
          [
           1295
          ],
          [
           1304
          ],
          [
           1310
          ],
          [
           1314
          ],
          [
           1315
          ],
          [
           1319
          ],
          [
           1324
          ],
          [
           1329
          ],
          [
           1330
          ],
          [
           1346
          ],
          [
           1347
          ],
          [
           1350
          ],
          [
           1354
          ],
          [
           1358
          ],
          [
           1359
          ],
          [
           1360
          ],
          [
           1367
          ],
          [
           1372
          ],
          [
           1376
          ],
          [
           1393
          ],
          [
           1397
          ],
          [
           1404
          ],
          [
           1409
          ],
          [
           1410
          ],
          [
           1413
          ],
          [
           1419
          ],
          [
           1420
          ],
          [
           1424
          ],
          [
           1426
          ],
          [
           1431
          ],
          [
           1432
          ],
          [
           1439
          ],
          [
           1446
          ],
          [
           1452
          ],
          [
           1454
          ],
          [
           1455
          ],
          [
           1456
          ],
          [
           1458
          ],
          [
           1461
          ],
          [
           1462
          ],
          [
           1463
          ],
          [
           1470
          ],
          [
           1475
          ],
          [
           1477
          ],
          [
           1479
          ],
          [
           1484
          ],
          [
           1486
          ],
          [
           1490
          ],
          [
           1491
          ],
          [
           1500
          ],
          [
           1502
          ],
          [
           1504
          ],
          [
           1505
          ],
          [
           1508
          ],
          [
           1511
          ],
          [
           1513
          ],
          [
           1515
          ],
          [
           1516
          ],
          [
           1520
          ],
          [
           1531
          ],
          [
           1535
          ],
          [
           1537
          ],
          [
           1538
          ],
          [
           1547
          ],
          [
           1554
          ],
          [
           1555
          ],
          [
           1556
          ],
          [
           1564
          ],
          [
           1565
          ],
          [
           1568
          ],
          [
           1585
          ],
          [
           1586
          ],
          [
           1587
          ],
          [
           1591
          ],
          [
           1595
          ],
          [
           1600
          ],
          [
           1601
          ],
          [
           1602
          ],
          [
           1603
          ],
          [
           1604
          ],
          [
           1608
          ],
          [
           1610
          ],
          [
           1611
          ],
          [
           1613
          ],
          [
           1616
          ],
          [
           1627
          ],
          [
           1635
          ],
          [
           1638
          ],
          [
           1642
          ],
          [
           1645
          ],
          [
           1646
          ],
          [
           1653
          ],
          [
           1654
          ],
          [
           1656
          ],
          [
           1657
          ],
          [
           1659
          ],
          [
           1667
          ],
          [
           1670
          ],
          [
           1674
          ],
          [
           1675
          ],
          [
           1680
          ],
          [
           1683
          ],
          [
           1687
          ],
          [
           1696
          ],
          [
           1702
          ],
          [
           1703
          ],
          [
           1706
          ],
          [
           1707
          ],
          [
           1709
          ],
          [
           1710
          ],
          [
           1712
          ],
          [
           1714
          ],
          [
           1717
          ],
          [
           1719
          ],
          [
           1721
          ],
          [
           1726
          ],
          [
           1730
          ],
          [
           1733
          ],
          [
           1737
          ],
          [
           1740
          ],
          [
           1742
          ],
          [
           1744
          ],
          [
           1752
          ],
          [
           1756
          ],
          [
           1763
          ],
          [
           1774
          ],
          [
           1780
          ],
          [
           1788
          ],
          [
           1790
          ],
          [
           1793
          ],
          [
           1794
          ],
          [
           1805
          ],
          [
           1807
          ],
          [
           1813
          ],
          [
           1814
          ],
          [
           1817
          ],
          [
           1821
          ],
          [
           1824
          ],
          [
           1843
          ],
          [
           1846
          ],
          [
           1855
          ],
          [
           1875
          ],
          [
           1876
          ],
          [
           1884
          ],
          [
           1886
          ],
          [
           1889
          ],
          [
           1892
          ],
          [
           1897
          ],
          [
           1900
          ],
          [
           1901
          ],
          [
           1902
          ],
          [
           1903
          ],
          [
           1907
          ],
          [
           1912
          ],
          [
           1913
          ],
          [
           1914
          ],
          [
           1918
          ],
          [
           1920
          ],
          [
           1922
          ],
          [
           1929
          ],
          [
           1930
          ],
          [
           1931
          ],
          [
           1932
          ],
          [
           1934
          ],
          [
           1937
          ],
          [
           1939
          ],
          [
           1940
          ],
          [
           1952
          ],
          [
           1957
          ],
          [
           1958
          ],
          [
           1968
          ],
          [
           1973
          ],
          [
           1979
          ],
          [
           1984
          ],
          [
           1986
          ],
          [
           1987
          ],
          [
           1988
          ],
          [
           1989
          ],
          [
           1992
          ],
          [
           1993
          ],
          [
           1995
          ],
          [
           1997
          ],
          [
           2000
          ],
          [
           2001
          ],
          [
           2006
          ],
          [
           2025
          ],
          [
           2028
          ],
          [
           2033
          ],
          [
           2034
          ],
          [
           2045
          ],
          [
           2047
          ],
          [
           2054
          ],
          [
           2055
          ]
         ],
         "hovertemplate": "Segment=VIP Clients<br>Recency=%{x}<br>Monetary=%{y}<br>Frequency=%{marker.size}<br>client_id=%{customdata[0]}<extra></extra>",
         "legendgroup": "VIP Clients",
         "marker": {
          "color": "#00cc96",
          "size": [
           4,
           3,
           3,
           3,
           3,
           4,
           4,
           5,
           4,
           3,
           3,
           4,
           3,
           5,
           3,
           3,
           5,
           4,
           4,
           5,
           3,
           3,
           4,
           5,
           3,
           5,
           7,
           4,
           4,
           3,
           3,
           3,
           5,
           3,
           4,
           3,
           3,
           3,
           3,
           3,
           3,
           3,
           4,
           4,
           5,
           3,
           4,
           3,
           3,
           5,
           3,
           4,
           4,
           3,
           3,
           5,
           4,
           3,
           5,
           4,
           4,
           3,
           3,
           3,
           4,
           3,
           3,
           3,
           3,
           3,
           5,
           8,
           7,
           4,
           5,
           3,
           3,
           5,
           4,
           5,
           4,
           4,
           6,
           4,
           4,
           6,
           4,
           6,
           5,
           3,
           4,
           3,
           3,
           3,
           3,
           4,
           4,
           4,
           4,
           4,
           4,
           4,
           3,
           3,
           3,
           5,
           4,
           3,
           4,
           4,
           4,
           3,
           5,
           3,
           4,
           6,
           3,
           4,
           4,
           3,
           4,
           4,
           4,
           5,
           4,
           3,
           5,
           4,
           3,
           9,
           3,
           3,
           4,
           4,
           3,
           4,
           3,
           3,
           6,
           3,
           3,
           5,
           6,
           5,
           3,
           3,
           3,
           3,
           3,
           3,
           3,
           3,
           3,
           3,
           5,
           6,
           3,
           4,
           6,
           3,
           3,
           3,
           3,
           5,
           3,
           3,
           3,
           5,
           4,
           4,
           4,
           5,
           3,
           5,
           3,
           4,
           3,
           5,
           4,
           4,
           4,
           3,
           4,
           7,
           5,
           3,
           4,
           4,
           4,
           7,
           3,
           3,
           3,
           3,
           5,
           4,
           4,
           5,
           4,
           4,
           3,
           5,
           4,
           4,
           4,
           10,
           6,
           4,
           4,
           5,
           3,
           4,
           3,
           6,
           6,
           4,
           5,
           4,
           3,
           5,
           4,
           4,
           5,
           4,
           5,
           3,
           5,
           4,
           4,
           3,
           3,
           3,
           3,
           3,
           4,
           4,
           7,
           5,
           3,
           3,
           3,
           5,
           4,
           6,
           5,
           4,
           7,
           3,
           3,
           4,
           4,
           3,
           4,
           6,
           8,
           4,
           3,
           5,
           5,
           4,
           4,
           7,
           4,
           3,
           5,
           4,
           4,
           6,
           4,
           3,
           4,
           4,
           5,
           4,
           3,
           3,
           3,
           3,
           3,
           3,
           5,
           3,
           3,
           3,
           4,
           3,
           3,
           5,
           4,
           5,
           3,
           3,
           4,
           4,
           3,
           4,
           4,
           4,
           3,
           3,
           4,
           3,
           4,
           3,
           4,
           3,
           3,
           4,
           4,
           5,
           2,
           6,
           2,
           3,
           4,
           3,
           3,
           2,
           6,
           3,
           3,
           3,
           3,
           6,
           2,
           3,
           7,
           3,
           4,
           5,
           4,
           2,
           2,
           3,
           3,
           2,
           4,
           3,
           3,
           3,
           4,
           3,
           5,
           5,
           5,
           5,
           3,
           5,
           4,
           4,
           2,
           4,
           2,
           2,
           3,
           2,
           6,
           3,
           5,
           4,
           4,
           3,
           3,
           2,
           4,
           4,
           7,
           4,
           2,
           3,
           5,
           2,
           3,
           6,
           4,
           6,
           2,
           3,
           4,
           3,
           5,
           2,
           5,
           6,
           5,
           4,
           4,
           5,
           6,
           2,
           5,
           3,
           2,
           3,
           5,
           4,
           3,
           3,
           3,
           5,
           3,
           4,
           3,
           5,
           3,
           4,
           4,
           4,
           5,
           5,
           3,
           5,
           6,
           3,
           3,
           3,
           3,
           2,
           4,
           3,
           7,
           3,
           3,
           4,
           2,
           4,
           6,
           2,
           3,
           7,
           3,
           5,
           4,
           5,
           4,
           2,
           3,
           3,
           2,
           5,
           5,
           4,
           2,
           3,
           6,
           5,
           4,
           4,
           2,
           6,
           5,
           6,
           3,
           4,
           4,
           3,
           3,
           3,
           8,
           5,
           2,
           2,
           6,
           3,
           4,
           3,
           2,
           2,
           4,
           4
          ],
          "sizemode": "area",
          "sizeref": 0.025,
          "symbol": "circle"
         },
         "mode": "markers",
         "name": "VIP Clients",
         "showlegend": true,
         "type": "scattergl",
         "x": [
          1,
          1,
          1,
          1,
          1,
          1,
          1,
          1,
          1,
          1,
          3,
          3,
          1,
          1,
          1,
          1,
          1,
          1,
          1,
          1,
          1,
          27,
          1,
          1,
          1,
          1,
          1,
          1,
          22,
          28,
          1,
          28,
          1,
          1,
          1,
          1,
          1,
          1,
          1,
          1,
          1,
          1,
          1,
          1,
          1,
          1,
          16,
          1,
          1,
          1,
          1,
          1,
          1,
          1,
          1,
          1,
          1,
          1,
          1,
          1,
          1,
          1,
          15,
          1,
          1,
          19,
          1,
          1,
          1,
          7,
          1,
          1,
          1,
          1,
          1,
          1,
          1,
          1,
          1,
          1,
          1,
          1,
          1,
          24,
          1,
          1,
          1,
          1,
          12,
          1,
          1,
          1,
          11,
          12,
          1,
          16,
          1,
          1,
          1,
          1,
          1,
          1,
          1,
          1,
          28,
          1,
          1,
          11,
          1,
          1,
          1,
          1,
          1,
          1,
          1,
          1,
          1,
          1,
          1,
          1,
          1,
          1,
          1,
          1,
          1,
          1,
          1,
          1,
          1,
          1,
          22,
          1,
          1,
          1,
          18,
          1,
          1,
          1,
          1,
          1,
          1,
          1,
          1,
          1,
          1,
          1,
          1,
          1,
          4,
          1,
          1,
          1,
          3,
          1,
          1,
          1,
          1,
          1,
          1,
          21,
          1,
          1,
          1,
          1,
          3,
          1,
          1,
          28,
          1,
          1,
          1,
          1,
          1,
          1,
          1,
          1,
          1,
          1,
          17,
          1,
          1,
          1,
          1,
          26,
          1,
          1,
          1,
          1,
          1,
          1,
          1,
          1,
          1,
          1,
          8,
          1,
          1,
          1,
          1,
          1,
          1,
          5,
          1,
          11,
          1,
          1,
          11,
          1,
          1,
          1,
          1,
          1,
          1,
          1,
          1,
          1,
          1,
          1,
          1,
          1,
          1,
          1,
          1,
          1,
          1,
          1,
          1,
          1,
          3,
          1,
          1,
          1,
          1,
          1,
          1,
          1,
          1,
          1,
          1,
          11,
          1,
          1,
          1,
          1,
          1,
          1,
          8,
          11,
          10,
          1,
          4,
          1,
          1,
          1,
          1,
          1,
          1,
          1,
          1,
          5,
          1,
          1,
          1,
          1,
          1,
          1,
          1,
          1,
          1,
          1,
          1,
          1,
          1,
          1,
          1,
          17,
          1,
          1,
          3,
          1,
          1,
          1,
          1,
          1,
          18,
          1,
          1,
          1,
          1,
          1,
          1,
          1,
          3,
          1,
          1,
          1,
          1,
          1,
          1,
          1,
          2,
          1,
          1,
          1,
          1,
          1,
          1,
          1,
          1,
          1,
          9,
          30,
          2,
          1,
          1,
          12,
          1,
          14,
          1,
          23,
          1,
          1,
          1,
          1,
          1,
          4,
          1,
          17,
          1,
          1,
          1,
          1,
          1,
          30,
          1,
          1,
          1,
          5,
          1,
          1,
          1,
          1,
          1,
          1,
          1,
          1,
          1,
          1,
          1,
          2,
          1,
          1,
          25,
          1,
          1,
          1,
          1,
          9,
          1,
          16,
          16,
          1,
          1,
          1,
          1,
          1,
          1,
          1,
          3,
          1,
          1,
          1,
          1,
          1,
          1,
          1,
          1,
          1,
          1,
          1,
          1,
          1,
          1,
          1,
          1,
          1,
          1,
          1,
          13,
          1,
          1,
          26,
          1,
          1,
          1,
          27,
          1,
          1,
          1,
          1,
          1,
          1,
          2,
          1,
          1,
          1,
          6,
          1,
          1,
          1,
          1,
          1,
          1,
          1,
          9,
          1,
          1,
          1,
          1,
          1,
          1,
          1,
          1,
          1,
          1,
          1,
          1,
          20,
          1,
          1,
          1,
          1,
          1,
          1,
          1,
          1,
          1,
          1,
          6,
          1,
          1,
          1,
          23,
          2,
          1,
          1,
          1,
          20,
          1,
          1,
          1,
          7,
          1,
          1,
          1,
          1,
          1,
          12,
          1,
          1,
          1,
          1,
          1,
          1,
          13,
          30,
          1,
          1,
          1,
          1
         ],
         "xaxis": "x",
         "y": [
          1150233.9300000002,
          1160727.99,
          404599.33999999997,
          576804.15,
          1610080.3599999999,
          1652846.27,
          409697.88,
          1451518.55,
          574774.1799999999,
          510740.83,
          995563.05,
          2566880.5500000003,
          509990,
          1356992.35,
          366775.01,
          547272.53,
          1587245.38,
          583869.71,
          808164.3,
          542344.9199999999,
          692866.04,
          931868.62,
          757149.49,
          922337.78,
          647100,
          824278.39,
          3683653.7300000004,
          1426513.81,
          810825.89,
          2084145.44,
          723798.8,
          1184444.12,
          886260.65,
          497767.61,
          744436.2,
          840736.71,
          426639.87,
          1865717.02,
          953502.1200000001,
          1092634.3900000001,
          1334450.74,
          851584.3200000001,
          1046962.7,
          1784251.1,
          2016535.29,
          468140.4,
          685536.82,
          632441.76,
          399124.26,
          1062399.04,
          898458.19,
          479870,
          1054422.88,
          574271.8,
          1190392.15,
          1722348.82,
          1599026.97,
          1896123.75,
          1824779.89,
          3662454.15,
          781583.05,
          411364.62,
          653260.5800000001,
          586952,
          688456.15,
          1217124.64,
          1052150.62,
          851246.91,
          713284.4,
          1508175.5899999999,
          630601.39,
          1477031.44,
          2531153.16,
          475034.8,
          1607709.48,
          461288.58,
          455394.01,
          1685935.39,
          1057813.83,
          807020,
          786030.73,
          675629.27,
          1868726.37,
          493046.69,
          686811.51,
          1231544.04,
          3150262.65,
          561048.64,
          1297903.6400000001,
          494562.97,
          1955704.68,
          372500,
          590654.48,
          730213.83,
          1429341.87,
          1387923.93,
          785146.44,
          844458.59,
          641926.6,
          593785.3,
          1179296.19,
          1093622.08,
          596084.06,
          897911.78,
          652151.85,
          1884693.5700000003,
          515540,
          671929,
          634316.9,
          614093.11,
          1180503.1400000001,
          2692242.8499999996,
          2060287.6600000001,
          413778.05,
          734103.8200000001,
          644270,
          400154.04,
          359630,
          717375.78,
          394000.08999999997,
          521200,
          607590,
          865280.4400000001,
          677993.1599999999,
          640946.63,
          474729.51,
          1614808,
          724410.87,
          490638.81,
          800317.1,
          1843865.51,
          625359.27,
          688402.41,
          1819828.31,
          879400.97,
          1347530.5499999998,
          514206.54000000004,
          804410,
          971417.37,
          841223.04,
          1971674.8,
          1365623.2,
          478610,
          919116.3200000001,
          473770,
          356790,
          1218643.4,
          677410,
          1681628.76,
          453194.95,
          529181.35,
          535264.53,
          372394.25,
          956275.01,
          976382.54,
          2164723.88,
          451652.28,
          1191885.99,
          2058486.51,
          456359.08999999997,
          2184520.9499999997,
          1323317.13,
          565807.75,
          894821.78,
          2117382.6399999997,
          528492.04,
          710956.95,
          1342741.6500000001,
          1361280.82,
          409671.87,
          669406.51,
          674546.08,
          743938.43,
          2086514.5299999998,
          1818665.4,
          1330136.15,
          740823.63,
          934219.45,
          397286.18,
          703179.28,
          1377350.81,
          372846.46,
          1394752.13,
          2022561.52,
          1157449.81,
          466643.91000000003,
          1826450.07,
          741583.53,
          751865.9,
          1354981.23,
          452695.13,
          1013532.6,
          825545.3999999999,
          902380.78,
          2313521.27,
          1860701.25,
          415230,
          1171861.61,
          731420,
          585924.34,
          715960,
          678727.75,
          1041642.6000000001,
          1659976.7,
          703273.73,
          2934089.37,
          2014018.25,
          1243547.6,
          1328173.29,
          709837.34,
          859519.63,
          1152959.02,
          790789.46,
          447600,
          1389527.42,
          865435.24,
          707113.5900000001,
          1074022.03,
          558770,
          1296265.1099999999,
          767441.95,
          954487.59,
          615710,
          1491450.69,
          818904.22,
          369337.26,
          390260,
          509248.89,
          680194.75,
          1564907.15,
          822175.16,
          1425944.5399999998,
          478042.9,
          636110,
          636040.25,
          1012777.95,
          2002958.85,
          1824560.27,
          466273.06,
          1035715.1800000002,
          1233061.99,
          959690,
          869019.31,
          2045712.49,
          1803063.64,
          595730.86,
          1502215.47,
          393750,
          1562294.85,
          593593.95,
          474871.86,
          594807.16,
          1725908.8,
          905653.25,
          2051481.9500000002,
          1027897.01,
          401150,
          448176.14,
          2130887.65,
          664996.77,
          1299656.25,
          1845659.14,
          2069720.83,
          1689244.7,
          599418.48,
          392637.94,
          654228.08,
          2171247.67,
          1553075.81,
          430044.25,
          777946.1,
          519030,
          1452736.13,
          1324679.52,
          421090,
          467089.82,
          666119.15,
          770246.62,
          363380,
          1211639.68,
          975984.28,
          402709.66000000003,
          1717807.1099999999,
          359390,
          539390.22,
          1321775.38,
          458892.43,
          1995786.29,
          807730.47,
          464644.88,
          1091409.62,
          522702.99,
          605204.83,
          1839937.43,
          513260,
          427582.82,
          1266658.3900000001,
          1050205.08,
          1277514.87,
          615690,
          511091.37,
          1741147.41,
          477167.94,
          1676470.11,
          633215.62,
          1767130.2799999998,
          833940.47,
          684489.94,
          483255.82999999996,
          1125124.08,
          399310.28,
          989390.09,
          959936.68,
          465590,
          940370.72,
          868507.13,
          516689.03,
          495960,
          1531199.55,
          566188.27,
          398760,
          965518.17,
          1465374.19,
          681602.9,
          505979.78,
          923798.02,
          2577016.85,
          955332.77,
          1084171.21,
          831579.98,
          2636706.38,
          526595.14,
          1135923.25,
          658880.13,
          508748.82,
          570780,
          596388.73,
          415152.5,
          518934.44,
          510009.64,
          1751081.69,
          488814.1,
          1045769.37,
          844346.12,
          721047.1699999999,
          2094194.96,
          775060.55,
          2130917.29,
          365128.35,
          1438620.29,
          859691.78,
          732193.65,
          647329.55,
          428198.8,
          836274.81,
          470483.01,
          811803.1,
          1639736.03,
          1063852.9,
          3338868.71,
          634915.31,
          703623.44,
          418416.67000000004,
          1091087.5,
          2318731.15,
          1287461.41,
          1448810.0699999998,
          1342394.99,
          726397.73,
          532737.16,
          1108342.55,
          833950.75,
          530610.65,
          1107166.6800000002,
          1791873.25,
          1211167.3900000001,
          373050,
          1683361,
          1456562.8699999999,
          1725909.49,
          932668.48,
          829525.32,
          1838907.2,
          1536854.45,
          1670204.6099999999,
          766970.27,
          562502.23,
          1364490.99,
          1474369.25,
          1101906.33,
          737653.14,
          1633553.65,
          385497.74,
          1072205.6400000001,
          839778.01,
          1859513.71,
          1412134.1800000002,
          872580.28,
          2103594.93,
          546661.06,
          428530.5,
          690021.55,
          2125877.43,
          801682.99,
          628202.8200000001,
          460730,
          1180923.9,
          424370,
          410909.39,
          785980.7,
          1401626.07,
          1280680.81,
          710925.05,
          1441607.11,
          703060.7,
          2562130.54,
          738939.16,
          934824.12,
          366600,
          615193.38,
          1844524.21,
          577100,
          1406548.76,
          353920,
          373630,
          1426956.19,
          2570606.92,
          412951.16,
          515992.28,
          1542288.45,
          564890.78,
          1651467.5,
          1875206.82,
          1319641.96,
          867193.1799999999,
          361700.23,
          806422.83,
          1156087.9,
          1141680.74,
          1560561.85,
          714183.89,
          664254.4299999999,
          402307.43,
          1082123.1,
          1424489.7,
          3017105.37,
          722198.78,
          1222585.85,
          385775.78,
          895114.06,
          359168.76,
          1903417.92,
          747275.49,
          770910.97,
          650276.78,
          600880,
          552750,
          1365430.81,
          1456426.47,
          858220.49,
          905010.76,
          552490,
          1285984.15,
          441114.99,
          2297385.89,
          504623.08999999997,
          356587.29,
          602706.26,
          600446.8,
          949046.1799999999
         ],
         "yaxis": "y"
        },
        {
         "customdata": [
          [
           10
          ],
          [
           23
          ],
          [
           25
          ],
          [
           26
          ],
          [
           34
          ],
          [
           35
          ],
          [
           36
          ],
          [
           46
          ],
          [
           49
          ],
          [
           56
          ],
          [
           60
          ],
          [
           71
          ],
          [
           72
          ],
          [
           73
          ],
          [
           97
          ],
          [
           104
          ],
          [
           109
          ],
          [
           111
          ],
          [
           112
          ],
          [
           117
          ],
          [
           118
          ],
          [
           128
          ],
          [
           130
          ],
          [
           132
          ],
          [
           140
          ],
          [
           142
          ],
          [
           150
          ],
          [
           155
          ],
          [
           162
          ],
          [
           164
          ],
          [
           165
          ],
          [
           166
          ],
          [
           167
          ],
          [
           168
          ],
          [
           176
          ],
          [
           177
          ],
          [
           182
          ],
          [
           188
          ],
          [
           198
          ],
          [
           208
          ],
          [
           233
          ],
          [
           235
          ],
          [
           252
          ],
          [
           255
          ],
          [
           257
          ],
          [
           260
          ],
          [
           261
          ],
          [
           266
          ],
          [
           283
          ],
          [
           292
          ],
          [
           293
          ],
          [
           294
          ],
          [
           297
          ],
          [
           301
          ],
          [
           302
          ],
          [
           303
          ],
          [
           306
          ],
          [
           309
          ],
          [
           312
          ],
          [
           316
          ],
          [
           323
          ],
          [
           332
          ],
          [
           353
          ],
          [
           354
          ],
          [
           358
          ],
          [
           359
          ],
          [
           360
          ],
          [
           364
          ],
          [
           366
          ],
          [
           369
          ],
          [
           371
          ],
          [
           378
          ],
          [
           380
          ],
          [
           399
          ],
          [
           401
          ],
          [
           403
          ],
          [
           404
          ],
          [
           411
          ],
          [
           414
          ],
          [
           416
          ],
          [
           417
          ],
          [
           418
          ],
          [
           423
          ],
          [
           424
          ],
          [
           425
          ],
          [
           430
          ],
          [
           431
          ],
          [
           432
          ],
          [
           433
          ],
          [
           436
          ],
          [
           437
          ],
          [
           438
          ],
          [
           441
          ],
          [
           446
          ],
          [
           448
          ],
          [
           451
          ],
          [
           453
          ],
          [
           454
          ],
          [
           455
          ],
          [
           456
          ],
          [
           457
          ],
          [
           458
          ],
          [
           460
          ],
          [
           462
          ],
          [
           464
          ],
          [
           471
          ],
          [
           472
          ],
          [
           481
          ],
          [
           484
          ],
          [
           486
          ],
          [
           489
          ],
          [
           491
          ],
          [
           492
          ],
          [
           496
          ],
          [
           500
          ],
          [
           514
          ],
          [
           517
          ],
          [
           518
          ],
          [
           521
          ],
          [
           524
          ],
          [
           540
          ],
          [
           546
          ],
          [
           548
          ],
          [
           550
          ],
          [
           551
          ],
          [
           556
          ],
          [
           560
          ],
          [
           564
          ],
          [
           576
          ],
          [
           580
          ],
          [
           584
          ],
          [
           586
          ],
          [
           587
          ],
          [
           591
          ],
          [
           600
          ],
          [
           607
          ],
          [
           609
          ],
          [
           617
          ],
          [
           618
          ],
          [
           622
          ],
          [
           624
          ],
          [
           627
          ],
          [
           639
          ],
          [
           648
          ],
          [
           649
          ],
          [
           662
          ],
          [
           663
          ],
          [
           668
          ],
          [
           684
          ],
          [
           691
          ],
          [
           693
          ],
          [
           695
          ],
          [
           696
          ],
          [
           711
          ],
          [
           717
          ],
          [
           718
          ],
          [
           721
          ],
          [
           722
          ],
          [
           723
          ],
          [
           725
          ],
          [
           727
          ],
          [
           736
          ],
          [
           737
          ],
          [
           738
          ],
          [
           741
          ],
          [
           742
          ],
          [
           747
          ],
          [
           754
          ],
          [
           755
          ],
          [
           756
          ],
          [
           757
          ],
          [
           758
          ],
          [
           770
          ],
          [
           774
          ],
          [
           776
          ],
          [
           788
          ],
          [
           805
          ],
          [
           806
          ],
          [
           816
          ],
          [
           819
          ],
          [
           820
          ],
          [
           833
          ],
          [
           839
          ],
          [
           850
          ],
          [
           852
          ],
          [
           853
          ],
          [
           855
          ],
          [
           857
          ],
          [
           860
          ],
          [
           863
          ],
          [
           864
          ],
          [
           867
          ],
          [
           869
          ],
          [
           870
          ],
          [
           871
          ],
          [
           875
          ],
          [
           879
          ],
          [
           884
          ],
          [
           892
          ],
          [
           894
          ],
          [
           898
          ],
          [
           899
          ],
          [
           902
          ],
          [
           904
          ],
          [
           909
          ],
          [
           910
          ],
          [
           911
          ],
          [
           912
          ],
          [
           913
          ],
          [
           918
          ],
          [
           924
          ],
          [
           928
          ],
          [
           940
          ],
          [
           941
          ],
          [
           943
          ],
          [
           947
          ],
          [
           948
          ],
          [
           952
          ],
          [
           957
          ],
          [
           958
          ],
          [
           964
          ],
          [
           965
          ],
          [
           981
          ],
          [
           984
          ],
          [
           995
          ],
          [
           996
          ],
          [
           1010
          ],
          [
           1016
          ],
          [
           1017
          ],
          [
           1018
          ],
          [
           1020
          ],
          [
           1021
          ],
          [
           1025
          ],
          [
           1034
          ],
          [
           1040
          ],
          [
           1042
          ],
          [
           1045
          ],
          [
           1048
          ],
          [
           1050
          ],
          [
           1051
          ],
          [
           1052
          ],
          [
           1056
          ],
          [
           1062
          ],
          [
           1066
          ],
          [
           1074
          ],
          [
           1079
          ],
          [
           1088
          ],
          [
           1098
          ],
          [
           1099
          ],
          [
           1100
          ],
          [
           1110
          ],
          [
           1114
          ],
          [
           1125
          ],
          [
           1131
          ],
          [
           1134
          ],
          [
           1136
          ],
          [
           1138
          ],
          [
           1148
          ],
          [
           1150
          ],
          [
           1156
          ],
          [
           1160
          ],
          [
           1169
          ],
          [
           1172
          ],
          [
           1177
          ],
          [
           1185
          ],
          [
           1190
          ],
          [
           1193
          ],
          [
           1195
          ],
          [
           1197
          ],
          [
           1199
          ],
          [
           1200
          ],
          [
           1205
          ],
          [
           1211
          ],
          [
           1216
          ],
          [
           1221
          ],
          [
           1225
          ],
          [
           1228
          ],
          [
           1237
          ],
          [
           1239
          ],
          [
           1252
          ],
          [
           1254
          ],
          [
           1255
          ],
          [
           1256
          ],
          [
           1257
          ],
          [
           1258
          ],
          [
           1260
          ],
          [
           1262
          ],
          [
           1264
          ],
          [
           1265
          ],
          [
           1267
          ],
          [
           1269
          ],
          [
           1275
          ],
          [
           1278
          ],
          [
           1280
          ],
          [
           1282
          ],
          [
           1283
          ],
          [
           1285
          ],
          [
           1286
          ],
          [
           1297
          ],
          [
           1301
          ],
          [
           1306
          ],
          [
           1311
          ],
          [
           1316
          ],
          [
           1325
          ],
          [
           1337
          ],
          [
           1339
          ],
          [
           1341
          ],
          [
           1343
          ],
          [
           1344
          ],
          [
           1349
          ],
          [
           1357
          ],
          [
           1361
          ],
          [
           1364
          ],
          [
           1365
          ],
          [
           1382
          ],
          [
           1384
          ],
          [
           1385
          ],
          [
           1386
          ],
          [
           1387
          ],
          [
           1390
          ],
          [
           1396
          ],
          [
           1400
          ],
          [
           1406
          ],
          [
           1407
          ],
          [
           1412
          ],
          [
           1416
          ],
          [
           1418
          ],
          [
           1421
          ],
          [
           1427
          ],
          [
           1429
          ],
          [
           1433
          ],
          [
           1445
          ],
          [
           1447
          ],
          [
           1448
          ],
          [
           1457
          ],
          [
           1465
          ],
          [
           1466
          ],
          [
           1468
          ],
          [
           1469
          ],
          [
           1473
          ],
          [
           1481
          ],
          [
           1485
          ],
          [
           1489
          ],
          [
           1496
          ],
          [
           1514
          ],
          [
           1519
          ],
          [
           1523
          ],
          [
           1529
          ],
          [
           1533
          ],
          [
           1551
          ],
          [
           1563
          ],
          [
           1566
          ],
          [
           1567
          ],
          [
           1570
          ],
          [
           1573
          ],
          [
           1583
          ],
          [
           1584
          ],
          [
           1596
          ],
          [
           1615
          ],
          [
           1619
          ],
          [
           1620
          ],
          [
           1621
          ],
          [
           1629
          ],
          [
           1637
          ],
          [
           1647
          ],
          [
           1662
          ],
          [
           1679
          ],
          [
           1685
          ],
          [
           1688
          ],
          [
           1708
          ],
          [
           1718
          ],
          [
           1720
          ],
          [
           1725
          ],
          [
           1731
          ],
          [
           1735
          ],
          [
           1736
          ],
          [
           1739
          ],
          [
           1747
          ],
          [
           1748
          ],
          [
           1755
          ],
          [
           1768
          ],
          [
           1770
          ],
          [
           1773
          ],
          [
           1778
          ],
          [
           1785
          ],
          [
           1800
          ],
          [
           1801
          ],
          [
           1802
          ],
          [
           1803
          ],
          [
           1806
          ],
          [
           1815
          ],
          [
           1829
          ],
          [
           1831
          ],
          [
           1833
          ],
          [
           1842
          ],
          [
           1847
          ],
          [
           1849
          ],
          [
           1851
          ],
          [
           1856
          ],
          [
           1863
          ],
          [
           1865
          ],
          [
           1871
          ],
          [
           1873
          ],
          [
           1893
          ],
          [
           1896
          ],
          [
           1904
          ],
          [
           1911
          ],
          [
           1925
          ],
          [
           1928
          ],
          [
           1944
          ],
          [
           1950
          ],
          [
           1951
          ],
          [
           1955
          ],
          [
           1956
          ],
          [
           1959
          ],
          [
           1966
          ],
          [
           1970
          ],
          [
           1976
          ],
          [
           1980
          ],
          [
           1996
          ],
          [
           1999
          ],
          [
           2008
          ],
          [
           2011
          ],
          [
           2019
          ],
          [
           2043
          ],
          [
           2044
          ],
          [
           2046
          ],
          [
           2052
          ]
         ],
         "hovertemplate": "Segment=Potential Loyalist<br>Recency=%{x}<br>Monetary=%{y}<br>Frequency=%{marker.size}<br>client_id=%{customdata[0]}<extra></extra>",
         "legendgroup": "Potential Loyalist",
         "marker": {
          "color": "#ab63fa",
          "size": [
           2,
           2,
           2,
           3,
           2,
           2,
           2,
           2,
           2,
           3,
           2,
           2,
           3,
           2,
           2,
           2,
           2,
           4,
           3,
           2,
           4,
           2,
           2,
           2,
           3,
           2,
           2,
           2,
           2,
           2,
           2,
           3,
           2,
           4,
           2,
           2,
           2,
           2,
           3,
           2,
           2,
           2,
           4,
           2,
           2,
           2,
           2,
           2,
           2,
           2,
           2,
           2,
           2,
           2,
           2,
           2,
           2,
           2,
           2,
           2,
           2,
           2,
           2,
           2,
           2,
           2,
           2,
           4,
           2,
           2,
           3,
           2,
           3,
           2,
           2,
           2,
           3,
           2,
           3,
           2,
           4,
           3,
           2,
           2,
           2,
           2,
           2,
           2,
           2,
           2,
           2,
           2,
           2,
           2,
           2,
           2,
           2,
           3,
           4,
           2,
           2,
           2,
           2,
           2,
           2,
           2,
           2,
           2,
           2,
           2,
           2,
           2,
           3,
           3,
           2,
           2,
           2,
           3,
           2,
           2,
           3,
           2,
           2,
           2,
           3,
           2,
           2,
           2,
           3,
           2,
           2,
           2,
           2,
           2,
           2,
           2,
           2,
           3,
           2,
           2,
           2,
           3,
           2,
           2,
           3,
           2,
           2,
           2,
           4,
           2,
           2,
           2,
           3,
           2,
           3,
           2,
           2,
           2,
           2,
           3,
           4,
           3,
           2,
           2,
           2,
           2,
           2,
           3,
           2,
           2,
           4,
           2,
           3,
           2,
           2,
           2,
           2,
           2,
           2,
           2,
           2,
           2,
           2,
           3,
           3,
           2,
           2,
           3,
           2,
           2,
           2,
           3,
           3,
           2,
           2,
           3,
           2,
           2,
           2,
           2,
           2,
           2,
           2,
           2,
           2,
           2,
           3,
           2,
           2,
           2,
           3,
           2,
           2,
           3,
           2,
           2,
           2,
           3,
           2,
           2,
           2,
           2,
           2,
           3,
           3,
           3,
           3,
           2,
           2,
           2,
           3,
           2,
           4,
           2,
           2,
           3,
           3,
           2,
           3,
           3,
           2,
           2,
           2,
           2,
           3,
           3,
           2,
           2,
           2,
           3,
           2,
           2,
           3,
           2,
           3,
           3,
           2,
           3,
           2,
           3,
           3,
           2,
           2,
           2,
           3,
           2,
           2,
           2,
           2,
           3,
           3,
           2,
           2,
           2,
           5,
           3,
           2,
           2,
           2,
           2,
           2,
           2,
           2,
           2,
           2,
           3,
           2,
           3,
           2,
           2,
           2,
           3,
           2,
           2,
           4,
           2,
           3,
           2,
           2,
           2,
           6,
           2,
           2,
           2,
           3,
           2,
           2,
           2,
           2,
           3,
           2,
           2,
           2,
           3,
           2,
           2,
           2,
           2,
           2,
           2,
           2,
           2,
           2,
           2,
           3,
           2,
           2,
           3,
           2,
           2,
           2,
           2,
           2,
           3,
           2,
           3,
           2,
           2,
           2,
           2,
           2,
           2,
           3,
           4,
           3,
           3,
           2,
           3,
           2,
           3,
           2,
           2,
           2,
           2,
           3,
           2,
           2,
           3,
           2,
           2,
           2,
           2,
           2,
           3,
           4,
           3,
           2,
           3,
           3,
           3,
           2,
           2,
           2,
           3,
           3,
           2,
           3,
           3,
           2,
           3,
           3,
           2,
           2,
           2,
           3,
           2,
           1,
           3,
           1,
           3,
           2,
           2,
           3,
           3,
           1,
           2,
           2,
           4,
           3,
           3,
           3,
           1,
           2,
           1,
           2,
           2,
           1,
           2,
           2,
           2,
           1,
           3,
           3,
           3,
           3,
           3,
           2,
           3,
           2,
           3,
           1,
           2,
           2,
           3,
           2,
           1,
           1,
           4
          ],
          "sizemode": "area",
          "sizeref": 0.025,
          "symbol": "circle"
         },
         "mode": "markers",
         "name": "Potential Loyalist",
         "showlegend": true,
         "type": "scattergl",
         "x": [
          36,
          1,
          31,
          1,
          1,
          1,
          134,
          1,
          102,
          1,
          1,
          2,
          1,
          1,
          1,
          47,
          1,
          1,
          21,
          1,
          1,
          1,
          169,
          5,
          1,
          37,
          1,
          1,
          149,
          187,
          1,
          1,
          205,
          1,
          106,
          5,
          198,
          223,
          51,
          1,
          62,
          1,
          1,
          1,
          179,
          22,
          1,
          1,
          19,
          223,
          27,
          31,
          1,
          1,
          1,
          1,
          1,
          31,
          70,
          1,
          216,
          1,
          3,
          1,
          42,
          62,
          1,
          1,
          17,
          12,
          1,
          1,
          1,
          181,
          189,
          91,
          1,
          3,
          1,
          1,
          176,
          7,
          1,
          2,
          151,
          1,
          93,
          104,
          96,
          198,
          172,
          71,
          1,
          69,
          102,
          151,
          25,
          1,
          1,
          1,
          42,
          97,
          30,
          1,
          1,
          1,
          1,
          21,
          27,
          1,
          1,
          62,
          1,
          1,
          136,
          138,
          54,
          1,
          2,
          1,
          1,
          143,
          1,
          1,
          1,
          42,
          1,
          1,
          45,
          4,
          1,
          1,
          1,
          34,
          55,
          1,
          1,
          1,
          1,
          1,
          111,
          1,
          16,
          178,
          47,
          1,
          1,
          1,
          1,
          1,
          1,
          65,
          6,
          1,
          1,
          88,
          65,
          41,
          1,
          1,
          1,
          1,
          1,
          1,
          86,
          26,
          1,
          42,
          15,
          1,
          1,
          198,
          1,
          1,
          1,
          1,
          87,
          1,
          1,
          1,
          45,
          52,
          1,
          1,
          12,
          192,
          1,
          208,
          76,
          1,
          1,
          1,
          1,
          135,
          165,
          91,
          1,
          122,
          17,
          22,
          1,
          48,
          14,
          1,
          1,
          31,
          1,
          1,
          15,
          1,
          1,
          1,
          1,
          90,
          217,
          1,
          60,
          1,
          1,
          20,
          15,
          12,
          53,
          1,
          1,
          1,
          1,
          9,
          1,
          124,
          1,
          66,
          1,
          1,
          7,
          83,
          1,
          142,
          1,
          1,
          1,
          1,
          185,
          47,
          1,
          1,
          132,
          74,
          1,
          1,
          142,
          1,
          1,
          113,
          1,
          1,
          20,
          1,
          9,
          1,
          16,
          2,
          1,
          211,
          1,
          14,
          1,
          1,
          1,
          1,
          72,
          97,
          1,
          213,
          1,
          1,
          121,
          1,
          1,
          1,
          14,
          1,
          1,
          1,
          12,
          1,
          1,
          1,
          1,
          54,
          1,
          1,
          1,
          1,
          1,
          90,
          73,
          1,
          127,
          92,
          1,
          172,
          3,
          1,
          1,
          1,
          90,
          1,
          1,
          1,
          1,
          1,
          30,
          1,
          1,
          75,
          1,
          1,
          1,
          1,
          112,
          34,
          1,
          1,
          1,
          1,
          1,
          1,
          1,
          105,
          116,
          1,
          62,
          27,
          4,
          1,
          47,
          1,
          180,
          1,
          1,
          1,
          21,
          36,
          30,
          1,
          1,
          24,
          1,
          1,
          1,
          157,
          1,
          1,
          1,
          1,
          1,
          1,
          71,
          1,
          148,
          48,
          60,
          1,
          1,
          1,
          188,
          1,
          1,
          68,
          1,
          1,
          1,
          40,
          1,
          40,
          1,
          1,
          1,
          1,
          1,
          1,
          97,
          1,
          1,
          1,
          6,
          1,
          117,
          1,
          1,
          173,
          182,
          1,
          138,
          1,
          67,
          1,
          1,
          138,
          1,
          1,
          1,
          41,
          73,
          72,
          1,
          1,
          164,
          1,
          95,
          1,
          1,
          1,
          1,
          1,
          141,
          103,
          1,
          1,
          1,
          1,
          101,
          1,
          1,
          5,
          164,
          1
         ],
         "xaxis": "x",
         "y": [
          2146839.95,
          637800,
          865734.93,
          246150,
          253722.42,
          179160,
          237643.66,
          390670,
          1492375.99,
          228090,
          682384.02,
          213560.89,
          204320,
          187830.71,
          425361.85,
          533689.9099999999,
          264000,
          315730,
          274610,
          270528.26,
          273700,
          259686.96,
          508252.42,
          348555.02,
          181370,
          272721.51,
          251291.36,
          746391.04,
          1487428.32,
          288291.57999999996,
          558652.47,
          265620.20999999996,
          956962.38,
          249360,
          413510,
          446646.28,
          516190,
          325550.2,
          341550,
          266685.17000000004,
          443900,
          340392.59,
          294740,
          176140.87,
          338461.29,
          170460,
          350588.47,
          472091.75,
          435300,
          1065935.7999999998,
          405028.32,
          1694805.85,
          399784.29,
          335567.75,
          405502.83,
          311808.61,
          1249210.27,
          1911078.6400000001,
          455016.58,
          319571.27,
          420061.62,
          497658.99,
          1411859.8900000001,
          348940,
          647060.72,
          1103891.03,
          234797.66,
          292602.15,
          325910,
          317479.9,
          331434.32,
          207800,
          257320,
          288072.01,
          230970,
          295869.66000000003,
          225640,
          220840,
          212090,
          187010,
          285430,
          205900,
          365982.01,
          335590,
          660834.4099999999,
          225830,
          414820.53,
          992095.77,
          511056.48,
          169920,
          253528.98,
          544740.72,
          591660,
          561062.6799999999,
          585778.51,
          505170.82,
          223863.57,
          307020,
          261090,
          407335.2,
          583155.1599999999,
          641665.51,
          169220,
          393500,
          334196.53,
          216633.13,
          1712195,
          525377.81,
          1804982.24,
          199152.78,
          208856.37,
          865563.76,
          249248.18,
          256507.36,
          359637.42000000004,
          368072.97,
          428623.33999999997,
          225300,
          338770.20999999996,
          792471.56,
          197260,
          313500.75,
          2088032.02,
          241230,
          228750,
          2227762.05,
          1322593.98,
          174940,
          331950,
          169431.88,
          200360,
          258619.41,
          405640,
          212420,
          824007.11,
          225830,
          223930,
          289181.76,
          425700,
          187860,
          212479.51,
          248120,
          579238.31,
          1478058.81,
          309576.47,
          412362.24,
          186160,
          210021.91,
          313260,
          372856.45,
          216170,
          569173.41,
          331100.88,
          431441.47,
          260059.39,
          613459.96,
          325413.65,
          1369005.04,
          578221.1599999999,
          348640,
          285808.58999999997,
          220590,
          1200069,
          203154.48,
          407177.58,
          2057948.73,
          215600,
          314993.54000000004,
          378870,
          876316.38,
          321973.58999999997,
          420153.02,
          238590,
          169500,
          616639.62,
          227220,
          564940.5,
          447540,
          241900,
          348545.42000000004,
          710795.55,
          585016.68,
          323044.15,
          350760,
          219440,
          710912.81,
          271650,
          313615.47,
          246822.75,
          353335.3,
          1698277.58,
          272269.95999999996,
          195390,
          519716.2,
          273510,
          241590,
          281907.63,
          713470,
          207662.83,
          350910,
          269180,
          397170,
          546028.56,
          324762.23,
          280269.07,
          434344.8,
          227950,
          359070,
          625958.52,
          372140,
          276344.86,
          267071.51,
          291380,
          237765.88,
          330101.37,
          581076.74,
          418803.72,
          353286.99,
          666782.45,
          429750.99,
          546655,
          180917.74,
          295821.92000000004,
          205070,
          324869.77,
          234063.45,
          251264.27,
          167500,
          1070143.8199999998,
          1607440.18,
          182510,
          632061.95,
          294570,
          176020,
          427186.11,
          270163.91000000003,
          314647.67,
          1504457.41,
          334296.89,
          271990,
          1109159.54,
          186100,
          236206.92,
          531563.3400000001,
          282031.58999999997,
          268220,
          222310,
          1433778.64,
          388970,
          316320.97,
          323272.9,
          167460,
          239277.36,
          1204275.94,
          167020,
          273547.86,
          255840.8,
          188720,
          350837.28,
          233260,
          315550,
          563772.36,
          177770,
          310457.04000000004,
          184380,
          1591968.9899999998,
          226109.47,
          461475.31,
          296760,
          175880,
          292360,
          288950.32999999996,
          255980,
          1171833.47,
          323960,
          310466.08999999997,
          653995.89,
          948802.15,
          230560,
          313219,
          363631.61,
          578640.28,
          308798.45999999996,
          176190,
          358400.04,
          305383.85,
          201420,
          352240,
          271994.82999999996,
          1015621.82,
          262529.14,
          248847.84,
          1567003.04,
          282400,
          205650,
          1438106.14,
          306080,
          331290.4,
          172000,
          543923.79,
          328370,
          441574.25,
          657842.45,
          180410,
          289220,
          967856.71,
          1265468.99,
          550908.41,
          343179.2,
          201180,
          621054.5,
          197890,
          417113.13,
          314801.69,
          272720.47,
          433153.93,
          377689.87,
          323960,
          191080,
          345944.07999999996,
          2674267.8200000003,
          351790.81,
          284544.07999999996,
          327400,
          198090,
          776728.13,
          335455.26,
          200031.26,
          566581.6,
          204270,
          521902.24,
          290847.77,
          318026.32999999996,
          211600,
          313031.74,
          328617.94,
          329853.95,
          248471.49,
          281900,
          217600,
          273360,
          187300,
          279266.3,
          317279.63,
          235600,
          235050,
          167619.19,
          265050.05,
          336706.82,
          207930,
          171640,
          276241.5,
          239323.15,
          276129.9,
          326201.93,
          206280,
          293390,
          351690,
          316063.46,
          347294.86,
          321474.65,
          196790.98,
          178360,
          352110.97,
          236522.28,
          331808.37,
          291281.39,
          219430,
          263360,
          306172.63,
          240680,
          181079.66,
          238940,
          289741.98,
          351579.57,
          294975.02,
          340090,
          239360,
          288150,
          209002.46,
          249210,
          349894.85,
          184348.46,
          292862.3,
          262356.07,
          215560,
          325500,
          199610,
          175560,
          290985.24,
          291420.98,
          220539.92,
          242060,
          260490,
          286002.34,
          167880,
          271280.9,
          315329.95,
          353530,
          224187.74,
          342808.48,
          176800,
          323604.29000000004,
          703959.06,
          310080,
          167540,
          181300,
          303650,
          220046.23,
          307885.9,
          297341.77,
          193851.66999999998,
          175820,
          218150,
          219120,
          313692.91000000003,
          211349.01,
          307901.8,
          226060,
          329930,
          237900,
          300737.06,
          326663.26,
          294560,
          262557.81,
          389991.97,
          318554.23,
          214880
         ],
         "yaxis": "y"
        },
        {
         "customdata": [
          [
           22
          ],
          [
           58
          ],
          [
           77
          ],
          [
           90
          ],
          [
           98
          ],
          [
           108
          ],
          [
           110
          ],
          [
           129
          ],
          [
           144
          ],
          [
           244
          ],
          [
           267
          ],
          [
           273
          ],
          [
           298
          ],
          [
           304
          ],
          [
           330
          ],
          [
           338
          ],
          [
           389
          ],
          [
           511
          ],
          [
           552
          ],
          [
           570
          ],
          [
           595
          ],
          [
           614
          ],
          [
           666
          ],
          [
           729
          ],
          [
           748
          ],
          [
           771
          ],
          [
           792
          ],
          [
           795
          ],
          [
           841
          ],
          [
           851
          ],
          [
           887
          ],
          [
           974
          ],
          [
           989
          ],
          [
           1002
          ],
          [
           1057
          ],
          [
           1060
          ],
          [
           1076
          ],
          [
           1078
          ],
          [
           1087
          ],
          [
           1104
          ],
          [
           1112
          ],
          [
           1137
          ],
          [
           1147
          ],
          [
           1152
          ],
          [
           1164
          ],
          [
           1173
          ],
          [
           1179
          ],
          [
           1207
          ],
          [
           1210
          ],
          [
           1213
          ],
          [
           1235
          ],
          [
           1273
          ],
          [
           1277
          ],
          [
           1302
          ],
          [
           1326
          ],
          [
           1425
          ],
          [
           1436
          ],
          [
           1444
          ],
          [
           1464
          ],
          [
           1525
          ],
          [
           1545
          ],
          [
           1560
          ],
          [
           1571
          ],
          [
           1582
          ],
          [
           1589
          ],
          [
           1592
          ],
          [
           1593
          ],
          [
           1594
          ],
          [
           1614
          ],
          [
           1617
          ],
          [
           1618
          ],
          [
           1624
          ],
          [
           1626
          ],
          [
           1636
          ],
          [
           1671
          ],
          [
           1686
          ],
          [
           1728
          ],
          [
           1750
          ],
          [
           1810
          ],
          [
           1812
          ],
          [
           1828
          ],
          [
           1830
          ],
          [
           1878
          ],
          [
           1881
          ],
          [
           1885
          ],
          [
           1891
          ],
          [
           1894
          ],
          [
           1905
          ],
          [
           1917
          ],
          [
           1935
          ],
          [
           1936
          ],
          [
           1941
          ],
          [
           1972
          ],
          [
           1974
          ],
          [
           2007
          ],
          [
           2018
          ],
          [
           2020
          ],
          [
           2021
          ],
          [
           2029
          ],
          [
           2035
          ],
          [
           2036
          ],
          [
           2050
          ]
         ],
         "hovertemplate": "Segment=At Risk<br>Recency=%{x}<br>Monetary=%{y}<br>Frequency=%{marker.size}<br>client_id=%{customdata[0]}<extra></extra>",
         "legendgroup": "At Risk",
         "marker": {
          "color": "#FFA15A",
          "size": [
           3,
           2,
           4,
           3,
           2,
           2,
           2,
           2,
           2,
           2,
           2,
           2,
           4,
           2,
           2,
           2,
           2,
           3,
           3,
           2,
           4,
           2,
           2,
           2,
           2,
           3,
           2,
           2,
           3,
           3,
           2,
           3,
           3,
           4,
           2,
           4,
           2,
           3,
           3,
           2,
           3,
           2,
           2,
           3,
           3,
           3,
           2,
           2,
           3,
           2,
           2,
           3,
           3,
           2,
           2,
           2,
           3,
           4,
           2,
           2,
           2,
           2,
           2,
           3,
           2,
           2,
           2,
           2,
           3,
           2,
           2,
           3,
           3,
           2,
           2,
           2,
           2,
           2,
           1,
           2,
           2,
           2,
           3,
           2,
           2,
           1,
           1,
           1,
           1,
           2,
           1,
           3,
           1,
           1,
           3,
           1,
           2,
           2,
           2,
           1,
           2,
           1
          ],
          "sizemode": "area",
          "sizeref": 0.025,
          "symbol": "circle"
         },
         "mode": "markers",
         "name": "At Risk",
         "showlegend": true,
         "type": "scattergl",
         "x": [
          426,
          274,
          278,
          412,
          855,
          331,
          266,
          244,
          604,
          1005,
          254,
          586,
          404,
          260,
          383,
          460,
          294,
          751,
          314,
          227,
          251,
          313,
          891,
          560,
          681,
          266,
          259,
          524,
          232,
          739,
          344,
          451,
          344,
          292,
          788,
          264,
          299,
          253,
          459,
          351,
          452,
          788,
          333,
          368,
          592,
          323,
          529,
          438,
          592,
          266,
          666,
          497,
          307,
          411,
          603,
          568,
          498,
          288,
          323,
          377,
          872,
          492,
          445,
          466,
          674,
          378,
          372,
          411,
          257,
          261,
          815,
          296,
          250,
          267,
          349,
          473,
          454,
          643,
          378,
          500,
          439,
          341,
          429,
          242,
          331,
          358,
          1404,
          283,
          1052,
          357,
          952,
          240,
          298,
          526,
          557,
          380,
          242,
          268,
          253,
          1444,
          380,
          517
         ],
         "xaxis": "x",
         "y": [
          1460418.78,
          289717.45999999996,
          719421.05,
          1179826.67,
          194160,
          246968.1,
          264173.97,
          172140,
          209912.19,
          263608.54000000004,
          330402.29,
          220297.09,
          2939435.73,
          211567.23,
          182555.4,
          321713.98,
          342703.08,
          325168.56,
          340328.88,
          351869.9,
          501042.56,
          197559.24,
          262321.45999999996,
          219283.7,
          213703.03,
          793528.89,
          255794.82,
          188510,
          209550,
          633900.5900000001,
          197920,
          1001506.6,
          607380.1799999999,
          1572038.19,
          318593.61,
          1942121.38,
          267460,
          1470243.47,
          1321156.56,
          317260,
          1231424.73,
          246920,
          205519.82,
          1063901.4300000002,
          1786864.7000000002,
          401847.6,
          229010.95,
          172298.43,
          1889241.4100000001,
          259383.05,
          263342.12,
          225110,
          2625669.5,
          319104.13,
          305216.41000000003,
          221428.27,
          301768.73,
          176250,
          1195111.18,
          482338.37,
          239440,
          628194.8099999999,
          258683.56,
          1252236.0899999999,
          262240,
          360831.22,
          1680336.15,
          2697799.75,
          286152.49,
          541725.35,
          210426.76,
          972830.18,
          337540,
          591137.9099999999,
          619253.01,
          1200763.64,
          381820,
          278023.08999999997,
          269178.05,
          242102.72,
          1845375.88,
          1106807.39,
          2631636.9299999997,
          1136885.42,
          1257167.0699999998,
          266308.93,
          232972.04,
          201381.91,
          221718.38,
          366690.32,
          175200,
          270219.53,
          247660,
          268738.45,
          824101.75,
          217422.14,
          1701293.32,
          1220347.0699999998,
          172511.59,
          237517.53,
          279055.65,
          261483.23
         ],
         "yaxis": "y"
        },
        {
         "customdata": [
          [
           28
          ],
          [
           37
          ],
          [
           43
          ],
          [
           59
          ],
          [
           61
          ],
          [
           62
          ],
          [
           86
          ],
          [
           89
          ],
          [
           93
          ],
          [
           96
          ],
          [
           102
          ],
          [
           105
          ],
          [
           135
          ],
          [
           163
          ],
          [
           190
          ],
          [
           237
          ],
          [
           243
          ],
          [
           281
          ],
          [
           351
          ],
          [
           379
          ],
          [
           384
          ],
          [
           395
          ],
          [
           452
          ],
          [
           463
          ],
          [
           473
          ],
          [
           485
          ],
          [
           494
          ],
          [
           525
          ],
          [
           530
          ],
          [
           532
          ],
          [
           533
          ],
          [
           557
          ],
          [
           590
          ],
          [
           594
          ],
          [
           599
          ],
          [
           605
          ],
          [
           637
          ],
          [
           640
          ],
          [
           652
          ],
          [
           656
          ],
          [
           685
          ],
          [
           689
          ],
          [
           714
          ],
          [
           728
          ],
          [
           732
          ],
          [
           775
          ],
          [
           781
          ],
          [
           794
          ],
          [
           865
          ],
          [
           876
          ],
          [
           881
          ],
          [
           896
          ],
          [
           905
          ],
          [
           908
          ],
          [
           915
          ],
          [
           923
          ],
          [
           933
          ],
          [
           945
          ],
          [
           955
          ],
          [
           959
          ],
          [
           987
          ],
          [
           1004
          ],
          [
           1013
          ],
          [
           1031
          ],
          [
           1090
          ],
          [
           1108
          ],
          [
           1113
          ],
          [
           1122
          ],
          [
           1126
          ],
          [
           1141
          ],
          [
           1149
          ],
          [
           1176
          ],
          [
           1181
          ],
          [
           1217
          ],
          [
           1222
          ],
          [
           1333
          ],
          [
           1335
          ],
          [
           1373
          ],
          [
           1401
          ],
          [
           1402
          ],
          [
           1437
          ],
          [
           1438
          ],
          [
           1476
          ],
          [
           1480
          ],
          [
           1482
          ],
          [
           1487
          ],
          [
           1492
          ],
          [
           1494
          ],
          [
           1499
          ],
          [
           1506
          ],
          [
           1542
          ],
          [
           1546
          ],
          [
           1550
          ],
          [
           1558
          ],
          [
           1574
          ],
          [
           1581
          ],
          [
           1605
          ],
          [
           1631
          ],
          [
           1640
          ],
          [
           1651
          ],
          [
           1668
          ],
          [
           1697
          ],
          [
           1700
          ],
          [
           1715
          ],
          [
           1724
          ],
          [
           1745
          ],
          [
           1746
          ],
          [
           1757
          ],
          [
           1764
          ],
          [
           1784
          ],
          [
           1789
          ],
          [
           1792
          ],
          [
           1796
          ],
          [
           1818
          ],
          [
           1820
          ],
          [
           1826
          ],
          [
           1835
          ],
          [
           1837
          ],
          [
           1839
          ],
          [
           1852
          ],
          [
           1862
          ],
          [
           1866
          ],
          [
           1869
          ],
          [
           1872
          ],
          [
           1882
          ],
          [
           1890
          ],
          [
           1910
          ],
          [
           1926
          ],
          [
           1953
          ],
          [
           1954
          ],
          [
           1962
          ],
          [
           1964
          ],
          [
           1965
          ],
          [
           1977
          ],
          [
           1981
          ],
          [
           1982
          ],
          [
           2022
          ],
          [
           2024
          ],
          [
           2030
          ],
          [
           2040
          ],
          [
           2048
          ],
          [
           2051
          ],
          [
           2053
          ],
          [
           2057
          ]
         ],
         "hovertemplate": "Segment=Regular High-Value<br>Recency=%{x}<br>Monetary=%{y}<br>Frequency=%{marker.size}<br>client_id=%{customdata[0]}<extra></extra>",
         "legendgroup": "Regular High-Value",
         "marker": {
          "color": "#19d3f3",
          "size": [
           3,
           5,
           3,
           4,
           3,
           4,
           3,
           4,
           4,
           3,
           3,
           4,
           3,
           5,
           4,
           3,
           3,
           3,
           3,
           6,
           3,
           3,
           3,
           4,
           5,
           3,
           3,
           3,
           3,
           3,
           4,
           3,
           3,
           4,
           3,
           4,
           3,
           4,
           3,
           4,
           4,
           4,
           3,
           4,
           6,
           4,
           3,
           3,
           3,
           3,
           5,
           4,
           3,
           3,
           3,
           3,
           4,
           3,
           3,
           3,
           3,
           3,
           3,
           6,
           4,
           3,
           3,
           4,
           3,
           3,
           4,
           3,
           4,
           4,
           4,
           3,
           5,
           5,
           3,
           5,
           3,
           3,
           4,
           2,
           3,
           5,
           3,
           4,
           2,
           3,
           2,
           3,
           3,
           3,
           3,
           4,
           4,
           5,
           3,
           2,
           3,
           3,
           3,
           5,
           3,
           3,
           2,
           2,
           2,
           3,
           4,
           3,
           2,
           4,
           2,
           2,
           3,
           3,
           4,
           4,
           3,
           2,
           4,
           4,
           2,
           4,
           2,
           2,
           4,
           4,
           3,
           3,
           2,
           3,
           2,
           2,
           2,
           3,
           4,
           3,
           3,
           2,
           2,
           2
          ],
          "sizemode": "area",
          "sizeref": 0.025,
          "symbol": "circle"
         },
         "mode": "markers",
         "name": "Regular High-Value",
         "showlegend": true,
         "type": "scattergl",
         "x": [
          37,
          97,
          162,
          99,
          164,
          159,
          34,
          79,
          80,
          206,
          73,
          137,
          110,
          220,
          47,
          77,
          32,
          61,
          31,
          189,
          42,
          36,
          83,
          57,
          63,
          72,
          132,
          214,
          168,
          204,
          116,
          108,
          31,
          154,
          124,
          41,
          112,
          84,
          48,
          159,
          68,
          104,
          117,
          100,
          56,
          97,
          102,
          130,
          122,
          35,
          134,
          83,
          38,
          190,
          181,
          52,
          32,
          54,
          68,
          64,
          38,
          92,
          83,
          85,
          34,
          63,
          109,
          166,
          61,
          187,
          61,
          58,
          190,
          97,
          73,
          50,
          59,
          130,
          106,
          52,
          96,
          86,
          123,
          131,
          91,
          119,
          144,
          37,
          65,
          41,
          46,
          175,
          121,
          189,
          46,
          38,
          150,
          40,
          45,
          200,
          147,
          47,
          34,
          137,
          132,
          57,
          140,
          180,
          184,
          155,
          192,
          72,
          108,
          114,
          143,
          168,
          141,
          224,
          122,
          50,
          128,
          40,
          127,
          82,
          44,
          149,
          45,
          47,
          39,
          33,
          136,
          84,
          121,
          166,
          151,
          187,
          94,
          69,
          67,
          141,
          72,
          42,
          45,
          99
         ],
         "xaxis": "x",
         "y": [
          1822532,
          1888975.1099999999,
          629125.88,
          905554.14,
          553704.04,
          539334.39,
          682179.8400000001,
          678127.15,
          1956906.1300000001,
          732642.04,
          1560166.77,
          1836922.92,
          892779.07,
          4814741.73,
          1887579.16,
          526602.44,
          418895.38,
          976223.24,
          1278019.59,
          1927341.6099999999,
          1014582.26,
          1908704.41,
          1441055.61,
          674455.22,
          1746710.3599999999,
          389532.24,
          454789.03,
          848853.1599999999,
          966277.4199999999,
          1038813.6799999999,
          814642.74,
          948870.8,
          482310.06000000006,
          1067120.6,
          733217.19,
          2564052.8200000003,
          706286.6,
          2634950.65,
          576045.3200000001,
          1600397.96,
          593992.41,
          1443994.6,
          443152.9,
          1878456.56,
          511808.3,
          1133413.32,
          669000.56,
          633420.9,
          664702.34,
          573972.47,
          1109143.24,
          1824959.1600000001,
          1081891.12,
          402943,
          551622.25,
          945090.72,
          1081733.3399999999,
          791944.64,
          678912.87,
          722370,
          401030.3,
          1396587.65,
          357681.81,
          1137789.3,
          726732.4,
          1397969.64,
          610198.36,
          967569.21,
          504448.2,
          376731.44,
          1252019.93,
          693182.42,
          1364432.06,
          420587.76,
          1143312.31,
          912890.73,
          1181435.13,
          750109.98,
          587720.89,
          993239.28,
          1536650.04,
          820774.84,
          792196.08,
          457690.92000000004,
          531369.11,
          2595206.67,
          979463.0700000001,
          1278081.22,
          1832348.55,
          366993.67000000004,
          861557.65,
          843920.6799999999,
          667146.87,
          504750,
          469260,
          2175306.33,
          1820439.3900000001,
          1280939.76,
          467840.02,
          381921.64,
          525355.8200000001,
          2096193.18,
          490451.23,
          577711.5,
          695046.96,
          862380,
          428036.91000000003,
          1271564.96,
          709832.0399999999,
          746606.65,
          736712.0700000001,
          651940,
          1651262.02,
          767691.33,
          2208462.41,
          583200,
          706839.29,
          427523.7,
          1822789.3900000001,
          1889765.95,
          575972.86,
          604000,
          629940.66,
          520299.64,
          766357.29,
          494878.03,
          394091.36,
          2636561.0700000003,
          1858891.7599999998,
          535949.3,
          422044.06,
          396905.78,
          1019531.8,
          1165607.3399999999,
          408009.28,
          367553.29,
          1343265.02,
          1375143.62,
          374673.91000000003,
          557723.64,
          769514.1799999999,
          1123112.58,
          1622708.98,
          537321.15
         ],
         "yaxis": "y"
        }
       ],
       "layout": {
        "legend": {
         "itemsizing": "constant",
         "title": {
          "text": "Segment"
         },
         "tracegroupgap": 0
        },
        "template": {
         "data": {
          "bar": [
           {
            "error_x": {
             "color": "#2a3f5f"
            },
            "error_y": {
             "color": "#2a3f5f"
            },
            "marker": {
             "line": {
              "color": "#E5ECF6",
              "width": 0.5
             },
             "pattern": {
              "fillmode": "overlay",
              "size": 10,
              "solidity": 0.2
             }
            },
            "type": "bar"
           }
          ],
          "barpolar": [
           {
            "marker": {
             "line": {
              "color": "#E5ECF6",
              "width": 0.5
             },
             "pattern": {
              "fillmode": "overlay",
              "size": 10,
              "solidity": 0.2
             }
            },
            "type": "barpolar"
           }
          ],
          "carpet": [
           {
            "aaxis": {
             "endlinecolor": "#2a3f5f",
             "gridcolor": "white",
             "linecolor": "white",
             "minorgridcolor": "white",
             "startlinecolor": "#2a3f5f"
            },
            "baxis": {
             "endlinecolor": "#2a3f5f",
             "gridcolor": "white",
             "linecolor": "white",
             "minorgridcolor": "white",
             "startlinecolor": "#2a3f5f"
            },
            "type": "carpet"
           }
          ],
          "choropleth": [
           {
            "colorbar": {
             "outlinewidth": 0,
             "ticks": ""
            },
            "type": "choropleth"
           }
          ],
          "contour": [
           {
            "colorbar": {
             "outlinewidth": 0,
             "ticks": ""
            },
            "colorscale": [
             [
              0,
              "#0d0887"
             ],
             [
              0.1111111111111111,
              "#46039f"
             ],
             [
              0.2222222222222222,
              "#7201a8"
             ],
             [
              0.3333333333333333,
              "#9c179e"
             ],
             [
              0.4444444444444444,
              "#bd3786"
             ],
             [
              0.5555555555555556,
              "#d8576b"
             ],
             [
              0.6666666666666666,
              "#ed7953"
             ],
             [
              0.7777777777777778,
              "#fb9f3a"
             ],
             [
              0.8888888888888888,
              "#fdca26"
             ],
             [
              1,
              "#f0f921"
             ]
            ],
            "type": "contour"
           }
          ],
          "contourcarpet": [
           {
            "colorbar": {
             "outlinewidth": 0,
             "ticks": ""
            },
            "type": "contourcarpet"
           }
          ],
          "heatmap": [
           {
            "colorbar": {
             "outlinewidth": 0,
             "ticks": ""
            },
            "colorscale": [
             [
              0,
              "#0d0887"
             ],
             [
              0.1111111111111111,
              "#46039f"
             ],
             [
              0.2222222222222222,
              "#7201a8"
             ],
             [
              0.3333333333333333,
              "#9c179e"
             ],
             [
              0.4444444444444444,
              "#bd3786"
             ],
             [
              0.5555555555555556,
              "#d8576b"
             ],
             [
              0.6666666666666666,
              "#ed7953"
             ],
             [
              0.7777777777777778,
              "#fb9f3a"
             ],
             [
              0.8888888888888888,
              "#fdca26"
             ],
             [
              1,
              "#f0f921"
             ]
            ],
            "type": "heatmap"
           }
          ],
          "heatmapgl": [
           {
            "colorbar": {
             "outlinewidth": 0,
             "ticks": ""
            },
            "colorscale": [
             [
              0,
              "#0d0887"
             ],
             [
              0.1111111111111111,
              "#46039f"
             ],
             [
              0.2222222222222222,
              "#7201a8"
             ],
             [
              0.3333333333333333,
              "#9c179e"
             ],
             [
              0.4444444444444444,
              "#bd3786"
             ],
             [
              0.5555555555555556,
              "#d8576b"
             ],
             [
              0.6666666666666666,
              "#ed7953"
             ],
             [
              0.7777777777777778,
              "#fb9f3a"
             ],
             [
              0.8888888888888888,
              "#fdca26"
             ],
             [
              1,
              "#f0f921"
             ]
            ],
            "type": "heatmapgl"
           }
          ],
          "histogram": [
           {
            "marker": {
             "pattern": {
              "fillmode": "overlay",
              "size": 10,
              "solidity": 0.2
             }
            },
            "type": "histogram"
           }
          ],
          "histogram2d": [
           {
            "colorbar": {
             "outlinewidth": 0,
             "ticks": ""
            },
            "colorscale": [
             [
              0,
              "#0d0887"
             ],
             [
              0.1111111111111111,
              "#46039f"
             ],
             [
              0.2222222222222222,
              "#7201a8"
             ],
             [
              0.3333333333333333,
              "#9c179e"
             ],
             [
              0.4444444444444444,
              "#bd3786"
             ],
             [
              0.5555555555555556,
              "#d8576b"
             ],
             [
              0.6666666666666666,
              "#ed7953"
             ],
             [
              0.7777777777777778,
              "#fb9f3a"
             ],
             [
              0.8888888888888888,
              "#fdca26"
             ],
             [
              1,
              "#f0f921"
             ]
            ],
            "type": "histogram2d"
           }
          ],
          "histogram2dcontour": [
           {
            "colorbar": {
             "outlinewidth": 0,
             "ticks": ""
            },
            "colorscale": [
             [
              0,
              "#0d0887"
             ],
             [
              0.1111111111111111,
              "#46039f"
             ],
             [
              0.2222222222222222,
              "#7201a8"
             ],
             [
              0.3333333333333333,
              "#9c179e"
             ],
             [
              0.4444444444444444,
              "#bd3786"
             ],
             [
              0.5555555555555556,
              "#d8576b"
             ],
             [
              0.6666666666666666,
              "#ed7953"
             ],
             [
              0.7777777777777778,
              "#fb9f3a"
             ],
             [
              0.8888888888888888,
              "#fdca26"
             ],
             [
              1,
              "#f0f921"
             ]
            ],
            "type": "histogram2dcontour"
           }
          ],
          "mesh3d": [
           {
            "colorbar": {
             "outlinewidth": 0,
             "ticks": ""
            },
            "type": "mesh3d"
           }
          ],
          "parcoords": [
           {
            "line": {
             "colorbar": {
              "outlinewidth": 0,
              "ticks": ""
             }
            },
            "type": "parcoords"
           }
          ],
          "pie": [
           {
            "automargin": true,
            "type": "pie"
           }
          ],
          "scatter": [
           {
            "fillpattern": {
             "fillmode": "overlay",
             "size": 10,
             "solidity": 0.2
            },
            "type": "scatter"
           }
          ],
          "scatter3d": [
           {
            "line": {
             "colorbar": {
              "outlinewidth": 0,
              "ticks": ""
             }
            },
            "marker": {
             "colorbar": {
              "outlinewidth": 0,
              "ticks": ""
             }
            },
            "type": "scatter3d"
           }
          ],
          "scattercarpet": [
           {
            "marker": {
             "colorbar": {
              "outlinewidth": 0,
              "ticks": ""
             }
            },
            "type": "scattercarpet"
           }
          ],
          "scattergeo": [
           {
            "marker": {
             "colorbar": {
              "outlinewidth": 0,
              "ticks": ""
             }
            },
            "type": "scattergeo"
           }
          ],
          "scattergl": [
           {
            "marker": {
             "colorbar": {
              "outlinewidth": 0,
              "ticks": ""
             }
            },
            "type": "scattergl"
           }
          ],
          "scattermapbox": [
           {
            "marker": {
             "colorbar": {
              "outlinewidth": 0,
              "ticks": ""
             }
            },
            "type": "scattermapbox"
           }
          ],
          "scatterpolar": [
           {
            "marker": {
             "colorbar": {
              "outlinewidth": 0,
              "ticks": ""
             }
            },
            "type": "scatterpolar"
           }
          ],
          "scatterpolargl": [
           {
            "marker": {
             "colorbar": {
              "outlinewidth": 0,
              "ticks": ""
             }
            },
            "type": "scatterpolargl"
           }
          ],
          "scatterternary": [
           {
            "marker": {
             "colorbar": {
              "outlinewidth": 0,
              "ticks": ""
             }
            },
            "type": "scatterternary"
           }
          ],
          "surface": [
           {
            "colorbar": {
             "outlinewidth": 0,
             "ticks": ""
            },
            "colorscale": [
             [
              0,
              "#0d0887"
             ],
             [
              0.1111111111111111,
              "#46039f"
             ],
             [
              0.2222222222222222,
              "#7201a8"
             ],
             [
              0.3333333333333333,
              "#9c179e"
             ],
             [
              0.4444444444444444,
              "#bd3786"
             ],
             [
              0.5555555555555556,
              "#d8576b"
             ],
             [
              0.6666666666666666,
              "#ed7953"
             ],
             [
              0.7777777777777778,
              "#fb9f3a"
             ],
             [
              0.8888888888888888,
              "#fdca26"
             ],
             [
              1,
              "#f0f921"
             ]
            ],
            "type": "surface"
           }
          ],
          "table": [
           {
            "cells": {
             "fill": {
              "color": "#EBF0F8"
             },
             "line": {
              "color": "white"
             }
            },
            "header": {
             "fill": {
              "color": "#C8D4E3"
             },
             "line": {
              "color": "white"
             }
            },
            "type": "table"
           }
          ]
         },
         "layout": {
          "annotationdefaults": {
           "arrowcolor": "#2a3f5f",
           "arrowhead": 0,
           "arrowwidth": 1
          },
          "autotypenumbers": "strict",
          "coloraxis": {
           "colorbar": {
            "outlinewidth": 0,
            "ticks": ""
           }
          },
          "colorscale": {
           "diverging": [
            [
             0,
             "#8e0152"
            ],
            [
             0.1,
             "#c51b7d"
            ],
            [
             0.2,
             "#de77ae"
            ],
            [
             0.3,
             "#f1b6da"
            ],
            [
             0.4,
             "#fde0ef"
            ],
            [
             0.5,
             "#f7f7f7"
            ],
            [
             0.6,
             "#e6f5d0"
            ],
            [
             0.7,
             "#b8e186"
            ],
            [
             0.8,
             "#7fbc41"
            ],
            [
             0.9,
             "#4d9221"
            ],
            [
             1,
             "#276419"
            ]
           ],
           "sequential": [
            [
             0,
             "#0d0887"
            ],
            [
             0.1111111111111111,
             "#46039f"
            ],
            [
             0.2222222222222222,
             "#7201a8"
            ],
            [
             0.3333333333333333,
             "#9c179e"
            ],
            [
             0.4444444444444444,
             "#bd3786"
            ],
            [
             0.5555555555555556,
             "#d8576b"
            ],
            [
             0.6666666666666666,
             "#ed7953"
            ],
            [
             0.7777777777777778,
             "#fb9f3a"
            ],
            [
             0.8888888888888888,
             "#fdca26"
            ],
            [
             1,
             "#f0f921"
            ]
           ],
           "sequentialminus": [
            [
             0,
             "#0d0887"
            ],
            [
             0.1111111111111111,
             "#46039f"
            ],
            [
             0.2222222222222222,
             "#7201a8"
            ],
            [
             0.3333333333333333,
             "#9c179e"
            ],
            [
             0.4444444444444444,
             "#bd3786"
            ],
            [
             0.5555555555555556,
             "#d8576b"
            ],
            [
             0.6666666666666666,
             "#ed7953"
            ],
            [
             0.7777777777777778,
             "#fb9f3a"
            ],
            [
             0.8888888888888888,
             "#fdca26"
            ],
            [
             1,
             "#f0f921"
            ]
           ]
          },
          "colorway": [
           "#636efa",
           "#EF553B",
           "#00cc96",
           "#ab63fa",
           "#FFA15A",
           "#19d3f3",
           "#FF6692",
           "#B6E880",
           "#FF97FF",
           "#FECB52"
          ],
          "font": {
           "color": "#2a3f5f"
          },
          "geo": {
           "bgcolor": "white",
           "lakecolor": "white",
           "landcolor": "#E5ECF6",
           "showlakes": true,
           "showland": true,
           "subunitcolor": "white"
          },
          "hoverlabel": {
           "align": "left"
          },
          "hovermode": "closest",
          "mapbox": {
           "style": "light"
          },
          "paper_bgcolor": "white",
          "plot_bgcolor": "#E5ECF6",
          "polar": {
           "angularaxis": {
            "gridcolor": "white",
            "linecolor": "white",
            "ticks": ""
           },
           "bgcolor": "#E5ECF6",
           "radialaxis": {
            "gridcolor": "white",
            "linecolor": "white",
            "ticks": ""
           }
          },
          "scene": {
           "xaxis": {
            "backgroundcolor": "#E5ECF6",
            "gridcolor": "white",
            "gridwidth": 2,
            "linecolor": "white",
            "showbackground": true,
            "ticks": "",
            "zerolinecolor": "white"
           },
           "yaxis": {
            "backgroundcolor": "#E5ECF6",
            "gridcolor": "white",
            "gridwidth": 2,
            "linecolor": "white",
            "showbackground": true,
            "ticks": "",
            "zerolinecolor": "white"
           },
           "zaxis": {
            "backgroundcolor": "#E5ECF6",
            "gridcolor": "white",
            "gridwidth": 2,
            "linecolor": "white",
            "showbackground": true,
            "ticks": "",
            "zerolinecolor": "white"
           }
          },
          "shapedefaults": {
           "line": {
            "color": "#2a3f5f"
           }
          },
          "ternary": {
           "aaxis": {
            "gridcolor": "white",
            "linecolor": "white",
            "ticks": ""
           },
           "baxis": {
            "gridcolor": "white",
            "linecolor": "white",
            "ticks": ""
           },
           "bgcolor": "#E5ECF6",
           "caxis": {
            "gridcolor": "white",
            "linecolor": "white",
            "ticks": ""
           }
          },
          "title": {
           "x": 0.05
          },
          "xaxis": {
           "automargin": true,
           "gridcolor": "white",
           "linecolor": "white",
           "ticks": "",
           "title": {
            "standoff": 15
           },
           "zerolinecolor": "white",
           "zerolinewidth": 2
          },
          "yaxis": {
           "automargin": true,
           "gridcolor": "white",
           "linecolor": "white",
           "ticks": "",
           "title": {
            "standoff": 15
           },
           "zerolinecolor": "white",
           "zerolinewidth": 2
          }
         }
        },
        "title": {
         "text": "RFM Segmentation Scatter Plot"
        },
        "xaxis": {
         "anchor": "y",
         "domain": [
          0,
          1
         ],
         "title": {
          "text": "Recency"
         },
         "type": "log"
        },
        "yaxis": {
         "anchor": "x",
         "domain": [
          0,
          1
         ],
         "title": {
          "text": "Monetary"
         },
         "type": "log"
        }
       }
      }
     },
     "metadata": {},
     "output_type": "display_data"
    }
   ],
   "source": [
    "fig_bubble = px.scatter(client_agg_df,\n",
    "                        x='Recency', \n",
    "                        y='Monetary', \n",
    "                        size='Frequency',  \n",
    "                        color='Segment', \n",
    "                        hover_data=['client_id'], \n",
    "                        title='RFM Segmentation Scatter Plot')\n",
    "fig_bubble.update_layout(xaxis_type=\"log\")\n",
    "fig_bubble.update_layout(yaxis_type=\"log\")\n",
    "fig_bubble.show()"
   ]
  },
  {
   "cell_type": "code",
   "execution_count": 43,
   "id": "26f2a476",
   "metadata": {},
   "outputs": [
    {
     "data": {
      "application/vnd.plotly.v1+json": {
       "config": {
        "plotlyServerURL": "https://plot.ly"
       },
       "data": [
        {
         "alignmentgroup": "True",
         "bingroup": "x",
         "hovertemplate": "Segment=%{x}<br>count=%{y}<extra></extra>",
         "legendgroup": "Mid-Tier",
         "marker": {
          "color": "#636efa",
          "pattern": {
           "shape": ""
          }
         },
         "name": "Mid-Tier",
         "offsetgroup": "Mid-Tier",
         "orientation": "v",
         "showlegend": true,
         "texttemplate": "%{value}",
         "type": "histogram",
         "x": [
          "Mid-Tier",
          "Mid-Tier",
          "Mid-Tier",
          "Mid-Tier",
          "Mid-Tier",
          "Mid-Tier",
          "Mid-Tier",
          "Mid-Tier",
          "Mid-Tier",
          "Mid-Tier",
          "Mid-Tier",
          "Mid-Tier",
          "Mid-Tier",
          "Mid-Tier",
          "Mid-Tier",
          "Mid-Tier",
          "Mid-Tier",
          "Mid-Tier",
          "Mid-Tier",
          "Mid-Tier",
          "Mid-Tier",
          "Mid-Tier",
          "Mid-Tier",
          "Mid-Tier",
          "Mid-Tier",
          "Mid-Tier",
          "Mid-Tier",
          "Mid-Tier",
          "Mid-Tier",
          "Mid-Tier",
          "Mid-Tier",
          "Mid-Tier",
          "Mid-Tier",
          "Mid-Tier",
          "Mid-Tier",
          "Mid-Tier",
          "Mid-Tier",
          "Mid-Tier",
          "Mid-Tier",
          "Mid-Tier",
          "Mid-Tier",
          "Mid-Tier",
          "Mid-Tier",
          "Mid-Tier",
          "Mid-Tier",
          "Mid-Tier",
          "Mid-Tier",
          "Mid-Tier",
          "Mid-Tier",
          "Mid-Tier",
          "Mid-Tier",
          "Mid-Tier",
          "Mid-Tier",
          "Mid-Tier",
          "Mid-Tier",
          "Mid-Tier",
          "Mid-Tier",
          "Mid-Tier",
          "Mid-Tier",
          "Mid-Tier",
          "Mid-Tier",
          "Mid-Tier",
          "Mid-Tier",
          "Mid-Tier",
          "Mid-Tier",
          "Mid-Tier",
          "Mid-Tier",
          "Mid-Tier",
          "Mid-Tier",
          "Mid-Tier",
          "Mid-Tier",
          "Mid-Tier",
          "Mid-Tier",
          "Mid-Tier",
          "Mid-Tier",
          "Mid-Tier",
          "Mid-Tier",
          "Mid-Tier",
          "Mid-Tier",
          "Mid-Tier",
          "Mid-Tier",
          "Mid-Tier",
          "Mid-Tier",
          "Mid-Tier",
          "Mid-Tier",
          "Mid-Tier",
          "Mid-Tier",
          "Mid-Tier",
          "Mid-Tier",
          "Mid-Tier",
          "Mid-Tier",
          "Mid-Tier",
          "Mid-Tier",
          "Mid-Tier",
          "Mid-Tier",
          "Mid-Tier",
          "Mid-Tier",
          "Mid-Tier",
          "Mid-Tier",
          "Mid-Tier",
          "Mid-Tier",
          "Mid-Tier",
          "Mid-Tier",
          "Mid-Tier",
          "Mid-Tier",
          "Mid-Tier",
          "Mid-Tier",
          "Mid-Tier",
          "Mid-Tier",
          "Mid-Tier",
          "Mid-Tier",
          "Mid-Tier",
          "Mid-Tier",
          "Mid-Tier",
          "Mid-Tier",
          "Mid-Tier",
          "Mid-Tier",
          "Mid-Tier",
          "Mid-Tier",
          "Mid-Tier",
          "Mid-Tier",
          "Mid-Tier",
          "Mid-Tier",
          "Mid-Tier",
          "Mid-Tier",
          "Mid-Tier",
          "Mid-Tier",
          "Mid-Tier",
          "Mid-Tier",
          "Mid-Tier",
          "Mid-Tier",
          "Mid-Tier",
          "Mid-Tier",
          "Mid-Tier",
          "Mid-Tier",
          "Mid-Tier",
          "Mid-Tier",
          "Mid-Tier",
          "Mid-Tier",
          "Mid-Tier",
          "Mid-Tier",
          "Mid-Tier",
          "Mid-Tier",
          "Mid-Tier",
          "Mid-Tier",
          "Mid-Tier",
          "Mid-Tier",
          "Mid-Tier",
          "Mid-Tier",
          "Mid-Tier",
          "Mid-Tier",
          "Mid-Tier",
          "Mid-Tier",
          "Mid-Tier",
          "Mid-Tier",
          "Mid-Tier",
          "Mid-Tier",
          "Mid-Tier",
          "Mid-Tier",
          "Mid-Tier",
          "Mid-Tier",
          "Mid-Tier",
          "Mid-Tier",
          "Mid-Tier",
          "Mid-Tier",
          "Mid-Tier",
          "Mid-Tier",
          "Mid-Tier",
          "Mid-Tier",
          "Mid-Tier",
          "Mid-Tier",
          "Mid-Tier",
          "Mid-Tier",
          "Mid-Tier",
          "Mid-Tier",
          "Mid-Tier",
          "Mid-Tier",
          "Mid-Tier",
          "Mid-Tier",
          "Mid-Tier",
          "Mid-Tier",
          "Mid-Tier",
          "Mid-Tier",
          "Mid-Tier",
          "Mid-Tier",
          "Mid-Tier",
          "Mid-Tier",
          "Mid-Tier",
          "Mid-Tier",
          "Mid-Tier",
          "Mid-Tier",
          "Mid-Tier",
          "Mid-Tier",
          "Mid-Tier",
          "Mid-Tier",
          "Mid-Tier",
          "Mid-Tier",
          "Mid-Tier",
          "Mid-Tier",
          "Mid-Tier",
          "Mid-Tier",
          "Mid-Tier",
          "Mid-Tier",
          "Mid-Tier",
          "Mid-Tier",
          "Mid-Tier",
          "Mid-Tier",
          "Mid-Tier",
          "Mid-Tier",
          "Mid-Tier",
          "Mid-Tier",
          "Mid-Tier",
          "Mid-Tier",
          "Mid-Tier",
          "Mid-Tier",
          "Mid-Tier",
          "Mid-Tier",
          "Mid-Tier",
          "Mid-Tier",
          "Mid-Tier",
          "Mid-Tier",
          "Mid-Tier",
          "Mid-Tier",
          "Mid-Tier",
          "Mid-Tier",
          "Mid-Tier",
          "Mid-Tier",
          "Mid-Tier",
          "Mid-Tier",
          "Mid-Tier",
          "Mid-Tier",
          "Mid-Tier",
          "Mid-Tier",
          "Mid-Tier",
          "Mid-Tier",
          "Mid-Tier",
          "Mid-Tier",
          "Mid-Tier",
          "Mid-Tier",
          "Mid-Tier",
          "Mid-Tier",
          "Mid-Tier",
          "Mid-Tier",
          "Mid-Tier",
          "Mid-Tier",
          "Mid-Tier",
          "Mid-Tier",
          "Mid-Tier",
          "Mid-Tier",
          "Mid-Tier",
          "Mid-Tier",
          "Mid-Tier",
          "Mid-Tier",
          "Mid-Tier",
          "Mid-Tier",
          "Mid-Tier",
          "Mid-Tier",
          "Mid-Tier",
          "Mid-Tier",
          "Mid-Tier",
          "Mid-Tier",
          "Mid-Tier",
          "Mid-Tier",
          "Mid-Tier",
          "Mid-Tier",
          "Mid-Tier",
          "Mid-Tier",
          "Mid-Tier",
          "Mid-Tier",
          "Mid-Tier",
          "Mid-Tier",
          "Mid-Tier",
          "Mid-Tier",
          "Mid-Tier",
          "Mid-Tier",
          "Mid-Tier",
          "Mid-Tier",
          "Mid-Tier",
          "Mid-Tier",
          "Mid-Tier",
          "Mid-Tier",
          "Mid-Tier",
          "Mid-Tier",
          "Mid-Tier",
          "Mid-Tier",
          "Mid-Tier",
          "Mid-Tier",
          "Mid-Tier",
          "Mid-Tier",
          "Mid-Tier",
          "Mid-Tier",
          "Mid-Tier",
          "Mid-Tier",
          "Mid-Tier",
          "Mid-Tier",
          "Mid-Tier",
          "Mid-Tier",
          "Mid-Tier",
          "Mid-Tier",
          "Mid-Tier",
          "Mid-Tier",
          "Mid-Tier",
          "Mid-Tier",
          "Mid-Tier",
          "Mid-Tier",
          "Mid-Tier",
          "Mid-Tier",
          "Mid-Tier",
          "Mid-Tier",
          "Mid-Tier",
          "Mid-Tier",
          "Mid-Tier",
          "Mid-Tier",
          "Mid-Tier",
          "Mid-Tier",
          "Mid-Tier",
          "Mid-Tier",
          "Mid-Tier",
          "Mid-Tier",
          "Mid-Tier",
          "Mid-Tier",
          "Mid-Tier",
          "Mid-Tier",
          "Mid-Tier",
          "Mid-Tier",
          "Mid-Tier",
          "Mid-Tier",
          "Mid-Tier",
          "Mid-Tier",
          "Mid-Tier",
          "Mid-Tier",
          "Mid-Tier",
          "Mid-Tier",
          "Mid-Tier",
          "Mid-Tier",
          "Mid-Tier",
          "Mid-Tier",
          "Mid-Tier",
          "Mid-Tier",
          "Mid-Tier",
          "Mid-Tier",
          "Mid-Tier",
          "Mid-Tier",
          "Mid-Tier",
          "Mid-Tier",
          "Mid-Tier",
          "Mid-Tier",
          "Mid-Tier",
          "Mid-Tier",
          "Mid-Tier",
          "Mid-Tier",
          "Mid-Tier",
          "Mid-Tier",
          "Mid-Tier",
          "Mid-Tier",
          "Mid-Tier",
          "Mid-Tier",
          "Mid-Tier",
          "Mid-Tier",
          "Mid-Tier",
          "Mid-Tier",
          "Mid-Tier",
          "Mid-Tier",
          "Mid-Tier",
          "Mid-Tier",
          "Mid-Tier",
          "Mid-Tier",
          "Mid-Tier",
          "Mid-Tier",
          "Mid-Tier",
          "Mid-Tier",
          "Mid-Tier",
          "Mid-Tier",
          "Mid-Tier",
          "Mid-Tier",
          "Mid-Tier",
          "Mid-Tier",
          "Mid-Tier",
          "Mid-Tier",
          "Mid-Tier",
          "Mid-Tier",
          "Mid-Tier",
          "Mid-Tier",
          "Mid-Tier",
          "Mid-Tier",
          "Mid-Tier",
          "Mid-Tier",
          "Mid-Tier",
          "Mid-Tier",
          "Mid-Tier",
          "Mid-Tier",
          "Mid-Tier",
          "Mid-Tier",
          "Mid-Tier",
          "Mid-Tier",
          "Mid-Tier",
          "Mid-Tier",
          "Mid-Tier",
          "Mid-Tier",
          "Mid-Tier",
          "Mid-Tier",
          "Mid-Tier",
          "Mid-Tier",
          "Mid-Tier",
          "Mid-Tier",
          "Mid-Tier",
          "Mid-Tier",
          "Mid-Tier",
          "Mid-Tier",
          "Mid-Tier",
          "Mid-Tier",
          "Mid-Tier",
          "Mid-Tier",
          "Mid-Tier",
          "Mid-Tier",
          "Mid-Tier",
          "Mid-Tier",
          "Mid-Tier",
          "Mid-Tier",
          "Mid-Tier",
          "Mid-Tier",
          "Mid-Tier",
          "Mid-Tier",
          "Mid-Tier",
          "Mid-Tier",
          "Mid-Tier",
          "Mid-Tier",
          "Mid-Tier",
          "Mid-Tier",
          "Mid-Tier",
          "Mid-Tier",
          "Mid-Tier",
          "Mid-Tier",
          "Mid-Tier",
          "Mid-Tier",
          "Mid-Tier",
          "Mid-Tier",
          "Mid-Tier",
          "Mid-Tier",
          "Mid-Tier",
          "Mid-Tier",
          "Mid-Tier",
          "Mid-Tier",
          "Mid-Tier",
          "Mid-Tier",
          "Mid-Tier",
          "Mid-Tier",
          "Mid-Tier",
          "Mid-Tier",
          "Mid-Tier",
          "Mid-Tier",
          "Mid-Tier",
          "Mid-Tier",
          "Mid-Tier",
          "Mid-Tier",
          "Mid-Tier",
          "Mid-Tier",
          "Mid-Tier",
          "Mid-Tier",
          "Mid-Tier",
          "Mid-Tier",
          "Mid-Tier",
          "Mid-Tier",
          "Mid-Tier",
          "Mid-Tier",
          "Mid-Tier",
          "Mid-Tier",
          "Mid-Tier",
          "Mid-Tier",
          "Mid-Tier",
          "Mid-Tier",
          "Mid-Tier",
          "Mid-Tier",
          "Mid-Tier",
          "Mid-Tier",
          "Mid-Tier",
          "Mid-Tier",
          "Mid-Tier",
          "Mid-Tier",
          "Mid-Tier",
          "Mid-Tier",
          "Mid-Tier",
          "Mid-Tier",
          "Mid-Tier",
          "Mid-Tier",
          "Mid-Tier",
          "Mid-Tier",
          "Mid-Tier",
          "Mid-Tier",
          "Mid-Tier",
          "Mid-Tier",
          "Mid-Tier",
          "Mid-Tier",
          "Mid-Tier",
          "Mid-Tier",
          "Mid-Tier",
          "Mid-Tier",
          "Mid-Tier",
          "Mid-Tier",
          "Mid-Tier",
          "Mid-Tier",
          "Mid-Tier",
          "Mid-Tier",
          "Mid-Tier",
          "Mid-Tier",
          "Mid-Tier",
          "Mid-Tier",
          "Mid-Tier",
          "Mid-Tier",
          "Mid-Tier",
          "Mid-Tier",
          "Mid-Tier",
          "Mid-Tier",
          "Mid-Tier",
          "Mid-Tier",
          "Mid-Tier",
          "Mid-Tier",
          "Mid-Tier",
          "Mid-Tier",
          "Mid-Tier",
          "Mid-Tier",
          "Mid-Tier",
          "Mid-Tier",
          "Mid-Tier",
          "Mid-Tier",
          "Mid-Tier",
          "Mid-Tier",
          "Mid-Tier",
          "Mid-Tier",
          "Mid-Tier",
          "Mid-Tier",
          "Mid-Tier",
          "Mid-Tier",
          "Mid-Tier",
          "Mid-Tier",
          "Mid-Tier",
          "Mid-Tier",
          "Mid-Tier",
          "Mid-Tier",
          "Mid-Tier",
          "Mid-Tier",
          "Mid-Tier",
          "Mid-Tier",
          "Mid-Tier",
          "Mid-Tier",
          "Mid-Tier",
          "Mid-Tier",
          "Mid-Tier",
          "Mid-Tier",
          "Mid-Tier",
          "Mid-Tier",
          "Mid-Tier",
          "Mid-Tier",
          "Mid-Tier",
          "Mid-Tier",
          "Mid-Tier",
          "Mid-Tier",
          "Mid-Tier"
         ],
         "xaxis": "x",
         "yaxis": "y"
        },
        {
         "alignmentgroup": "True",
         "bingroup": "x",
         "hovertemplate": "Segment=%{x}<br>count=%{y}<extra></extra>",
         "legendgroup": "Big Spender",
         "marker": {
          "color": "#EF553B",
          "pattern": {
           "shape": ""
          }
         },
         "name": "Big Spender",
         "offsetgroup": "Big Spender",
         "orientation": "v",
         "showlegend": true,
         "texttemplate": "%{value}",
         "type": "histogram",
         "x": [
          "Big Spender",
          "Big Spender",
          "Big Spender",
          "Big Spender",
          "Big Spender",
          "Big Spender",
          "Big Spender",
          "Big Spender",
          "Big Spender",
          "Big Spender",
          "Big Spender",
          "Big Spender",
          "Big Spender",
          "Big Spender",
          "Big Spender",
          "Big Spender",
          "Big Spender",
          "Big Spender",
          "Big Spender",
          "Big Spender",
          "Big Spender",
          "Big Spender",
          "Big Spender",
          "Big Spender",
          "Big Spender",
          "Big Spender",
          "Big Spender",
          "Big Spender",
          "Big Spender",
          "Big Spender",
          "Big Spender",
          "Big Spender",
          "Big Spender",
          "Big Spender",
          "Big Spender",
          "Big Spender",
          "Big Spender",
          "Big Spender",
          "Big Spender",
          "Big Spender",
          "Big Spender",
          "Big Spender",
          "Big Spender",
          "Big Spender",
          "Big Spender",
          "Big Spender",
          "Big Spender",
          "Big Spender",
          "Big Spender",
          "Big Spender",
          "Big Spender",
          "Big Spender",
          "Big Spender",
          "Big Spender",
          "Big Spender",
          "Big Spender",
          "Big Spender",
          "Big Spender",
          "Big Spender",
          "Big Spender",
          "Big Spender",
          "Big Spender",
          "Big Spender",
          "Big Spender",
          "Big Spender",
          "Big Spender",
          "Big Spender",
          "Big Spender",
          "Big Spender",
          "Big Spender",
          "Big Spender",
          "Big Spender",
          "Big Spender",
          "Big Spender",
          "Big Spender",
          "Big Spender",
          "Big Spender",
          "Big Spender",
          "Big Spender",
          "Big Spender",
          "Big Spender",
          "Big Spender",
          "Big Spender",
          "Big Spender",
          "Big Spender",
          "Big Spender",
          "Big Spender",
          "Big Spender",
          "Big Spender",
          "Big Spender",
          "Big Spender",
          "Big Spender",
          "Big Spender",
          "Big Spender",
          "Big Spender",
          "Big Spender",
          "Big Spender",
          "Big Spender",
          "Big Spender",
          "Big Spender",
          "Big Spender",
          "Big Spender",
          "Big Spender",
          "Big Spender",
          "Big Spender",
          "Big Spender",
          "Big Spender",
          "Big Spender",
          "Big Spender",
          "Big Spender",
          "Big Spender",
          "Big Spender",
          "Big Spender",
          "Big Spender",
          "Big Spender",
          "Big Spender",
          "Big Spender",
          "Big Spender",
          "Big Spender",
          "Big Spender",
          "Big Spender",
          "Big Spender",
          "Big Spender",
          "Big Spender",
          "Big Spender"
         ],
         "xaxis": "x",
         "yaxis": "y"
        },
        {
         "alignmentgroup": "True",
         "bingroup": "x",
         "hovertemplate": "Segment=%{x}<br>count=%{y}<extra></extra>",
         "legendgroup": "VIP Clients",
         "marker": {
          "color": "#00cc96",
          "pattern": {
           "shape": ""
          }
         },
         "name": "VIP Clients",
         "offsetgroup": "VIP Clients",
         "orientation": "v",
         "showlegend": true,
         "texttemplate": "%{value}",
         "type": "histogram",
         "x": [
          "VIP Clients",
          "VIP Clients",
          "VIP Clients",
          "VIP Clients",
          "VIP Clients",
          "VIP Clients",
          "VIP Clients",
          "VIP Clients",
          "VIP Clients",
          "VIP Clients",
          "VIP Clients",
          "VIP Clients",
          "VIP Clients",
          "VIP Clients",
          "VIP Clients",
          "VIP Clients",
          "VIP Clients",
          "VIP Clients",
          "VIP Clients",
          "VIP Clients",
          "VIP Clients",
          "VIP Clients",
          "VIP Clients",
          "VIP Clients",
          "VIP Clients",
          "VIP Clients",
          "VIP Clients",
          "VIP Clients",
          "VIP Clients",
          "VIP Clients",
          "VIP Clients",
          "VIP Clients",
          "VIP Clients",
          "VIP Clients",
          "VIP Clients",
          "VIP Clients",
          "VIP Clients",
          "VIP Clients",
          "VIP Clients",
          "VIP Clients",
          "VIP Clients",
          "VIP Clients",
          "VIP Clients",
          "VIP Clients",
          "VIP Clients",
          "VIP Clients",
          "VIP Clients",
          "VIP Clients",
          "VIP Clients",
          "VIP Clients",
          "VIP Clients",
          "VIP Clients",
          "VIP Clients",
          "VIP Clients",
          "VIP Clients",
          "VIP Clients",
          "VIP Clients",
          "VIP Clients",
          "VIP Clients",
          "VIP Clients",
          "VIP Clients",
          "VIP Clients",
          "VIP Clients",
          "VIP Clients",
          "VIP Clients",
          "VIP Clients",
          "VIP Clients",
          "VIP Clients",
          "VIP Clients",
          "VIP Clients",
          "VIP Clients",
          "VIP Clients",
          "VIP Clients",
          "VIP Clients",
          "VIP Clients",
          "VIP Clients",
          "VIP Clients",
          "VIP Clients",
          "VIP Clients",
          "VIP Clients",
          "VIP Clients",
          "VIP Clients",
          "VIP Clients",
          "VIP Clients",
          "VIP Clients",
          "VIP Clients",
          "VIP Clients",
          "VIP Clients",
          "VIP Clients",
          "VIP Clients",
          "VIP Clients",
          "VIP Clients",
          "VIP Clients",
          "VIP Clients",
          "VIP Clients",
          "VIP Clients",
          "VIP Clients",
          "VIP Clients",
          "VIP Clients",
          "VIP Clients",
          "VIP Clients",
          "VIP Clients",
          "VIP Clients",
          "VIP Clients",
          "VIP Clients",
          "VIP Clients",
          "VIP Clients",
          "VIP Clients",
          "VIP Clients",
          "VIP Clients",
          "VIP Clients",
          "VIP Clients",
          "VIP Clients",
          "VIP Clients",
          "VIP Clients",
          "VIP Clients",
          "VIP Clients",
          "VIP Clients",
          "VIP Clients",
          "VIP Clients",
          "VIP Clients",
          "VIP Clients",
          "VIP Clients",
          "VIP Clients",
          "VIP Clients",
          "VIP Clients",
          "VIP Clients",
          "VIP Clients",
          "VIP Clients",
          "VIP Clients",
          "VIP Clients",
          "VIP Clients",
          "VIP Clients",
          "VIP Clients",
          "VIP Clients",
          "VIP Clients",
          "VIP Clients",
          "VIP Clients",
          "VIP Clients",
          "VIP Clients",
          "VIP Clients",
          "VIP Clients",
          "VIP Clients",
          "VIP Clients",
          "VIP Clients",
          "VIP Clients",
          "VIP Clients",
          "VIP Clients",
          "VIP Clients",
          "VIP Clients",
          "VIP Clients",
          "VIP Clients",
          "VIP Clients",
          "VIP Clients",
          "VIP Clients",
          "VIP Clients",
          "VIP Clients",
          "VIP Clients",
          "VIP Clients",
          "VIP Clients",
          "VIP Clients",
          "VIP Clients",
          "VIP Clients",
          "VIP Clients",
          "VIP Clients",
          "VIP Clients",
          "VIP Clients",
          "VIP Clients",
          "VIP Clients",
          "VIP Clients",
          "VIP Clients",
          "VIP Clients",
          "VIP Clients",
          "VIP Clients",
          "VIP Clients",
          "VIP Clients",
          "VIP Clients",
          "VIP Clients",
          "VIP Clients",
          "VIP Clients",
          "VIP Clients",
          "VIP Clients",
          "VIP Clients",
          "VIP Clients",
          "VIP Clients",
          "VIP Clients",
          "VIP Clients",
          "VIP Clients",
          "VIP Clients",
          "VIP Clients",
          "VIP Clients",
          "VIP Clients",
          "VIP Clients",
          "VIP Clients",
          "VIP Clients",
          "VIP Clients",
          "VIP Clients",
          "VIP Clients",
          "VIP Clients",
          "VIP Clients",
          "VIP Clients",
          "VIP Clients",
          "VIP Clients",
          "VIP Clients",
          "VIP Clients",
          "VIP Clients",
          "VIP Clients",
          "VIP Clients",
          "VIP Clients",
          "VIP Clients",
          "VIP Clients",
          "VIP Clients",
          "VIP Clients",
          "VIP Clients",
          "VIP Clients",
          "VIP Clients",
          "VIP Clients",
          "VIP Clients",
          "VIP Clients",
          "VIP Clients",
          "VIP Clients",
          "VIP Clients",
          "VIP Clients",
          "VIP Clients",
          "VIP Clients",
          "VIP Clients",
          "VIP Clients",
          "VIP Clients",
          "VIP Clients",
          "VIP Clients",
          "VIP Clients",
          "VIP Clients",
          "VIP Clients",
          "VIP Clients",
          "VIP Clients",
          "VIP Clients",
          "VIP Clients",
          "VIP Clients",
          "VIP Clients",
          "VIP Clients",
          "VIP Clients",
          "VIP Clients",
          "VIP Clients",
          "VIP Clients",
          "VIP Clients",
          "VIP Clients",
          "VIP Clients",
          "VIP Clients",
          "VIP Clients",
          "VIP Clients",
          "VIP Clients",
          "VIP Clients",
          "VIP Clients",
          "VIP Clients",
          "VIP Clients",
          "VIP Clients",
          "VIP Clients",
          "VIP Clients",
          "VIP Clients",
          "VIP Clients",
          "VIP Clients",
          "VIP Clients",
          "VIP Clients",
          "VIP Clients",
          "VIP Clients",
          "VIP Clients",
          "VIP Clients",
          "VIP Clients",
          "VIP Clients",
          "VIP Clients",
          "VIP Clients",
          "VIP Clients",
          "VIP Clients",
          "VIP Clients",
          "VIP Clients",
          "VIP Clients",
          "VIP Clients",
          "VIP Clients",
          "VIP Clients",
          "VIP Clients",
          "VIP Clients",
          "VIP Clients",
          "VIP Clients",
          "VIP Clients",
          "VIP Clients",
          "VIP Clients",
          "VIP Clients",
          "VIP Clients",
          "VIP Clients",
          "VIP Clients",
          "VIP Clients",
          "VIP Clients",
          "VIP Clients",
          "VIP Clients",
          "VIP Clients",
          "VIP Clients",
          "VIP Clients",
          "VIP Clients",
          "VIP Clients",
          "VIP Clients",
          "VIP Clients",
          "VIP Clients",
          "VIP Clients",
          "VIP Clients",
          "VIP Clients",
          "VIP Clients",
          "VIP Clients",
          "VIP Clients",
          "VIP Clients",
          "VIP Clients",
          "VIP Clients",
          "VIP Clients",
          "VIP Clients",
          "VIP Clients",
          "VIP Clients",
          "VIP Clients",
          "VIP Clients",
          "VIP Clients",
          "VIP Clients",
          "VIP Clients",
          "VIP Clients",
          "VIP Clients",
          "VIP Clients",
          "VIP Clients",
          "VIP Clients",
          "VIP Clients",
          "VIP Clients",
          "VIP Clients",
          "VIP Clients",
          "VIP Clients",
          "VIP Clients",
          "VIP Clients",
          "VIP Clients",
          "VIP Clients",
          "VIP Clients",
          "VIP Clients",
          "VIP Clients",
          "VIP Clients",
          "VIP Clients",
          "VIP Clients",
          "VIP Clients",
          "VIP Clients",
          "VIP Clients",
          "VIP Clients",
          "VIP Clients",
          "VIP Clients",
          "VIP Clients",
          "VIP Clients",
          "VIP Clients",
          "VIP Clients",
          "VIP Clients",
          "VIP Clients",
          "VIP Clients",
          "VIP Clients",
          "VIP Clients",
          "VIP Clients",
          "VIP Clients",
          "VIP Clients",
          "VIP Clients",
          "VIP Clients",
          "VIP Clients",
          "VIP Clients",
          "VIP Clients",
          "VIP Clients",
          "VIP Clients",
          "VIP Clients",
          "VIP Clients",
          "VIP Clients",
          "VIP Clients",
          "VIP Clients",
          "VIP Clients",
          "VIP Clients",
          "VIP Clients",
          "VIP Clients",
          "VIP Clients",
          "VIP Clients",
          "VIP Clients",
          "VIP Clients",
          "VIP Clients",
          "VIP Clients",
          "VIP Clients",
          "VIP Clients",
          "VIP Clients",
          "VIP Clients",
          "VIP Clients",
          "VIP Clients",
          "VIP Clients",
          "VIP Clients",
          "VIP Clients",
          "VIP Clients",
          "VIP Clients",
          "VIP Clients",
          "VIP Clients",
          "VIP Clients",
          "VIP Clients",
          "VIP Clients",
          "VIP Clients",
          "VIP Clients",
          "VIP Clients",
          "VIP Clients",
          "VIP Clients",
          "VIP Clients",
          "VIP Clients",
          "VIP Clients",
          "VIP Clients",
          "VIP Clients",
          "VIP Clients",
          "VIP Clients",
          "VIP Clients",
          "VIP Clients",
          "VIP Clients",
          "VIP Clients",
          "VIP Clients",
          "VIP Clients",
          "VIP Clients",
          "VIP Clients",
          "VIP Clients",
          "VIP Clients",
          "VIP Clients",
          "VIP Clients",
          "VIP Clients",
          "VIP Clients",
          "VIP Clients",
          "VIP Clients",
          "VIP Clients",
          "VIP Clients",
          "VIP Clients",
          "VIP Clients",
          "VIP Clients",
          "VIP Clients",
          "VIP Clients",
          "VIP Clients",
          "VIP Clients",
          "VIP Clients",
          "VIP Clients",
          "VIP Clients",
          "VIP Clients",
          "VIP Clients",
          "VIP Clients",
          "VIP Clients",
          "VIP Clients",
          "VIP Clients",
          "VIP Clients",
          "VIP Clients",
          "VIP Clients",
          "VIP Clients",
          "VIP Clients",
          "VIP Clients",
          "VIP Clients",
          "VIP Clients",
          "VIP Clients",
          "VIP Clients",
          "VIP Clients",
          "VIP Clients",
          "VIP Clients",
          "VIP Clients",
          "VIP Clients",
          "VIP Clients",
          "VIP Clients",
          "VIP Clients",
          "VIP Clients",
          "VIP Clients",
          "VIP Clients",
          "VIP Clients",
          "VIP Clients",
          "VIP Clients",
          "VIP Clients",
          "VIP Clients",
          "VIP Clients",
          "VIP Clients"
         ],
         "xaxis": "x",
         "yaxis": "y"
        },
        {
         "alignmentgroup": "True",
         "bingroup": "x",
         "hovertemplate": "Segment=%{x}<br>count=%{y}<extra></extra>",
         "legendgroup": "Potential Loyalist",
         "marker": {
          "color": "#ab63fa",
          "pattern": {
           "shape": ""
          }
         },
         "name": "Potential Loyalist",
         "offsetgroup": "Potential Loyalist",
         "orientation": "v",
         "showlegend": true,
         "texttemplate": "%{value}",
         "type": "histogram",
         "x": [
          "Potential Loyalist",
          "Potential Loyalist",
          "Potential Loyalist",
          "Potential Loyalist",
          "Potential Loyalist",
          "Potential Loyalist",
          "Potential Loyalist",
          "Potential Loyalist",
          "Potential Loyalist",
          "Potential Loyalist",
          "Potential Loyalist",
          "Potential Loyalist",
          "Potential Loyalist",
          "Potential Loyalist",
          "Potential Loyalist",
          "Potential Loyalist",
          "Potential Loyalist",
          "Potential Loyalist",
          "Potential Loyalist",
          "Potential Loyalist",
          "Potential Loyalist",
          "Potential Loyalist",
          "Potential Loyalist",
          "Potential Loyalist",
          "Potential Loyalist",
          "Potential Loyalist",
          "Potential Loyalist",
          "Potential Loyalist",
          "Potential Loyalist",
          "Potential Loyalist",
          "Potential Loyalist",
          "Potential Loyalist",
          "Potential Loyalist",
          "Potential Loyalist",
          "Potential Loyalist",
          "Potential Loyalist",
          "Potential Loyalist",
          "Potential Loyalist",
          "Potential Loyalist",
          "Potential Loyalist",
          "Potential Loyalist",
          "Potential Loyalist",
          "Potential Loyalist",
          "Potential Loyalist",
          "Potential Loyalist",
          "Potential Loyalist",
          "Potential Loyalist",
          "Potential Loyalist",
          "Potential Loyalist",
          "Potential Loyalist",
          "Potential Loyalist",
          "Potential Loyalist",
          "Potential Loyalist",
          "Potential Loyalist",
          "Potential Loyalist",
          "Potential Loyalist",
          "Potential Loyalist",
          "Potential Loyalist",
          "Potential Loyalist",
          "Potential Loyalist",
          "Potential Loyalist",
          "Potential Loyalist",
          "Potential Loyalist",
          "Potential Loyalist",
          "Potential Loyalist",
          "Potential Loyalist",
          "Potential Loyalist",
          "Potential Loyalist",
          "Potential Loyalist",
          "Potential Loyalist",
          "Potential Loyalist",
          "Potential Loyalist",
          "Potential Loyalist",
          "Potential Loyalist",
          "Potential Loyalist",
          "Potential Loyalist",
          "Potential Loyalist",
          "Potential Loyalist",
          "Potential Loyalist",
          "Potential Loyalist",
          "Potential Loyalist",
          "Potential Loyalist",
          "Potential Loyalist",
          "Potential Loyalist",
          "Potential Loyalist",
          "Potential Loyalist",
          "Potential Loyalist",
          "Potential Loyalist",
          "Potential Loyalist",
          "Potential Loyalist",
          "Potential Loyalist",
          "Potential Loyalist",
          "Potential Loyalist",
          "Potential Loyalist",
          "Potential Loyalist",
          "Potential Loyalist",
          "Potential Loyalist",
          "Potential Loyalist",
          "Potential Loyalist",
          "Potential Loyalist",
          "Potential Loyalist",
          "Potential Loyalist",
          "Potential Loyalist",
          "Potential Loyalist",
          "Potential Loyalist",
          "Potential Loyalist",
          "Potential Loyalist",
          "Potential Loyalist",
          "Potential Loyalist",
          "Potential Loyalist",
          "Potential Loyalist",
          "Potential Loyalist",
          "Potential Loyalist",
          "Potential Loyalist",
          "Potential Loyalist",
          "Potential Loyalist",
          "Potential Loyalist",
          "Potential Loyalist",
          "Potential Loyalist",
          "Potential Loyalist",
          "Potential Loyalist",
          "Potential Loyalist",
          "Potential Loyalist",
          "Potential Loyalist",
          "Potential Loyalist",
          "Potential Loyalist",
          "Potential Loyalist",
          "Potential Loyalist",
          "Potential Loyalist",
          "Potential Loyalist",
          "Potential Loyalist",
          "Potential Loyalist",
          "Potential Loyalist",
          "Potential Loyalist",
          "Potential Loyalist",
          "Potential Loyalist",
          "Potential Loyalist",
          "Potential Loyalist",
          "Potential Loyalist",
          "Potential Loyalist",
          "Potential Loyalist",
          "Potential Loyalist",
          "Potential Loyalist",
          "Potential Loyalist",
          "Potential Loyalist",
          "Potential Loyalist",
          "Potential Loyalist",
          "Potential Loyalist",
          "Potential Loyalist",
          "Potential Loyalist",
          "Potential Loyalist",
          "Potential Loyalist",
          "Potential Loyalist",
          "Potential Loyalist",
          "Potential Loyalist",
          "Potential Loyalist",
          "Potential Loyalist",
          "Potential Loyalist",
          "Potential Loyalist",
          "Potential Loyalist",
          "Potential Loyalist",
          "Potential Loyalist",
          "Potential Loyalist",
          "Potential Loyalist",
          "Potential Loyalist",
          "Potential Loyalist",
          "Potential Loyalist",
          "Potential Loyalist",
          "Potential Loyalist",
          "Potential Loyalist",
          "Potential Loyalist",
          "Potential Loyalist",
          "Potential Loyalist",
          "Potential Loyalist",
          "Potential Loyalist",
          "Potential Loyalist",
          "Potential Loyalist",
          "Potential Loyalist",
          "Potential Loyalist",
          "Potential Loyalist",
          "Potential Loyalist",
          "Potential Loyalist",
          "Potential Loyalist",
          "Potential Loyalist",
          "Potential Loyalist",
          "Potential Loyalist",
          "Potential Loyalist",
          "Potential Loyalist",
          "Potential Loyalist",
          "Potential Loyalist",
          "Potential Loyalist",
          "Potential Loyalist",
          "Potential Loyalist",
          "Potential Loyalist",
          "Potential Loyalist",
          "Potential Loyalist",
          "Potential Loyalist",
          "Potential Loyalist",
          "Potential Loyalist",
          "Potential Loyalist",
          "Potential Loyalist",
          "Potential Loyalist",
          "Potential Loyalist",
          "Potential Loyalist",
          "Potential Loyalist",
          "Potential Loyalist",
          "Potential Loyalist",
          "Potential Loyalist",
          "Potential Loyalist",
          "Potential Loyalist",
          "Potential Loyalist",
          "Potential Loyalist",
          "Potential Loyalist",
          "Potential Loyalist",
          "Potential Loyalist",
          "Potential Loyalist",
          "Potential Loyalist",
          "Potential Loyalist",
          "Potential Loyalist",
          "Potential Loyalist",
          "Potential Loyalist",
          "Potential Loyalist",
          "Potential Loyalist",
          "Potential Loyalist",
          "Potential Loyalist",
          "Potential Loyalist",
          "Potential Loyalist",
          "Potential Loyalist",
          "Potential Loyalist",
          "Potential Loyalist",
          "Potential Loyalist",
          "Potential Loyalist",
          "Potential Loyalist",
          "Potential Loyalist",
          "Potential Loyalist",
          "Potential Loyalist",
          "Potential Loyalist",
          "Potential Loyalist",
          "Potential Loyalist",
          "Potential Loyalist",
          "Potential Loyalist",
          "Potential Loyalist",
          "Potential Loyalist",
          "Potential Loyalist",
          "Potential Loyalist",
          "Potential Loyalist",
          "Potential Loyalist",
          "Potential Loyalist",
          "Potential Loyalist",
          "Potential Loyalist",
          "Potential Loyalist",
          "Potential Loyalist",
          "Potential Loyalist",
          "Potential Loyalist",
          "Potential Loyalist",
          "Potential Loyalist",
          "Potential Loyalist",
          "Potential Loyalist",
          "Potential Loyalist",
          "Potential Loyalist",
          "Potential Loyalist",
          "Potential Loyalist",
          "Potential Loyalist",
          "Potential Loyalist",
          "Potential Loyalist",
          "Potential Loyalist",
          "Potential Loyalist",
          "Potential Loyalist",
          "Potential Loyalist",
          "Potential Loyalist",
          "Potential Loyalist",
          "Potential Loyalist",
          "Potential Loyalist",
          "Potential Loyalist",
          "Potential Loyalist",
          "Potential Loyalist",
          "Potential Loyalist",
          "Potential Loyalist",
          "Potential Loyalist",
          "Potential Loyalist",
          "Potential Loyalist",
          "Potential Loyalist",
          "Potential Loyalist",
          "Potential Loyalist",
          "Potential Loyalist",
          "Potential Loyalist",
          "Potential Loyalist",
          "Potential Loyalist",
          "Potential Loyalist",
          "Potential Loyalist",
          "Potential Loyalist",
          "Potential Loyalist",
          "Potential Loyalist",
          "Potential Loyalist",
          "Potential Loyalist",
          "Potential Loyalist",
          "Potential Loyalist",
          "Potential Loyalist",
          "Potential Loyalist",
          "Potential Loyalist",
          "Potential Loyalist",
          "Potential Loyalist",
          "Potential Loyalist",
          "Potential Loyalist",
          "Potential Loyalist",
          "Potential Loyalist",
          "Potential Loyalist",
          "Potential Loyalist",
          "Potential Loyalist",
          "Potential Loyalist",
          "Potential Loyalist",
          "Potential Loyalist",
          "Potential Loyalist",
          "Potential Loyalist",
          "Potential Loyalist",
          "Potential Loyalist",
          "Potential Loyalist",
          "Potential Loyalist",
          "Potential Loyalist",
          "Potential Loyalist",
          "Potential Loyalist",
          "Potential Loyalist",
          "Potential Loyalist",
          "Potential Loyalist",
          "Potential Loyalist",
          "Potential Loyalist",
          "Potential Loyalist",
          "Potential Loyalist",
          "Potential Loyalist",
          "Potential Loyalist",
          "Potential Loyalist",
          "Potential Loyalist",
          "Potential Loyalist",
          "Potential Loyalist",
          "Potential Loyalist",
          "Potential Loyalist",
          "Potential Loyalist",
          "Potential Loyalist",
          "Potential Loyalist",
          "Potential Loyalist",
          "Potential Loyalist",
          "Potential Loyalist",
          "Potential Loyalist",
          "Potential Loyalist",
          "Potential Loyalist",
          "Potential Loyalist",
          "Potential Loyalist",
          "Potential Loyalist",
          "Potential Loyalist",
          "Potential Loyalist",
          "Potential Loyalist",
          "Potential Loyalist",
          "Potential Loyalist",
          "Potential Loyalist",
          "Potential Loyalist",
          "Potential Loyalist",
          "Potential Loyalist",
          "Potential Loyalist",
          "Potential Loyalist",
          "Potential Loyalist",
          "Potential Loyalist",
          "Potential Loyalist",
          "Potential Loyalist",
          "Potential Loyalist",
          "Potential Loyalist",
          "Potential Loyalist",
          "Potential Loyalist",
          "Potential Loyalist",
          "Potential Loyalist",
          "Potential Loyalist",
          "Potential Loyalist",
          "Potential Loyalist",
          "Potential Loyalist",
          "Potential Loyalist",
          "Potential Loyalist",
          "Potential Loyalist",
          "Potential Loyalist",
          "Potential Loyalist",
          "Potential Loyalist",
          "Potential Loyalist",
          "Potential Loyalist",
          "Potential Loyalist",
          "Potential Loyalist",
          "Potential Loyalist",
          "Potential Loyalist",
          "Potential Loyalist",
          "Potential Loyalist",
          "Potential Loyalist",
          "Potential Loyalist",
          "Potential Loyalist",
          "Potential Loyalist",
          "Potential Loyalist",
          "Potential Loyalist",
          "Potential Loyalist",
          "Potential Loyalist",
          "Potential Loyalist",
          "Potential Loyalist",
          "Potential Loyalist",
          "Potential Loyalist",
          "Potential Loyalist",
          "Potential Loyalist",
          "Potential Loyalist",
          "Potential Loyalist",
          "Potential Loyalist",
          "Potential Loyalist",
          "Potential Loyalist",
          "Potential Loyalist",
          "Potential Loyalist",
          "Potential Loyalist",
          "Potential Loyalist",
          "Potential Loyalist",
          "Potential Loyalist",
          "Potential Loyalist",
          "Potential Loyalist",
          "Potential Loyalist",
          "Potential Loyalist",
          "Potential Loyalist",
          "Potential Loyalist",
          "Potential Loyalist",
          "Potential Loyalist",
          "Potential Loyalist",
          "Potential Loyalist",
          "Potential Loyalist",
          "Potential Loyalist",
          "Potential Loyalist",
          "Potential Loyalist",
          "Potential Loyalist",
          "Potential Loyalist"
         ],
         "xaxis": "x",
         "yaxis": "y"
        },
        {
         "alignmentgroup": "True",
         "bingroup": "x",
         "hovertemplate": "Segment=%{x}<br>count=%{y}<extra></extra>",
         "legendgroup": "At Risk",
         "marker": {
          "color": "#FFA15A",
          "pattern": {
           "shape": ""
          }
         },
         "name": "At Risk",
         "offsetgroup": "At Risk",
         "orientation": "v",
         "showlegend": true,
         "texttemplate": "%{value}",
         "type": "histogram",
         "x": [
          "At Risk",
          "At Risk",
          "At Risk",
          "At Risk",
          "At Risk",
          "At Risk",
          "At Risk",
          "At Risk",
          "At Risk",
          "At Risk",
          "At Risk",
          "At Risk",
          "At Risk",
          "At Risk",
          "At Risk",
          "At Risk",
          "At Risk",
          "At Risk",
          "At Risk",
          "At Risk",
          "At Risk",
          "At Risk",
          "At Risk",
          "At Risk",
          "At Risk",
          "At Risk",
          "At Risk",
          "At Risk",
          "At Risk",
          "At Risk",
          "At Risk",
          "At Risk",
          "At Risk",
          "At Risk",
          "At Risk",
          "At Risk",
          "At Risk",
          "At Risk",
          "At Risk",
          "At Risk",
          "At Risk",
          "At Risk",
          "At Risk",
          "At Risk",
          "At Risk",
          "At Risk",
          "At Risk",
          "At Risk",
          "At Risk",
          "At Risk",
          "At Risk",
          "At Risk",
          "At Risk",
          "At Risk",
          "At Risk",
          "At Risk",
          "At Risk",
          "At Risk",
          "At Risk",
          "At Risk",
          "At Risk",
          "At Risk",
          "At Risk",
          "At Risk",
          "At Risk",
          "At Risk",
          "At Risk",
          "At Risk",
          "At Risk",
          "At Risk",
          "At Risk",
          "At Risk",
          "At Risk",
          "At Risk",
          "At Risk",
          "At Risk",
          "At Risk",
          "At Risk",
          "At Risk",
          "At Risk",
          "At Risk",
          "At Risk",
          "At Risk",
          "At Risk",
          "At Risk",
          "At Risk",
          "At Risk",
          "At Risk",
          "At Risk",
          "At Risk",
          "At Risk",
          "At Risk",
          "At Risk",
          "At Risk",
          "At Risk",
          "At Risk",
          "At Risk",
          "At Risk",
          "At Risk",
          "At Risk",
          "At Risk",
          "At Risk"
         ],
         "xaxis": "x",
         "yaxis": "y"
        },
        {
         "alignmentgroup": "True",
         "bingroup": "x",
         "hovertemplate": "Segment=%{x}<br>count=%{y}<extra></extra>",
         "legendgroup": "Regular High-Value",
         "marker": {
          "color": "#19d3f3",
          "pattern": {
           "shape": ""
          }
         },
         "name": "Regular High-Value",
         "offsetgroup": "Regular High-Value",
         "orientation": "v",
         "showlegend": true,
         "texttemplate": "%{value}",
         "type": "histogram",
         "x": [
          "Regular High-Value",
          "Regular High-Value",
          "Regular High-Value",
          "Regular High-Value",
          "Regular High-Value",
          "Regular High-Value",
          "Regular High-Value",
          "Regular High-Value",
          "Regular High-Value",
          "Regular High-Value",
          "Regular High-Value",
          "Regular High-Value",
          "Regular High-Value",
          "Regular High-Value",
          "Regular High-Value",
          "Regular High-Value",
          "Regular High-Value",
          "Regular High-Value",
          "Regular High-Value",
          "Regular High-Value",
          "Regular High-Value",
          "Regular High-Value",
          "Regular High-Value",
          "Regular High-Value",
          "Regular High-Value",
          "Regular High-Value",
          "Regular High-Value",
          "Regular High-Value",
          "Regular High-Value",
          "Regular High-Value",
          "Regular High-Value",
          "Regular High-Value",
          "Regular High-Value",
          "Regular High-Value",
          "Regular High-Value",
          "Regular High-Value",
          "Regular High-Value",
          "Regular High-Value",
          "Regular High-Value",
          "Regular High-Value",
          "Regular High-Value",
          "Regular High-Value",
          "Regular High-Value",
          "Regular High-Value",
          "Regular High-Value",
          "Regular High-Value",
          "Regular High-Value",
          "Regular High-Value",
          "Regular High-Value",
          "Regular High-Value",
          "Regular High-Value",
          "Regular High-Value",
          "Regular High-Value",
          "Regular High-Value",
          "Regular High-Value",
          "Regular High-Value",
          "Regular High-Value",
          "Regular High-Value",
          "Regular High-Value",
          "Regular High-Value",
          "Regular High-Value",
          "Regular High-Value",
          "Regular High-Value",
          "Regular High-Value",
          "Regular High-Value",
          "Regular High-Value",
          "Regular High-Value",
          "Regular High-Value",
          "Regular High-Value",
          "Regular High-Value",
          "Regular High-Value",
          "Regular High-Value",
          "Regular High-Value",
          "Regular High-Value",
          "Regular High-Value",
          "Regular High-Value",
          "Regular High-Value",
          "Regular High-Value",
          "Regular High-Value",
          "Regular High-Value",
          "Regular High-Value",
          "Regular High-Value",
          "Regular High-Value",
          "Regular High-Value",
          "Regular High-Value",
          "Regular High-Value",
          "Regular High-Value",
          "Regular High-Value",
          "Regular High-Value",
          "Regular High-Value",
          "Regular High-Value",
          "Regular High-Value",
          "Regular High-Value",
          "Regular High-Value",
          "Regular High-Value",
          "Regular High-Value",
          "Regular High-Value",
          "Regular High-Value",
          "Regular High-Value",
          "Regular High-Value",
          "Regular High-Value",
          "Regular High-Value",
          "Regular High-Value",
          "Regular High-Value",
          "Regular High-Value",
          "Regular High-Value",
          "Regular High-Value",
          "Regular High-Value",
          "Regular High-Value",
          "Regular High-Value",
          "Regular High-Value",
          "Regular High-Value",
          "Regular High-Value",
          "Regular High-Value",
          "Regular High-Value",
          "Regular High-Value",
          "Regular High-Value",
          "Regular High-Value",
          "Regular High-Value",
          "Regular High-Value",
          "Regular High-Value",
          "Regular High-Value",
          "Regular High-Value",
          "Regular High-Value",
          "Regular High-Value",
          "Regular High-Value",
          "Regular High-Value",
          "Regular High-Value",
          "Regular High-Value",
          "Regular High-Value",
          "Regular High-Value",
          "Regular High-Value",
          "Regular High-Value",
          "Regular High-Value",
          "Regular High-Value",
          "Regular High-Value",
          "Regular High-Value",
          "Regular High-Value",
          "Regular High-Value",
          "Regular High-Value",
          "Regular High-Value",
          "Regular High-Value",
          "Regular High-Value",
          "Regular High-Value"
         ],
         "xaxis": "x",
         "yaxis": "y"
        }
       ],
       "layout": {
        "barmode": "relative",
        "legend": {
         "title": {
          "text": "Segment"
         },
         "tracegroupgap": 0
        },
        "template": {
         "data": {
          "bar": [
           {
            "error_x": {
             "color": "#2a3f5f"
            },
            "error_y": {
             "color": "#2a3f5f"
            },
            "marker": {
             "line": {
              "color": "#E5ECF6",
              "width": 0.5
             },
             "pattern": {
              "fillmode": "overlay",
              "size": 10,
              "solidity": 0.2
             }
            },
            "type": "bar"
           }
          ],
          "barpolar": [
           {
            "marker": {
             "line": {
              "color": "#E5ECF6",
              "width": 0.5
             },
             "pattern": {
              "fillmode": "overlay",
              "size": 10,
              "solidity": 0.2
             }
            },
            "type": "barpolar"
           }
          ],
          "carpet": [
           {
            "aaxis": {
             "endlinecolor": "#2a3f5f",
             "gridcolor": "white",
             "linecolor": "white",
             "minorgridcolor": "white",
             "startlinecolor": "#2a3f5f"
            },
            "baxis": {
             "endlinecolor": "#2a3f5f",
             "gridcolor": "white",
             "linecolor": "white",
             "minorgridcolor": "white",
             "startlinecolor": "#2a3f5f"
            },
            "type": "carpet"
           }
          ],
          "choropleth": [
           {
            "colorbar": {
             "outlinewidth": 0,
             "ticks": ""
            },
            "type": "choropleth"
           }
          ],
          "contour": [
           {
            "colorbar": {
             "outlinewidth": 0,
             "ticks": ""
            },
            "colorscale": [
             [
              0,
              "#0d0887"
             ],
             [
              0.1111111111111111,
              "#46039f"
             ],
             [
              0.2222222222222222,
              "#7201a8"
             ],
             [
              0.3333333333333333,
              "#9c179e"
             ],
             [
              0.4444444444444444,
              "#bd3786"
             ],
             [
              0.5555555555555556,
              "#d8576b"
             ],
             [
              0.6666666666666666,
              "#ed7953"
             ],
             [
              0.7777777777777778,
              "#fb9f3a"
             ],
             [
              0.8888888888888888,
              "#fdca26"
             ],
             [
              1,
              "#f0f921"
             ]
            ],
            "type": "contour"
           }
          ],
          "contourcarpet": [
           {
            "colorbar": {
             "outlinewidth": 0,
             "ticks": ""
            },
            "type": "contourcarpet"
           }
          ],
          "heatmap": [
           {
            "colorbar": {
             "outlinewidth": 0,
             "ticks": ""
            },
            "colorscale": [
             [
              0,
              "#0d0887"
             ],
             [
              0.1111111111111111,
              "#46039f"
             ],
             [
              0.2222222222222222,
              "#7201a8"
             ],
             [
              0.3333333333333333,
              "#9c179e"
             ],
             [
              0.4444444444444444,
              "#bd3786"
             ],
             [
              0.5555555555555556,
              "#d8576b"
             ],
             [
              0.6666666666666666,
              "#ed7953"
             ],
             [
              0.7777777777777778,
              "#fb9f3a"
             ],
             [
              0.8888888888888888,
              "#fdca26"
             ],
             [
              1,
              "#f0f921"
             ]
            ],
            "type": "heatmap"
           }
          ],
          "heatmapgl": [
           {
            "colorbar": {
             "outlinewidth": 0,
             "ticks": ""
            },
            "colorscale": [
             [
              0,
              "#0d0887"
             ],
             [
              0.1111111111111111,
              "#46039f"
             ],
             [
              0.2222222222222222,
              "#7201a8"
             ],
             [
              0.3333333333333333,
              "#9c179e"
             ],
             [
              0.4444444444444444,
              "#bd3786"
             ],
             [
              0.5555555555555556,
              "#d8576b"
             ],
             [
              0.6666666666666666,
              "#ed7953"
             ],
             [
              0.7777777777777778,
              "#fb9f3a"
             ],
             [
              0.8888888888888888,
              "#fdca26"
             ],
             [
              1,
              "#f0f921"
             ]
            ],
            "type": "heatmapgl"
           }
          ],
          "histogram": [
           {
            "marker": {
             "pattern": {
              "fillmode": "overlay",
              "size": 10,
              "solidity": 0.2
             }
            },
            "type": "histogram"
           }
          ],
          "histogram2d": [
           {
            "colorbar": {
             "outlinewidth": 0,
             "ticks": ""
            },
            "colorscale": [
             [
              0,
              "#0d0887"
             ],
             [
              0.1111111111111111,
              "#46039f"
             ],
             [
              0.2222222222222222,
              "#7201a8"
             ],
             [
              0.3333333333333333,
              "#9c179e"
             ],
             [
              0.4444444444444444,
              "#bd3786"
             ],
             [
              0.5555555555555556,
              "#d8576b"
             ],
             [
              0.6666666666666666,
              "#ed7953"
             ],
             [
              0.7777777777777778,
              "#fb9f3a"
             ],
             [
              0.8888888888888888,
              "#fdca26"
             ],
             [
              1,
              "#f0f921"
             ]
            ],
            "type": "histogram2d"
           }
          ],
          "histogram2dcontour": [
           {
            "colorbar": {
             "outlinewidth": 0,
             "ticks": ""
            },
            "colorscale": [
             [
              0,
              "#0d0887"
             ],
             [
              0.1111111111111111,
              "#46039f"
             ],
             [
              0.2222222222222222,
              "#7201a8"
             ],
             [
              0.3333333333333333,
              "#9c179e"
             ],
             [
              0.4444444444444444,
              "#bd3786"
             ],
             [
              0.5555555555555556,
              "#d8576b"
             ],
             [
              0.6666666666666666,
              "#ed7953"
             ],
             [
              0.7777777777777778,
              "#fb9f3a"
             ],
             [
              0.8888888888888888,
              "#fdca26"
             ],
             [
              1,
              "#f0f921"
             ]
            ],
            "type": "histogram2dcontour"
           }
          ],
          "mesh3d": [
           {
            "colorbar": {
             "outlinewidth": 0,
             "ticks": ""
            },
            "type": "mesh3d"
           }
          ],
          "parcoords": [
           {
            "line": {
             "colorbar": {
              "outlinewidth": 0,
              "ticks": ""
             }
            },
            "type": "parcoords"
           }
          ],
          "pie": [
           {
            "automargin": true,
            "type": "pie"
           }
          ],
          "scatter": [
           {
            "fillpattern": {
             "fillmode": "overlay",
             "size": 10,
             "solidity": 0.2
            },
            "type": "scatter"
           }
          ],
          "scatter3d": [
           {
            "line": {
             "colorbar": {
              "outlinewidth": 0,
              "ticks": ""
             }
            },
            "marker": {
             "colorbar": {
              "outlinewidth": 0,
              "ticks": ""
             }
            },
            "type": "scatter3d"
           }
          ],
          "scattercarpet": [
           {
            "marker": {
             "colorbar": {
              "outlinewidth": 0,
              "ticks": ""
             }
            },
            "type": "scattercarpet"
           }
          ],
          "scattergeo": [
           {
            "marker": {
             "colorbar": {
              "outlinewidth": 0,
              "ticks": ""
             }
            },
            "type": "scattergeo"
           }
          ],
          "scattergl": [
           {
            "marker": {
             "colorbar": {
              "outlinewidth": 0,
              "ticks": ""
             }
            },
            "type": "scattergl"
           }
          ],
          "scattermapbox": [
           {
            "marker": {
             "colorbar": {
              "outlinewidth": 0,
              "ticks": ""
             }
            },
            "type": "scattermapbox"
           }
          ],
          "scatterpolar": [
           {
            "marker": {
             "colorbar": {
              "outlinewidth": 0,
              "ticks": ""
             }
            },
            "type": "scatterpolar"
           }
          ],
          "scatterpolargl": [
           {
            "marker": {
             "colorbar": {
              "outlinewidth": 0,
              "ticks": ""
             }
            },
            "type": "scatterpolargl"
           }
          ],
          "scatterternary": [
           {
            "marker": {
             "colorbar": {
              "outlinewidth": 0,
              "ticks": ""
             }
            },
            "type": "scatterternary"
           }
          ],
          "surface": [
           {
            "colorbar": {
             "outlinewidth": 0,
             "ticks": ""
            },
            "colorscale": [
             [
              0,
              "#0d0887"
             ],
             [
              0.1111111111111111,
              "#46039f"
             ],
             [
              0.2222222222222222,
              "#7201a8"
             ],
             [
              0.3333333333333333,
              "#9c179e"
             ],
             [
              0.4444444444444444,
              "#bd3786"
             ],
             [
              0.5555555555555556,
              "#d8576b"
             ],
             [
              0.6666666666666666,
              "#ed7953"
             ],
             [
              0.7777777777777778,
              "#fb9f3a"
             ],
             [
              0.8888888888888888,
              "#fdca26"
             ],
             [
              1,
              "#f0f921"
             ]
            ],
            "type": "surface"
           }
          ],
          "table": [
           {
            "cells": {
             "fill": {
              "color": "#EBF0F8"
             },
             "line": {
              "color": "white"
             }
            },
            "header": {
             "fill": {
              "color": "#C8D4E3"
             },
             "line": {
              "color": "white"
             }
            },
            "type": "table"
           }
          ]
         },
         "layout": {
          "annotationdefaults": {
           "arrowcolor": "#2a3f5f",
           "arrowhead": 0,
           "arrowwidth": 1
          },
          "autotypenumbers": "strict",
          "coloraxis": {
           "colorbar": {
            "outlinewidth": 0,
            "ticks": ""
           }
          },
          "colorscale": {
           "diverging": [
            [
             0,
             "#8e0152"
            ],
            [
             0.1,
             "#c51b7d"
            ],
            [
             0.2,
             "#de77ae"
            ],
            [
             0.3,
             "#f1b6da"
            ],
            [
             0.4,
             "#fde0ef"
            ],
            [
             0.5,
             "#f7f7f7"
            ],
            [
             0.6,
             "#e6f5d0"
            ],
            [
             0.7,
             "#b8e186"
            ],
            [
             0.8,
             "#7fbc41"
            ],
            [
             0.9,
             "#4d9221"
            ],
            [
             1,
             "#276419"
            ]
           ],
           "sequential": [
            [
             0,
             "#0d0887"
            ],
            [
             0.1111111111111111,
             "#46039f"
            ],
            [
             0.2222222222222222,
             "#7201a8"
            ],
            [
             0.3333333333333333,
             "#9c179e"
            ],
            [
             0.4444444444444444,
             "#bd3786"
            ],
            [
             0.5555555555555556,
             "#d8576b"
            ],
            [
             0.6666666666666666,
             "#ed7953"
            ],
            [
             0.7777777777777778,
             "#fb9f3a"
            ],
            [
             0.8888888888888888,
             "#fdca26"
            ],
            [
             1,
             "#f0f921"
            ]
           ],
           "sequentialminus": [
            [
             0,
             "#0d0887"
            ],
            [
             0.1111111111111111,
             "#46039f"
            ],
            [
             0.2222222222222222,
             "#7201a8"
            ],
            [
             0.3333333333333333,
             "#9c179e"
            ],
            [
             0.4444444444444444,
             "#bd3786"
            ],
            [
             0.5555555555555556,
             "#d8576b"
            ],
            [
             0.6666666666666666,
             "#ed7953"
            ],
            [
             0.7777777777777778,
             "#fb9f3a"
            ],
            [
             0.8888888888888888,
             "#fdca26"
            ],
            [
             1,
             "#f0f921"
            ]
           ]
          },
          "colorway": [
           "#636efa",
           "#EF553B",
           "#00cc96",
           "#ab63fa",
           "#FFA15A",
           "#19d3f3",
           "#FF6692",
           "#B6E880",
           "#FF97FF",
           "#FECB52"
          ],
          "font": {
           "color": "#2a3f5f"
          },
          "geo": {
           "bgcolor": "white",
           "lakecolor": "white",
           "landcolor": "#E5ECF6",
           "showlakes": true,
           "showland": true,
           "subunitcolor": "white"
          },
          "hoverlabel": {
           "align": "left"
          },
          "hovermode": "closest",
          "mapbox": {
           "style": "light"
          },
          "paper_bgcolor": "white",
          "plot_bgcolor": "#E5ECF6",
          "polar": {
           "angularaxis": {
            "gridcolor": "white",
            "linecolor": "white",
            "ticks": ""
           },
           "bgcolor": "#E5ECF6",
           "radialaxis": {
            "gridcolor": "white",
            "linecolor": "white",
            "ticks": ""
           }
          },
          "scene": {
           "xaxis": {
            "backgroundcolor": "#E5ECF6",
            "gridcolor": "white",
            "gridwidth": 2,
            "linecolor": "white",
            "showbackground": true,
            "ticks": "",
            "zerolinecolor": "white"
           },
           "yaxis": {
            "backgroundcolor": "#E5ECF6",
            "gridcolor": "white",
            "gridwidth": 2,
            "linecolor": "white",
            "showbackground": true,
            "ticks": "",
            "zerolinecolor": "white"
           },
           "zaxis": {
            "backgroundcolor": "#E5ECF6",
            "gridcolor": "white",
            "gridwidth": 2,
            "linecolor": "white",
            "showbackground": true,
            "ticks": "",
            "zerolinecolor": "white"
           }
          },
          "shapedefaults": {
           "line": {
            "color": "#2a3f5f"
           }
          },
          "ternary": {
           "aaxis": {
            "gridcolor": "white",
            "linecolor": "white",
            "ticks": ""
           },
           "baxis": {
            "gridcolor": "white",
            "linecolor": "white",
            "ticks": ""
           },
           "bgcolor": "#E5ECF6",
           "caxis": {
            "gridcolor": "white",
            "linecolor": "white",
            "ticks": ""
           }
          },
          "title": {
           "x": 0.05
          },
          "xaxis": {
           "automargin": true,
           "gridcolor": "white",
           "linecolor": "white",
           "ticks": "",
           "title": {
            "standoff": 15
           },
           "zerolinecolor": "white",
           "zerolinewidth": 2
          },
          "yaxis": {
           "automargin": true,
           "gridcolor": "white",
           "linecolor": "white",
           "ticks": "",
           "title": {
            "standoff": 15
           },
           "zerolinecolor": "white",
           "zerolinewidth": 2
          }
         }
        },
        "title": {
         "text": "Number of Client per Segment"
        },
        "xaxis": {
         "anchor": "y",
         "categoryarray": [
          "Mid-Tier",
          "Big Spender",
          "VIP Clients",
          "Potential Loyalist",
          "At Risk",
          "Regular High-Value"
         ],
         "categoryorder": "array",
         "domain": [
          0,
          1
         ],
         "title": {
          "text": "Segment"
         }
        },
        "yaxis": {
         "anchor": "x",
         "domain": [
          0,
          1
         ],
         "title": {
          "text": "count"
         }
        }
       }
      }
     },
     "metadata": {},
     "output_type": "display_data"
    }
   ],
   "source": [
    "fig_counts = px.histogram(client_agg_df, \n",
    "                          x='Segment', \n",
    "                          title='Number of Client per Segment', \n",
    "                          color='Segment', \n",
    "                          text_auto=True)\n",
    "fig_counts.show()"
   ]
  },
  {
   "cell_type": "code",
   "execution_count": null,
   "id": "5fb9eae4",
   "metadata": {},
   "outputs": [
    {
     "data": {
      "text/plain": [
       "'\\nThe majority of clients fall into the Mid-Tier and At Risk segments, indicating a high risk of churn.\\n\\nVIP and Regular High-Value clients represent a smaller but highly profitable portion of the customer base.\\n\\nRecommended Actions:\\n\\nRetention --> Launch personalized campaigns to reactivate Mid-Tier and At Risk clients before they churn.\\n\\nGrowth --> Focus on nurturing Potential Loyalist clients with targeted offers and engagement programs to convert them into High-Value clients.\\n'"
      ]
     },
     "execution_count": 44,
     "metadata": {},
     "output_type": "execute_result"
    }
   ],
   "source": [
    "\"\"\"\n",
    "The majority of clients fall into the Mid-Tier segment        --> Focus on converting them into High-Value clients through bundle offers, personalized follow-ups, and targeted promotions.\n",
    "VIPs and Potential Loyalists follow with close proportions    --> Retain them with exclusive services, priority access to new listings, and loyalty programs.\n",
    "Regular High-Value and Big Spenders represent smaller shares  --> Provide premium property deals, and dedicated account management.\n",
    "At Risk clients form the lowest segment                       --> Re-engage them with surveys, discounts, or flexible payment options to reduce churn.\n",
    "\"\"\""
   ]
  },
  {
   "cell_type": "code",
   "execution_count": 46,
   "id": "c2e1045b",
   "metadata": {},
   "outputs": [],
   "source": [
    "client_agg_df[['client_id', 'R_Score', 'F_Score', 'M_Score', 'Segment']].to_csv(\n",
    "    \"client_segments.csv\", index=False)"
   ]
  }
 ],
 "metadata": {
  "kernelspec": {
   "display_name": "base",
   "language": "python",
   "name": "python3"
  },
  "language_info": {
   "codemirror_mode": {
    "name": "ipython",
    "version": 3
   },
   "file_extension": ".py",
   "mimetype": "text/x-python",
   "name": "python",
   "nbconvert_exporter": "python",
   "pygments_lexer": "ipython3",
   "version": "3.12.7"
  }
 },
 "nbformat": 4,
 "nbformat_minor": 5
}
